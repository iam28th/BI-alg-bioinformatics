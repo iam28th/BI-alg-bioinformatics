{
 "cells": [
  {
   "cell_type": "markdown",
   "metadata": {},
   "source": [
    "# Record 1, 11.15.20, 11:20 AM\n",
    "Nice day for bioinformatics.\n",
    "\n",
    "## 1) Downloading data from roommate (R.I.P.)\n",
    "```bash\n",
    "wget ftp://ftp.sra.ebi.ac.uk/vol1/fastq/SRR170/001/SRR1705851/SRR1705851.fastq.gz\n",
    "# connection refused\n",
    "```\n",
    "Скачал с http://ftp.sra.ebi.ac.uk/vol1/fastq/SRR170/001/SRR1705881/\n",
    "\n",
    "1433060 lines"
   ]
  },
  {
   "cell_type": "code",
   "execution_count": 91,
   "metadata": {},
   "outputs": [],
   "source": [
    "from IPython.display import display, Image\n",
    "import pandas as pd\n",
    "import numpy as np"
   ]
  },
  {
   "cell_type": "code",
   "execution_count": 3,
   "metadata": {},
   "outputs": [
    {
     "data": {
      "text/html": [
       "<img src=\"https://sun9-46.userapi.com/JIRQ1_oiapoqy4vPUkVFZVibvqKj1Nw3SXUWwQ/xOHqfNvUjD0.jpg\" width=\"500\"/>"
      ],
      "text/plain": [
       "<IPython.core.display.Image object>"
      ]
     },
     "execution_count": 3,
     "metadata": {},
     "output_type": "execute_result"
    }
   ],
   "source": [
    "Image(url='https://sun9-46.userapi.com/JIRQ1_oiapoqy4vPUkVFZVibvqKj1Nw3SXUWwQ/xOHqfNvUjD0.jpg', width=500)"
   ]
  },
  {
   "cell_type": "markdown",
   "metadata": {},
   "source": [
    "Вроде бы всё \"хорошо\" - есть много дубликатов, из-за чего ещё ломается Per base sequence content. "
   ]
  },
  {
   "cell_type": "markdown",
   "metadata": {},
   "source": [
    "### Reference:\n",
    "\n",
    "1665 bp https://www.ncbi.nlm.nih.gov/nuccore/KF848938.1?report=fasta"
   ]
  },
  {
   "cell_type": "markdown",
   "metadata": {},
   "source": [
    "## 2) Alignment\n",
    "\n",
    "индексирование\n",
    "```bash\n",
    "bwa index -p pref reference.fasta\n",
    "```\n",
    "выравнивание | сжатие в .bam | сортировка и запись в файл\n",
    "```bash\n",
    "bwa mem reference.fasta SRR1705851.fastq | samtools view -S -b | samtools sort - -o alignment.bam\n",
    "samtools flagstat alignment.bam\n",
    "```\n",
    "99.94% mapped"
   ]
  },
  {
   "cell_type": "markdown",
   "metadata": {},
   "source": [
    "## 3) Common Variant Calling"
   ]
  },
  {
   "cell_type": "markdown",
   "metadata": {},
   "source": [
    "index bam file\n",
    "```bash\n",
    "samtools index alignment.bam\n",
    "```\n",
    "(What is the desired value of d if we want to keep all possible variants, given the length of the reference sequence, the number of reads, and the average read length?)\n",
    "IGV показывает, что максимальная глубина покрытия - 44522.\n",
    "```bash\n",
    "samtools mpileup -d 44600 -f reference.fasta alignment.bam > roommate.mpileup\n",
    "```\n",
    "95%\n",
    "```bash\n",
    "in:\n",
    "java -jar VarScan.v2.3.9.jar  mpileup2snp roommate.mpileup --min-var-freq 0.95 --variants --output-vcf 1 > VarScan_roommate.vcf\n",
    "\n",
    "out:\n",
    "...\n",
    "1665 bases in pileup file\n",
    "5 variant positions (5 SNP, 0 indel)\n",
    "0 were failed by the strand-filter\n",
    "5 variant positions reported (5 SNP, 0 indel)\n",
    "```\n",
    "\"Pooling the variants out\":\n",
    "```bash\n",
    "cat VarScan_roommate.vcf | awk 'NR>24 {print $1, $2, $4, $5}'\n",
    "\n",
    "out:\n",
    "KF848938.1 72 A G\n",
    "KF848938.1 117 C T\n",
    "KF848938.1 774 T C\n",
    "KF848938.1 999 C T\n",
    "KF848938.1 1260 A C\n",
    "```\n",
    "Выписал все кодоны"
   ]
  },
  {
   "cell_type": "markdown",
   "metadata": {},
   "source": [
    "## 4) Rare variants calling"
   ]
  },
  {
   "cell_type": "markdown",
   "metadata": {},
   "source": [
    "```bash\n",
    "java -jar VarScan.v2.3.9.jar  mpileup2snp roommate.mpileup --min-var-freq 0.001 --variants --output-vcf 1 > VarScan_roommate_rare.vcf\n",
    "\n",
    "out:\n",
    "1665 bases in pileup file\n",
    "23 variant positions (21 SNP, 2 indel)\n",
    "0 were failed by the strand-filter\n",
    "21 variant positions reported (21 SNP, 0 indel)\n",
    "\n",
    "in:\n",
    "cat VarScan_roommate_rare.vcf | awk 'NR>24 {print $1, $2, $4, $5, $10}'\n",
    "\n",
    "out:\n",
    "KF848938.1 72 A G 1/1:255:16832:16794:6:16787:99.96%:0E0:35:36:4:2:10898:5889\n",
    "KF848938.1 117 C T 1/1:255:20768:20663:36:20625:99.82%:0E0:35:37:27:9:13462:7163\n",
    "KF848938.1 254 A G 0/1:20:35781:35626:35562:59:0.17%:8.5683E-3:36:36:23919:11643:37:22\n",
    "KF848938.1 276 A G 0/1:24:37022:36965:36892:64:0.17%:3.3004E-3:37:35:22579:14313:30:34\n",
    "KF848938.1 307 C T 0/1:255:37506:37386:37029:351:0.94%:6.9068E-66:36:35:22400:14629:184:167\n",
    "KF848938.1 340 T C 0/1:23:37973:37793:37723:64:0.17%:4.6441E-3:37:36:23413:14310:40:24\n",
    "KF848938.1 389 T C 0/1:40:31960:31763:31690:69:0.22%:9.0525E-5:37:36:16067:15623:44:25\n",
    "KF848938.1 691 A G 0/1:23:39503:39319:39245:67:0.17%:4.1867E-3:37:34:21313:17932:23:44\n",
    "KF848938.1 722 A G 0/1:36:38090:38036:37954:76:0.2%:2.353E-4:37:36:21003:16951:39:37\n",
    "KF848938.1 744 A G 0/1:23:38443:38380:38306:65:0.17%:5.0068E-3:37:33:20859:17447:35:30\n",
    "KF848938.1 774 T C 1/1:255:38397:38191:8:38177:99.96%:0E0:32:37:7:1:19806:18371\n",
    "KF848938.1 802 A G 0/1:59:44223:44093:43988:101:0.23%:1.2224E-6:37:35:20575:23413:32:69\n",
    "KF848938.1 859 A G 0/1:25:35882:35708:35642:63:0.18%:3.029E-3:37:36:14499:21143:27:36\n",
    "KF848938.1 915 T C 0/1:30:37013:36912:36833:69:0.19%:8.2326E-4:35:34:18059:18774:37:32\n",
    "KF848938.1 999 C T 1/1:255:32561:32115:40:32070:99.86%:0E0:35:36:23:17:17184:14886\n",
    "KF848938.1 1043 A G 0/1:25:31638:31590:31529:58:0.18%:2.756E-3:35:33:17353:14176:19:39\n",
    "KF848938.1 1086 A G 0/1:29:25259:25258:25203:53:0.21%:1.0076E-3:36:35:12596:12607:21:32\n",
    "KF848938.1 1213 A G 0/1:34:25177:25093:25035:56:0.22%:3.7244E-4:37:36:8964:16071:24:32\n",
    "KF848938.1 1260 A C 1/1:255:23067:23033:2:23019:99.94%:0E0:32:37:0:2:9824:13195\n",
    "KF848938.1 1280 T C 0/1:20:23487:23462:23418:43:0.18%:9.2875E-3:37:35:11147:12271:24:19\n",
    "KF848938.1 1458 T C 0/1:255:27064:26929:26701:225:0.84%:3.4507E-41:37:35:6865:19836:80:145\n",
    "```\n",
    "Частоты в 7-ой колонке: 99.96%, 99.82% и т.д."
   ]
  },
  {
   "cell_type": "markdown",
   "metadata": {},
   "source": [
    "# Эпизод 5: Выравнивание клонов\n",
    "- SRR1705858: ftp://ftp.sra.ebi.ac.uk/vol1/fastq/SRR170/008/SRR1705858/SRR1705858.fastq.gz \n",
    "- SRR1705859: ftp://ftp.sra.ebi.ac.uk/vol1/fastq/SRR170/009/SRR1705859/SRR1705859.fastq.gz \n",
    "- SRR1705860: ftp://ftp.sra.ebi.ac.uk/vol1/fastq/SRR170/000/SRR1705860/SRR1705860.fastq.gz \n",
    "файлы clone1, clone2, clone3 (.fastq)\n",
    "\n",
    "Количества ридов клонов:\n",
    "1. 256586\n",
    "2. 233327\n",
    "3. 249964"
   ]
  },
  {
   "cell_type": "markdown",
   "metadata": {},
   "source": [
    "Выравниваем и индексируем для каждого клона (файлы `alignment_clone1.bam`, ...)"
   ]
  },
  {
   "cell_type": "markdown",
   "metadata": {},
   "source": [
    "Найдём максимальную глубину покрытия для выравниваний клонов:\n",
    "```bash\n",
    "samtools depth -d 0 alignment_clone1.bam > depth1.txt\n",
    "```"
   ]
  },
  {
   "cell_type": "raw",
   "metadata": {},
   "source": [
    "max_depth = {\n",
    "    1: pd.read_csv('Data/depth1.txt', sep='\\t')['8511'].max(),\n",
    "    2: pd.read_csv('Data/depth2.txt', sep='\\t')['7661'].max(),\n",
    "    3: pd.read_csv('Data/depth3.txt', sep='\\t')['8903'].max()\n",
    "}"
   ]
  },
  {
   "cell_type": "code",
   "execution_count": 31,
   "metadata": {},
   "outputs": [
    {
     "name": "stdout",
     "output_type": "stream",
     "text": [
      "1 35782\n",
      "2 32837\n",
      "3 36262\n"
     ]
    }
   ],
   "source": [
    "for k, v in max_depth.items():\n",
    "    print(k, v)"
   ]
  },
  {
   "cell_type": "markdown",
   "metadata": {},
   "source": [
    "# 6) Получение и анализ вариантов у клонов"
   ]
  },
  {
   "cell_type": "markdown",
   "metadata": {},
   "source": [
    "Для каждого из клонов делаем м-кучу вверх и ищем варианты:\n",
    "```bash\n",
    "samtools mpileup -d 36600 -f reference.fasta alignment_clone1.bam > clone1.mpileup\n",
    "\n",
    "java -jar VarScan.v2.3.9.jar  mpileup2snp clone1.mpileup --min-var-freq 0.001 --variants --output-vcf 1 > VarScan_clone1.vcf\n",
    "```\n",
    "### Парсинг, загон в пандас и парсинг:\n",
    "```bash\n",
    "cat VarScan_clone1.vcf | awk 'NR>24 {print $1, $2, $4, $5, $10}' > variants_clone1.txt\n",
    "cat VarScan_clone2.vcf | awk 'NR>24 {print $1, $2, $4, $5, $10}' > variants_clone2.txt\n",
    "cat VarScan_clone3.vcf | awk 'NR>24 {print $1, $2, $4, $5, $10}' > variants_clone3.txt\n",
    "```"
   ]
  },
  {
   "cell_type": "code",
   "execution_count": 77,
   "metadata": {},
   "outputs": [
    {
     "data": {
      "text/html": [
       "<div>\n",
       "<style scoped>\n",
       "    .dataframe tbody tr th:only-of-type {\n",
       "        vertical-align: middle;\n",
       "    }\n",
       "\n",
       "    .dataframe tbody tr th {\n",
       "        vertical-align: top;\n",
       "    }\n",
       "\n",
       "    .dataframe thead th {\n",
       "        text-align: right;\n",
       "    }\n",
       "</style>\n",
       "<table border=\"1\" class=\"dataframe\">\n",
       "  <thead>\n",
       "    <tr style=\"text-align: right;\">\n",
       "      <th></th>\n",
       "      <th>Position</th>\n",
       "      <th>Reference</th>\n",
       "      <th>Alternate</th>\n",
       "      <th>Freq</th>\n",
       "    </tr>\n",
       "  </thead>\n",
       "  <tbody>\n",
       "    <tr>\n",
       "      <th>0</th>\n",
       "      <td>38</td>\n",
       "      <td>T</td>\n",
       "      <td>C</td>\n",
       "      <td>0.66</td>\n",
       "    </tr>\n",
       "    <tr>\n",
       "      <th>1</th>\n",
       "      <td>54</td>\n",
       "      <td>T</td>\n",
       "      <td>C</td>\n",
       "      <td>0.30</td>\n",
       "    </tr>\n",
       "    <tr>\n",
       "      <th>2</th>\n",
       "      <td>72</td>\n",
       "      <td>A</td>\n",
       "      <td>G</td>\n",
       "      <td>0.30</td>\n",
       "    </tr>\n",
       "    <tr>\n",
       "      <th>3</th>\n",
       "      <td>95</td>\n",
       "      <td>A</td>\n",
       "      <td>G</td>\n",
       "      <td>0.24</td>\n",
       "    </tr>\n",
       "    <tr>\n",
       "      <th>4</th>\n",
       "      <td>117</td>\n",
       "      <td>C</td>\n",
       "      <td>T</td>\n",
       "      <td>0.30</td>\n",
       "    </tr>\n",
       "  </tbody>\n",
       "</table>\n",
       "</div>"
      ],
      "text/plain": [
       "   Position Reference Alternate  Freq\n",
       "0        38         T         C  0.66\n",
       "1        54         T         C  0.30\n",
       "2        72         A         G  0.30\n",
       "3        95         A         G  0.24\n",
       "4       117         C         T  0.30"
      ]
     },
     "execution_count": 77,
     "metadata": {},
     "output_type": "execute_result"
    }
   ],
   "source": [
    "vc1 = pd.read_csv('Data/variants_clone1.txt', sep=' ', header=None)\n",
    "vc1.drop(0, axis=1, inplace=True)\n",
    "vc1.columns = ['Position', 'Reference', 'Alternate', 'Freq']\n",
    "vc1['Freq'] = vc1.Freq.apply(lambda x: float(x.split(':')[6][:-1]))\n",
    "vc1.head()"
   ]
  },
  {
   "cell_type": "code",
   "execution_count": 79,
   "metadata": {},
   "outputs": [
    {
     "data": {
      "text/html": [
       "<div>\n",
       "<style scoped>\n",
       "    .dataframe tbody tr th:only-of-type {\n",
       "        vertical-align: middle;\n",
       "    }\n",
       "\n",
       "    .dataframe tbody tr th {\n",
       "        vertical-align: top;\n",
       "    }\n",
       "\n",
       "    .dataframe thead th {\n",
       "        text-align: right;\n",
       "    }\n",
       "</style>\n",
       "<table border=\"1\" class=\"dataframe\">\n",
       "  <thead>\n",
       "    <tr style=\"text-align: right;\">\n",
       "      <th></th>\n",
       "      <th>Position</th>\n",
       "      <th>Reference</th>\n",
       "      <th>Alternate</th>\n",
       "      <th>Freq</th>\n",
       "    </tr>\n",
       "  </thead>\n",
       "  <tbody>\n",
       "    <tr>\n",
       "      <th>0</th>\n",
       "      <td>44</td>\n",
       "      <td>T</td>\n",
       "      <td>C</td>\n",
       "      <td>0.47</td>\n",
       "    </tr>\n",
       "    <tr>\n",
       "      <th>1</th>\n",
       "      <td>158</td>\n",
       "      <td>A</td>\n",
       "      <td>G</td>\n",
       "      <td>0.24</td>\n",
       "    </tr>\n",
       "    <tr>\n",
       "      <th>2</th>\n",
       "      <td>165</td>\n",
       "      <td>T</td>\n",
       "      <td>C</td>\n",
       "      <td>0.27</td>\n",
       "    </tr>\n",
       "    <tr>\n",
       "      <th>3</th>\n",
       "      <td>183</td>\n",
       "      <td>A</td>\n",
       "      <td>G</td>\n",
       "      <td>0.22</td>\n",
       "    </tr>\n",
       "    <tr>\n",
       "      <th>4</th>\n",
       "      <td>193</td>\n",
       "      <td>A</td>\n",
       "      <td>G</td>\n",
       "      <td>0.22</td>\n",
       "    </tr>\n",
       "  </tbody>\n",
       "</table>\n",
       "</div>"
      ],
      "text/plain": [
       "   Position Reference Alternate  Freq\n",
       "0        44         T         C  0.47\n",
       "1       158         A         G  0.24\n",
       "2       165         T         C  0.27\n",
       "3       183         A         G  0.22\n",
       "4       193         A         G  0.22"
      ]
     },
     "execution_count": 79,
     "metadata": {},
     "output_type": "execute_result"
    }
   ],
   "source": [
    "vc2 = pd.read_csv('Data/variants_clone2.txt', sep=' ', header=None)\n",
    "vc2.drop(0, axis=1, inplace=True)\n",
    "vc2.columns = ['Position', 'Reference', 'Alternate', 'Freq']\n",
    "vc2['Freq'] = vc2.Freq.apply(lambda x: float(x.split(':')[6][:-1]))\n",
    "vc2.head()"
   ]
  },
  {
   "cell_type": "code",
   "execution_count": 80,
   "metadata": {},
   "outputs": [
    {
     "data": {
      "text/html": [
       "<div>\n",
       "<style scoped>\n",
       "    .dataframe tbody tr th:only-of-type {\n",
       "        vertical-align: middle;\n",
       "    }\n",
       "\n",
       "    .dataframe tbody tr th {\n",
       "        vertical-align: top;\n",
       "    }\n",
       "\n",
       "    .dataframe thead th {\n",
       "        text-align: right;\n",
       "    }\n",
       "</style>\n",
       "<table border=\"1\" class=\"dataframe\">\n",
       "  <thead>\n",
       "    <tr style=\"text-align: right;\">\n",
       "      <th></th>\n",
       "      <th>Position</th>\n",
       "      <th>Reference</th>\n",
       "      <th>Alternate</th>\n",
       "      <th>Freq</th>\n",
       "    </tr>\n",
       "  </thead>\n",
       "  <tbody>\n",
       "    <tr>\n",
       "      <th>0</th>\n",
       "      <td>38</td>\n",
       "      <td>T</td>\n",
       "      <td>C</td>\n",
       "      <td>0.70</td>\n",
       "    </tr>\n",
       "    <tr>\n",
       "      <th>1</th>\n",
       "      <td>44</td>\n",
       "      <td>T</td>\n",
       "      <td>C</td>\n",
       "      <td>0.50</td>\n",
       "    </tr>\n",
       "    <tr>\n",
       "      <th>2</th>\n",
       "      <td>95</td>\n",
       "      <td>A</td>\n",
       "      <td>G</td>\n",
       "      <td>0.24</td>\n",
       "    </tr>\n",
       "    <tr>\n",
       "      <th>3</th>\n",
       "      <td>105</td>\n",
       "      <td>A</td>\n",
       "      <td>G</td>\n",
       "      <td>0.25</td>\n",
       "    </tr>\n",
       "    <tr>\n",
       "      <th>4</th>\n",
       "      <td>133</td>\n",
       "      <td>A</td>\n",
       "      <td>G</td>\n",
       "      <td>0.22</td>\n",
       "    </tr>\n",
       "  </tbody>\n",
       "</table>\n",
       "</div>"
      ],
      "text/plain": [
       "   Position Reference Alternate  Freq\n",
       "0        38         T         C  0.70\n",
       "1        44         T         C  0.50\n",
       "2        95         A         G  0.24\n",
       "3       105         A         G  0.25\n",
       "4       133         A         G  0.22"
      ]
     },
     "execution_count": 80,
     "metadata": {},
     "output_type": "execute_result"
    }
   ],
   "source": [
    "vc3 = pd.read_csv('Data/variants_clone3.txt', sep=' ', header=None)\n",
    "vc3.drop(0, axis=1, inplace=True)\n",
    "vc3.columns = ['Position', 'Reference', 'Alternate', 'Freq']\n",
    "vc3['Freq'] = vc3.Freq.apply(lambda x: float(x.split(':')[6][:-1]))\n",
    "vc3.head()"
   ]
  },
  {
   "cell_type": "markdown",
   "metadata": {},
   "source": [
    "### Считаем средные и ско для частот замен."
   ]
  },
  {
   "cell_type": "code",
   "execution_count": 82,
   "metadata": {},
   "outputs": [
    {
     "name": "stdout",
     "output_type": "stream",
     "text": [
      "1 0.25649122807017544 0.07172594738880798\n",
      "2 0.23692307692307704 0.05237640770866741\n",
      "3 0.23692307692307704 0.05237640770866741\n"
     ]
    }
   ],
   "source": [
    "VC = [vc1, vc2, vc2]\n",
    "mu = {}\n",
    "std = {}\n",
    "for i, vc in enumerate(VC):\n",
    "    mu[i+1] = vc.Freq.mean()\n",
    "    std[i+1] = vc.Freq.std()\n",
    "    \n",
    "for i in range(1, 4):\n",
    "    print(i, mu[i], std[i])"
   ]
  },
  {
   "cell_type": "markdown",
   "metadata": {},
   "source": [
    "# 7) Сравнение соседа с клонами"
   ]
  },
  {
   "cell_type": "code",
   "execution_count": 96,
   "metadata": {},
   "outputs": [
    {
     "data": {
      "text/html": [
       "<div>\n",
       "<style scoped>\n",
       "    .dataframe tbody tr th:only-of-type {\n",
       "        vertical-align: middle;\n",
       "    }\n",
       "\n",
       "    .dataframe tbody tr th {\n",
       "        vertical-align: top;\n",
       "    }\n",
       "\n",
       "    .dataframe thead th {\n",
       "        text-align: right;\n",
       "    }\n",
       "</style>\n",
       "<table border=\"1\" class=\"dataframe\">\n",
       "  <thead>\n",
       "    <tr style=\"text-align: right;\">\n",
       "      <th></th>\n",
       "      <th>Position</th>\n",
       "      <th>Reference</th>\n",
       "      <th>Alternate</th>\n",
       "      <th>Freq</th>\n",
       "    </tr>\n",
       "  </thead>\n",
       "  <tbody>\n",
       "    <tr>\n",
       "      <th>0</th>\n",
       "      <td>72</td>\n",
       "      <td>A</td>\n",
       "      <td>G</td>\n",
       "      <td>99.96</td>\n",
       "    </tr>\n",
       "    <tr>\n",
       "      <th>1</th>\n",
       "      <td>117</td>\n",
       "      <td>C</td>\n",
       "      <td>T</td>\n",
       "      <td>99.82</td>\n",
       "    </tr>\n",
       "    <tr>\n",
       "      <th>2</th>\n",
       "      <td>254</td>\n",
       "      <td>A</td>\n",
       "      <td>G</td>\n",
       "      <td>0.17</td>\n",
       "    </tr>\n",
       "    <tr>\n",
       "      <th>3</th>\n",
       "      <td>276</td>\n",
       "      <td>A</td>\n",
       "      <td>G</td>\n",
       "      <td>0.17</td>\n",
       "    </tr>\n",
       "    <tr>\n",
       "      <th>4</th>\n",
       "      <td>307</td>\n",
       "      <td>C</td>\n",
       "      <td>T</td>\n",
       "      <td>0.94</td>\n",
       "    </tr>\n",
       "  </tbody>\n",
       "</table>\n",
       "</div>"
      ],
      "text/plain": [
       "   Position Reference Alternate   Freq\n",
       "0        72         A         G  99.96\n",
       "1       117         C         T  99.82\n",
       "2       254         A         G   0.17\n",
       "3       276         A         G   0.17\n",
       "4       307         C         T   0.94"
      ]
     },
     "execution_count": 96,
     "metadata": {},
     "output_type": "execute_result"
    }
   ],
   "source": [
    "# Сосед\n",
    "vrm = pd.read_csv('Data/variants_roommate.txt', sep=' ', header=None)\n",
    "vrm.drop(0, axis=1, inplace=True)\n",
    "vrm.columns = ['Position', 'Reference', 'Alternate', 'Freq']\n",
    "vrm['Freq'] = vrm.Freq.apply(lambda x: float(x.split(':')[6][:-1]))\n",
    "vrm.head()"
   ]
  },
  {
   "cell_type": "code",
   "execution_count": 92,
   "metadata": {},
   "outputs": [
    {
     "data": {
      "text/html": [
       "<div>\n",
       "<style scoped>\n",
       "    .dataframe tbody tr th:only-of-type {\n",
       "        vertical-align: middle;\n",
       "    }\n",
       "\n",
       "    .dataframe tbody tr th {\n",
       "        vertical-align: top;\n",
       "    }\n",
       "\n",
       "    .dataframe thead th {\n",
       "        text-align: right;\n",
       "    }\n",
       "</style>\n",
       "<table border=\"1\" class=\"dataframe\">\n",
       "  <thead>\n",
       "    <tr style=\"text-align: right;\">\n",
       "      <th></th>\n",
       "      <th>Position</th>\n",
       "      <th>Reference</th>\n",
       "      <th>Alternate</th>\n",
       "      <th>Freq</th>\n",
       "    </tr>\n",
       "  </thead>\n",
       "  <tbody>\n",
       "    <tr>\n",
       "      <th>0</th>\n",
       "      <td>72</td>\n",
       "      <td>A</td>\n",
       "      <td>G</td>\n",
       "      <td>99.96</td>\n",
       "    </tr>\n",
       "    <tr>\n",
       "      <th>1</th>\n",
       "      <td>117</td>\n",
       "      <td>C</td>\n",
       "      <td>T</td>\n",
       "      <td>99.82</td>\n",
       "    </tr>\n",
       "    <tr>\n",
       "      <th>4</th>\n",
       "      <td>307</td>\n",
       "      <td>C</td>\n",
       "      <td>T</td>\n",
       "      <td>0.94</td>\n",
       "    </tr>\n",
       "    <tr>\n",
       "      <th>10</th>\n",
       "      <td>774</td>\n",
       "      <td>T</td>\n",
       "      <td>C</td>\n",
       "      <td>99.96</td>\n",
       "    </tr>\n",
       "    <tr>\n",
       "      <th>14</th>\n",
       "      <td>999</td>\n",
       "      <td>C</td>\n",
       "      <td>T</td>\n",
       "      <td>99.86</td>\n",
       "    </tr>\n",
       "    <tr>\n",
       "      <th>18</th>\n",
       "      <td>1260</td>\n",
       "      <td>A</td>\n",
       "      <td>C</td>\n",
       "      <td>99.94</td>\n",
       "    </tr>\n",
       "    <tr>\n",
       "      <th>20</th>\n",
       "      <td>1458</td>\n",
       "      <td>T</td>\n",
       "      <td>C</td>\n",
       "      <td>0.84</td>\n",
       "    </tr>\n",
       "  </tbody>\n",
       "</table>\n",
       "</div>"
      ],
      "text/plain": [
       "    Position Reference Alternate   Freq\n",
       "0         72         A         G  99.96\n",
       "1        117         C         T  99.82\n",
       "4        307         C         T   0.94\n",
       "10       774         T         C  99.96\n",
       "14       999         C         T  99.86\n",
       "18      1260         A         C  99.94\n",
       "20      1458         T         C   0.84"
      ]
     },
     "execution_count": 92,
     "metadata": {},
     "output_type": "execute_result"
    }
   ],
   "source": [
    "# Clone 1\n",
    "i = 1\n",
    "vrm[np.abs(vrm.Freq - mu[i]) > 3 * std[i]]"
   ]
  },
  {
   "cell_type": "code",
   "execution_count": 94,
   "metadata": {},
   "outputs": [
    {
     "data": {
      "text/html": [
       "<div>\n",
       "<style scoped>\n",
       "    .dataframe tbody tr th:only-of-type {\n",
       "        vertical-align: middle;\n",
       "    }\n",
       "\n",
       "    .dataframe tbody tr th {\n",
       "        vertical-align: top;\n",
       "    }\n",
       "\n",
       "    .dataframe thead th {\n",
       "        text-align: right;\n",
       "    }\n",
       "</style>\n",
       "<table border=\"1\" class=\"dataframe\">\n",
       "  <thead>\n",
       "    <tr style=\"text-align: right;\">\n",
       "      <th></th>\n",
       "      <th>Position</th>\n",
       "      <th>Reference</th>\n",
       "      <th>Alternate</th>\n",
       "      <th>Freq</th>\n",
       "    </tr>\n",
       "  </thead>\n",
       "  <tbody>\n",
       "    <tr>\n",
       "      <th>0</th>\n",
       "      <td>72</td>\n",
       "      <td>A</td>\n",
       "      <td>G</td>\n",
       "      <td>99.96</td>\n",
       "    </tr>\n",
       "    <tr>\n",
       "      <th>1</th>\n",
       "      <td>117</td>\n",
       "      <td>C</td>\n",
       "      <td>T</td>\n",
       "      <td>99.82</td>\n",
       "    </tr>\n",
       "    <tr>\n",
       "      <th>4</th>\n",
       "      <td>307</td>\n",
       "      <td>C</td>\n",
       "      <td>T</td>\n",
       "      <td>0.94</td>\n",
       "    </tr>\n",
       "    <tr>\n",
       "      <th>10</th>\n",
       "      <td>774</td>\n",
       "      <td>T</td>\n",
       "      <td>C</td>\n",
       "      <td>99.96</td>\n",
       "    </tr>\n",
       "    <tr>\n",
       "      <th>14</th>\n",
       "      <td>999</td>\n",
       "      <td>C</td>\n",
       "      <td>T</td>\n",
       "      <td>99.86</td>\n",
       "    </tr>\n",
       "    <tr>\n",
       "      <th>18</th>\n",
       "      <td>1260</td>\n",
       "      <td>A</td>\n",
       "      <td>C</td>\n",
       "      <td>99.94</td>\n",
       "    </tr>\n",
       "    <tr>\n",
       "      <th>20</th>\n",
       "      <td>1458</td>\n",
       "      <td>T</td>\n",
       "      <td>C</td>\n",
       "      <td>0.84</td>\n",
       "    </tr>\n",
       "  </tbody>\n",
       "</table>\n",
       "</div>"
      ],
      "text/plain": [
       "    Position Reference Alternate   Freq\n",
       "0         72         A         G  99.96\n",
       "1        117         C         T  99.82\n",
       "4        307         C         T   0.94\n",
       "10       774         T         C  99.96\n",
       "14       999         C         T  99.86\n",
       "18      1260         A         C  99.94\n",
       "20      1458         T         C   0.84"
      ]
     },
     "execution_count": 94,
     "metadata": {},
     "output_type": "execute_result"
    }
   ],
   "source": [
    "# Clone 2\n",
    "i = 2\n",
    "vrm[np.abs(vrm.Freq - mu[i]) > 3 * std[i]]"
   ]
  },
  {
   "cell_type": "code",
   "execution_count": 95,
   "metadata": {},
   "outputs": [
    {
     "data": {
      "text/html": [
       "<div>\n",
       "<style scoped>\n",
       "    .dataframe tbody tr th:only-of-type {\n",
       "        vertical-align: middle;\n",
       "    }\n",
       "\n",
       "    .dataframe tbody tr th {\n",
       "        vertical-align: top;\n",
       "    }\n",
       "\n",
       "    .dataframe thead th {\n",
       "        text-align: right;\n",
       "    }\n",
       "</style>\n",
       "<table border=\"1\" class=\"dataframe\">\n",
       "  <thead>\n",
       "    <tr style=\"text-align: right;\">\n",
       "      <th></th>\n",
       "      <th>Position</th>\n",
       "      <th>Reference</th>\n",
       "      <th>Alternate</th>\n",
       "      <th>Freq</th>\n",
       "    </tr>\n",
       "  </thead>\n",
       "  <tbody>\n",
       "    <tr>\n",
       "      <th>0</th>\n",
       "      <td>72</td>\n",
       "      <td>A</td>\n",
       "      <td>G</td>\n",
       "      <td>99.96</td>\n",
       "    </tr>\n",
       "    <tr>\n",
       "      <th>1</th>\n",
       "      <td>117</td>\n",
       "      <td>C</td>\n",
       "      <td>T</td>\n",
       "      <td>99.82</td>\n",
       "    </tr>\n",
       "    <tr>\n",
       "      <th>4</th>\n",
       "      <td>307</td>\n",
       "      <td>C</td>\n",
       "      <td>T</td>\n",
       "      <td>0.94</td>\n",
       "    </tr>\n",
       "    <tr>\n",
       "      <th>10</th>\n",
       "      <td>774</td>\n",
       "      <td>T</td>\n",
       "      <td>C</td>\n",
       "      <td>99.96</td>\n",
       "    </tr>\n",
       "    <tr>\n",
       "      <th>14</th>\n",
       "      <td>999</td>\n",
       "      <td>C</td>\n",
       "      <td>T</td>\n",
       "      <td>99.86</td>\n",
       "    </tr>\n",
       "    <tr>\n",
       "      <th>18</th>\n",
       "      <td>1260</td>\n",
       "      <td>A</td>\n",
       "      <td>C</td>\n",
       "      <td>99.94</td>\n",
       "    </tr>\n",
       "    <tr>\n",
       "      <th>20</th>\n",
       "      <td>1458</td>\n",
       "      <td>T</td>\n",
       "      <td>C</td>\n",
       "      <td>0.84</td>\n",
       "    </tr>\n",
       "  </tbody>\n",
       "</table>\n",
       "</div>"
      ],
      "text/plain": [
       "    Position Reference Alternate   Freq\n",
       "0         72         A         G  99.96\n",
       "1        117         C         T  99.82\n",
       "4        307         C         T   0.94\n",
       "10       774         T         C  99.96\n",
       "14       999         C         T  99.86\n",
       "18      1260         A         C  99.94\n",
       "20      1458         T         C   0.84"
      ]
     },
     "execution_count": 95,
     "metadata": {},
     "output_type": "execute_result"
    }
   ],
   "source": [
    "# Clone 3\n",
    "i = 3\n",
    "vrm[np.abs(vrm.Freq - mu[i]) > 3 * std[i]]"
   ]
  }
 ],
 "metadata": {
  "kernelspec": {
   "display_name": "Python 3",
   "language": "python",
   "name": "python3"
  },
  "language_info": {
   "codemirror_mode": {
    "name": "ipython",
    "version": 3
   },
   "file_extension": ".py",
   "mimetype": "text/x-python",
   "name": "python",
   "nbconvert_exporter": "python",
   "pygments_lexer": "ipython3",
   "version": "3.8.3"
  }
 },
 "nbformat": 4,
 "nbformat_minor": 4
}
