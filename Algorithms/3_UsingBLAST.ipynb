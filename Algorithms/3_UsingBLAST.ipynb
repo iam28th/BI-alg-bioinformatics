{
 "cells": [
  {
   "cell_type": "markdown",
   "metadata": {},
   "source": [
    "# Генерация последовательностей"
   ]
  },
  {
   "cell_type": "code",
   "execution_count": 1,
   "metadata": {},
   "outputs": [],
   "source": [
    "import random\n",
    "random.seed(0)\n",
    "\n",
    "letters = {\n",
    "    1: 'A',\n",
    "    2: 'T',\n",
    "    3: 'G',\n",
    "    4: 'C'\n",
    "}"
   ]
  },
  {
   "cell_type": "code",
   "execution_count": 2,
   "metadata": {},
   "outputs": [],
   "source": [
    "def generate_random_sequence(n):\n",
    "    seq = [0] * n\n",
    "    for i in range(n):\n",
    "        seq[i] = letters[random.randint(1, 4)]\n",
    "    return ''.join(seq)"
   ]
  },
  {
   "cell_type": "code",
   "execution_count": 3,
   "metadata": {},
   "outputs": [
    {
     "data": {
      "text/plain": [
       "'CCAGCCGCGTTGTAGTGAAGCAGCGTCCGAAACACGTGATTTTCAAGCAGGAGTGCACGTGTTTAGCAATTAACGTTCGCCGAGACGTTAGATGTGCAAT'"
      ]
     },
     "execution_count": 3,
     "metadata": {},
     "output_type": "execute_result"
    }
   ],
   "source": [
    "seq100 = generate_random_sequence(100)\n",
    "seq100"
   ]
  },
  {
   "cell_type": "code",
   "execution_count": 4,
   "metadata": {},
   "outputs": [],
   "source": [
    "seq1000 = generate_random_sequence(1000)\n",
    "seq100000 = generate_random_sequence(100000)"
   ]
  },
  {
   "cell_type": "code",
   "execution_count": 5,
   "metadata": {},
   "outputs": [],
   "source": [
    "files = ['seq100', 'seq1000', 'seq100000']\n",
    "sequences = [seq100, seq1000, seq100000]\n",
    "for seq, fname in zip(sequences, files):\n",
    "    with open(fname + '.txt', 'w') as f:\n",
    "        f.write(seq)"
   ]
  },
  {
   "cell_type": "code",
   "execution_count": 13,
   "metadata": {},
   "outputs": [],
   "source": [
    "from IPython.display import Image, display"
   ]
  },
  {
   "cell_type": "markdown",
   "metadata": {},
   "source": [
    "# Последовательность длины 100"
   ]
  },
  {
   "cell_type": "code",
   "execution_count": 19,
   "metadata": {},
   "outputs": [
    {
     "data": {
      "text/html": [
       "<img src=\"https://sun9-76.userapi.com/oPHsFXzTkGvnGTBlPvgTDd2PiIEBA9opGIMG7g/bGziPvmnzAs.jpg\"/>"
      ],
      "text/plain": [
       "<IPython.core.display.Image object>"
      ]
     },
     "metadata": {},
     "output_type": "display_data"
    },
    {
     "name": "stdout",
     "output_type": "stream",
     "text": [
      "Параметры алгоритма:\n"
     ]
    },
    {
     "data": {
      "text/html": [
       "<img src=\"https://sun9-52.userapi.com/NSBz0PS3AOladotwbzUY-8nBwjKTg2O7kiAGaw/f9DKM2DIVRA.jpg\"/>"
      ],
      "text/plain": [
       "<IPython.core.display.Image object>"
      ]
     },
     "metadata": {},
     "output_type": "display_data"
    },
    {
     "name": "stdout",
     "output_type": "stream",
     "text": [
      "Результаты:\n"
     ]
    },
    {
     "data": {
      "text/html": [
       "<img src=\"https://sun9-15.userapi.com/T0GdSxBksI6c9KKVz6E3NVbHWynz9fG9NzJynA/J-6HozJPubw.jpg\"/>"
      ],
      "text/plain": [
       "<IPython.core.display.Image object>"
      ]
     },
     "metadata": {},
     "output_type": "display_data"
    },
    {
     "data": {
      "text/html": [
       "<img src=\"https://sun9-57.userapi.com/zAV6Wf9Ng9FyOgrqGx08-VZIogJtvB4ZzWlRgg/sbuDfBzpbq4.jpg\"/>"
      ],
      "text/plain": [
       "<IPython.core.display.Image object>"
      ]
     },
     "metadata": {},
     "output_type": "display_data"
    }
   ],
   "source": [
    "display(Image(url='https://sun9-76.userapi.com/oPHsFXzTkGvnGTBlPvgTDd2PiIEBA9opGIMG7g/bGziPvmnzAs.jpg'))\n",
    "print('Параметры алгоритма:')\n",
    "display(Image(url='https://sun9-52.userapi.com/NSBz0PS3AOladotwbzUY-8nBwjKTg2O7kiAGaw/f9DKM2DIVRA.jpg'))\n",
    "print('Результаты:')\n",
    "\n",
    "display(Image(url='https://sun9-15.userapi.com/T0GdSxBksI6c9KKVz6E3NVbHWynz9fG9NzJynA/J-6HozJPubw.jpg'))\n",
    "display(Image(url='https://sun9-57.userapi.com/zAV6Wf9Ng9FyOgrqGx08-VZIogJtvB4ZzWlRgg/sbuDfBzpbq4.jpg'))"
   ]
  },
  {
   "cell_type": "markdown",
   "metadata": {},
   "source": [
    "# Последовательность длины 1000"
   ]
  },
  {
   "cell_type": "code",
   "execution_count": 20,
   "metadata": {},
   "outputs": [
    {
     "data": {
      "text/html": [
       "<img src=\"https://sun9-54.userapi.com/HSRIsJvY_PfAskihZKwJIPqb6DqyoIsYoLzWYQ/Bts5Q8KZKww.jpg\"/>"
      ],
      "text/plain": [
       "<IPython.core.display.Image object>"
      ]
     },
     "metadata": {},
     "output_type": "display_data"
    },
    {
     "name": "stdout",
     "output_type": "stream",
     "text": [
      "Параметры алгоритма:\n"
     ]
    },
    {
     "data": {
      "text/html": [
       "<img src=\"https://sun9-71.userapi.com/ScMqWX0fv6lRIiGkLR3OhSfasPttjenk1a4Q5A/bTBEMdhN5po.jpg\"/>"
      ],
      "text/plain": [
       "<IPython.core.display.Image object>"
      ]
     },
     "metadata": {},
     "output_type": "display_data"
    },
    {
     "name": "stdout",
     "output_type": "stream",
     "text": [
      "Результаты:\n"
     ]
    },
    {
     "data": {
      "text/html": [
       "<img src=\"https://sun9-32.userapi.com/6AZd3Xm6bgzMvxzIzVv2Ss00bcFef5CJB-fLxQ/lHBj1dD4Ro8.jpg\"/>"
      ],
      "text/plain": [
       "<IPython.core.display.Image object>"
      ]
     },
     "metadata": {},
     "output_type": "display_data"
    },
    {
     "data": {
      "text/html": [
       "<img src=\"https://sun9-51.userapi.com/b2XuSyZohpBMDKCD3j3J0gVfNK0iIBFtAccwrw/G82WZYqCXdI.jpg\"/>"
      ],
      "text/plain": [
       "<IPython.core.display.Image object>"
      ]
     },
     "metadata": {},
     "output_type": "display_data"
    }
   ],
   "source": [
    "display(Image(url='https://sun9-54.userapi.com/HSRIsJvY_PfAskihZKwJIPqb6DqyoIsYoLzWYQ/Bts5Q8KZKww.jpg'))\n",
    "print('Параметры алгоритма:')\n",
    "display(Image(url='https://sun9-71.userapi.com/ScMqWX0fv6lRIiGkLR3OhSfasPttjenk1a4Q5A/bTBEMdhN5po.jpg'))\n",
    "print('Результаты:')\n",
    "\n",
    "display(Image(url='https://sun9-32.userapi.com/6AZd3Xm6bgzMvxzIzVv2Ss00bcFef5CJB-fLxQ/lHBj1dD4Ro8.jpg'))\n",
    "display(Image(url='https://sun9-51.userapi.com/b2XuSyZohpBMDKCD3j3J0gVfNK0iIBFtAccwrw/G82WZYqCXdI.jpg'))"
   ]
  },
  {
   "cell_type": "markdown",
   "metadata": {},
   "source": [
    "# Последовательность длины 100000"
   ]
  },
  {
   "cell_type": "code",
   "execution_count": 21,
   "metadata": {},
   "outputs": [
    {
     "data": {
      "text/html": [
       "<img src=\"https://sun9-21.userapi.com/mOz9mVUkAjyZn1MRYaaj1UOb53F0xLt7aqEExA/EmA5cdPLkbM.jpg\"/>"
      ],
      "text/plain": [
       "<IPython.core.display.Image object>"
      ]
     },
     "metadata": {},
     "output_type": "display_data"
    },
    {
     "name": "stdout",
     "output_type": "stream",
     "text": [
      "Параметры алгоритма:\n"
     ]
    },
    {
     "data": {
      "text/html": [
       "<img src=\"https://sun9-56.userapi.com/fXpmE-Jzgu0DBkIWaN9JMiuEOLWgqxSMfJtVOA/EvLWcGEOf2M.jpg\"/>"
      ],
      "text/plain": [
       "<IPython.core.display.Image object>"
      ]
     },
     "metadata": {},
     "output_type": "display_data"
    },
    {
     "name": "stdout",
     "output_type": "stream",
     "text": [
      "Результаты:\n"
     ]
    },
    {
     "data": {
      "text/html": [
       "<img src=\"https://sun9-62.userapi.com/0asyx5MYxxq0GVCRNlWc-yn2gBeeYhm2P0vSOw/ZN4jCNTyiA0.jpg\"/>"
      ],
      "text/plain": [
       "<IPython.core.display.Image object>"
      ]
     },
     "metadata": {},
     "output_type": "display_data"
    }
   ],
   "source": [
    "display(Image(url='https://sun9-21.userapi.com/mOz9mVUkAjyZn1MRYaaj1UOb53F0xLt7aqEExA/EmA5cdPLkbM.jpg'))\n",
    "print('Параметры алгоритма:')\n",
    "display(Image(url='https://sun9-56.userapi.com/fXpmE-Jzgu0DBkIWaN9JMiuEOLWgqxSMfJtVOA/EvLWcGEOf2M.jpg'))\n",
    "print('Результаты:')\n",
    "display(Image(url='https://sun9-62.userapi.com/0asyx5MYxxq0GVCRNlWc-yn2gBeeYhm2P0vSOw/ZN4jCNTyiA0.jpg'))"
   ]
  }
 ],
 "metadata": {
  "kernelspec": {
   "display_name": "Python 3",
   "language": "python",
   "name": "python3"
  },
  "language_info": {
   "codemirror_mode": {
    "name": "ipython",
    "version": 3
   },
   "file_extension": ".py",
   "mimetype": "text/x-python",
   "name": "python",
   "nbconvert_exporter": "python",
   "pygments_lexer": "ipython3",
   "version": "3.8.5"
  }
 },
 "nbformat": 4,
 "nbformat_minor": 4
}
