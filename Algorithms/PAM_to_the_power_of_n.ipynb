{
 "cells": [
  {
   "cell_type": "code",
   "execution_count": 63,
   "metadata": {},
   "outputs": [],
   "source": [
    "from sympy import Matrix, symbols"
   ]
  },
  {
   "cell_type": "code",
   "execution_count": 67,
   "metadata": {},
   "outputs": [
    {
     "data": {
      "text/latex": [
       "$\\displaystyle \\left[\\begin{matrix}1 - 3 a & a & a & a\\\\a & 1 - 3 a & a & a\\\\a & a & 1 - 3 a & a\\\\a & a & a & 1 - 3 a\\end{matrix}\\right]$"
      ],
      "text/plain": [
       "Matrix([\n",
       "[1 - 3*a,       a,       a,       a],\n",
       "[      a, 1 - 3*a,       a,       a],\n",
       "[      a,       a, 1 - 3*a,       a],\n",
       "[      a,       a,       a, 1 - 3*a]])"
      ]
     },
     "execution_count": 67,
     "metadata": {},
     "output_type": "execute_result"
    }
   ],
   "source": [
    "a, n = symbols('a n')\n",
    "PAM = Matrix([\n",
    "    [1 - 3*a, a, a, a], \n",
    "    [a, 1 - 3*a, a, a],\n",
    "    [a, a, 1 - 3*a, a],\n",
    "    [a, a, a, 1 - 3*a]\n",
    "])\n",
    "PAM"
   ]
  },
  {
   "cell_type": "markdown",
   "metadata": {},
   "source": [
    "Для диагональной матрицы верно\n",
    "$$\\begin{pmatrix}\n",
    "a && 0 && 0 && 0 \\\\\n",
    "0 && a && 0 && 0 \\\\\n",
    "0 && 0 && a && 0 \\\\\n",
    "0 && 0 && 0 && a\n",
    "\\end{pmatrix}^n = \n",
    "\\begin{pmatrix}\n",
    "a^n && 0 && 0 && 0 \\\\\n",
    "0 && a^n && 0 && 0 \\\\\n",
    "0 && 0 && a^n && 0 \\\\\n",
    "0 && 0 && 0 && a^n\n",
    "\\end{pmatrix}$$\n",
    "\n",
    "Докажем по индукции, что если $A$ - диагональная матрица и $B = S \\cdot A \\cdot S^{-1}$ , то $B^n = S \\cdot A^n \\cdot S^{-1}$.\n",
    "\n",
    "Базовый случай при $n = 1$ выполняется по определнию $B$.\n",
    "\n",
    "Пусть $B^{n-1} = S \\cdot A^{n-1} \\cdot S^{-1}$. Тогда\n",
    "$$\n",
    "B^{n} = (S A S^{-1}) \\cdot (S A^{n-1} S^{-1}) = SA \\cdot (SS^{-1}) \\cdot A^{n-1} S^{-1} = \\\\\n",
    "= SAA^{n-1} S^{-1} = S A^{n} S^{-1}\n",
    "$$"
   ]
  },
  {
   "cell_type": "markdown",
   "metadata": {},
   "source": [
    "Разложим матрицу PAM в произведение вида $S\\cdot M \\cdot S^{-1}$, где $M$ - диагональная матрица"
   ]
  },
  {
   "cell_type": "code",
   "execution_count": 75,
   "metadata": {},
   "outputs": [
    {
     "data": {
      "text/latex": [
       "$\\displaystyle \\left[\\begin{matrix}1 & -1 & -1 & -1\\\\1 & 1 & 0 & 0\\\\1 & 0 & 1 & 0\\\\1 & 0 & 0 & 1\\end{matrix}\\right]$"
      ],
      "text/plain": [
       "Matrix([\n",
       "[1, -1, -1, -1],\n",
       "[1,  1,  0,  0],\n",
       "[1,  0,  1,  0],\n",
       "[1,  0,  0,  1]])"
      ]
     },
     "execution_count": 75,
     "metadata": {},
     "output_type": "execute_result"
    }
   ],
   "source": [
    "S, M = PAM.diagonalize()\n",
    "S"
   ]
  },
  {
   "cell_type": "code",
   "execution_count": 76,
   "metadata": {},
   "outputs": [
    {
     "data": {
      "text/latex": [
       "$\\displaystyle \\left[\\begin{matrix}1 & 0 & 0 & 0\\\\0 & 1 - 4 a & 0 & 0\\\\0 & 0 & 1 - 4 a & 0\\\\0 & 0 & 0 & 1 - 4 a\\end{matrix}\\right]$"
      ],
      "text/plain": [
       "Matrix([\n",
       "[1,       0,       0,       0],\n",
       "[0, 1 - 4*a,       0,       0],\n",
       "[0,       0, 1 - 4*a,       0],\n",
       "[0,       0,       0, 1 - 4*a]])"
      ]
     },
     "execution_count": 76,
     "metadata": {},
     "output_type": "execute_result"
    }
   ],
   "source": [
    "M"
   ]
  },
  {
   "cell_type": "code",
   "execution_count": 82,
   "metadata": {},
   "outputs": [
    {
     "data": {
      "text/plain": [
       "True"
      ]
     },
     "execution_count": 82,
     "metadata": {},
     "output_type": "execute_result"
    }
   ],
   "source": [
    "S * M * S.inv() == PAM"
   ]
  },
  {
   "cell_type": "markdown",
   "metadata": {},
   "source": [
    "Тогда в соответствии с доказанным утверждением, коэффициенты для матрицы $РАМ^n$ будут равны:"
   ]
  },
  {
   "cell_type": "code",
   "execution_count": 83,
   "metadata": {},
   "outputs": [
    {
     "data": {
      "text/latex": [
       "$\\displaystyle \\left[\\begin{matrix}\\frac{3 \\left(1 - 4 a\\right)^{n}}{4} + \\frac{1}{4} & \\frac{1}{4} - \\frac{\\left(1 - 4 a\\right)^{n}}{4} & \\frac{1}{4} - \\frac{\\left(1 - 4 a\\right)^{n}}{4} & \\frac{1}{4} - \\frac{\\left(1 - 4 a\\right)^{n}}{4}\\\\\\frac{1}{4} - \\frac{\\left(1 - 4 a\\right)^{n}}{4} & \\frac{3 \\left(1 - 4 a\\right)^{n}}{4} + \\frac{1}{4} & \\frac{1}{4} - \\frac{\\left(1 - 4 a\\right)^{n}}{4} & \\frac{1}{4} - \\frac{\\left(1 - 4 a\\right)^{n}}{4}\\\\\\frac{1}{4} - \\frac{\\left(1 - 4 a\\right)^{n}}{4} & \\frac{1}{4} - \\frac{\\left(1 - 4 a\\right)^{n}}{4} & \\frac{3 \\left(1 - 4 a\\right)^{n}}{4} + \\frac{1}{4} & \\frac{1}{4} - \\frac{\\left(1 - 4 a\\right)^{n}}{4}\\\\\\frac{1}{4} - \\frac{\\left(1 - 4 a\\right)^{n}}{4} & \\frac{1}{4} - \\frac{\\left(1 - 4 a\\right)^{n}}{4} & \\frac{1}{4} - \\frac{\\left(1 - 4 a\\right)^{n}}{4} & \\frac{3 \\left(1 - 4 a\\right)^{n}}{4} + \\frac{1}{4}\\end{matrix}\\right]$"
      ],
      "text/plain": [
       "Matrix([\n",
       "[3*(1 - 4*a)**n/4 + 1/4,   1/4 - (1 - 4*a)**n/4,   1/4 - (1 - 4*a)**n/4,   1/4 - (1 - 4*a)**n/4],\n",
       "[  1/4 - (1 - 4*a)**n/4, 3*(1 - 4*a)**n/4 + 1/4,   1/4 - (1 - 4*a)**n/4,   1/4 - (1 - 4*a)**n/4],\n",
       "[  1/4 - (1 - 4*a)**n/4,   1/4 - (1 - 4*a)**n/4, 3*(1 - 4*a)**n/4 + 1/4,   1/4 - (1 - 4*a)**n/4],\n",
       "[  1/4 - (1 - 4*a)**n/4,   1/4 - (1 - 4*a)**n/4,   1/4 - (1 - 4*a)**n/4, 3*(1 - 4*a)**n/4 + 1/4]])"
      ]
     },
     "execution_count": 83,
     "metadata": {},
     "output_type": "execute_result"
    }
   ],
   "source": [
    "S * M**n * S.inv()"
   ]
  }
 ],
 "metadata": {
  "kernelspec": {
   "display_name": "Python 3",
   "language": "python",
   "name": "python3"
  },
  "language_info": {
   "codemirror_mode": {
    "name": "ipython",
    "version": 3
   },
   "file_extension": ".py",
   "mimetype": "text/x-python",
   "name": "python",
   "nbconvert_exporter": "python",
   "pygments_lexer": "ipython3",
   "version": "3.8.5"
  }
 },
 "nbformat": 4,
 "nbformat_minor": 4
}
