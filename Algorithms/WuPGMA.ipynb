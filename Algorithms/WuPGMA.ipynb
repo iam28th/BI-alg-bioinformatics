{
 "cells": [
  {
   "cell_type": "code",
   "execution_count": 65,
   "metadata": {},
   "outputs": [],
   "source": [
    "from copy import deepcopy\n",
    "from itertools import product\n",
    "\n",
    "class WuPGMA:\n",
    "    def __init__(self, distances, U=False):\n",
    "        self.distances = distances\n",
    "        self.strings = {}\n",
    "        self.U = U\n",
    "        self.last_key = None  # used for output\n",
    "    \n",
    "    def __getitem__(self, item):\n",
    "        a, b = item\n",
    "        if a == b:\n",
    "            return 0\n",
    "        try:\n",
    "            dist = self.distances[a][b]\n",
    "        except KeyError:\n",
    "            dist = self.distances[b][a]\n",
    "            self.distances[a][b] = dist\n",
    "        finally:\n",
    "            return dist\n",
    "    \n",
    "    def unify(self, a, b, dist):\n",
    "        new = (a, b)\n",
    "        new_dist = {}\n",
    "        \n",
    "        # compute ditance from new Node to other existing nodes\n",
    "        for el in self.distances.keys():\n",
    "            if el in (a, b):\n",
    "                continue  # because we remove nodes a, b from table\n",
    "            \n",
    "            if self.U:\n",
    "                new_dist[el] = (self[el, a] * len(a) + self[el, b] * len(b)) / (len(a) + len(b))\n",
    "            else:\n",
    "                new_dist[el] = (self[el, a] + self[el, b]) / 2 \n",
    "            \n",
    "            if a in self.distances[el].keys():  # remove a, b from table\n",
    "                self.distances[el].pop(a)\n",
    "            if b in self.distances[el].keys():\n",
    "                self.distances[el].pop(b)\n",
    "            \n",
    "        for n in new:  # remove a, b form table again (because we keep both dist[a, b] and dist[b, a])\n",
    "            if n in self.distances.keys():\n",
    "                self.distances.pop(n)\n",
    "        \n",
    "        self.distances[new] = new_dist  # add new row to table. __getitem__ will take care of the rest\n",
    "        \n",
    "        # distance form nodes a, b to new node\n",
    "        dist_a = dist_b = dist / 2\n",
    "            \n",
    "        # Newick formatted string of subtree with root at new = (a, b)\n",
    "        dist_a, dist_b = round(dist_a, 2), round(dist_b, 2)\n",
    "        \n",
    "        if len(a) == 1 and len(b) == 1:\n",
    "            s = '{}:{},{}:{}'.format(a, dist_a, b, dist_b)\n",
    "            dist_a, dist_b = round(dist_a, 2), round(dist_b, 2)\n",
    "            \n",
    "        elif len(a) > 1 and len(b) == 1:\n",
    "            st, d = self.strings[a]\n",
    "            dist_a = round(dist_a - d, 2)\n",
    "            dist_b = round(dist_b, 2)\n",
    "            s = '({}):{},{}:{}'.format(st, dist_a, b, dist_b)\n",
    "            \n",
    "        elif len(a) == 1 and len(b) > 1:\n",
    "            st, d = self.strings[b]\n",
    "            dist_a = round(dist_a, 2)\n",
    "            dist_b = round(dist_b - d, 2)\n",
    "            \n",
    "            s = '{}:{},({}):{}'.format(a, dist_a, st, dist_b)\n",
    "        else:\n",
    "            st_a, d_a = self.strings[a]\n",
    "            st_b, d_b = self.strings[b]\n",
    "            \n",
    "            dist_a = round(dist_a - d_a, 2)\n",
    "            dist_b = round(dist_b - d_b, 2)\n",
    "            s = '({}):{},({}):{}'.format(st_a, dist_a, st_b, dist_b)\n",
    "        \n",
    "        self.strings[new] = (s, dist/2)\n",
    "        self.last_key = new\n",
    "    \n",
    "    def find_min_distance(self):\n",
    "        min_dist = float('inf')\n",
    "        for el1, others in self.distances.items():\n",
    "            for el2, dist in others.items():\n",
    "                # print(el1, el2, dist)\n",
    "                if el1 == el2:\n",
    "                    continue\n",
    "                if dist < min_dist:\n",
    "                    min_dist = dist\n",
    "                    a, b = el1, el2\n",
    "        # print(min_dist)\n",
    "        if min_dist < float('inf'):\n",
    "            return a, b, min_dist     \n",
    "    \n",
    "    def brrr(self):\n",
    "        while self.find_min_distance():\n",
    "            self.unify(*self.find_min_distance())\n",
    "        return '(' + self.strings[self.last_key][0] + ')'"
   ]
  },
  {
   "cell_type": "markdown",
   "metadata": {},
   "source": [
    "---\n",
    "---"
   ]
  },
  {
   "cell_type": "markdown",
   "metadata": {},
   "source": [
    "## 1. WPGMA"
   ]
  },
  {
   "cell_type": "code",
   "execution_count": 66,
   "metadata": {},
   "outputs": [
    {
     "name": "stdout",
     "output_type": "stream",
     "text": [
      "(((C:2.0,D:2.0):2.0,B:4.0):3.25,A:7.25)\n"
     ]
    }
   ],
   "source": [
    "test1 = {\n",
    "    'A': { 'B': 16, 'C': 16, 'D': 10 },\n",
    "    'B': { 'C': 8, 'D': 8},\n",
    "    'C': { 'D': 4},\n",
    "    'D': {}\n",
    "}\n",
    "WPGMA1 = WuPGMA(deepcopy(test1), U=False)\n",
    "print(WPGMA1.brrr())"
   ]
  },
  {
   "cell_type": "code",
   "execution_count": 67,
   "metadata": {},
   "outputs": [
    {
     "name": "stdout",
     "output_type": "stream",
     "text": [
      "((((A:2.0,C:2.0):1.0,B:3.0):1.0,(D:2.5,E:2.5):1.5):0.5,F:4.5)\n"
     ]
    }
   ],
   "source": [
    "test2 = {\n",
    "    'A': {'B': 5, 'C':  4, 'D': 7, 'E': 6, 'F': 8},\n",
    "    'B': {'C': 7, 'D': 10, 'E': 9, 'F': 11},\n",
    "    'C': {'D': 7, 'E': 6, 'F': 8},\n",
    "    'D': {'E': 5, 'F': 9},\n",
    "    'E': {'F': 8},\n",
    "    'F': {}\n",
    "}\n",
    "WPGMA2 = WuPGMA(deepcopy(test2), U=False)\n",
    "print(WPGMA2.brrr())"
   ]
  },
  {
   "cell_type": "markdown",
   "metadata": {},
   "source": [
    "## 2. UPGMA"
   ]
  },
  {
   "cell_type": "code",
   "execution_count": 68,
   "metadata": {},
   "outputs": [
    {
     "name": "stdout",
     "output_type": "stream",
     "text": [
      "(((C:2.0,D:2.0):2.0,B:4.0):3.0,A:7.0)\n"
     ]
    }
   ],
   "source": [
    "test1 = {\n",
    "    'A': { 'B': 16, 'C': 16, 'D': 10 },\n",
    "    'B': { 'C': 8, 'D': 8},\n",
    "    'C': { 'D': 4},\n",
    "    'D': {}\n",
    "}\n",
    "UPGMA1 = WuPGMA(deepcopy(test1), U=True)\n",
    "print(UPGMA1.brrr())"
   ]
  },
  {
   "cell_type": "code",
   "execution_count": 69,
   "metadata": {},
   "outputs": [
    {
     "name": "stdout",
     "output_type": "stream",
     "text": [
      "((((A:2.0,C:2.0):1.0,B:3.0):0.75,(D:2.5,E:2.5):1.25):0.63,F:4.38)\n"
     ]
    }
   ],
   "source": [
    "test2 = {\n",
    "    'A': {'B': 5, 'C':  4, 'D': 7, 'E': 6, 'F': 8},\n",
    "    'B': {'C': 7, 'D': 10, 'E': 9, 'F': 11},\n",
    "    'C': {'D': 7, 'E': 6, 'F': 8},\n",
    "    'D': {'E': 5, 'F': 9},\n",
    "    'E': {'F': 8},\n",
    "    'F': {}\n",
    "}\n",
    "UPGMA2 = WuPGMA(deepcopy(test2), U=True)\n",
    "print(UPGMA2.brrr())"
   ]
  },
  {
   "cell_type": "markdown",
   "metadata": {},
   "source": [
    "### Проверка того, что объекты возвращают правильное расстояние"
   ]
  },
  {
   "cell_type": "code",
   "execution_count": 9,
   "metadata": {},
   "outputs": [],
   "source": [
    "test1 = {\n",
    "    'A': { 'B': 16, 'C': 16, 'D': 10 },\n",
    "    'B': { 'C': 8, 'D': 8},\n",
    "    'C': { 'D': 4},\n",
    "    'D': {}\n",
    "}\n",
    "\n",
    "\n",
    "elements = 'ABCD'\n",
    "Test1 = WuPGMA(deepcopy(test1), U=False)\n",
    "for a, b in product(elements, elements):\n",
    "    assert Test1[a, b] == Test1[b, a]\n",
    "assert Test1['D', 'B'] == 8\n",
    "assert Test1['C', 'A'] == 16\n",
    "assert Test1['C', 'D'] == 4\n",
    "\n",
    "test2 = {\n",
    "    'A': {'B': 5, 'C':  4, 'D': 7, 'E': 6, 'F': 8},\n",
    "    'B': {'C': 7, 'D': 10, 'E': 9, 'F': 11},\n",
    "    'C': {'D': 7, 'E': 6, 'F': 8},\n",
    "    'D': {'E': 5, 'F': 9},\n",
    "    'E': {'F': 8},\n",
    "    'F': {}\n",
    "}\n",
    "\n",
    "elements = 'ABCDEF'\n",
    "Test2 = WuPGMA(deepcopy(test2), U=True)\n",
    "for a, b in product(elements, elements):\n",
    "    assert Test2[a, b] == Test2[b, a]\n",
    "assert Test2['D', 'B'] == 10\n",
    "assert Test2['C', 'A'] == 4\n",
    "assert Test2['C', 'D'] == 7"
   ]
  }
 ],
 "metadata": {
  "kernelspec": {
   "display_name": "Python 3",
   "language": "python",
   "name": "python3"
  },
  "language_info": {
   "codemirror_mode": {
    "name": "ipython",
    "version": 3
   },
   "file_extension": ".py",
   "mimetype": "text/x-python",
   "name": "python",
   "nbconvert_exporter": "python",
   "pygments_lexer": "ipython3",
   "version": "3.8.5"
  }
 },
 "nbformat": 4,
 "nbformat_minor": 4
}
