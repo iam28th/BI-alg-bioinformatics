{
 "cells": [
  {
   "cell_type": "code",
   "execution_count": null,
   "metadata": {},
   "outputs": [],
   "source": [
    "\n",
    "\n",
    "class NJ:\n",
    "    \n",
    "    def __init__(self, distances):\n",
    "        self.distances = distances\n",
    "        self.strings = {}\n",
    "        self.last_key = None  # used for output\n",
    "    \n",
    "    def __getitem__(self, item):\n",
    "        a, b = item\n",
    "        if a == b:\n",
    "            return 0\n",
    "        try:\n",
    "            dist = self.distances[a][b]\n",
    "        except KeyError:\n",
    "            dist = self.distances[b][a]\n",
    "            self.distances[a][b] = dist\n",
    "        finally:\n",
    "            return dist\n",
    "    \n",
    "    def find_min_distance():\n",
    "        min_dist = float('inf')\n",
    "        for el1, others in self.distances.items():\n",
    "            for el2, dist in others.items():\n",
    "                if el1 == el2:\n",
    "                    continue\n",
    "                if dist < min_dist:\n",
    "                    min_dist = dist\n",
    "                    a, b = el1, el2\n",
    "        if min_dist < float('inf'):\n",
    "            return a, b, min_dist\n",
    "    \n",
    "    \n",
    "    def brrr():\n",
    "        while self.find_min_distance():\n",
    "            self.unify(*self.find_min_distance())\n",
    "        return '(' + self.strings[self.last_key] + ')'\n",
    "        "
   ]
  }
 ],
 "metadata": {
  "kernelspec": {
   "display_name": "Python 3",
   "language": "python",
   "name": "python3"
  },
  "language_info": {
   "codemirror_mode": {
    "name": "ipython",
    "version": 3
   },
   "file_extension": ".py",
   "mimetype": "text/x-python",
   "name": "python",
   "nbconvert_exporter": "python",
   "pygments_lexer": "ipython3",
   "version": "3.8.5"
  }
 },
 "nbformat": 4,
 "nbformat_minor": 4
}
