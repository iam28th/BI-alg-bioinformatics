{
 "cells": [
  {
   "cell_type": "code",
   "execution_count": 1,
   "metadata": {},
   "outputs": [],
   "source": [
    "from itertools import product\n",
    "from copy import deepcopy\n",
    "\n",
    "class NJ:\n",
    "    \n",
    "    def __init__(self, distances):\n",
    "        self.distances = distances\n",
    "        self.strings = {}\n",
    "        self.last_key = None \n",
    "    \n",
    "    def __getitem__(self, item):\n",
    "        a, b = item\n",
    "        if a == b:\n",
    "            return 0\n",
    "        try:\n",
    "            dist = self.distances[a][b]\n",
    "        except KeyError:\n",
    "            dist = self.distances[b][a]\n",
    "            self.distances[a][b] = dist\n",
    "        finally:\n",
    "            return dist   \n",
    "    \n",
    "    def find_min_metric(self):\n",
    "        min_metric = float('inf')\n",
    "        res = {}\n",
    "        \n",
    "        N = len(self.distances.keys())\n",
    "        if N <= 2:\n",
    "            return\n",
    "        \n",
    "        for el1, el2 in product(self.distances.keys(), self.distances.keys()):\n",
    "            if el1 == el2:\n",
    "                continue\n",
    "                \n",
    "            M1 = 0\n",
    "            for el, dist in self.distances[el1].items():\n",
    "                if el != el2:\n",
    "                    M1 += dist\n",
    "            M1 /= (N - 2)\n",
    "        \n",
    "            M2 = 0\n",
    "            for el, dist in self.distances[el2].items():\n",
    "                if el != el1:\n",
    "                    M2 += dist\n",
    "            M2 /= (N - 2)\n",
    "            \n",
    "            D = self[el1, el2]\n",
    "            \n",
    "            metric = D - M1 - M2\n",
    "            if metric < min_metric:\n",
    "                min_metric = metric\n",
    "                res = {\n",
    "                    'a': el1,\n",
    "                    'b': el2,\n",
    "                    'D': D,\n",
    "                    'Ma': M1,\n",
    "                    'Mb': M2\n",
    "                }\n",
    "        return res\n",
    "    \n",
    "    def unify(self, a, b, D, Ma, Mb):\n",
    "        \n",
    "        new = (a, b)\n",
    "        new_dist = {}\n",
    "        \n",
    "        for el in self.distances.keys():\n",
    "            if el in (a, b):\n",
    "                continue\n",
    "            new_dist[el] = 0.5 * (self[b, el] + self[el, a] - D)\n",
    "            \n",
    "            if a in self.distances[el].keys():\n",
    "                self.distances[el].pop(a)\n",
    "            if b in self.distances[el].keys():\n",
    "                self.distances[el].pop(b)\n",
    "        self.distances[new] = new_dist\n",
    "                \n",
    "        for n in new:\n",
    "            if n in self.distances.keys():\n",
    "                self.distances.pop(n)\n",
    "            \n",
    "        dist_a = round(0.5 * (D + Ma - Mb), 2)\n",
    "        dist_b = round(0.5 * (D + Mb - Ma), 2)\n",
    "        \n",
    "        self.strings[new] = self.newick_string(a, b, dist_a, dist_b)\n",
    "        \n",
    "        self.last_key = new\n",
    "    \n",
    "    def newick_string(self, a, b, dist_a, dist_b):\n",
    "        if len(a) == 1 and len(b) == 1:\n",
    "            s = '{}:{},{}:{}'.format(a, dist_a, b, dist_b)\n",
    "        elif len(a) > 1 and len(b) == 1:\n",
    "            s = '({}):{},{}:{}'.format(self.strings[a], dist_a, b, dist_b)\n",
    "        elif len(a) == 1 and len(b) > 1:\n",
    "            s = '{}:{},({}):{}'.format(a, dist_a, self.strings[b], dist_b)\n",
    "        else:\n",
    "            s = '({}):{},({}):{}'.format(self.strings[a], dist_a, self.strings[b], dist_b)\n",
    "        return s\n",
    "            \n",
    "    def brrr(self):\n",
    "        while self.find_min_metric():\n",
    "            self.unify(**self.find_min_metric())\n",
    "            # self.unify(*self.find_min_distance())\n",
    "        \n",
    "        # manually concatenate for last 2 nodes\n",
    "        a, b = self.distances.keys()\n",
    "        D = self[a, b]\n",
    "        dist_a = dist_b = D / 2  # Ma = Mb = 0\n",
    "        \n",
    "        return '(' + self.newick_string(a, b, dist_a, dist_b) + ')'     "
   ]
  },
  {
   "cell_type": "markdown",
   "metadata": {},
   "source": [
    "## Тесты"
   ]
  },
  {
   "cell_type": "code",
   "execution_count": 2,
   "metadata": {},
   "outputs": [
    {
     "name": "stdout",
     "output_type": "stream",
     "text": [
      "(A:5.25,(B:5.5,(C:3.5,D:0.5):0.5):5.25)\n"
     ]
    }
   ],
   "source": [
    "test1 = {\n",
    "    'A': { 'B': 16, 'C': 16, 'D': 10 },\n",
    "    'B': { 'C': 8, 'D': 8},\n",
    "    'C': { 'D': 4},\n",
    "    'D': {}\n",
    "}\n",
    "NJ1 = NJ(deepcopy(test1))\n",
    "print(NJ1.brrr())"
   ]
  },
  {
   "cell_type": "code",
   "execution_count": 3,
   "metadata": {},
   "outputs": [
    {
     "name": "stdout",
     "output_type": "stream",
     "text": [
      "(F:2.5,((C:2.0,(A:1.0,B:4.0):1.0):1.0,(D:3.0,E:2.0):1.0):2.5)\n"
     ]
    }
   ],
   "source": [
    "test2 = {\n",
    "    'A': {'B': 5, 'C':  4, 'D': 7, 'E': 6, 'F': 8},\n",
    "    'B': {'C': 7, 'D': 10, 'E': 9, 'F': 11},\n",
    "    'C': {'D': 7, 'E': 6, 'F': 8},\n",
    "    'D': {'E': 5, 'F': 9},\n",
    "    'E': {'F': 8},\n",
    "    'F': {}\n",
    "}\n",
    "NJ2 = NJ(deepcopy(test2))\n",
    "print(NJ2.brrr())"
   ]
  },
  {
   "cell_type": "markdown",
   "metadata": {},
   "source": [
    "## Проверка работы звёздочек..."
   ]
  },
  {
   "cell_type": "code",
   "execution_count": 4,
   "metadata": {},
   "outputs": [],
   "source": [
    "class Test:\n",
    "    def __init__(self):\n",
    "        pass\n",
    "    \n",
    "    def test_kwargs(self):\n",
    "        tmp = {'b': 1, 'c': 3, 'a': 2}\n",
    "        self.funk_with_kwargs(**tmp)\n",
    "    \n",
    "    def funk_with_kwargs(self, a, b, c):\n",
    "        print(a, b, c)"
   ]
  },
  {
   "cell_type": "code",
   "execution_count": 5,
   "metadata": {},
   "outputs": [
    {
     "name": "stdout",
     "output_type": "stream",
     "text": [
      "2 1 3\n"
     ]
    }
   ],
   "source": [
    "x = Test()\n",
    "x.test_kwargs()"
   ]
  }
 ],
 "metadata": {
  "kernelspec": {
   "display_name": "Python 3",
   "language": "python",
   "name": "python3"
  },
  "language_info": {
   "codemirror_mode": {
    "name": "ipython",
    "version": 3
   },
   "file_extension": ".py",
   "mimetype": "text/x-python",
   "name": "python",
   "nbconvert_exporter": "python",
   "pygments_lexer": "ipython3",
   "version": "3.8.5"
  }
 },
 "nbformat": 4,
 "nbformat_minor": 4
}
