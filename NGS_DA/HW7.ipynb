{
 "cells": [
  {
   "cell_type": "markdown",
   "metadata": {},
   "source": [
    "Ершов Артем, Москва"
   ]
  },
  {
   "cell_type": "code",
   "execution_count": 54,
   "metadata": {},
   "outputs": [],
   "source": [
    "import pandas as pd\n",
    "import numpy as np\n",
    "\n",
    "import seaborn as sns\n",
    "from IPython.display import IFrame"
   ]
  },
  {
   "cell_type": "markdown",
   "metadata": {},
   "source": [
    "Для выраванивания будем использовать STAR, т.к. он умеет взаимодействовать с базой генов. Для количественной оценки воспользуемся featureCounts, по резултатам которого можно расчитать значение $\\text{FPKM}$."
   ]
  },
  {
   "cell_type": "markdown",
   "metadata": {},
   "source": [
    "```bash\n",
    "# build index\n",
    "./STAR --runMode genomeGenerate --runThreadN 8 --genomeDir ./star-index --genomeFastaFiles ref.fa --sjdbGTFfile genes.gtf\n",
    "\n",
    "# alignment\n",
    "./STAR --runThreadN 8 --genomeDir ./star-index --readFilesIn SRR453566_1.fastq SRR453566_2.fastq\n",
    "\n",
    "# counts\n",
    "featureCounts -T 8 -a genes.gtf -o counts Aligned.out.sam\n",
    "\n",
    "# mean frament length\n",
    "# only check for fragments 600 bp or shorter (default upper limit for featureCounts)\n",
    "cut -f 9 Aligned.out.sam  | grep -v '-' | awk '$1<601{ total += $1; count++ } END { print total/count }'\n",
    "# result is ~216\n",
    "\n",
    "# de-novo assembly\n",
    "rnaspades.py -o rnaspades_assembly -1 SRR453566_1.fastq -2 SRR453566_2.fastq -t 8\n",
    "\n",
    "# assembly evaluation\n",
    "rnaQUAST.py -c rnaspades_assembly/transcripts.fasta -r ref.fa --gtf genes.gtf --disable_infer_genes --disable_infer_transcripts\n",
    "\n",
    "```"
   ]
  },
  {
   "cell_type": "code",
   "execution_count": 19,
   "metadata": {},
   "outputs": [
    {
     "data": {
      "text/html": [
       "<div>\n",
       "<style scoped>\n",
       "    .dataframe tbody tr th:only-of-type {\n",
       "        vertical-align: middle;\n",
       "    }\n",
       "\n",
       "    .dataframe tbody tr th {\n",
       "        vertical-align: top;\n",
       "    }\n",
       "\n",
       "    .dataframe thead th {\n",
       "        text-align: right;\n",
       "    }\n",
       "</style>\n",
       "<table border=\"1\" class=\"dataframe\">\n",
       "  <thead>\n",
       "    <tr style=\"text-align: right;\">\n",
       "      <th></th>\n",
       "      <th>Geneid</th>\n",
       "      <th>Chr</th>\n",
       "      <th>Start</th>\n",
       "      <th>End</th>\n",
       "      <th>Strand</th>\n",
       "      <th>Length</th>\n",
       "      <th>Aligned.out.sam</th>\n",
       "    </tr>\n",
       "  </thead>\n",
       "  <tbody>\n",
       "    <tr>\n",
       "      <th>0</th>\n",
       "      <td>YDL248W</td>\n",
       "      <td>IV</td>\n",
       "      <td>1802</td>\n",
       "      <td>2953</td>\n",
       "      <td>+</td>\n",
       "      <td>1152</td>\n",
       "      <td>624</td>\n",
       "    </tr>\n",
       "    <tr>\n",
       "      <th>1</th>\n",
       "      <td>YDL247W-A</td>\n",
       "      <td>IV</td>\n",
       "      <td>3762</td>\n",
       "      <td>3836</td>\n",
       "      <td>+</td>\n",
       "      <td>75</td>\n",
       "      <td>10</td>\n",
       "    </tr>\n",
       "    <tr>\n",
       "      <th>2</th>\n",
       "      <td>YDL247W</td>\n",
       "      <td>IV</td>\n",
       "      <td>5985</td>\n",
       "      <td>7814</td>\n",
       "      <td>+</td>\n",
       "      <td>1830</td>\n",
       "      <td>8</td>\n",
       "    </tr>\n",
       "    <tr>\n",
       "      <th>3</th>\n",
       "      <td>YDL246C</td>\n",
       "      <td>IV</td>\n",
       "      <td>8683</td>\n",
       "      <td>9756</td>\n",
       "      <td>-</td>\n",
       "      <td>1074</td>\n",
       "      <td>4</td>\n",
       "    </tr>\n",
       "    <tr>\n",
       "      <th>4</th>\n",
       "      <td>YDL245C</td>\n",
       "      <td>IV</td>\n",
       "      <td>11657</td>\n",
       "      <td>13360</td>\n",
       "      <td>-</td>\n",
       "      <td>1704</td>\n",
       "      <td>40</td>\n",
       "    </tr>\n",
       "  </tbody>\n",
       "</table>\n",
       "</div>"
      ],
      "text/plain": [
       "      Geneid Chr  Start    End Strand  Length  Aligned.out.sam\n",
       "0    YDL248W  IV   1802   2953      +    1152              624\n",
       "1  YDL247W-A  IV   3762   3836      +      75               10\n",
       "2    YDL247W  IV   5985   7814      +    1830                8\n",
       "3    YDL246C  IV   8683   9756      -    1074                4\n",
       "4    YDL245C  IV  11657  13360      -    1704               40"
      ]
     },
     "execution_count": 19,
     "metadata": {},
     "output_type": "execute_result"
    }
   ],
   "source": [
    "df = pd.read_csv('HW7_data/counts', sep='\\t', comment='#')\n",
    "df.head()"
   ]
  },
  {
   "cell_type": "markdown",
   "metadata": {},
   "source": [
    "$\\text{FPKM}_i = 10^9 \\cdot\\frac{X_i}{l_i \\cdot N}$ , где $N$ - суммарное число выравнявшихся фрагментов; $X_i$ - число фрагментов, которые выравнялись на рассматриваемый ген; $l_i$ - длина этого гена \n",
    "\n",
    "Иногда говорят об эффективной длине гена $\\tilde l = l - \\mu_{FLD} + 1$, где $\\mu_{FLD}$ - средняя длина фрагмента. Однако местами её опускают ([e.g.](http://assets.geneious.com/manual/8.0/GeneiousManualsu76.html)), а [здесь](https://www.biostars.org/p/390038/) пишут, что конкретно для анализа эскпрессии генов (а не различных изоформ гена) такая поправка не актуальна. По этой причине (а вовсе не потому, что иначе получаются отрицательные числа и я не уверен, что с ними делать) эффективную длину использовать не будем."
   ]
  },
  {
   "cell_type": "code",
   "execution_count": 38,
   "metadata": {},
   "outputs": [],
   "source": [
    "N = df['Aligned.out.sam'].sum()\n",
    "df['FPKM'] = df['Aligned.out.sam'] / df['Length'] * (10**9 / N)"
   ]
  },
  {
   "cell_type": "code",
   "execution_count": 52,
   "metadata": {},
   "outputs": [
    {
     "data": {
      "image/png": "[encoded data removed]",
      "text/plain": [
       "<Figure size 432x288 with 1 Axes>"
      ]
     },
     "metadata": {
      "needs_background": "light"
     },
     "output_type": "display_data"
    }
   ],
   "source": [
    "ax = sns.histplot(x=df['FPKM'], kde=True, bins=30);\n",
    "ax.set_title('FPKM distribution');"
   ]
  },
  {
   "cell_type": "markdown",
   "metadata": {},
   "source": [
    "Воспользуемся выделямыми в [Expression Atlas](https://www.ebi.ac.uk/gxa/FAQ.html) уровнями экспрессии: средней экспрессией обладают гены, для которых $\\text{FPKM} > 11$ (эти же гены должны обладать достаточным покрытием)."
   ]
  },
  {
   "cell_type": "code",
   "execution_count": 78,
   "metadata": {},
   "outputs": [
    {
     "data": {
      "text/plain": [
       "5352"
      ]
     },
     "execution_count": 78,
     "metadata": {},
     "output_type": "execute_result"
    }
   ],
   "source": [
    "df[df['FPKM'] > 11].shape[0]"
   ]
  },
  {
   "cell_type": "markdown",
   "metadata": {},
   "source": [
    "Сравним с результатами сборки:\n",
    "\n",
    "(Гитхаб не отображает; pdf с результатами rnaQUAST находится по адресу ../HW7_data/short_report.pdf)"
   ]
  },
  {
   "cell_type": "code",
   "execution_count": 59,
   "metadata": {},
   "outputs": [
    {
     "data": {
      "text/html": [
       "\n",
       "        <iframe\n",
       "            width=\"600\"\n",
       "            height=\"800\"\n",
       "            src=\"HW7_data/short_report.pdf\"\n",
       "            frameborder=\"0\"\n",
       "            allowfullscreen\n",
       "        ></iframe>\n",
       "        "
      ],
      "text/plain": [
       "<IPython.lib.display.IFrame at 0x7f48e5594a90>"
      ]
     },
     "execution_count": 59,
     "metadata": {},
     "output_type": "execute_result"
    }
   ],
   "source": [
    "IFrame('HW7_data/short_report.pdf', width=600, height=800)"
   ]
  },
  {
   "cell_type": "markdown",
   "metadata": {},
   "source": [
    "С собранными транскриптами выходит меньше генов (50% покрытых всего 4114 против 5352 генов со средним уровнем экспрессии, если смотреть по $\\text{FPKM}$). Предположительно это происходит неоднородного покрытия и ошибок секвенирования, что приводит к появлению непокрытых участков генов."
   ]
  }
 ],
 "metadata": {
  "kernelspec": {
   "display_name": "Python 3",
   "language": "python",
   "name": "python3"
  },
  "language_info": {
   "codemirror_mode": {
    "name": "ipython",
    "version": 3
   },
   "file_extension": ".py",
   "mimetype": "text/x-python",
   "name": "python",
   "nbconvert_exporter": "python",
   "pygments_lexer": "ipython3",
   "version": "3.8.5"
  },
  "toc": {
   "base_numbering": 1,
   "nav_menu": {},
   "number_sections": false,
   "sideBar": true,
   "skip_h1_title": false,
   "title_cell": "Table of Contents",
   "title_sidebar": "Contents",
   "toc_cell": false,
   "toc_position": {},
   "toc_section_display": true,
   "toc_window_display": false
  },
  "varInspector": {
   "cols": {
    "lenName": 16,
    "lenType": 16,
    "lenVar": 40
   },
   "kernels_config": {
    "python": {
     "delete_cmd_postfix": "",
     "delete_cmd_prefix": "del ",
     "library": "var_list.py",
     "varRefreshCmd": "print(var_dic_list())"
    },
    "r": {
     "delete_cmd_postfix": ") ",
     "delete_cmd_prefix": "rm(",
     "library": "var_list.r",
     "varRefreshCmd": "cat(var_dic_list()) "
    }
   },
   "types_to_exclude": [
    "module",
    "function",
    "builtin_function_or_method",
    "instance",
    "_Feature"
   ],
   "window_display": false
  }
 },
 "nbformat": 4,
 "nbformat_minor": 4
}
