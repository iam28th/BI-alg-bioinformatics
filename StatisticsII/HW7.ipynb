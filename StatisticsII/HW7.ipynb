{
 "cells": [
  {
   "cell_type": "markdown",
   "metadata": {},
   "source": [
    "# 0. Imports & constants"
   ]
  },
  {
   "cell_type": "code",
   "execution_count": 248,
   "metadata": {},
   "outputs": [],
   "source": [
    "import pandas as pd\n",
    "import numpy as np\n",
    "import scipy as sp\n",
    "import scipy.stats\n",
    "import statsmodels.api as sm\n",
    "\n",
    "import matplotlib.pyplot as plt\n",
    "import seaborn as sns\n",
    "from IPython.display import display, Latex\n",
    "\n",
    "from statsmodels.stats.multicomp import pairwise_tukeyhsd\n",
    "\n",
    "ALPHA = 0.05\n",
    "GAMMA = 1 - ALPHA"
   ]
  },
  {
   "cell_type": "markdown",
   "metadata": {},
   "source": [
    "# 1."
   ]
  },
  {
   "cell_type": "code",
   "execution_count": 205,
   "metadata": {},
   "outputs": [
    {
     "data": {
      "text/latex": [
       "Проверки гипотез о коэффициенте корреляции $H_0:\\ r = 0$"
      ],
      "text/plain": [
       "<IPython.core.display.Latex object>"
      ]
     },
     "metadata": {},
     "output_type": "display_data"
    },
    {
     "data": {
      "text/latex": [
       "Признак №1: Значение статистики: 0.035. $p = 0.6686$. $H_0$ не отвергается."
      ],
      "text/plain": [
       "<IPython.core.display.Latex object>"
      ]
     },
     "metadata": {},
     "output_type": "display_data"
    },
    {
     "data": {
      "text/latex": [
       "Признак №2: Значение статистики: 0.009. $p = 0.91086$. $H_0$ не отвергается."
      ],
      "text/plain": [
       "<IPython.core.display.Latex object>"
      ]
     },
     "metadata": {},
     "output_type": "display_data"
    },
    {
     "data": {
      "text/latex": [
       "Признак №3: Значение статистики: 0.026. $p = 0.7487$. $H_0$ не отвергается."
      ],
      "text/plain": [
       "<IPython.core.display.Latex object>"
      ]
     },
     "metadata": {},
     "output_type": "display_data"
    },
    {
     "data": {
      "text/latex": [
       "Признак №4: Значение статистики: -0.049. $p = 0.55219$. $H_0$ не отвергается."
      ],
      "text/plain": [
       "<IPython.core.display.Latex object>"
      ]
     },
     "metadata": {},
     "output_type": "display_data"
    },
    {
     "data": {
      "text/latex": [
       "Признак №5: Значение статистики: 0.126. $p = 0.12392$. $H_0$ не отвергается."
      ],
      "text/plain": [
       "<IPython.core.display.Latex object>"
      ]
     },
     "metadata": {},
     "output_type": "display_data"
    },
    {
     "data": {
      "text/latex": [
       "Признак №6: Значение статистики: 0.024. $p = 0.77282$. $H_0$ не отвергается."
      ],
      "text/plain": [
       "<IPython.core.display.Latex object>"
      ]
     },
     "metadata": {},
     "output_type": "display_data"
    },
    {
     "data": {
      "text/latex": [
       "Признак №7: Значение статистики: -0.12. $p = 0.14475$. $H_0$ не отвергается."
      ],
      "text/plain": [
       "<IPython.core.display.Latex object>"
      ]
     },
     "metadata": {},
     "output_type": "display_data"
    },
    {
     "data": {
      "text/latex": [
       "Признак №8: Значение статистики: 0.077. $p = 0.34728$. $H_0$ не отвергается."
      ],
      "text/plain": [
       "<IPython.core.display.Latex object>"
      ]
     },
     "metadata": {},
     "output_type": "display_data"
    },
    {
     "data": {
      "text/latex": [
       "Признак №9: Значение статистики: 0.056. $p = 0.49809$. $H_0$ не отвергается."
      ],
      "text/plain": [
       "<IPython.core.display.Latex object>"
      ]
     },
     "metadata": {},
     "output_type": "display_data"
    },
    {
     "data": {
      "text/latex": [
       "Признак №10: Значение статистики: -0.153. $p = 0.06139$. $H_0$ не отвергается."
      ],
      "text/plain": [
       "<IPython.core.display.Latex object>"
      ]
     },
     "metadata": {},
     "output_type": "display_data"
    },
    {
     "data": {
      "text/latex": [
       "Признак №11: Значение статистики: -0.041. $p = 0.62128$. $H_0$ не отвергается."
      ],
      "text/plain": [
       "<IPython.core.display.Latex object>"
      ]
     },
     "metadata": {},
     "output_type": "display_data"
    },
    {
     "data": {
      "text/latex": [
       "Признак №12: Значение статистики: 0.041. $p = 0.61782$. $H_0$ не отвергается."
      ],
      "text/plain": [
       "<IPython.core.display.Latex object>"
      ]
     },
     "metadata": {},
     "output_type": "display_data"
    },
    {
     "data": {
      "text/latex": [
       "Признак №13: Значение статистики: 0.035. $p = 0.67422$. $H_0$ не отвергается."
      ],
      "text/plain": [
       "<IPython.core.display.Latex object>"
      ]
     },
     "metadata": {},
     "output_type": "display_data"
    },
    {
     "data": {
      "text/latex": [
       "Признак №14: Значение статистики: 0.105. $p = 0.20123$. $H_0$ не отвергается."
      ],
      "text/plain": [
       "<IPython.core.display.Latex object>"
      ]
     },
     "metadata": {},
     "output_type": "display_data"
    },
    {
     "data": {
      "text/latex": [
       "Признак №15: Значение статистики: -0.23. $p = 0.00457$. $H_0$ отвергается."
      ],
      "text/plain": [
       "<IPython.core.display.Latex object>"
      ]
     },
     "metadata": {},
     "output_type": "display_data"
    },
    {
     "data": {
      "text/latex": [
       "Признак №16: Значение статистики: -0.044. $p = 0.59306$. $H_0$ не отвергается."
      ],
      "text/plain": [
       "<IPython.core.display.Latex object>"
      ]
     },
     "metadata": {},
     "output_type": "display_data"
    },
    {
     "data": {
      "text/latex": [
       "Признак №17: Значение статистики: -0.013. $p = 0.87467$. $H_0$ не отвергается."
      ],
      "text/plain": [
       "<IPython.core.display.Latex object>"
      ]
     },
     "metadata": {},
     "output_type": "display_data"
    },
    {
     "data": {
      "text/latex": [
       "Признак №18: Значение статистики: 0.016. $p = 0.84934$. $H_0$ не отвергается."
      ],
      "text/plain": [
       "<IPython.core.display.Latex object>"
      ]
     },
     "metadata": {},
     "output_type": "display_data"
    },
    {
     "data": {
      "text/latex": [
       "Признак №19: Значение статистики: 0.001. $p = 0.99011$. $H_0$ не отвергается."
      ],
      "text/plain": [
       "<IPython.core.display.Latex object>"
      ]
     },
     "metadata": {},
     "output_type": "display_data"
    },
    {
     "data": {
      "text/latex": [
       "Признак №20: Значение статистики: -0.177. $p = 0.03057$. $H_0$ отвергается."
      ],
      "text/plain": [
       "<IPython.core.display.Latex object>"
      ]
     },
     "metadata": {},
     "output_type": "display_data"
    },
    {
     "data": {
      "text/latex": [
       "Признак №21: Значение статистики: -0.038. $p = 0.64544$. $H_0$ не отвергается."
      ],
      "text/plain": [
       "<IPython.core.display.Latex object>"
      ]
     },
     "metadata": {},
     "output_type": "display_data"
    },
    {
     "data": {
      "text/latex": [
       "Признак №22: Значение статистики: 0.206. $p = 0.01162$. $H_0$ отвергается."
      ],
      "text/plain": [
       "<IPython.core.display.Latex object>"
      ]
     },
     "metadata": {},
     "output_type": "display_data"
    },
    {
     "data": {
      "text/latex": [
       "Признак №23: Значение статистики: 0.02. $p = 0.8095$. $H_0$ не отвергается."
      ],
      "text/plain": [
       "<IPython.core.display.Latex object>"
      ]
     },
     "metadata": {},
     "output_type": "display_data"
    },
    {
     "data": {
      "text/latex": [
       "Признак №24: Значение статистики: -0.01. $p = 0.90719$. $H_0$ не отвергается."
      ],
      "text/plain": [
       "<IPython.core.display.Latex object>"
      ]
     },
     "metadata": {},
     "output_type": "display_data"
    },
    {
     "data": {
      "text/latex": [
       "Признак №25: Значение статистики: 0.003. $p = 0.96745$. $H_0$ не отвергается."
      ],
      "text/plain": [
       "<IPython.core.display.Latex object>"
      ]
     },
     "metadata": {},
     "output_type": "display_data"
    },
    {
     "data": {
      "text/latex": [
       "Признак №26: Значение статистики: 0.004. $p = 0.96467$. $H_0$ не отвергается."
      ],
      "text/plain": [
       "<IPython.core.display.Latex object>"
      ]
     },
     "metadata": {},
     "output_type": "display_data"
    },
    {
     "data": {
      "text/latex": [
       "Признак №27: Значение статистики: -0.011. $p = 0.89421$. $H_0$ не отвергается."
      ],
      "text/plain": [
       "<IPython.core.display.Latex object>"
      ]
     },
     "metadata": {},
     "output_type": "display_data"
    },
    {
     "data": {
      "text/latex": [
       "Признак №28: Значение статистики: -0.132. $p = 0.10857$. $H_0$ не отвергается."
      ],
      "text/plain": [
       "<IPython.core.display.Latex object>"
      ]
     },
     "metadata": {},
     "output_type": "display_data"
    },
    {
     "data": {
      "text/latex": [
       "Признак №29: Значение статистики: -0.054. $p = 0.50823$. $H_0$ не отвергается."
      ],
      "text/plain": [
       "<IPython.core.display.Latex object>"
      ]
     },
     "metadata": {},
     "output_type": "display_data"
    },
    {
     "data": {
      "text/latex": [
       "Признак №30: Значение статистики: 0.039. $p = 0.6344$. $H_0$ не отвергается."
      ],
      "text/plain": [
       "<IPython.core.display.Latex object>"
      ]
     },
     "metadata": {},
     "output_type": "display_data"
    },
    {
     "name": "stdout",
     "output_type": "stream",
     "text": [
      "====================\n",
      "Всего отверглось 3 нулевых гипотез\n"
     ]
    }
   ],
   "source": [
    "np.random.seed(28)\n",
    "\n",
    "n_features = 30\n",
    "sample_size = 150\n",
    "\n",
    "# генерация выборки\n",
    "X = sp.stats.multivariate_normal(mean=[0] * 30).rvs(sample_size)  # вектор средних - 0, единичная ков. матрица\n",
    "Y = sp.stats.norm(0, 1).rvs(sample_size)\n",
    "\n",
    "display(Latex('Проверки гипотез о коэффициенте корреляции $H_0:\\ r = 0$'))\n",
    "denied = 0\n",
    "for i in range(n_features):\n",
    "    \n",
    "    r, pvalue = sp.stats.pearsonr(X[:, i], Y)\n",
    "    r = round(r, 3)\n",
    "    pvalue = round(pvalue, 5)\n",
    "    template = rf\"Признак №{i+1}: Значение статистики: {r}. $p = {pvalue}$. \"\n",
    "    if pvalue < ALPHA:\n",
    "        template += '$H_0$ отвергается.'\n",
    "        denied += 1\n",
    "    else:\n",
    "        template += '$H_0$ не отвергается.'\n",
    "    display(Latex(template))\n",
    "print('=' * 20)\n",
    "print(f'Всего отверглось {denied} нулевых гипотез')"
   ]
  },
  {
   "cell_type": "code",
   "execution_count": 206,
   "metadata": {},
   "outputs": [],
   "source": [
    "# добавить колонку единиц\n",
    "tmp = np.ones(shape=(sample_size, n_features+1))\n",
    "tmp[:, 1:] = X\n",
    "X = tmp\n",
    "del tmp"
   ]
  },
  {
   "cell_type": "code",
   "execution_count": 210,
   "metadata": {},
   "outputs": [
    {
     "name": "stdout",
     "output_type": "stream",
     "text": [
      "0.95-квантиль распределения Фишера: 1.554\n",
      "Граница доверительной области: 0.382\n",
      "Значение статистики: 33.077\n",
      "p = 0.0\n"
     ]
    }
   ],
   "source": [
    "# МНК-оценки\n",
    "beta = np.linalg.lstsq(X, Y, rcond=None)[0]\n",
    "s2 = (Y - X @ beta).T @ (Y - X @ beta) / (sample_size - n_features - 1)\n",
    "\n",
    "distr = sp.stats.f(n_features, sample_size - n_features)\n",
    "f95 = distr.ppf(GAMMA)\n",
    "print(f'0.95-квантиль распределения Фишера: {round(f95, 3)}')\n",
    "\n",
    "Tcrit = n_features / (sample_size - n_features) * s2 * f95\n",
    "print(f'Граница доверительной области: {round(Tcrit, 3)}')\n",
    "\n",
    "T = beta.T @ (X.T @ X) @ beta\n",
    "print(f'Значение статистики: {round(T, 3)}')\n",
    "\n",
    "pval = 1 - distr.cdf(T)\n",
    "print(f'p = {round(pval, 5)}')"
   ]
  },
  {
   "cell_type": "markdown",
   "metadata": {},
   "source": [
    "Гипотеза о равенстве 0 коэффициентов регрессии отвергается...\n",
    "Предположительно тоже вследствие большого числа регрессоров."
   ]
  },
  {
   "cell_type": "code",
   "execution_count": 220,
   "metadata": {},
   "outputs": [
    {
     "name": "stdout",
     "output_type": "stream",
     "text": [
      "====\n",
      "Берём первые 3 признаков\n",
      "0.95-квантиль распределения Фишера: 2.666\n",
      "Граница доверительной области: 0.056\n",
      "Значение статистики: 0.285\n",
      "p = 0.83629\n",
      "====\n",
      "Берём первые 4 признаков\n",
      "0.95-квантиль распределения Фишера: 2.434\n",
      "Граница доверительной области: 0.069\n",
      "Значение статистики: 0.601\n",
      "p = 0.6624\n",
      "====\n",
      "Берём первые 5 признаков\n",
      "0.95-квантиль распределения Фишера: 2.277\n",
      "Граница доверительной области: 0.08\n",
      "Значение статистики: 2.664\n",
      "p = 0.02458\n"
     ]
    }
   ],
   "source": [
    "for k in (3, 4, 5):\n",
    "    print('====')\n",
    "    print(f'Берём первые {k} признаков')\n",
    "    tmp = X[:, :k+1]\n",
    "    beta = np.linalg.lstsq(tmp, Y, rcond=None)[0]\n",
    "    s2 = (Y - tmp @ beta).T @ (Y - tmp @ beta) / (sample_size - k - 1)\n",
    "\n",
    "    distr = sp.stats.f(k, sample_size -k)\n",
    "    f95 = distr.ppf(GAMMA)\n",
    "    print(f'0.95-квантиль распределения Фишера: {round(f95, 3)}')\n",
    "\n",
    "    Tcrit = k / (sample_size -k) * s2 * f95\n",
    "    print(f'Граница доверительной области: {round(Tcrit, 3)}')\n",
    "\n",
    "    T = beta.T @ (tmp.T @ tmp) @ beta\n",
    "    print(f'Значение статистики: {round(T, 3)}')\n",
    "\n",
    "    pval = 1 - distr.cdf(T)\n",
    "    print(f'p = {round(pval, 5)}')"
   ]
  },
  {
   "cell_type": "markdown",
   "metadata": {},
   "source": [
    "p-value резко падает, как только добавляется признак с относительно высокой корелляцией (0.126 для 5-го признака)."
   ]
  },
  {
   "cell_type": "markdown",
   "metadata": {},
   "source": [
    "# 2.\n"
   ]
  },
  {
   "cell_type": "code",
   "execution_count": 240,
   "metadata": {},
   "outputs": [],
   "source": [
    "# генерация выборки\n",
    "np.random.seed(28)\n",
    "\n",
    "n_samples = 100\n",
    "sample_size = 50\n",
    "\n",
    "distr = sp.stats.norm(0, 1)\n",
    "samples = []\n",
    "for i in range(n_samples):\n",
    "    samples.append(distr.rvs(size=sample_size))"
   ]
  },
  {
   "cell_type": "markdown",
   "metadata": {},
   "source": [
    "### a, b)"
   ]
  },
  {
   "cell_type": "code",
   "execution_count": 241,
   "metadata": {},
   "outputs": [
    {
     "name": "stdout",
     "output_type": "stream",
     "text": [
      "Без поправки:\n"
     ]
    },
    {
     "data": {
      "text/latex": [
       "$\\alpha = 0.05$, отвергнуто $3$ гипотез"
      ],
      "text/plain": [
       "<IPython.core.display.Latex object>"
      ]
     },
     "metadata": {},
     "output_type": "display_data"
    },
    {
     "name": "stdout",
     "output_type": "stream",
     "text": [
      "Поправка Бонферрони:\n"
     ]
    },
    {
     "data": {
      "text/latex": [
       "$\\alpha = 0.0005$, отвергнуто $0$ гипотез"
      ],
      "text/plain": [
       "<IPython.core.display.Latex object>"
      ]
     },
     "metadata": {},
     "output_type": "display_data"
    },
    {
     "name": "stdout",
     "output_type": "stream",
     "text": [
      "Поправка Зидака:\n"
     ]
    },
    {
     "data": {
      "text/latex": [
       "$\\alpha = 0.000513$, отвергнуто $0$ гипотез"
      ],
      "text/plain": [
       "<IPython.core.display.Latex object>"
      ]
     },
     "metadata": {},
     "output_type": "display_data"
    }
   ],
   "source": [
    "labels = ['Без поправки', 'Поправка Бонферрони', \"Поправка Зидака\"]\n",
    "alphas = [ALPHA, ALPHA / n_samples, 1 - (1 - ALPHA)**(1 / n_samples)]\n",
    "\n",
    "for alpha, label in zip(alphas, labels):\n",
    "    rejected = 0\n",
    "    for X in samples:\n",
    "        T, pvalue = sp.stats.ttest_1samp(X, 0)\n",
    "        if pvalue < alpha:\n",
    "            rejected += 1\n",
    "    print(label + ':') # f'отвергнуто {rejected} гипотез') \n",
    "    display(Latex(rf'$\\alpha = {round(alpha, 6)}$, отвергнуто ${rejected}$ гипотез'))"
   ]
  },
  {
   "cell_type": "markdown",
   "metadata": {},
   "source": [
    "### c)"
   ]
  },
  {
   "cell_type": "code",
   "execution_count": 247,
   "metadata": {},
   "outputs": [
    {
     "name": "stdout",
     "output_type": "stream",
     "text": [
      "Без поправки:\n"
     ]
    },
    {
     "data": {
      "text/latex": [
       "$\\alpha = 0.05$, отвергнуто $229$ гипотез"
      ],
      "text/plain": [
       "<IPython.core.display.Latex object>"
      ]
     },
     "metadata": {},
     "output_type": "display_data"
    },
    {
     "name": "stdout",
     "output_type": "stream",
     "text": [
      "Поправка Бонферрони:\n"
     ]
    },
    {
     "data": {
      "text/latex": [
       "$\\alpha = 1.01e-05$, отвергнуто $0$ гипотез"
      ],
      "text/plain": [
       "<IPython.core.display.Latex object>"
      ]
     },
     "metadata": {},
     "output_type": "display_data"
    }
   ],
   "source": [
    "labels = ['Без поправки', 'Поправка Бонферрони',] \n",
    "\n",
    "# всего гипотез:\n",
    "m = n_samples * (n_samples - 1) / 2\n",
    "\n",
    "alphas = [ALPHA, ALPHA / m,] \n",
    "\n",
    "for alpha, label in zip(alphas, labels):\n",
    "    rejected = 0\n",
    "    total = 0\n",
    "    for i in range(n_samples):\n",
    "        for j in range(i, n_samples):\n",
    "            total += 1\n",
    "            X1, X2 = samples[i], samples[j]\n",
    "            T, pvalue = sp.stats.ttest_ind(X1, X2)\n",
    "            if pvalue < alpha:\n",
    "                rejected += 1\n",
    "    print(label + ':') # f'отвергнуто {rejected} гипотез') \n",
    "    display(Latex(rf'$\\alpha = {round(alpha, 7)}$, отвергнуто ${rejected}$ гипотез'))"
   ]
  },
  {
   "cell_type": "markdown",
   "metadata": {},
   "source": [
    "### d)"
   ]
  },
  {
   "cell_type": "code",
   "execution_count": 263,
   "metadata": {},
   "outputs": [
    {
     "data": {
      "text/html": [
       "<div>\n",
       "<style scoped>\n",
       "    .dataframe tbody tr th:only-of-type {\n",
       "        vertical-align: middle;\n",
       "    }\n",
       "\n",
       "    .dataframe tbody tr th {\n",
       "        vertical-align: top;\n",
       "    }\n",
       "\n",
       "    .dataframe thead th {\n",
       "        text-align: right;\n",
       "    }\n",
       "</style>\n",
       "<table border=\"1\" class=\"dataframe\">\n",
       "  <thead>\n",
       "    <tr style=\"text-align: right;\">\n",
       "      <th></th>\n",
       "      <th>value</th>\n",
       "      <th>group</th>\n",
       "    </tr>\n",
       "  </thead>\n",
       "  <tbody>\n",
       "    <tr>\n",
       "      <th>0</th>\n",
       "      <td>0.446332</td>\n",
       "      <td>0</td>\n",
       "    </tr>\n",
       "    <tr>\n",
       "      <th>1</th>\n",
       "      <td>1.669120</td>\n",
       "      <td>0</td>\n",
       "    </tr>\n",
       "    <tr>\n",
       "      <th>2</th>\n",
       "      <td>-0.264280</td>\n",
       "      <td>0</td>\n",
       "    </tr>\n",
       "    <tr>\n",
       "      <th>3</th>\n",
       "      <td>-0.967835</td>\n",
       "      <td>0</td>\n",
       "    </tr>\n",
       "    <tr>\n",
       "      <th>4</th>\n",
       "      <td>0.059188</td>\n",
       "      <td>0</td>\n",
       "    </tr>\n",
       "    <tr>\n",
       "      <th>...</th>\n",
       "      <td>...</td>\n",
       "      <td>...</td>\n",
       "    </tr>\n",
       "    <tr>\n",
       "      <th>4995</th>\n",
       "      <td>-0.617671</td>\n",
       "      <td>99</td>\n",
       "    </tr>\n",
       "    <tr>\n",
       "      <th>4996</th>\n",
       "      <td>0.297020</td>\n",
       "      <td>99</td>\n",
       "    </tr>\n",
       "    <tr>\n",
       "      <th>4997</th>\n",
       "      <td>-1.120810</td>\n",
       "      <td>99</td>\n",
       "    </tr>\n",
       "    <tr>\n",
       "      <th>4998</th>\n",
       "      <td>-1.531461</td>\n",
       "      <td>99</td>\n",
       "    </tr>\n",
       "    <tr>\n",
       "      <th>4999</th>\n",
       "      <td>0.061266</td>\n",
       "      <td>99</td>\n",
       "    </tr>\n",
       "  </tbody>\n",
       "</table>\n",
       "<p>5000 rows × 2 columns</p>\n",
       "</div>"
      ],
      "text/plain": [
       "         value  group\n",
       "0     0.446332      0\n",
       "1     1.669120      0\n",
       "2    -0.264280      0\n",
       "3    -0.967835      0\n",
       "4     0.059188      0\n",
       "...        ...    ...\n",
       "4995 -0.617671     99\n",
       "4996  0.297020     99\n",
       "4997 -1.120810     99\n",
       "4998 -1.531461     99\n",
       "4999  0.061266     99\n",
       "\n",
       "[5000 rows x 2 columns]"
      ]
     },
     "execution_count": 263,
     "metadata": {},
     "output_type": "execute_result"
    }
   ],
   "source": [
    "# подогнать данные под нужный statsmodels формат\n",
    "observations = []\n",
    "for i, X in enumerate(samples):\n",
    "    for x in X:\n",
    "        observations.append({'value': x, 'group': i})\n",
    "df = pd.DataFrame(observations)\n",
    "df"
   ]
  },
  {
   "cell_type": "code",
   "execution_count": 279,
   "metadata": {},
   "outputs": [
    {
     "data": {
      "text/latex": [
       "Тест Тьюки, $\\alpha = 0.05$; отклонено 0 гипотез."
      ],
      "text/plain": [
       "<IPython.core.display.Latex object>"
      ]
     },
     "metadata": {},
     "output_type": "display_data"
    }
   ],
   "source": [
    "tukey = pairwise_tukeyhsd(endog=df['value'], groups=df['group'], alpha=ALPHA)\n",
    "display(Latex(fr'Тест Тьюки, $\\alpha = {ALPHA}$; отклонено {sum(tukey.reject)} гипотез.'))"
   ]
  },
  {
   "cell_type": "markdown",
   "metadata": {},
   "source": [
    "# 3."
   ]
  },
  {
   "cell_type": "code",
   "execution_count": 280,
   "metadata": {},
   "outputs": [],
   "source": [
    "# генерация выборки\n",
    "np.random.seed(28)\n",
    "\n",
    "n_samples = 100\n",
    "sample_size = 50\n",
    "\n",
    "samples = []\n",
    "for i in range(n_samples):\n",
    "    distr = sp.stats.norm(-1 + 2 * i / 99)\n",
    "    samples.append(distr.rvs(size=sample_size))"
   ]
  },
  {
   "cell_type": "code",
   "execution_count": 292,
   "metadata": {},
   "outputs": [
    {
     "name": "stdout",
     "output_type": "stream",
     "text": [
      "====================\n",
      "a, b) Гипотезы о равенстве нулю среднего\n",
      "Без поправки:\n"
     ]
    },
    {
     "data": {
      "text/latex": [
       "$\\alpha = 0.05$, отвергнуто $75$ гипотез"
      ],
      "text/plain": [
       "<IPython.core.display.Latex object>"
      ]
     },
     "metadata": {},
     "output_type": "display_data"
    },
    {
     "name": "stdout",
     "output_type": "stream",
     "text": [
      "Поправка Бонферрони:\n"
     ]
    },
    {
     "data": {
      "text/latex": [
       "$\\alpha = 0.0005$, отвергнуто $45$ гипотез"
      ],
      "text/plain": [
       "<IPython.core.display.Latex object>"
      ]
     },
     "metadata": {},
     "output_type": "display_data"
    },
    {
     "name": "stdout",
     "output_type": "stream",
     "text": [
      "Поправка Зидака:\n"
     ]
    },
    {
     "data": {
      "text/latex": [
       "$\\alpha = 0.000513$, отвергнуто $45$ гипотез"
      ],
      "text/plain": [
       "<IPython.core.display.Latex object>"
      ]
     },
     "metadata": {},
     "output_type": "display_data"
    },
    {
     "name": "stdout",
     "output_type": "stream",
     "text": [
      "====================\n",
      "c) Гипотезы о равенстве средних для всех пар\n",
      "Без поправки:\n"
     ]
    },
    {
     "data": {
      "text/latex": [
       "$\\alpha = 0.05$, отвергнуто $3329$ гипотез"
      ],
      "text/plain": [
       "<IPython.core.display.Latex object>"
      ]
     },
     "metadata": {},
     "output_type": "display_data"
    },
    {
     "name": "stdout",
     "output_type": "stream",
     "text": [
      "Поправка Бонферрони:\n"
     ]
    },
    {
     "data": {
      "text/latex": [
       "$\\alpha = 1.01e-05$, отвергнуто $1522$ гипотез"
      ],
      "text/plain": [
       "<IPython.core.display.Latex object>"
      ]
     },
     "metadata": {},
     "output_type": "display_data"
    },
    {
     "name": "stdout",
     "output_type": "stream",
     "text": [
      "====================\n",
      "d) Гипотезы о равенстве средних для всех пар - тест Тьюки\n"
     ]
    },
    {
     "data": {
      "text/latex": [
       "Тест Тьюки, $\\alpha = 0.05$; отклонено 1704 гипотез."
      ],
      "text/plain": [
       "<IPython.core.display.Latex object>"
      ]
     },
     "metadata": {},
     "output_type": "display_data"
    }
   ],
   "source": [
    "border = 20  # число разделающих символов при выводе\n",
    "print('=' * border)\n",
    "\n",
    " \n",
    "print('a, b) Гипотезы о равенстве нулю среднего')\n",
    "labels = ['Без поправки', 'Поправка Бонферрони', \"Поправка Зидака\"]\n",
    "alphas = [ALPHA, ALPHA / n_samples, 1 - (1 - ALPHA)**(1 / n_samples)]\n",
    "\n",
    "for alpha, label in zip(alphas, labels):\n",
    "    rejected = 0\n",
    "    for X in samples:\n",
    "        T, pvalue = sp.stats.ttest_1samp(X, 0)\n",
    "        if pvalue < alpha:\n",
    "            rejected += 1\n",
    "    print(label + ':') # f'отвергнуто {rejected} гипотез') \n",
    "    display(Latex(rf'$\\alpha = {round(alpha, 6)}$, отвергнуто ${rejected}$ гипотез'))\n",
    "print('=' * border)\n",
    "    \n",
    "    \n",
    "print('c) Гипотезы о равенстве средних для всех пар')\n",
    "labels = ['Без поправки', 'Поправка Бонферрони',] \n",
    "# всего гипотез:\n",
    "m = n_samples * (n_samples - 1) / 2\n",
    "\n",
    "alphas = [ALPHA, ALPHA / m,] \n",
    "\n",
    "for alpha, label in zip(alphas, labels):\n",
    "    rejected = 0\n",
    "    total = 0\n",
    "    for i in range(n_samples):\n",
    "        for j in range(i, n_samples):\n",
    "            total += 1\n",
    "            X1, X2 = samples[i], samples[j]\n",
    "            T, pvalue = sp.stats.ttest_ind(X1, X2)\n",
    "            if pvalue < alpha:\n",
    "                rejected += 1\n",
    "    print(label + ':') # f'отвергнуто {rejected} гипотез') \n",
    "    display(Latex(rf'$\\alpha = {round(alpha, 7)}$, отвергнуто ${rejected}$ гипотез'))\n",
    "print('=' * border)\n",
    "    \n",
    "\n",
    "print('d) Гипотезы о равенстве средних для всех пар - тест Тьюки')\n",
    "observations = []\n",
    "for i, X in enumerate(samples):\n",
    "    for x in X:\n",
    "        observations.append({'value': x, 'group': i})\n",
    "df = pd.DataFrame(observations)\n",
    "tukey = pairwise_tukeyhsd(endog=df['value'], groups=df['group'], alpha=ALPHA)\n",
    "display(Latex(fr'Тест Тьюки, $\\alpha = {ALPHA}$; отклонено {sum(tukey.reject)} гипотез.'))"
   ]
  },
  {
   "cell_type": "markdown",
   "metadata": {},
   "source": [
    "# 4."
   ]
  },
  {
   "cell_type": "code",
   "execution_count": 369,
   "metadata": {},
   "outputs": [
    {
     "data": {
      "image/png": "[encoded data removed]",
      "text/plain": [
       "<Figure size 432x288 with 1 Axes>"
      ]
     },
     "metadata": {
      "needs_background": "light"
     },
     "output_type": "display_data"
    }
   ],
   "source": [
    "# генерация выборки\n",
    "np.random.seed(28)\n",
    "lam = 7\n",
    "X = np.random.exponential(scale=1/lam, size=400)\n",
    "\n",
    "bins = np.arange(0, 3, 0.1)\n",
    "hist, edges = np.histogram(X, bins)\n",
    "freq = hist/float(hist.sum())\n",
    "\n",
    "plt.bar(bins[:-1],freq, width=0.04, align=\"edge\", ec=\"k\" )\n",
    "tmp = np.linspace(0, 2)\n",
    "plt.grid()\n",
    "plt.show()"
   ]
  },
  {
   "cell_type": "code",
   "execution_count": 385,
   "metadata": {},
   "outputs": [
    {
     "name": "stdout",
     "output_type": "stream",
     "text": [
      "Алгоритм Хольма: отвергнуто 0 гипотез\n"
     ]
    }
   ],
   "source": [
    "def F_H0(x, lam=6):\n",
    "    return np.where(x >= 0, 1 - np.exp(-lam * x), 0) \n",
    "\n",
    "m = 398  # количество гипотез\n",
    "\n",
    "# независимая проверка гипотез\n",
    "results = []\n",
    "for i in range(398):\n",
    "    subsample = X[i:]\n",
    "    T, pval = sp.stats.kstest(subsample, F_H0)\n",
    "    results.append((i+1, pval))\n",
    "    \n",
    "# Алгоритм Хольма\n",
    "rejected = 0\n",
    "results.sort(key=lambda x: x[1])\n",
    "for i, res in enumerate(results):\n",
    "    hypothesis_number, pval = res\n",
    "    if pval < ALPHA / (m - i):\n",
    "        rejected += 1\n",
    "    else:\n",
    "        break\n",
    "print(f'Алгоритм Хольма: отвергнуто {rejected} гипотез')"
   ]
  },
  {
   "cell_type": "code",
   "execution_count": 389,
   "metadata": {},
   "outputs": [
    {
     "data": {
      "text/plain": [
       "False"
      ]
     },
     "execution_count": 389,
     "metadata": {},
     "output_type": "execute_result"
    }
   ],
   "source": [
    "results[0][1] < ALPHA / m"
   ]
  },
  {
   "cell_type": "code",
   "execution_count": 393,
   "metadata": {},
   "outputs": [
    {
     "data": {
      "text/plain": [
       "(95, 0.008774287750466568)"
      ]
     },
     "execution_count": 393,
     "metadata": {},
     "output_type": "execute_result"
    }
   ],
   "source": [
    "results[0]"
   ]
  },
  {
   "cell_type": "code",
   "execution_count": 395,
   "metadata": {},
   "outputs": [
    {
     "data": {
      "text/plain": [
       "0.00013"
      ]
     },
     "execution_count": 395,
     "metadata": {},
     "output_type": "execute_result"
    }
   ],
   "source": [
    "p_adj = ALPHA / m\n",
    "round(p_adj, 5)"
   ]
  },
  {
   "cell_type": "markdown",
   "metadata": {},
   "source": [
    "Видно, для всех гипотез $p$ не ниже, чем $0.05$ с поправкой Бонферрони  (поскольку этот порог не проходит наименьшее из $p$-значений), т.е. ни одна гипотеза не отвергнется (что можно частично объяснить консервативностью критерия)."
   ]
  }
 ],
 "metadata": {
  "kernelspec": {
   "display_name": "Python 3",
   "language": "python",
   "name": "python3"
  },
  "language_info": {
   "codemirror_mode": {
    "name": "ipython",
    "version": 3
   },
   "file_extension": ".py",
   "mimetype": "text/x-python",
   "name": "python",
   "nbconvert_exporter": "python",
   "pygments_lexer": "ipython3",
   "version": "3.8.5"
  },
  "toc": {
   "base_numbering": 1,
   "nav_menu": {},
   "number_sections": false,
   "sideBar": true,
   "skip_h1_title": false,
   "title_cell": "Table of Contents",
   "title_sidebar": "Contents",
   "toc_cell": false,
   "toc_position": {},
   "toc_section_display": true,
   "toc_window_display": true
  },
  "varInspector": {
   "cols": {
    "lenName": 16,
    "lenType": 16,
    "lenVar": 40
   },
   "kernels_config": {
    "python": {
     "delete_cmd_postfix": "",
     "delete_cmd_prefix": "del ",
     "library": "var_list.py",
     "varRefreshCmd": "print(var_dic_list())"
    },
    "r": {
     "delete_cmd_postfix": ") ",
     "delete_cmd_prefix": "rm(",
     "library": "var_list.r",
     "varRefreshCmd": "cat(var_dic_list()) "
    }
   },
   "types_to_exclude": [
    "module",
    "function",
    "builtin_function_or_method",
    "instance",
    "_Feature"
   ],
   "window_display": false
  }
 },
 "nbformat": 4,
 "nbformat_minor": 4
}
