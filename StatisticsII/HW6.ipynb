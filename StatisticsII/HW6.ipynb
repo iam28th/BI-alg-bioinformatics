{
 "cells": [
  {
   "cell_type": "code",
   "execution_count": 1,
   "metadata": {},
   "outputs": [],
   "source": [
    "from IPython.display import display, Image"
   ]
  },
  {
   "cell_type": "markdown",
   "metadata": {},
   "source": [
    "# 1."
   ]
  },
  {
   "cell_type": "code",
   "execution_count": 2,
   "metadata": {},
   "outputs": [
    {
     "data": {
      "text/html": [
       "<img src=\"https://sun9-32.userapi.com/impf/N0ud5w9Y-zZUkHJl0RMZkNsFS1n6AWUkelaeRg/rTBBiE3LaTk.jpg?size=807x1080&quality=96&sign=9514d2bbce05537cc6dc557d7f489034&type=album\" width=\"500\"/>"
      ],
      "text/plain": [
       "<IPython.core.display.Image object>"
      ]
     },
     "execution_count": 2,
     "metadata": {},
     "output_type": "execute_result"
    }
   ],
   "source": [
    "Image(url='https://sun9-32.userapi.com/impf/N0ud5w9Y-zZUkHJl0RMZkNsFS1n6AWUkelaeRg/rTBBiE3LaTk.jpg?size=807x1080&quality=96&sign=9514d2bbce05537cc6dc557d7f489034&type=album',\n",
    "     width=500)"
   ]
  },
  {
   "cell_type": "markdown",
   "metadata": {},
   "source": [
    "# 2."
   ]
  },
  {
   "cell_type": "code",
   "execution_count": 3,
   "metadata": {},
   "outputs": [
    {
     "data": {
      "text/html": [
       "<img src=\"https://sun9-62.userapi.com/impf/lIwmlmjZ08HM-9UvBOt7ep8JDkAohx1yqSDadg/x5t61bUwFLY.jpg?size=807x1080&quality=96&sign=0d5f07ea26441ed2d193f95c9070c515&type=album\" width=\"500\"/>"
      ],
      "text/plain": [
       "<IPython.core.display.Image object>"
      ]
     },
     "execution_count": 3,
     "metadata": {},
     "output_type": "execute_result"
    }
   ],
   "source": [
    "Image(url='https://sun9-62.userapi.com/impf/lIwmlmjZ08HM-9UvBOt7ep8JDkAohx1yqSDadg/x5t61bUwFLY.jpg?size=807x1080&quality=96&sign=0d5f07ea26441ed2d193f95c9070c515&type=album',\n",
    "     width=500)"
   ]
  },
  {
   "cell_type": "markdown",
   "metadata": {},
   "source": [
    "# 3, 4."
   ]
  },
  {
   "cell_type": "code",
   "execution_count": 4,
   "metadata": {},
   "outputs": [
    {
     "data": {
      "text/html": [
       "<img src=\"https://sun9-28.userapi.com/impf/r96bXreUO-DavQVMDuJT3TbL8R_DoVa067uJsg/jVB3l1rypqA.jpg?size=807x1080&quality=96&sign=ab70bd3a3e2407a7a576af4e4c0bf586&type=album\" width=\"500\"/>"
      ],
      "text/plain": [
       "<IPython.core.display.Image object>"
      ]
     },
     "execution_count": 4,
     "metadata": {},
     "output_type": "execute_result"
    }
   ],
   "source": [
    "Image(url='https://sun9-28.userapi.com/impf/r96bXreUO-DavQVMDuJT3TbL8R_DoVa067uJsg/jVB3l1rypqA.jpg?size=807x1080&quality=96&sign=ab70bd3a3e2407a7a576af4e4c0bf586&type=album',\n",
    "     width=500)"
   ]
  },
  {
   "cell_type": "markdown",
   "metadata": {},
   "source": [
    "# 5, 6"
   ]
  },
  {
   "cell_type": "code",
   "execution_count": 6,
   "metadata": {},
   "outputs": [
    {
     "data": {
      "text/html": [
       "<img src=\"https://sun9-17.userapi.com/impf/jJoUMRKcHG95i3RlmsraL8krmSXEK6QXjViYaQ/3ua5fyvrDp4.jpg?size=807x1080&quality=96&sign=7dae1e370ae3c0c4f7dc7888e4ed26ec&type=album\" width=\"500\"/>"
      ],
      "text/plain": [
       "<IPython.core.display.Image object>"
      ]
     },
     "metadata": {},
     "output_type": "display_data"
    },
    {
     "data": {
      "text/html": [
       "<img src=\"https://sun9-49.userapi.com/impf/Q6OICoN09CBMce8hykuxgocWOfAJRJTe0KyrCQ/zE4oB2gaWrc.jpg?size=807x1080&quality=96&sign=71fae5ea73e186e848809d33ae5a77d8&type=album\" width=\"500\"/>"
      ],
      "text/plain": [
       "<IPython.core.display.Image object>"
      ]
     },
     "execution_count": 6,
     "metadata": {},
     "output_type": "execute_result"
    }
   ],
   "source": [
    "display(Image(\n",
    "    url='https://sun9-17.userapi.com/impf/jJoUMRKcHG95i3RlmsraL8krmSXEK6QXjViYaQ/3ua5fyvrDp4.jpg?size=807x1080&quality=96&sign=7dae1e370ae3c0c4f7dc7888e4ed26ec&type=album',\n",
    "    width=500\n",
    "))\n",
    "Image(url='https://sun9-49.userapi.com/impf/Q6OICoN09CBMce8hykuxgocWOfAJRJTe0KyrCQ/zE4oB2gaWrc.jpg?size=807x1080&quality=96&sign=71fae5ea73e186e848809d33ae5a77d8&type=album',\n",
    "     width=500)"
   ]
  },
  {
   "cell_type": "markdown",
   "metadata": {},
   "source": [
    "# 7."
   ]
  },
  {
   "cell_type": "code",
   "execution_count": 8,
   "metadata": {},
   "outputs": [
    {
     "data": {
      "text/html": [
       "<img src=\"https://sun9-23.userapi.com/impf/XaAMyHTaRjn09irYOcA3NX5NsJmI9fc0gZcwAg/cwwRX9LniSk.jpg?size=807x1080&quality=96&sign=41de7048ca8455ad8cde3a87a1cb53ca&type=album\" width=\"500\"/>"
      ],
      "text/plain": [
       "<IPython.core.display.Image object>"
      ]
     },
     "execution_count": 8,
     "metadata": {},
     "output_type": "execute_result"
    }
   ],
   "source": [
    "Image(url='https://sun9-23.userapi.com/impf/XaAMyHTaRjn09irYOcA3NX5NsJmI9fc0gZcwAg/cwwRX9LniSk.jpg?size=807x1080&quality=96&sign=41de7048ca8455ad8cde3a87a1cb53ca&type=album',\n",
    "     width=500)"
   ]
  }
 ],
 "metadata": {
  "kernelspec": {
   "display_name": "Python 3",
   "language": "python",
   "name": "python3"
  },
  "language_info": {
   "codemirror_mode": {
    "name": "ipython",
    "version": 3
   },
   "file_extension": ".py",
   "mimetype": "text/x-python",
   "name": "python",
   "nbconvert_exporter": "python",
   "pygments_lexer": "ipython3",
   "version": "3.8.5"
  },
  "toc": {
   "base_numbering": 1,
   "nav_menu": {},
   "number_sections": false,
   "sideBar": true,
   "skip_h1_title": false,
   "title_cell": "Table of Contents",
   "title_sidebar": "Contents",
   "toc_cell": false,
   "toc_position": {},
   "toc_section_display": true,
   "toc_window_display": false
  },
  "varInspector": {
   "cols": {
    "lenName": 16,
    "lenType": 16,
    "lenVar": 40
   },
   "kernels_config": {
    "python": {
     "delete_cmd_postfix": "",
     "delete_cmd_prefix": "del ",
     "library": "var_list.py",
     "varRefreshCmd": "print(var_dic_list())"
    },
    "r": {
     "delete_cmd_postfix": ") ",
     "delete_cmd_prefix": "rm(",
     "library": "var_list.r",
     "varRefreshCmd": "cat(var_dic_list()) "
    }
   },
   "types_to_exclude": [
    "module",
    "function",
    "builtin_function_or_method",
    "instance",
    "_Feature"
   ],
   "window_display": false
  }
 },
 "nbformat": 4,
 "nbformat_minor": 4
}
