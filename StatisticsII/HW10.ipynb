{
 "cells": [
  {
   "cell_type": "code",
   "execution_count": 51,
   "metadata": {},
   "outputs": [],
   "source": [
    "from functools import partial\n",
    "\n",
    "import numpy as np\n",
    "import scipy as sp\n",
    "import scipy.stats\n",
    "\n",
    "from sympy import symbols, integrate, solve\n",
    "\n",
    "from tqdm import tqdm, trange\n",
    "import matplotlib.pyplot as plt\n",
    "import seaborn as sns"
   ]
  },
  {
   "cell_type": "markdown",
   "metadata": {},
   "source": [
    "# 1.\n",
    "Чтобы получить одну реализацию искомой СВ $\\xi$, сперва генерируем выборку из распределения параметра $\\theta$ нужного размера. Затем для каждого значения параметра генерируем по одной реализации из соответствующего геометрического распределения."
   ]
  },
  {
   "cell_type": "markdown",
   "metadata": {},
   "source": [
    "## a)\n",
    "$$\n",
    "\\mathcal P = U\\left\\{ \\frac{0}{n}, \\frac{1}{n}, \\ldots, \\frac{n}{n}\\right\\}\n",
    "\\\\   \\Rightarrow P(\\xi = k) = \\int \\mathcal \\theta^k (1 - \\theta ) d \\mathcal P(\\theta) = \n",
    "\\sum_{\\tau \\in \\left\\{ \\frac{0}{n}, \\frac{1}{n}, \\ldots, \\frac{n}{n}\\right\\}}\n",
    "\\tau^k (1 - \\tau) P \\{\\theta = \\tau\\} = \n",
    "\\frac{1}{n + 1} \\cdot\n",
    "\\sum_{\\tau \\in \\left\\{ \\frac{0}{n}, \\frac{1}{n}, \\ldots, \\frac{n}{n}\\right\\}}\n",
    "\\tau^k (1 - \\tau)\n",
    "$$\n",
    "Можно посчитать вероятности для первых условно 200 значений (вероятность \"хвоста\" получается пренебрежимо малой), отнормировать эти вероятности, затем воспользоваться предложенным на давней лекции алгоритмом: генерировать $\\eta \\sim U(0, 1)$, и возвращать такое значение $\\xi$, значение функции вероятности для которого является ближайшим снизу из допустимых."
   ]
  },
  {
   "cell_type": "code",
   "execution_count": 46,
   "metadata": {},
   "outputs": [
    {
     "data": {
      "image/png": "[encoded data removed]",
      "text/plain": [
       "<Figure size 432x288 with 1 Axes>"
      ]
     },
     "metadata": {
      "needs_background": "light"
     },
     "output_type": "display_data"
    }
   ],
   "source": [
    "np.random.seed(0)\n",
    "\n",
    "n = 20\n",
    "theta_values = np.array([i / n for i in range(0, n + 1)])\n",
    "def P_ksi(k):\n",
    "    \"\"\"Возвращает вероятность того, что ksi = k\"\"\"\n",
    "    prob = 0\n",
    "    for tau in theta_values:\n",
    "        prob += tau ** k * (1 - tau)\n",
    "    return prob / (n + 1)\n",
    "\n",
    "probability = np.array([P_ksi(i) for i in range(200)])\n",
    "probability /= np.sum(probability)\n",
    "cdf = np.cumsum(probability)\n",
    "\n",
    "N = 200  # объём выборки\n",
    "sample = np.zeros(N)\n",
    "distr = sp.stats.uniform(0, 1)\n",
    "for i in range(N):\n",
    "    eta = distr.rvs()\n",
    "    sample[i] = np.searchsorted(cdf, eta)\n",
    "    \n",
    "sns.histplot(sample);"
   ]
  },
  {
   "cell_type": "markdown",
   "metadata": {},
   "source": [
    "## b)\n",
    "$$\n",
    "\\mathcal P = \\text{Beta}(a, b) \\\\ \n",
    "\\Rightarrow P(\\xi = k) = \\int \\mathcal \\theta^k (1 - \\theta ) d \\mathcal P(\\theta) = \n",
    "\\int_0^1 \\theta^k (1-\\theta) f_{a,b} (\\theta) d\\theta,\n",
    "$$\n",
    "где \n",
    "$\n",
    "f_{a, b}(\\theta) - \\\n",
    "$ - плотность бета-распределения с параметрами $a, b$.\n",
    "\n",
    "Решение аналогично предыдущему пункту (только с численным расчётом интеграла)."
   ]
  },
  {
   "cell_type": "code",
   "execution_count": 58,
   "metadata": {},
   "outputs": [
    {
     "data": {
      "image/png": "[encoded data removed]",
      "text/plain": [
       "<Figure size 432x288 with 1 Axes>"
      ]
     },
     "metadata": {
      "needs_background": "light"
     },
     "output_type": "display_data"
    }
   ],
   "source": [
    "a, b = 3, 3\n",
    "distr_theta = sp.stats.beta(a, b)\n",
    "\n",
    "def integrand(tau, k):\n",
    "    \"\"\"Подинтегральная функция\"\"\"\n",
    "    return tau**k * (1 - tau) * distr.pdf(tau)\n",
    "\n",
    "def P_ksi(k):\n",
    "    return sp.integrate.quad(partial(integrand, k=k), 0, 1)[0]\n",
    "\n",
    "probability = np.array([P_ksi(i) for i in range(200)])\n",
    "probability /= np.sum(probability)\n",
    "cdf = np.cumsum(probability)\n",
    "\n",
    "N = 200  # объём выборки\n",
    "sample = np.zeros(N)\n",
    "distr_uni01 = sp.stats.uniform(0, 1)\n",
    "for i in range(N):\n",
    "    eta = distr_uni01.rvs()\n",
    "    sample[i] = np.searchsorted(cdf, eta)\n",
    "    \n",
    "sns.histplot(sample);"
   ]
  },
  {
   "cell_type": "markdown",
   "metadata": {},
   "source": [
    "# 2.\n",
    "\n",
    "## a)\n",
    "\n",
    "$$\n",
    "p(x, y) = p_\\xi (x | \\eta = y) \\cdot\n",
    "p_\\eta (y) = p_\\eta(y| \\xi = x) \\cdot p_\\xi(x) \\\\\n",
    "\\begin{cases}\n",
    "p(x, y) = p_\\xi(x | \\eta = y) \\cdot \\int p(x, y)dx \\\\\n",
    "p(x, y) = p_\\eta(y | \\xi = x) \\cdot \\int p(x, y) dy\n",
    "\\end{cases}\n",
    "$$\n",
    "$p(x, y)$ определена однозначно, поскольку для любой пары $x, y$ у системы будет существовать однозначное решение (рассматриваем пары $x, y$ из множества значений случайного вектора $(\\xi, \\eta)$. Это множество значений нам известно, поскольку известны условные плотности)."
   ]
  },
  {
   "cell_type": "markdown",
   "metadata": {},
   "source": [
    "## b)\n",
    "Рассмотрим ситуацию, когда $\\xi$ и $\\eta$ независимы. Тогда $p_\\xi(x | \\eta = y) = p_\\xi(x)$, т.е. из известных плотностей нельзя извлечь никакой информации о распределении $\\eta$. Соответственно $p_\\eta(y)$ не определена однозначно."
   ]
  },
  {
   "cell_type": "markdown",
   "metadata": {},
   "source": [
    "# 3.\n",
    "\n",
    "Предположим, что случайно названные человеком числа имеют распределение $U(0, 1)$.\n",
    "\n",
    "Рассмотрим СВ $\\xi$ = $\\begin{cases} 1, \\text{число оказалось меньше загаданного лектором} \\\\\n",
    "0, \\text{иначе}\\end{cases}$\n",
    "\n",
    "Тогда $\\xi \\sim Ber(\\theta)$, где $\\theta$ - число, загаданное лектором; $\\pi( \\theta) = \n",
    "\\mathbb 1 (0 \\leq \\theta \\leq 1)$.\n",
    "\n",
    "Выборка $\\mathbb X $ - набор реализаций СВ $\\xi$, \n",
    "$\\mathbb X = \\left\\{0, 0, 0, 1\\right\\}$\n",
    "\n",
    "$$\n",
    "\\pi (\\theta | \\mathbb X) = \\frac{\\mathcal L (\\mathbb X | \\theta) \\pi (\\theta)}\n",
    "{\\int_0^1 \\mathcal L (\\mathbb X | \\tau) \\pi (\\tau) d \\tau } = \n",
    "\\frac{\\theta \\cdot (1 - \\theta)^3 \\cdot \\mathbb 1} \n",
    "{\\int_0^1 \\tau (1 - \\tau)^3 d\\tau} = \n",
    "20 \\cdot \\theta \\cdot (1 - \\theta)^3 \\cdot \\mathbb 1\n",
    "$$\n",
    "\n",
    "Т.е. апостериорное распределение $\\theta$ - $\\text{Beta} (2, 4)$.\n",
    "\n",
    "Найдём ещё ОМП оценку (в теории это должен быть максимум плотности) и построим графики."
   ]
  },
  {
   "cell_type": "code",
   "execution_count": 91,
   "metadata": {},
   "outputs": [
    {
     "data": {
      "text/latex": [
       "$\\displaystyle \\frac{1}{20}$"
      ],
      "text/plain": [
       "1/20"
      ]
     },
     "execution_count": 91,
     "metadata": {},
     "output_type": "execute_result"
    }
   ],
   "source": [
    "# интеграл в знаменателе\n",
    "tau = symbols('tau')\n",
    "integrate(tau * (1 - tau)**3, (tau, 0, 1))"
   ]
  },
  {
   "cell_type": "code",
   "execution_count": 102,
   "metadata": {},
   "outputs": [
    {
     "data": {
      "image/png": "[encoded data removed]",
      "text/plain": [
       "<Figure size 432x288 with 1 Axes>"
      ]
     },
     "metadata": {
      "needs_background": "light"
     },
     "output_type": "display_data"
    }
   ],
   "source": [
    "theta_mle = solve((1 - tau)**3 - tau * 3 * (1 - tau)**2)  \n",
    "\n",
    "x = np.linspace(0, 1, 40)\n",
    "theta_pdf = sp.stats.beta(2, 4).pdf(x)\n",
    "ax = sns.lineplot(x=x, y=theta_pdf, label=r'Апостериорное распределение $\\theta$');\n",
    "ax.vlines(float(theta_mle[0]), 0, 2.4, color='red', label=r'ОМП для $\\theta$')\n",
    "ax.legend();"
   ]
  },
  {
   "cell_type": "markdown",
   "metadata": {
    "variables": {
     "m \\choose y} C \\theta^{a -1 + y} (1 - \\theta)^{b - 1 + m - y": "<p><strong>SyntaxError</strong>: unexpected character after line continuation character (<ipython-input-103-73b6a651412d>, line 1)</p>\n",
     "m \\choose y}\\theta^y(1 - \\theta)^{m - y} \\cdot C \\theta^{a-1} (1 - \\theta)^{b - 1": "<p><strong>SyntaxError</strong>: unexpected character after line continuation character (<ipython-input-103-ac3eed27cde9>, line 1)</p>\n"
    }
   },
   "source": [
    "# 4.\n",
    "\n",
    "Найдём апостериорное распределение $\\theta$. Тогда апостериорное распределение $\\xi_1$ будем \"смесью\" биномиальных распределений с \"весами\", пропорциональными плотности параметра $\\theta$ для каждого распределения.\n",
    "\n",
    "Пусть $\\xi_2 = y, f_{a,b}(\\theta) = C \\theta^{a-1} (1 - \\theta)^{b - 1}$ - плотность распределения $\\text{Beta}(a, b)$.\n",
    "\n",
    "$$\\pi(\\theta | \\xi_2) = \n",
    "\\frac{\\mathcal L (\\xi_2 | \\theta) \\pi(\\theta)}\n",
    "{\\int_0^1 \\mathcal L (\\mathbb \\xi_2 | \\tau) \\pi (\\tau) d \\tau } = \n",
    "\\frac{{m \\choose y}\\theta^y(1 - \\theta)^{m - y}\\cdot C \\theta^{a-1} (1 - \\theta)^{b - 1}}\n",
    "{\\int_0^1 \\mathcal L (\\mathbb \\xi_2 | \\tau) \\pi (\\tau) d \\tau } = \n",
    "\\frac{{m \\choose y} C \\theta^{a -1 + y} (1 - \\theta)^{b - 1 + m - y}}\n",
    "{\\int_0^1 \\mathcal L (\\mathbb \\xi_2 | \\tau) \\pi (\\tau) d \\tau }\n",
    "$$\n",
    "Т.к. мы имеем дело с сопряжённым семейством распределений, то апостериорное распределение также является бета-распределением (а точнее,  $\\text{Beta}(a + y, b + m - y)$ ). Множители $m \\choose y$, $C$ и интеграл в знаменателе задают нормирующий множитель.\n",
    "\n",
    "Тогда апостериорное распределение $\\xi_1$ задаётся следующим образом:\n",
    "\n",
    "$$\n",
    "P\\{\\xi_1 = k\\} = {n \\choose k} \\int_0^1 \\theta^k (1 - \\theta)^{n - k} f_{a+y,b+m-y}(\\theta)d\\theta,\n",
    "$$\n",
    "\n",
    "где \n",
    "$\n",
    "f_{a+y,b+m-y}(\\theta) \n",
    "$ - плотность бета-распределения "
   ]
  },
  {
   "cell_type": "markdown",
   "metadata": {},
   "source": [
    "# 5.\n"
   ]
  },
  {
   "cell_type": "markdown",
   "metadata": {},
   "source": [
    "# 6.\n",
    "\n",
    "Рассмотрим выборки $\\mathbb X_{(1)} = \\{1, 0\\}$ и $\\mathbb X_{(2)} =  \\{0, 1\\}$. Правдоподобие для них одинаково и равно $0.9 \\cdot 0.05$ (т.е. $c$ из формулировки принципа правдоподобия равно $1$). \n",
    "\n",
    "Для первой выборки $x_1 = 1 > 0$ и $H_0$ будет отвергнута. Для второй выборки $x_1 = 0$ и $H_0$ отвергнута не будет. Различие выводов не соответствует принципу правдоподобия.  "
   ]
  }
 ],
 "metadata": {
  "kernelspec": {
   "display_name": "Python 3",
   "language": "python",
   "name": "python3"
  },
  "language_info": {
   "codemirror_mode": {
    "name": "ipython",
    "version": 3
   },
   "file_extension": ".py",
   "mimetype": "text/x-python",
   "name": "python",
   "nbconvert_exporter": "python",
   "pygments_lexer": "ipython3",
   "version": "3.8.5"
  },
  "toc": {
   "base_numbering": 1,
   "nav_menu": {},
   "number_sections": false,
   "sideBar": true,
   "skip_h1_title": false,
   "title_cell": "Table of Contents",
   "title_sidebar": "Contents",
   "toc_cell": false,
   "toc_position": {},
   "toc_section_display": true,
   "toc_window_display": false
  },
  "varInspector": {
   "cols": {
    "lenName": 16,
    "lenType": 16,
    "lenVar": 40
   },
   "kernels_config": {
    "python": {
     "delete_cmd_postfix": "",
     "delete_cmd_prefix": "del ",
     "library": "var_list.py",
     "varRefreshCmd": "print(var_dic_list())"
    },
    "r": {
     "delete_cmd_postfix": ") ",
     "delete_cmd_prefix": "rm(",
     "library": "var_list.r",
     "varRefreshCmd": "cat(var_dic_list()) "
    }
   },
   "types_to_exclude": [
    "module",
    "function",
    "builtin_function_or_method",
    "instance",
    "_Feature"
   ],
   "window_display": false
  }
 },
 "nbformat": 4,
 "nbformat_minor": 4
}
