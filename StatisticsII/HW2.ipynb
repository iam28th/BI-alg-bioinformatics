{
 "cells": [
  {
   "cell_type": "markdown",
   "metadata": {},
   "source": [
    "# 1.\n",
    "### a)\n",
    "$f(a, b) =  \\mathbb E(\\xi - (a\\eta + b))^2$\n",
    "\n",
    "\n",
    "$$\n",
    "\\begin{cases}\n",
    "\\frac{\\partial f}{\\partial a} = \\mathbb E (-2\\eta (\\xi - (a\\eta + b)) = -2 \\left(\\mathbb E (\\eta \\xi) - a \\mathbb E \\eta^2 - b \\mathbb E \\eta \\right) = 0 \\\\\n",
    "\\frac{\\partial f}{\\partial b} = \\mathbb E (-2(\\xi - (a\\eta + b)) =\n",
    "-2 ( \\mathbb{E} \\xi - a \\mathbb E \\eta - b) = 0 \\\\\n",
    "\\end{cases} \\\\\n",
    "\\begin{cases}\n",
    "b = \\mathbb E \\xi - a \\mathbb E \\eta, \\\\\n",
    "\\mathbb E \\eta \\xi - \\mathbb E \\xi \\mathbb E \\eta - a \\mathbb E \\eta^2 + a (\\mathbb E \\eta)^2 = 0\n",
    "\\end{cases}\\\\ \n",
    "\\Rightarrow C - a \\mathbb D \\xi = 0, \\ C = \\text{cov}(\\xi, \\eta) \\\\\n",
    "\\Rightarrow a = \\frac{C}{\\mathbb D \\eta},\\ b = \\mathbb E \\xi - \\frac{C}{\\mathbb D \\eta} \\mathbb E \\eta\n",
    "$$\n",
    "Т.к. функция $f(a, b)$ квадратичная и перед скобкой стоит знак \"+\", то единственная точка экстремума соответствует минимуму."
   ]
  },
  {
   "cell_type": "markdown",
   "metadata": {},
   "source": [
    "$$\n",
    "\\begin{gather}\n",
    "\\min f(a, b) = \\mathbb E \\left[ (\\xi - \\frac{C}{\\mathbb D \\eta} \\eta - \\mathbb E \\xi + \\frac{C}{\\mathbb D \\eta} \\mathbb E \\eta)^2 \\right] =\n",
    "\\mathbb E \\left[ (\\xi - \\mathbb E \\xi - \\frac{C}{D \\eta}(\\eta - \\mathbb E \\eta))^2\\right] = \\\\\n",
    "= \\mathbb E \\left[ (\\xi - \\mathbb E \\xi)^2 + \\frac{C^2}{\\mathbb D^2 \\eta} (\\eta - \\mathbb E \\eta)^2 -\n",
    "2 \\frac{C}{\\mathbb E \\eta}(\\eta - \\mathbb E \\eta)(\\xi - \\mathbb E \\xi)\\right] = \\\\\n",
    "=\\mathbb D \\xi + \\frac{C^2}{\\mathbb D^2 \\eta} \\mathbb D \\eta - 2\\frac{C^2}{\\mathbb D \\eta} =\n",
    "\\mathbb D \\xi - \\frac{C^2}{\\mathbb D \\eta}\n",
    "\\end{gather}\n",
    "$$"
   ]
  },
  {
   "cell_type": "markdown",
   "metadata": {},
   "source": [
    "$$C = \\rho(\\xi, \\eta) \\cdot \\sqrt{\\mathbb D \\xi \\mathbb D \\eta} \\Rightarrow\n",
    "\\frac{C^2}{\\mathbb D \\eta} = \\rho^2(\\xi, \\eta) \\mathbb D \\xi \\\\\n",
    "\\Rightarrow \\min f(a, b) = \\mathbb D \\xi - \\rho^2(\\eta, \\xi) \\mathbb D \\xi = \\mathbb D \\xi (1 - \\rho^2(\\xi, \\eta))\\ \\  \\blacksquare$$"
   ]
  },
  {
   "cell_type": "markdown",
   "metadata": {},
   "source": [
    "### b)"
   ]
  },
  {
   "cell_type": "markdown",
   "metadata": {},
   "source": [
    "# 2.\n",
    "\n",
    "Докажем, что при построении МНК-оценки $\\sum e_i = \\sum (y_i -X_i \\hat \\beta) = 0$\n",
    "\n",
    "($X_i - i$-ая строка матрицы плана).\n",
    "\n",
    "$\\hat \\beta = (X^T X)^{-1} X^T y \\Rightarrow\n",
    "X^T X \\hat \\beta = X^T y \\Rightarrow\n",
    "X^T(X\\hat \\beta - y) = X^T e = \\vec 0$.\n",
    "\n",
    "Т.к. первая строка матрица $X^T$ cостоит из единиц, то $\\sum e_i$ = 0 (иначе первая компонента их произведения будет не нулевой) $\\blacksquare$.\n",
    "\n",
    "---"
   ]
  },
  {
   "cell_type": "markdown",
   "metadata": {},
   "source": [
    "\n",
    "Обозначим $RSS = \\sum(\\hat y_i - y_i)^2$, $ESS = \\sum (\\hat y_i - \\bar y)^2, TSS = \\sum (y_i - \\bar y)^2$\n",
    "\n",
    "$$\n",
    "TSS = \\sum\\left((y_i - \\hat y_i) + (\\hat y_i - \\bar y)\\right)^2 = \\\\\n",
    "= \\sum (y_i - \\hat y)^2 + \\sum(\\hat y_i - \\bar y)^2 + 2 \\sum (y_i - \\hat y_i)(\\hat y_i - \\bar y_i)\n",
    "$$"
   ]
  },
  {
   "cell_type": "markdown",
   "metadata": {},
   "source": [
    "В векторной форме (здесь $\\bar y$ - вектор, каждая компонента которого равна среднему значению столбца $y$):\n",
    "$$\n",
    "TSS = (y - \\hat y)^T(y - \\hat y) + (\\hat y - \\bar y)^T (\\hat y - \\bar y) + 2 (y - \\hat y)^T (\\hat y - \\bar y) = \\\\\n",
    "=RSS + ESS + 2 (y - \\hat y)^T (\\hat y - \\bar y)\n",
    "$$\n",
    "---\n",
    "$$\n",
    "\\begin{gather}\n",
    " 2 (y - \\hat y)^T (\\hat y - \\bar y) = 2 e^T (X \\hat \\beta - \\bar y) = \n",
    " 2(e, X^T \\hat \\beta) - 2(e, \\bar y) = 0; \\\\\n",
    " (e, \\bar y) = 0\\ \\left(\\text{т.к. $\\sum e_i = 0$ и все компоненты вектора $\\bar y$ равны}\\right); \\\\\n",
    " (e, X^T \\beta) = 0\\ (\\text{т.к. эти вектора перпендикулярны}. \\\\\n",
    " \\end{gather} \\\\\n",
    " \\Rightarrow TSS = RSS + ESS\n",
    "$$\n",
    "\n",
    "---"
   ]
  },
  {
   "cell_type": "markdown",
   "metadata": {},
   "source": [
    "$$R^2 = \\frac{ESS}{TSS} = \\frac{ESS + RSS - RSS}{TSS} = 1 - \\frac{RSS}{TSS} = 1 -\\frac{\\sum (\\hat y_i - y_i)^2}{\\sum (y_i - \\bar y)^2}$$"
   ]
  },
  {
   "cell_type": "markdown",
   "metadata": {},
   "source": [
    "Верхняя оценка $R^2 = 1$ получится, если каждое предсказание совпадает с истинным значением.\n",
    "\n",
    "Нижняя оценка $R^2 = 0$ соответствует модели среднего (притом что выборочная дисперсия вектора $y$ положительна)."
   ]
  },
  {
   "cell_type": "markdown",
   "metadata": {},
   "source": [
    "---\n",
    "---"
   ]
  },
  {
   "cell_type": "markdown",
   "metadata": {},
   "source": [
    "## Imports"
   ]
  },
  {
   "cell_type": "code",
   "execution_count": 609,
   "metadata": {},
   "outputs": [],
   "source": [
    "import pandas as pd\n",
    "import numpy as np\n",
    "\n",
    "import matplotlib.pyplot as plt\n",
    "\n",
    "from IPython.display import Latex, display"
   ]
  },
  {
   "cell_type": "code",
   "execution_count": 6,
   "metadata": {},
   "outputs": [
    {
     "data": {
      "text/html": [
       "<div>\n",
       "<style scoped>\n",
       "    .dataframe tbody tr th:only-of-type {\n",
       "        vertical-align: middle;\n",
       "    }\n",
       "\n",
       "    .dataframe tbody tr th {\n",
       "        vertical-align: top;\n",
       "    }\n",
       "\n",
       "    .dataframe thead th {\n",
       "        text-align: right;\n",
       "    }\n",
       "</style>\n",
       "<table border=\"1\" class=\"dataframe\">\n",
       "  <thead>\n",
       "    <tr style=\"text-align: right;\">\n",
       "      <th></th>\n",
       "      <th>Ex3y</th>\n",
       "      <th>Ex3x_1</th>\n",
       "      <th>Ex3x_2</th>\n",
       "      <th>Ex4y</th>\n",
       "      <th>Ex4x_1</th>\n",
       "      <th>Ex4x_2</th>\n",
       "      <th>Ex4x_3</th>\n",
       "      <th>Ex5y</th>\n",
       "      <th>Ex5x_1</th>\n",
       "      <th>Ex5x_2</th>\n",
       "      <th>Ex5x_3</th>\n",
       "    </tr>\n",
       "  </thead>\n",
       "  <tbody>\n",
       "    <tr>\n",
       "      <th>0</th>\n",
       "      <td>16.666641</td>\n",
       "      <td>4.523119</td>\n",
       "      <td>-4.220437</td>\n",
       "      <td>-1.237595</td>\n",
       "      <td>-0.811994</td>\n",
       "      <td>0.151162</td>\n",
       "      <td>0.924399</td>\n",
       "      <td>0.806198</td>\n",
       "      <td>-0.470437</td>\n",
       "      <td>0.154859</td>\n",
       "      <td>1.012799</td>\n",
       "    </tr>\n",
       "    <tr>\n",
       "      <th>1</th>\n",
       "      <td>0.019251</td>\n",
       "      <td>0.426211</td>\n",
       "      <td>1.800981</td>\n",
       "      <td>-0.320880</td>\n",
       "      <td>-1.494887</td>\n",
       "      <td>0.930561</td>\n",
       "      <td>1.499953</td>\n",
       "      <td>-1.030072</td>\n",
       "      <td>0.669061</td>\n",
       "      <td>2.342506</td>\n",
       "      <td>0.108975</td>\n",
       "    </tr>\n",
       "    <tr>\n",
       "      <th>2</th>\n",
       "      <td>12.374013</td>\n",
       "      <td>4.775028</td>\n",
       "      <td>-0.979577</td>\n",
       "      <td>1.063408</td>\n",
       "      <td>-1.368205</td>\n",
       "      <td>0.611477</td>\n",
       "      <td>1.201784</td>\n",
       "      <td>-1.690713</td>\n",
       "      <td>0.992029</td>\n",
       "      <td>0.365249</td>\n",
       "      <td>-1.675750</td>\n",
       "    </tr>\n",
       "    <tr>\n",
       "      <th>3</th>\n",
       "      <td>-3.115979</td>\n",
       "      <td>-2.523099</td>\n",
       "      <td>-0.178328</td>\n",
       "      <td>0.228142</td>\n",
       "      <td>-0.478334</td>\n",
       "      <td>0.254121</td>\n",
       "      <td>0.499781</td>\n",
       "      <td>0.836390</td>\n",
       "      <td>-1.672339</td>\n",
       "      <td>-1.248472</td>\n",
       "      <td>1.358714</td>\n",
       "    </tr>\n",
       "    <tr>\n",
       "      <th>4</th>\n",
       "      <td>0.055464</td>\n",
       "      <td>-0.481416</td>\n",
       "      <td>0.879832</td>\n",
       "      <td>0.089498</td>\n",
       "      <td>-1.569103</td>\n",
       "      <td>0.772026</td>\n",
       "      <td>1.130317</td>\n",
       "      <td>1.802766</td>\n",
       "      <td>3.281833</td>\n",
       "      <td>0.913849</td>\n",
       "      <td>-0.232884</td>\n",
       "    </tr>\n",
       "    <tr>\n",
       "      <th>...</th>\n",
       "      <td>...</td>\n",
       "      <td>...</td>\n",
       "      <td>...</td>\n",
       "      <td>...</td>\n",
       "      <td>...</td>\n",
       "      <td>...</td>\n",
       "      <td>...</td>\n",
       "      <td>...</td>\n",
       "      <td>...</td>\n",
       "      <td>...</td>\n",
       "      <td>...</td>\n",
       "    </tr>\n",
       "    <tr>\n",
       "      <th>112</th>\n",
       "      <td>-4.436488</td>\n",
       "      <td>-0.879097</td>\n",
       "      <td>3.140175</td>\n",
       "      <td>-0.025193</td>\n",
       "      <td>-0.796414</td>\n",
       "      <td>0.089183</td>\n",
       "      <td>0.821368</td>\n",
       "      <td>-0.123667</td>\n",
       "      <td>-2.598256</td>\n",
       "      <td>-0.998784</td>\n",
       "      <td>0.991474</td>\n",
       "    </tr>\n",
       "    <tr>\n",
       "      <th>113</th>\n",
       "      <td>-13.293553</td>\n",
       "      <td>-4.709023</td>\n",
       "      <td>5.331363</td>\n",
       "      <td>-2.637425</td>\n",
       "      <td>-1.663972</td>\n",
       "      <td>0.839279</td>\n",
       "      <td>1.438454</td>\n",
       "      <td>-1.355597</td>\n",
       "      <td>1.036505</td>\n",
       "      <td>1.897271</td>\n",
       "      <td>-1.114548</td>\n",
       "    </tr>\n",
       "    <tr>\n",
       "      <th>114</th>\n",
       "      <td>12.197822</td>\n",
       "      <td>4.983900</td>\n",
       "      <td>0.245753</td>\n",
       "      <td>-0.675515</td>\n",
       "      <td>-0.473697</td>\n",
       "      <td>0.042513</td>\n",
       "      <td>0.638159</td>\n",
       "      <td>-2.007160</td>\n",
       "      <td>0.380268</td>\n",
       "      <td>-0.455910</td>\n",
       "      <td>-2.121510</td>\n",
       "    </tr>\n",
       "    <tr>\n",
       "      <th>115</th>\n",
       "      <td>10.683479</td>\n",
       "      <td>5.351551</td>\n",
       "      <td>-0.198209</td>\n",
       "      <td>-3.791040</td>\n",
       "      <td>-2.871679</td>\n",
       "      <td>2.908046</td>\n",
       "      <td>2.288762</td>\n",
       "      <td>0.097313</td>\n",
       "      <td>-0.643567</td>\n",
       "      <td>-0.208003</td>\n",
       "      <td>0.245025</td>\n",
       "    </tr>\n",
       "    <tr>\n",
       "      <th>116</th>\n",
       "      <td>8.413539</td>\n",
       "      <td>3.701753</td>\n",
       "      <td>1.048291</td>\n",
       "      <td>1.641898</td>\n",
       "      <td>-0.233552</td>\n",
       "      <td>0.200100</td>\n",
       "      <td>0.471118</td>\n",
       "      <td>1.186226</td>\n",
       "      <td>1.947359</td>\n",
       "      <td>1.539700</td>\n",
       "      <td>0.110135</td>\n",
       "    </tr>\n",
       "  </tbody>\n",
       "</table>\n",
       "<p>117 rows × 11 columns</p>\n",
       "</div>"
      ],
      "text/plain": [
       "          Ex3y    Ex3x_1    Ex3x_2      Ex4y    Ex4x_1    Ex4x_2    Ex4x_3  \\\n",
       "0    16.666641  4.523119 -4.220437 -1.237595 -0.811994  0.151162  0.924399   \n",
       "1     0.019251  0.426211  1.800981 -0.320880 -1.494887  0.930561  1.499953   \n",
       "2    12.374013  4.775028 -0.979577  1.063408 -1.368205  0.611477  1.201784   \n",
       "3    -3.115979 -2.523099 -0.178328  0.228142 -0.478334  0.254121  0.499781   \n",
       "4     0.055464 -0.481416  0.879832  0.089498 -1.569103  0.772026  1.130317   \n",
       "..         ...       ...       ...       ...       ...       ...       ...   \n",
       "112  -4.436488 -0.879097  3.140175 -0.025193 -0.796414  0.089183  0.821368   \n",
       "113 -13.293553 -4.709023  5.331363 -2.637425 -1.663972  0.839279  1.438454   \n",
       "114  12.197822  4.983900  0.245753 -0.675515 -0.473697  0.042513  0.638159   \n",
       "115  10.683479  5.351551 -0.198209 -3.791040 -2.871679  2.908046  2.288762   \n",
       "116   8.413539  3.701753  1.048291  1.641898 -0.233552  0.200100  0.471118   \n",
       "\n",
       "         Ex5y    Ex5x_1    Ex5x_2    Ex5x_3  \n",
       "0    0.806198 -0.470437  0.154859  1.012799  \n",
       "1   -1.030072  0.669061  2.342506  0.108975  \n",
       "2   -1.690713  0.992029  0.365249 -1.675750  \n",
       "3    0.836390 -1.672339 -1.248472  1.358714  \n",
       "4    1.802766  3.281833  0.913849 -0.232884  \n",
       "..        ...       ...       ...       ...  \n",
       "112 -0.123667 -2.598256 -0.998784  0.991474  \n",
       "113 -1.355597  1.036505  1.897271 -1.114548  \n",
       "114 -2.007160  0.380268 -0.455910 -2.121510  \n",
       "115  0.097313 -0.643567 -0.208003  0.245025  \n",
       "116  1.186226  1.947359  1.539700  0.110135  \n",
       "\n",
       "[117 rows x 11 columns]"
      ]
     },
     "execution_count": 6,
     "metadata": {},
     "output_type": "execute_result"
    }
   ],
   "source": [
    "df = pd.read_csv('IB_statistics_data_hw2.2.txt', sep=' ')\n",
    "df"
   ]
  },
  {
   "cell_type": "markdown",
   "metadata": {},
   "source": [
    "# 3."
   ]
  },
  {
   "cell_type": "code",
   "execution_count": 411,
   "metadata": {},
   "outputs": [
    {
     "data": {
      "text/html": [
       "<div>\n",
       "<style scoped>\n",
       "    .dataframe tbody tr th:only-of-type {\n",
       "        vertical-align: middle;\n",
       "    }\n",
       "\n",
       "    .dataframe tbody tr th {\n",
       "        vertical-align: top;\n",
       "    }\n",
       "\n",
       "    .dataframe thead th {\n",
       "        text-align: right;\n",
       "    }\n",
       "</style>\n",
       "<table border=\"1\" class=\"dataframe\">\n",
       "  <thead>\n",
       "    <tr style=\"text-align: right;\">\n",
       "      <th></th>\n",
       "      <th>x0</th>\n",
       "      <th>x1</th>\n",
       "      <th>x2</th>\n",
       "    </tr>\n",
       "  </thead>\n",
       "  <tbody>\n",
       "    <tr>\n",
       "      <th>0</th>\n",
       "      <td>1</td>\n",
       "      <td>4.523119</td>\n",
       "      <td>-4.220437</td>\n",
       "    </tr>\n",
       "    <tr>\n",
       "      <th>1</th>\n",
       "      <td>1</td>\n",
       "      <td>0.426211</td>\n",
       "      <td>1.800981</td>\n",
       "    </tr>\n",
       "    <tr>\n",
       "      <th>2</th>\n",
       "      <td>1</td>\n",
       "      <td>4.775028</td>\n",
       "      <td>-0.979577</td>\n",
       "    </tr>\n",
       "    <tr>\n",
       "      <th>3</th>\n",
       "      <td>1</td>\n",
       "      <td>-2.523099</td>\n",
       "      <td>-0.178328</td>\n",
       "    </tr>\n",
       "    <tr>\n",
       "      <th>4</th>\n",
       "      <td>1</td>\n",
       "      <td>-0.481416</td>\n",
       "      <td>0.879832</td>\n",
       "    </tr>\n",
       "  </tbody>\n",
       "</table>\n",
       "</div>"
      ],
      "text/plain": [
       "   x0        x1        x2\n",
       "0   1  4.523119 -4.220437\n",
       "1   1  0.426211  1.800981\n",
       "2   1  4.775028 -0.979577\n",
       "3   1 -2.523099 -0.178328\n",
       "4   1 -0.481416  0.879832"
      ]
     },
     "execution_count": 411,
     "metadata": {},
     "output_type": "execute_result"
    }
   ],
   "source": [
    "Y = df['Ex3y'].copy()\n",
    "X = df[['Ex3x_1', 'Ex3x_2']].copy()\n",
    "X.columns = ['x1', 'x2']\n",
    "X.insert(0, 'x0', 1)\n",
    "X.head()"
   ]
  },
  {
   "cell_type": "markdown",
   "metadata": {},
   "source": [
    "#### Доверительный параллелепипед:\n",
    "$$\\frac{\\hat \\beta_i - \\beta_i}{s \\sqrt{B^{-1}_{ii}}} \\sim t(n-m) \\\\\n",
    "\\Rightarrow \\hat \\beta_i  - g_2 s \\sqrt {B_{ii}^{-1}}\\leq  \\beta_i \\leq  \\hat \\beta_i  - g_1 s \\sqrt {B_{ii}^{-1}}\\\\\n",
    "g_1, g_2 - \\text{квантили распределения $t(n - m)$;} \\\\\n",
    "B = X^T X.\n",
    "$$"
   ]
  },
  {
   "cell_type": "code",
   "execution_count": 423,
   "metadata": {},
   "outputs": [
    {
     "name": "stdout",
     "output_type": "stream",
     "text": [
      "Оценка коэффициентов: [1.872, 1.993, -0.997]\n",
      "s2 = 1.395\n",
      "Доверительные интервалы коэффициентов:\n",
      "[1.63, 2.113]\n",
      "[1.921, 2.065]\n",
      "[-1.107, -0.886]\n"
     ]
    }
   ],
   "source": [
    "from scipy.stats import t\n",
    "\n",
    "n, m = X.shape\n",
    "\n",
    "# построение оценок\n",
    "beta = np.linalg.lstsq(X, Y, rcond=None)[0]\n",
    "s2 = (Y - X @ beta).transpose() @ (Y - X @ beta) / (n - m)\n",
    "\n",
    "# построение интервалов\n",
    "gamma = 0.95\n",
    "g1, g2 = t(n - m).interval(gamma)\n",
    "par_intervals = []\n",
    "for i, beta_i in enumerate(beta):\n",
    "    left = beta_i - g2 * np.sqrt(s2 * B_inv[i, i])\n",
    "    right = beta_i - g1 * np.sqrt(s2 * B_inv[i, i])\n",
    "    par_intervals.append((left, right))\n",
    "print(f'Оценка коэффициентов: {list(round(b, 3) for b in beta)}')\n",
    "print(f's2 = {round(s2, 3)}')\n",
    "print('Доверительные интервалы коэффициентов:')\n",
    "for pi in par_intervals:\n",
    "    print(list(map(lambda x: round(x, 3), pi)))"
   ]
  },
  {
   "cell_type": "markdown",
   "metadata": {},
   "source": [
    "#### Доверительный эллипсоид:"
   ]
  },
  {
   "cell_type": "markdown",
   "metadata": {},
   "source": [
    "$$\n",
    "G_\\gamma (X)  = \\left\\{ x \\in \\mathbb R^{m} : (\\hat \\beta - x)^T B(\\hat \\beta - x) < \\frac{m}{n - m}s^2 F_{m, n-m}(\\gamma)\\right\\}\n",
    "$$"
   ]
  },
  {
   "cell_type": "code",
   "execution_count": 387,
   "metadata": {},
   "outputs": [],
   "source": [
    "from scipy.stats import f\n",
    "\n",
    "distr = f(m, n - m)\n",
    "f95 = fsolve(lambda x: distr.cdf(x) - 0.95, 10)[0]  # 0.95-квантиль распределения Фишера (m, n - m) \n",
    "g = m / (n - m) * s2 * f95   "
   ]
  },
  {
   "cell_type": "markdown",
   "metadata": {},
   "source": [
    "#### Построение графиков."
   ]
  },
  {
   "cell_type": "code",
   "execution_count": 375,
   "metadata": {},
   "outputs": [
    {
     "name": "stderr",
     "output_type": "stream",
     "text": [
      "100%|██████████| 161/161 [03:34<00:00,  1.33s/it]\n"
     ]
    }
   ],
   "source": [
    "#  отбор точек, лежащих в эллипсоиде\n",
    "def isin_ellips_area(x): \n",
    "    return (x - beta).transpose() @ B @ (x - beta) < g\n",
    "\n",
    "xx = []\n",
    "yy = []\n",
    "zz = []\n",
    "\n",
    "xlbound = 1.8\n",
    "xhbound = 2.2\n",
    "\n",
    "ylbound = 1.9\n",
    "yhbound = 2.1\n",
    "\n",
    "zlbound = -1.1\n",
    "zhbound = -0.9\n",
    "\n",
    "step = 0.0025\n",
    "\n",
    "for x in tqdm(np.arange(xlbound, xhbound, step)):\n",
    "    for y in np.arange(ylbound, yhbound, step):\n",
    "        for z in np.arange(zlbound, zhbound, step):\n",
    "            if isin_ellips_area(np.array([x, y, z])):\n",
    "                xx.append(x)\n",
    "                yy.append(y)\n",
    "                zz.append(z)"
   ]
  },
  {
   "cell_type": "code",
   "execution_count": 437,
   "metadata": {},
   "outputs": [
    {
     "data": {
      "image/png": "[encoded data removed]",
      "text/plain": [
       "<Figure size 576x576 with 1 Axes>"
      ]
     },
     "metadata": {
      "needs_background": "light"
     },
     "output_type": "display_data"
    }
   ],
   "source": [
    "def plot_parallelepiped(x1, x2, y1, y2, z1, z2, ax=None, c='green', transparency=0.2):\n",
    "    \"\"\"\n",
    "    Строит параллелепипед на пересечениях плоскостей x = x1, x = x2, y = y1 ... \n",
    "    \"\"\"\n",
    "    if ax is None:\n",
    "        fig = plt.figure(figsize=(8, 8))\n",
    "        ax = fig.add_subplot(1, 1, 1, projection='3d')\n",
    "    \n",
    "    \n",
    "    xx = np.linspace(x1, x2, 2)\n",
    "    yy = np.linspace(y1, y2, 2)\n",
    "    zz = np.linspace(z1, z2, 2)\n",
    "\n",
    "    xx, yy = np.meshgrid(xx, yy)\n",
    "   \n",
    "    ax.plot_surface(xx, yy, np.full(xx.shape, z1), alpha=transparency, color=c)\n",
    "    ax.plot_surface(xx, yy, np.full(xx.shape, z2), alpha=transparency, color=c)\n",
    "\n",
    "    yy, zz = np.meshgrid(yy, zz)\n",
    "    ax.plot_surface(np.full(yy.shape, x1), yy, zz, alpha=transparency, color=c)\n",
    "    ax.plot_surface(np.full(yy.shape, x2), yy, zz, alpha=transparency, color=c)\n",
    "\n",
    "    xx, zz = np.meshgrid(xx, zz)\n",
    "    ax.plot_surface(xx, np.full(xx.shape, y1), zz, alpha=transparency, color=c)\n",
    "    ax.plot_surface(xx, np.full(xx.shape, y2), zz, alpha=transparency, color=c)\n",
    "\n",
    "fig = plt.figure(figsize=(8, 8))\n",
    "ax = fig.add_subplot(1, 1, 1, projection='3d')\n",
    "ax.scatter(xx, yy, zz, c='red');\n",
    "plot_parallelepiped(*np.array(par_intervals).reshape(-1), ax=ax)\n",
    "ax.set_title('Доверительный параллелепипед и доверительный эллипсоид');"
   ]
  },
  {
   "cell_type": "markdown",
   "metadata": {},
   "source": [
    "# 4."
   ]
  },
  {
   "cell_type": "code",
   "execution_count": 424,
   "metadata": {},
   "outputs": [
    {
     "data": {
      "text/html": [
       "<div>\n",
       "<style scoped>\n",
       "    .dataframe tbody tr th:only-of-type {\n",
       "        vertical-align: middle;\n",
       "    }\n",
       "\n",
       "    .dataframe tbody tr th {\n",
       "        vertical-align: top;\n",
       "    }\n",
       "\n",
       "    .dataframe thead th {\n",
       "        text-align: right;\n",
       "    }\n",
       "</style>\n",
       "<table border=\"1\" class=\"dataframe\">\n",
       "  <thead>\n",
       "    <tr style=\"text-align: right;\">\n",
       "      <th></th>\n",
       "      <th>x0</th>\n",
       "      <th>x1</th>\n",
       "      <th>x2</th>\n",
       "      <th>x3</th>\n",
       "    </tr>\n",
       "  </thead>\n",
       "  <tbody>\n",
       "    <tr>\n",
       "      <th>0</th>\n",
       "      <td>1</td>\n",
       "      <td>-0.811994</td>\n",
       "      <td>0.151162</td>\n",
       "      <td>0.924399</td>\n",
       "    </tr>\n",
       "    <tr>\n",
       "      <th>1</th>\n",
       "      <td>1</td>\n",
       "      <td>-1.494887</td>\n",
       "      <td>0.930561</td>\n",
       "      <td>1.499953</td>\n",
       "    </tr>\n",
       "    <tr>\n",
       "      <th>2</th>\n",
       "      <td>1</td>\n",
       "      <td>-1.368205</td>\n",
       "      <td>0.611477</td>\n",
       "      <td>1.201784</td>\n",
       "    </tr>\n",
       "    <tr>\n",
       "      <th>3</th>\n",
       "      <td>1</td>\n",
       "      <td>-0.478334</td>\n",
       "      <td>0.254121</td>\n",
       "      <td>0.499781</td>\n",
       "    </tr>\n",
       "    <tr>\n",
       "      <th>4</th>\n",
       "      <td>1</td>\n",
       "      <td>-1.569103</td>\n",
       "      <td>0.772026</td>\n",
       "      <td>1.130317</td>\n",
       "    </tr>\n",
       "  </tbody>\n",
       "</table>\n",
       "</div>"
      ],
      "text/plain": [
       "   x0        x1        x2        x3\n",
       "0   1 -0.811994  0.151162  0.924399\n",
       "1   1 -1.494887  0.930561  1.499953\n",
       "2   1 -1.368205  0.611477  1.201784\n",
       "3   1 -0.478334  0.254121  0.499781\n",
       "4   1 -1.569103  0.772026  1.130317"
      ]
     },
     "execution_count": 424,
     "metadata": {},
     "output_type": "execute_result"
    }
   ],
   "source": [
    "Y = df['Ex4y']\n",
    "X = df[['Ex4x_1', 'Ex4x_2', 'Ex4x_3']]\n",
    "X.columns = ['x1', 'x2', 'x3']\n",
    "X.insert(0, 'x0', 1)\n",
    "X.head()"
   ]
  },
  {
   "cell_type": "markdown",
   "metadata": {},
   "source": [
    "#### Оценка параметров:"
   ]
  },
  {
   "cell_type": "code",
   "execution_count": 428,
   "metadata": {},
   "outputs": [
    {
     "name": "stdout",
     "output_type": "stream",
     "text": [
      "beta = [0.101, 1.036, -0.494, 0.878]\n",
      "s2 = 1.173\n"
     ]
    }
   ],
   "source": [
    "beta = np.linalg.lstsq(X, Y, rcond=None)[0]\n",
    "s2 = (Y - X @ beta).transpose() @ (Y - X @ beta) / (n - m)\n",
    "print(f'beta = {[round(b, 3) for b in beta]}')\n",
    "print(f's2 = {round(s2, 3)}')"
   ]
  },
  {
   "cell_type": "markdown",
   "metadata": {},
   "source": [
    "#### Проверка на нормальность ошибок:"
   ]
  },
  {
   "cell_type": "code",
   "execution_count": 440,
   "metadata": {},
   "outputs": [
    {
     "data": {
      "text/plain": [
       "ShapiroResult(statistic=0.9812911748886108, pvalue=0.10246429592370987)"
      ]
     },
     "execution_count": 440,
     "metadata": {},
     "output_type": "execute_result"
    }
   ],
   "source": [
    "from scipy.stats import shapiro\n",
    "\n",
    "epsilon = Y - X @ beta\n",
    "shapiro(epsilon)"
   ]
  },
  {
   "cell_type": "markdown",
   "metadata": {},
   "source": [
    "$p$-value $> 0.05 \\Rightarrow$ гипотеза о нормальности ошибок не отклоняется."
   ]
  },
  {
   "cell_type": "markdown",
   "metadata": {},
   "source": [
    "#### Вычисление выборочного множественного коэффициента корреляции:"
   ]
  },
  {
   "cell_type": "code",
   "execution_count": 480,
   "metadata": {},
   "outputs": [
    {
     "name": "stdout",
     "output_type": "stream",
     "text": [
      "Выборочный коэффициент корреляции = 0.602\n"
     ]
    }
   ],
   "source": [
    "num = 0\n",
    "denum = 0\n",
    "\n",
    "y_mean = np.mean(Y)\n",
    "\n",
    "for row, yi in zip(X.iterrows(), Y):\n",
    "    _, xi = row   # xi - i-ая строчка матрицы плана\n",
    "    num += (yi - xi @ beta)**2\n",
    "\n",
    "denum = np.sum((Y - y_mean)**2)\n",
    "\n",
    "ro = np.sqrt(1 - num / denum)\n",
    "print(f'Выборочный коэффициент корреляции = {round(ro, 3)}')"
   ]
  },
  {
   "cell_type": "markdown",
   "metadata": {},
   "source": [
    "#### Проверка гипотез о равенстве 0 каждого из $\\beta_i$:\n",
    "(аналогично предыдущему заданию)"
   ]
  },
  {
   "cell_type": "code",
   "execution_count": 500,
   "metadata": {},
   "outputs": [
    {
     "name": "stdout",
     "output_type": "stream",
     "text": [
      "Доверительная область: (-0.371, 0.371). Статистика beta_0 = 0.101. p-value = 0.591\n",
      "Доверительная область: (-1.131, 1.131). Статистика beta_1 = 1.036. p-value = 0.072\n",
      "Доверительная область: (-0.407, 0.407). Статистика beta_2 = -0.494. p-value = 0.018\n",
      "Доверительная область: (-1.259, 1.259). Статистика beta_3 = 0.878. p-value = 0.17\n"
     ]
    }
   ],
   "source": [
    "from scipy.stats import t\n",
    "\n",
    "alpha = 0.05\n",
    "B = X.transpose() @ X\n",
    "B_inv = np.linalg.inv(B)\n",
    "distr = t(n - m)\n",
    "g1, g2 = distr.interval(1-alpha)\n",
    "\n",
    "for i, beta_i in enumerate(beta):\n",
    "    left = round(g1 * np.sqrt(s2 * B_inv[i, i]), 3)\n",
    "    right = round(g2 * np.sqrt(s2 * B_inv[i, i]), 3)\n",
    "    T = beta_i / np.sqrt(s2 * B_inv[i, i])\n",
    "    \n",
    "    if beta_i > 0:\n",
    "        p_value = 1 - distr.cdf(T) # on the right side\n",
    "        p_value += distr.cdf(-T)  # on the left side\n",
    "    else:\n",
    "        p_value = distr.cdf(T) # on the left side\n",
    "        p_value += 1 - distr.cdf(-T) # on the right side\n",
    "    \n",
    "    res = f'Доверительная область: {left, right}. '\n",
    "    res += f'Статистика beta_{i} = {round(beta_i, 3)}. '\n",
    "    res += f'p-value = {round(p_value, 3)}'\n",
    "    print(res)"
   ]
  },
  {
   "cell_type": "markdown",
   "metadata": {},
   "source": [
    "Гипотеза $H_0: \\beta_2 = 0$ отвергается, гипотезы для остальных коэффициентов не отвергаются."
   ]
  },
  {
   "cell_type": "markdown",
   "metadata": {},
   "source": [
    "# 5."
   ]
  },
  {
   "cell_type": "code",
   "execution_count": 540,
   "metadata": {},
   "outputs": [
    {
     "data": {
      "text/html": [
       "<div>\n",
       "<style scoped>\n",
       "    .dataframe tbody tr th:only-of-type {\n",
       "        vertical-align: middle;\n",
       "    }\n",
       "\n",
       "    .dataframe tbody tr th {\n",
       "        vertical-align: top;\n",
       "    }\n",
       "\n",
       "    .dataframe thead th {\n",
       "        text-align: right;\n",
       "    }\n",
       "</style>\n",
       "<table border=\"1\" class=\"dataframe\">\n",
       "  <thead>\n",
       "    <tr style=\"text-align: right;\">\n",
       "      <th></th>\n",
       "      <th>x1</th>\n",
       "      <th>x2</th>\n",
       "      <th>x3</th>\n",
       "    </tr>\n",
       "  </thead>\n",
       "  <tbody>\n",
       "    <tr>\n",
       "      <th>0</th>\n",
       "      <td>-0.470437</td>\n",
       "      <td>0.154859</td>\n",
       "      <td>1.012799</td>\n",
       "    </tr>\n",
       "    <tr>\n",
       "      <th>1</th>\n",
       "      <td>0.669061</td>\n",
       "      <td>2.342506</td>\n",
       "      <td>0.108975</td>\n",
       "    </tr>\n",
       "    <tr>\n",
       "      <th>2</th>\n",
       "      <td>0.992029</td>\n",
       "      <td>0.365249</td>\n",
       "      <td>-1.675750</td>\n",
       "    </tr>\n",
       "    <tr>\n",
       "      <th>3</th>\n",
       "      <td>-1.672339</td>\n",
       "      <td>-1.248472</td>\n",
       "      <td>1.358714</td>\n",
       "    </tr>\n",
       "    <tr>\n",
       "      <th>4</th>\n",
       "      <td>3.281833</td>\n",
       "      <td>0.913849</td>\n",
       "      <td>-0.232884</td>\n",
       "    </tr>\n",
       "  </tbody>\n",
       "</table>\n",
       "</div>"
      ],
      "text/plain": [
       "         x1        x2        x3\n",
       "0 -0.470437  0.154859  1.012799\n",
       "1  0.669061  2.342506  0.108975\n",
       "2  0.992029  0.365249 -1.675750\n",
       "3 -1.672339 -1.248472  1.358714\n",
       "4  3.281833  0.913849 -0.232884"
      ]
     },
     "execution_count": 540,
     "metadata": {},
     "output_type": "execute_result"
    }
   ],
   "source": [
    "Y = df['Ex5y']\n",
    "X = df[['Ex5x_1', 'Ex5x_2', 'Ex5x_3']]\n",
    "X.columns = ['x1', 'x2', 'x3']\n",
    "X.head()"
   ]
  },
  {
   "cell_type": "markdown",
   "metadata": {},
   "source": [
    "$H_0: \\rho (y, M(y | x_1, x_2, x_3)) = 0$.\n",
    "\n",
    "\n",
    "Статистика $\\hat \\rho \\sim \\text {Beta} (\\frac{m - 1}{2}, \\frac{n - m}{2})$."
   ]
  },
  {
   "cell_type": "markdown",
   "metadata": {},
   "source": [
    "#### Вычисление границы правосторонней критической области:"
   ]
  },
  {
   "cell_type": "code",
   "execution_count": 566,
   "metadata": {},
   "outputs": [
    {
     "data": {
      "text/plain": [
       "0.0512"
      ]
     },
     "execution_count": 566,
     "metadata": {},
     "output_type": "execute_result"
    }
   ],
   "source": [
    "from scipy import stats\n",
    "from scipy.optimize import fsolve\n",
    "\n",
    "n, m = X.shape\n",
    "\n",
    "alpha = 0.05\n",
    "distr = stats.beta((m-1)/2, (n-m)/2)\n",
    "T_cr = fsolve(lambda x: distr.cdf(x) - 0.95, 0)[0]\n",
    "round(T_cr, 4)"
   ]
  },
  {
   "cell_type": "markdown",
   "metadata": {},
   "source": [
    "#### Вычисление значения статистики"
   ]
  },
  {
   "cell_type": "code",
   "execution_count": 567,
   "metadata": {},
   "outputs": [
    {
     "name": "stdout",
     "output_type": "stream",
     "text": [
      "Выборочный коэффициент корреляции = 0.962\n",
      "p-value = 1.1102230246251565e-16\n"
     ]
    }
   ],
   "source": [
    "beta = np.linalg.lstsq(X, Y, rcond=None)[0]  # МНК-оценка параметров\n",
    "s2 = (Y - X @ beta).transpose() @ (Y - X @ beta) / (n - m)\n",
    "\n",
    "num = 0\n",
    "denum = 0\n",
    "\n",
    "y_mean = np.mean(Y)\n",
    "for row, yi in zip(X.iterrows(), Y):\n",
    "    _, xi = row   # xi - i-ая строчка матрицы плана\n",
    "    num += (yi - xi @ beta)**2\n",
    "\n",
    "denum = np.sum((Y - y_mean)**2)\n",
    "\n",
    "ro = np.sqrt(1 - num / denum)\n",
    "print(f'Выборочный коэффициент корреляции = {round(ro, 3)}')\n",
    "print(f'p-value = {1 - distr.cdf(ro)}')"
   ]
  },
  {
   "cell_type": "markdown",
   "metadata": {},
   "source": [
    "$p$-value $< 0.05 \\Rightarrow H_0$ отвергается.  "
   ]
  },
  {
   "cell_type": "markdown",
   "metadata": {},
   "source": [
    "#### Проверка гипотез о равенстве 0 каждого из $\\beta_i$:"
   ]
  },
  {
   "cell_type": "code",
   "execution_count": 568,
   "metadata": {},
   "outputs": [
    {
     "name": "stdout",
     "output_type": "stream",
     "text": [
      "Доверительная область: (-0.078, 0.078). Статистика beta_0 = 1.138. p-value = 9.854872891488153e-55\n",
      "Доверительная область: (-0.077, 0.077). Статистика beta_1 = -0.902. p-value = 2.874260767711393e-45\n",
      "Доверительная область: (-0.073, 0.073). Статистика beta_2 = 1.209. p-value = 4.491468430333097e-60\n"
     ]
    }
   ],
   "source": [
    "from scipy.stats import t\n",
    "\n",
    "alpha = 0.05\n",
    "B = X.transpose() @ X\n",
    "\n",
    "B_inv = np.linalg.inv(B)\n",
    "distr = t(n - m)\n",
    "g1, g2 = distr.interval(1-alpha)\n",
    "\n",
    "for i, beta_i in enumerate(beta):\n",
    "    left = round(g1 * np.sqrt(s2 * B_inv[i, i]), 3)\n",
    "    right = round(g2 * np.sqrt(s2 * B_inv[i, i]), 3)\n",
    "    T = beta_i / np.sqrt(s2 * B_inv[i, i])\n",
    "    \n",
    "    if beta_i > 0:\n",
    "        p_value = 1 - distr.cdf(T) # on the right side\n",
    "        p_value += distr.cdf(-T)  # on the left side\n",
    "    else:\n",
    "        p_value = distr.cdf(T) # on the left side\n",
    "        p_value += 1 - distr.cdf(-T) # on the right side\n",
    "    \n",
    "    res = f'Доверительная область: {left, right}. '\n",
    "    res += f'Статистика beta_{i} = {round(beta_i, 3)}. '\n",
    "    res += f'p-value = {p_value}'\n",
    "    print(res)"
   ]
  },
  {
   "cell_type": "markdown",
   "metadata": {},
   "source": [
    "Для каждого из коэффициентов гипотеза о равенстве 0 отвергается."
   ]
  },
  {
   "cell_type": "markdown",
   "metadata": {},
   "source": [
    "# 6.\n",
    "$$\n",
    "\\alpha \\sim U (0, 2), \\beta \\sim U(0, 2); \\\\\n",
    "\\zeta = 2\\beta,\\ \\xi = \\alpha + \\zeta,\\ \\eta =- \\alpha + \\zeta; \\\\\n",
    "\\rho (\\xi, \\eta | \\zeta) = \\rho (\\alpha, -\\alpha) = -1 < 0;\\\\\n",
    "\\rho (\\xi, \\eta) = \\frac{\\text{cov}(\\xi, \\eta)}{\\sqrt{\\mathbb D \\xi \\mathbb D \\eta}}; \\\\\n",
    "\\text{cov}(\\xi, \\eta) = \\mathbb E (\\alpha + 2 \\beta)(-\\alpha + 2\\beta) - \n",
    "\\mathbb E(\\alpha + 2 \\beta)\\mathbb E (-\\alpha + 2\\beta) = \\\\\n",
    "= \\mathbb E (4\\beta^2 - \\alpha^2) -3 = \n",
    "4 \\cdot \\frac{4}{3} - \\frac{4}{3} - 3 = 1 > 0 \\\\\n",
    "\\Rightarrow \\rho(\\xi, \\eta) > 0\n",
    "$$"
   ]
  },
  {
   "cell_type": "code",
   "execution_count": 632,
   "metadata": {},
   "outputs": [
    {
     "data": {
      "text/latex": [
       "$\\rho(\\xi, \\eta) =0.54$"
      ],
      "text/plain": [
       "<IPython.core.display.Latex object>"
      ]
     },
     "metadata": {},
     "output_type": "display_data"
    },
    {
     "data": {
      "text/latex": [
       "$\\rho(\\xi, \\eta | \\zeta) = -1.0$"
      ],
      "text/plain": [
       "<IPython.core.display.Latex object>"
      ]
     },
     "metadata": {},
     "output_type": "display_data"
    }
   ],
   "source": [
    "from scipy.stats import uniform, pearsonr\n",
    "\n",
    "\n",
    "np.random.seed(28)\n",
    "\n",
    "alpha = uniform(0, 2).rvs(size=100)\n",
    "beta = uniform(0, 2).rvs(size=100)\n",
    "\n",
    "zeta = 2 * beta\n",
    "xi = alpha + zeta\n",
    "eta = -alpha + zeta\n",
    "\n",
    "# \"обычный\" выборочный коэффициент корреляции\n",
    "rho_xi_eta = pearsonr(xi, eta)[0]\n",
    "\n",
    "rho_xi_zeta = pearsonr(xi, zeta)[0]\n",
    "rho_eta_zeta = pearsonr(eta, zeta)[0]\n",
    "\n",
    "# частный выборочный коэффициент корреляции\n",
    "num = rho_xi_eta - rho_xi_zeta * rho_eta_zeta\n",
    "\n",
    "denum = np.sqrt((1 - rho_xi_zeta**2) * (1 - rho_eta_zeta**2))\n",
    "display(Latex(rf'$\\rho(\\xi, \\eta) ={round(rho_xi_eta, 2)}$'))\n",
    "display(Latex(rf'$\\rho(\\xi, \\eta | \\zeta) = {round(num/denum, 2)}$'))"
   ]
  },
  {
   "cell_type": "markdown",
   "metadata": {},
   "source": [
    "# 7."
   ]
  },
  {
   "cell_type": "markdown",
   "metadata": {},
   "source": [
    "$$\n",
    "\\alpha, \\beta, \\gamma \\sim U (0, 2);\\\\\n",
    "\\zeta_1 = \\beta,\\\n",
    "\\zeta_2 = 0.5 \\beta + 2 \\gamma; \\\\\n",
    "\\xi = \\alpha + \\zeta_1 + \\zeta_2,\\ \\eta = -\\alpha + \\zeta_1 + \\zeta_2.\n",
    "$$\n",
    "Выкладки аналогичны предыдущему заданию."
   ]
  },
  {
   "cell_type": "code",
   "execution_count": 666,
   "metadata": {},
   "outputs": [
    {
     "name": "stderr",
     "output_type": "stream",
     "text": [
      "/home/iam28th/anaconda3/lib/python3.8/site-packages/pingouin/effsize.py:135: RuntimeWarning: divide by zero encountered in arctanh\n",
      "  z = np.arctanh(stat)  # R-to-z transform\n",
      "/home/iam28th/anaconda3/lib/python3.8/site-packages/pingouin/power.py:899: RuntimeWarning: divide by zero encountered in arctanh\n",
      "  zr = np.arctanh(r) + r / (2 * (n - 1))\n"
     ]
    },
    {
     "data": {
      "text/latex": [
       "$\\rho(\\xi, \\eta) = 0.73$"
      ],
      "text/plain": [
       "<IPython.core.display.Latex object>"
      ]
     },
     "metadata": {},
     "output_type": "display_data"
    },
    {
     "data": {
      "text/latex": [
       "$\\rho(\\zeta_1, \\zeta_2) = 0.31$"
      ],
      "text/plain": [
       "<IPython.core.display.Latex object>"
      ]
     },
     "metadata": {},
     "output_type": "display_data"
    },
    {
     "data": {
      "text/latex": [
       "$\\rho (\\xi, \\eta | \\zeta_1) = 0.59$"
      ],
      "text/plain": [
       "<IPython.core.display.Latex object>"
      ]
     },
     "metadata": {},
     "output_type": "display_data"
    },
    {
     "data": {
      "text/latex": [
       "$\\rho (\\xi, \\eta | \\zeta_1, \\zeta_2) = -1.0$"
      ],
      "text/plain": [
       "<IPython.core.display.Latex object>"
      ]
     },
     "metadata": {},
     "output_type": "display_data"
    }
   ],
   "source": [
    "from scipy.stats import uniform, pearsonr\n",
    "from pingouin import partial_corr\n",
    "\n",
    "np.random.seed(28)\n",
    "\n",
    "alpha = uniform(0, 2).rvs(size=100)\n",
    "beta = uniform(0, 2).rvs(size=100)\n",
    "gamma = uniform(0, 2).rvs(size=100)\n",
    "\n",
    "zeta1 = beta\n",
    "zeta2 = 0.5 * beta + 2 * gamma\n",
    "\n",
    "xi = alpha + zeta1 + zeta2\n",
    "eta = -alpha + zeta1 + zeta2\n",
    "\n",
    "# вычисление коэффициентов корреляции\n",
    "rho_eta_xi = pearsonr(eta, xi)[0]\n",
    "rho_zeta1_zeta2 = pearsonr(zeta1, zeta2)[0]\n",
    "\n",
    "df = pd.DataFrame({'xi': xi, 'eta': eta, 'zeta1': zeta1, 'zeta2': zeta2})\n",
    "part_cor_without_zeta1 = partial_corr(data=df, x='xi', y='eta', covar=['zeta1'])['r'][0]\n",
    "part_cor_without_zeta12 = partial_corr(data=df, x='xi', y='eta', covar=['zeta1', 'zeta2'])['r'][0]\n",
    "\n",
    "display(Latex(fr'$\\rho(\\xi, \\eta) = {round(rho_eta_xi, 2)}$'))\n",
    "display(Latex(fr'$\\rho(\\zeta_1, \\zeta_2) = {round(rho_zeta1_zeta2, 2)}$'))\n",
    "display(Latex(fr'$\\rho (\\xi, \\eta | \\zeta_1) = {round(part_cor_without_zeta1, 2)}$'))\n",
    "display(Latex((fr\"$\\rho (\\xi, \\eta | \\zeta_1, \\zeta_2) = {part_cor_without_zeta12}$\")))"
   ]
  },
  {
   "cell_type": "markdown",
   "metadata": {},
   "source": [
    "# 8."
   ]
  },
  {
   "cell_type": "code",
   "execution_count": 765,
   "metadata": {},
   "outputs": [
    {
     "data": {
      "text/html": [
       "<div>\n",
       "<style scoped>\n",
       "    .dataframe tbody tr th:only-of-type {\n",
       "        vertical-align: middle;\n",
       "    }\n",
       "\n",
       "    .dataframe tbody tr th {\n",
       "        vertical-align: top;\n",
       "    }\n",
       "\n",
       "    .dataframe thead th {\n",
       "        text-align: right;\n",
       "    }\n",
       "</style>\n",
       "<table border=\"1\" class=\"dataframe\">\n",
       "  <thead>\n",
       "    <tr style=\"text-align: right;\">\n",
       "      <th></th>\n",
       "      <th>y</th>\n",
       "      <th>x1</th>\n",
       "      <th>x2</th>\n",
       "    </tr>\n",
       "  </thead>\n",
       "  <tbody>\n",
       "    <tr>\n",
       "      <th>0</th>\n",
       "      <td>7.812854e-01</td>\n",
       "      <td>1</td>\n",
       "      <td>1.000000</td>\n",
       "    </tr>\n",
       "    <tr>\n",
       "      <th>1</th>\n",
       "      <td>1.251429e+01</td>\n",
       "      <td>2</td>\n",
       "      <td>2.689655</td>\n",
       "    </tr>\n",
       "    <tr>\n",
       "      <th>2</th>\n",
       "      <td>5.313697e+00</td>\n",
       "      <td>3</td>\n",
       "      <td>4.379310</td>\n",
       "    </tr>\n",
       "    <tr>\n",
       "      <th>3</th>\n",
       "      <td>6.606208e+00</td>\n",
       "      <td>4</td>\n",
       "      <td>6.068966</td>\n",
       "    </tr>\n",
       "    <tr>\n",
       "      <th>4</th>\n",
       "      <td>4.285096e+01</td>\n",
       "      <td>5</td>\n",
       "      <td>7.758621</td>\n",
       "    </tr>\n",
       "    <tr>\n",
       "      <th>5</th>\n",
       "      <td>4.067813e+02</td>\n",
       "      <td>6</td>\n",
       "      <td>9.448276</td>\n",
       "    </tr>\n",
       "    <tr>\n",
       "      <th>6</th>\n",
       "      <td>2.687285e+02</td>\n",
       "      <td>7</td>\n",
       "      <td>11.137931</td>\n",
       "    </tr>\n",
       "    <tr>\n",
       "      <th>7</th>\n",
       "      <td>2.972881e+02</td>\n",
       "      <td>8</td>\n",
       "      <td>12.827586</td>\n",
       "    </tr>\n",
       "    <tr>\n",
       "      <th>8</th>\n",
       "      <td>3.583082e+02</td>\n",
       "      <td>9</td>\n",
       "      <td>14.517241</td>\n",
       "    </tr>\n",
       "    <tr>\n",
       "      <th>9</th>\n",
       "      <td>1.004041e+03</td>\n",
       "      <td>10</td>\n",
       "      <td>16.206897</td>\n",
       "    </tr>\n",
       "    <tr>\n",
       "      <th>10</th>\n",
       "      <td>4.366408e+03</td>\n",
       "      <td>11</td>\n",
       "      <td>17.896552</td>\n",
       "    </tr>\n",
       "    <tr>\n",
       "      <th>11</th>\n",
       "      <td>5.630030e+02</td>\n",
       "      <td>12</td>\n",
       "      <td>19.586207</td>\n",
       "    </tr>\n",
       "    <tr>\n",
       "      <th>12</th>\n",
       "      <td>6.967175e+03</td>\n",
       "      <td>13</td>\n",
       "      <td>21.275862</td>\n",
       "    </tr>\n",
       "    <tr>\n",
       "      <th>13</th>\n",
       "      <td>4.451675e+03</td>\n",
       "      <td>14</td>\n",
       "      <td>22.965517</td>\n",
       "    </tr>\n",
       "    <tr>\n",
       "      <th>14</th>\n",
       "      <td>6.495978e+04</td>\n",
       "      <td>15</td>\n",
       "      <td>24.655172</td>\n",
       "    </tr>\n",
       "    <tr>\n",
       "      <th>15</th>\n",
       "      <td>3.454820e+05</td>\n",
       "      <td>16</td>\n",
       "      <td>26.344828</td>\n",
       "    </tr>\n",
       "    <tr>\n",
       "      <th>16</th>\n",
       "      <td>1.012072e+05</td>\n",
       "      <td>17</td>\n",
       "      <td>28.034483</td>\n",
       "    </tr>\n",
       "    <tr>\n",
       "      <th>17</th>\n",
       "      <td>2.870440e+05</td>\n",
       "      <td>18</td>\n",
       "      <td>29.724138</td>\n",
       "    </tr>\n",
       "    <tr>\n",
       "      <th>18</th>\n",
       "      <td>4.208430e+05</td>\n",
       "      <td>19</td>\n",
       "      <td>31.413793</td>\n",
       "    </tr>\n",
       "    <tr>\n",
       "      <th>19</th>\n",
       "      <td>2.108997e+06</td>\n",
       "      <td>20</td>\n",
       "      <td>33.103448</td>\n",
       "    </tr>\n",
       "    <tr>\n",
       "      <th>20</th>\n",
       "      <td>2.410510e+06</td>\n",
       "      <td>21</td>\n",
       "      <td>34.793103</td>\n",
       "    </tr>\n",
       "    <tr>\n",
       "      <th>21</th>\n",
       "      <td>2.345626e+06</td>\n",
       "      <td>22</td>\n",
       "      <td>36.482759</td>\n",
       "    </tr>\n",
       "    <tr>\n",
       "      <th>22</th>\n",
       "      <td>8.035509e+06</td>\n",
       "      <td>23</td>\n",
       "      <td>38.172414</td>\n",
       "    </tr>\n",
       "    <tr>\n",
       "      <th>23</th>\n",
       "      <td>2.192479e+07</td>\n",
       "      <td>24</td>\n",
       "      <td>39.862069</td>\n",
       "    </tr>\n",
       "    <tr>\n",
       "      <th>24</th>\n",
       "      <td>7.291463e+07</td>\n",
       "      <td>25</td>\n",
       "      <td>41.551724</td>\n",
       "    </tr>\n",
       "    <tr>\n",
       "      <th>25</th>\n",
       "      <td>1.324058e+08</td>\n",
       "      <td>26</td>\n",
       "      <td>43.241379</td>\n",
       "    </tr>\n",
       "    <tr>\n",
       "      <th>26</th>\n",
       "      <td>5.540848e+07</td>\n",
       "      <td>27</td>\n",
       "      <td>44.931034</td>\n",
       "    </tr>\n",
       "    <tr>\n",
       "      <th>27</th>\n",
       "      <td>3.489009e+08</td>\n",
       "      <td>28</td>\n",
       "      <td>46.620690</td>\n",
       "    </tr>\n",
       "    <tr>\n",
       "      <th>28</th>\n",
       "      <td>4.972931e+08</td>\n",
       "      <td>29</td>\n",
       "      <td>48.310345</td>\n",
       "    </tr>\n",
       "    <tr>\n",
       "      <th>29</th>\n",
       "      <td>6.154668e+08</td>\n",
       "      <td>30</td>\n",
       "      <td>50.000000</td>\n",
       "    </tr>\n",
       "  </tbody>\n",
       "</table>\n",
       "</div>"
      ],
      "text/plain": [
       "               y  x1         x2\n",
       "0   7.812854e-01   1   1.000000\n",
       "1   1.251429e+01   2   2.689655\n",
       "2   5.313697e+00   3   4.379310\n",
       "3   6.606208e+00   4   6.068966\n",
       "4   4.285096e+01   5   7.758621\n",
       "5   4.067813e+02   6   9.448276\n",
       "6   2.687285e+02   7  11.137931\n",
       "7   2.972881e+02   8  12.827586\n",
       "8   3.583082e+02   9  14.517241\n",
       "9   1.004041e+03  10  16.206897\n",
       "10  4.366408e+03  11  17.896552\n",
       "11  5.630030e+02  12  19.586207\n",
       "12  6.967175e+03  13  21.275862\n",
       "13  4.451675e+03  14  22.965517\n",
       "14  6.495978e+04  15  24.655172\n",
       "15  3.454820e+05  16  26.344828\n",
       "16  1.012072e+05  17  28.034483\n",
       "17  2.870440e+05  18  29.724138\n",
       "18  4.208430e+05  19  31.413793\n",
       "19  2.108997e+06  20  33.103448\n",
       "20  2.410510e+06  21  34.793103\n",
       "21  2.345626e+06  22  36.482759\n",
       "22  8.035509e+06  23  38.172414\n",
       "23  2.192479e+07  24  39.862069\n",
       "24  7.291463e+07  25  41.551724\n",
       "25  1.324058e+08  26  43.241379\n",
       "26  5.540848e+07  27  44.931034\n",
       "27  3.489009e+08  28  46.620690\n",
       "28  4.972931e+08  29  48.310345\n",
       "29  6.154668e+08  30  50.000000"
      ]
     },
     "execution_count": 765,
     "metadata": {},
     "output_type": "execute_result"
    }
   ],
   "source": [
    "from scipy.stats import norm\n",
    "from math import e\n",
    "\n",
    "np.random.seed(28)\n",
    "\n",
    "# генерация выборки\n",
    "sample_size = 30\n",
    "x1 = np.arange(1, sample_size + 1, 1)\n",
    "x2 = np.linspace(1, 50, sample_size)\n",
    "\n",
    "beta = np.array([0.5, 0.6, 0.13])\n",
    "\n",
    "e_distr = norm(0, 1)\n",
    "\n",
    "y = np.zeros(sample_size)\n",
    "for i in range(sample_size):\n",
    "    y[i] = beta[0] * e**(beta[1] * i) * x1[i]**beta[2] * x2[i]**(1-beta[2]) * e**(e_distr.rvs())\n",
    "    \n",
    "pd.DataFrame({'y': y, 'x1': x1, 'x2': x2})"
   ]
  },
  {
   "cell_type": "code",
   "execution_count": 726,
   "metadata": {},
   "outputs": [
    {
     "data": {
      "text/latex": [
       "$R^2_1 = 0.975$"
      ],
      "text/plain": [
       "<IPython.core.display.Latex object>"
      ]
     },
     "metadata": {},
     "output_type": "display_data"
    }
   ],
   "source": [
    "# первая модель\n",
    "Y1 = np.log(y / x2)\n",
    "X1 = pd.DataFrame({'x0': 1, \n",
    "                   'x1': np.arange(1, sample_size+1), \n",
    "                   'x2': np.log(x1 / x2)})\n",
    "\n",
    "beta1 = np.linalg.lstsq(X1, Y1, rcond=None)[0]\n",
    "\n",
    "y1_mean = np.mean(Y1)\n",
    "R2_1 = np.sum((X1 @ beta1 - y1_mean)**2) / np.sum((Y1 - y1_mean)**2)\n",
    "display(Latex(fr\"$R^2_1 = {round(R2_1, 3)}$\"))"
   ]
  },
  {
   "cell_type": "code",
   "execution_count": 750,
   "metadata": {},
   "outputs": [
    {
     "data": {
      "text/latex": [
       "$R^2_2 = 0.982$"
      ],
      "text/plain": [
       "<IPython.core.display.Latex object>"
      ]
     },
     "metadata": {},
     "output_type": "display_data"
    }
   ],
   "source": [
    "# вторая модель\n",
    "Y2 = np.log(y)\n",
    "X2 = pd.DataFrame({'x0': 1,\n",
    "                   'x1': np.arange(1, sample_size + 1)})\n",
    "\n",
    "beta2 = np.linalg.lstsq(X2, Y2, rcond=None)[0]\n",
    "\n",
    "y2_mean = np.mean(Y2)\n",
    "R2_2 = np.sum((X2 @ beta2 - y2_mean)**2) / np.sum((Y2 - y2_mean)**2)\n",
    "display(Latex(fr\"$R^2_2 = {round(R2_2, 3)}$\"))"
   ]
  },
  {
   "cell_type": "markdown",
   "metadata": {},
   "source": [
    "Предположительно, вторая модель выдёт более высокий $R^2$ потому что для данной упорядоченной выборки целевую переменную можно хорошо приблизить некоторой последовательностью."
   ]
  }
 ],
 "metadata": {
  "kernelspec": {
   "display_name": "Python 3",
   "language": "python",
   "name": "python3"
  },
  "language_info": {
   "codemirror_mode": {
    "name": "ipython",
    "version": 3
   },
   "file_extension": ".py",
   "mimetype": "text/x-python",
   "name": "python",
   "nbconvert_exporter": "python",
   "pygments_lexer": "ipython3",
   "version": "3.8.5"
  },
  "toc": {
   "base_numbering": 1,
   "nav_menu": {},
   "number_sections": false,
   "sideBar": true,
   "skip_h1_title": false,
   "title_cell": "Table of Contents",
   "title_sidebar": "Contents",
   "toc_cell": false,
   "toc_position": {
    "height": "calc(100% - 180px)",
    "left": "10px",
    "top": "150px",
    "width": "274.333px"
   },
   "toc_section_display": true,
   "toc_window_display": true
  }
 },
 "nbformat": 4,
 "nbformat_minor": 4
}
