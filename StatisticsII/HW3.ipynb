{
 "cells": [
  {
   "cell_type": "code",
   "execution_count": 481,
   "metadata": {},
   "outputs": [
    {
     "name": "stdout",
     "output_type": "stream",
     "text": [
      "The rpy2.ipython extension is already loaded. To reload it, use:\n",
      "  %reload_ext rpy2.ipython\n"
     ]
    }
   ],
   "source": [
    "import functools\n",
    "import itertools\n",
    "\n",
    "import pandas as pd\n",
    "import numpy as np\n",
    "import scipy as sp\n",
    "import statsmodels.api as sm\n",
    "import scipy.stats\n",
    "\n",
    "import matplotlib.pyplot as plt\n",
    "import seaborn as sns\n",
    "\n",
    "from IPython.display import display, Latex\n",
    "from tqdm import tqdm, trange\n",
    "\n",
    "from rpy2.robjects import r, pandas2ri\n",
    "import rpy2.robjects as ro\n",
    "from rpy2.robjects.conversion import localconverter\n",
    "\n",
    "def pandas_py2r(df, name):\n",
    "    '''Записывает датафрейм df из среды Питона в среду R в переменную name'''\n",
    "    with localconverter(ro.default_converter + pandas2ri.converter):\n",
    "        r_from_pd_df = ro.conversion.py2rpy(df)\n",
    "    ro.globalenv[name] = r_from_pd_df\n",
    "    \n",
    "%load_ext rpy2.ipython"
   ]
  },
  {
   "cell_type": "code",
   "execution_count": 3,
   "metadata": {},
   "outputs": [
    {
     "data": {
      "text/html": [
       "<div>\n",
       "<style scoped>\n",
       "    .dataframe tbody tr th:only-of-type {\n",
       "        vertical-align: middle;\n",
       "    }\n",
       "\n",
       "    .dataframe tbody tr th {\n",
       "        vertical-align: top;\n",
       "    }\n",
       "\n",
       "    .dataframe thead th {\n",
       "        text-align: right;\n",
       "    }\n",
       "</style>\n",
       "<table border=\"1\" class=\"dataframe\">\n",
       "  <thead>\n",
       "    <tr style=\"text-align: right;\">\n",
       "      <th></th>\n",
       "      <th>Ex1a.y</th>\n",
       "      <th>Ex1a.x1</th>\n",
       "      <th>Ex1a.x2</th>\n",
       "      <th>Ex1a.x3</th>\n",
       "      <th>Ex1b.y</th>\n",
       "      <th>Ex1b.x1</th>\n",
       "      <th>Ex1b.x2</th>\n",
       "      <th>Ex1b.x3</th>\n",
       "      <th>Ex2.y</th>\n",
       "      <th>Ex2.x1</th>\n",
       "      <th>...</th>\n",
       "      <th>Ex5.x2</th>\n",
       "      <th>Ex5.x3</th>\n",
       "      <th>Ex5.x4</th>\n",
       "      <th>Ex5.x5</th>\n",
       "      <th>Ex5.x6</th>\n",
       "      <th>Ex5.x7</th>\n",
       "      <th>Ex5.x8</th>\n",
       "      <th>Ex5.x9</th>\n",
       "      <th>Ex5.x10</th>\n",
       "      <th>Ex5.x11</th>\n",
       "    </tr>\n",
       "  </thead>\n",
       "  <tbody>\n",
       "    <tr>\n",
       "      <th>0</th>\n",
       "      <td>8.399957</td>\n",
       "      <td>-0.578567</td>\n",
       "      <td>-0.231104</td>\n",
       "      <td>1.606654</td>\n",
       "      <td>5.816002</td>\n",
       "      <td>-0.406706</td>\n",
       "      <td>1.419268</td>\n",
       "      <td>1.715658</td>\n",
       "      <td>6.161514</td>\n",
       "      <td>7.938226</td>\n",
       "      <td>...</td>\n",
       "      <td>96.966764</td>\n",
       "      <td>2.079442</td>\n",
       "      <td>-0.087605</td>\n",
       "      <td>2.014537</td>\n",
       "      <td>-3.462460</td>\n",
       "      <td>2.418999</td>\n",
       "      <td>0.567154</td>\n",
       "      <td>2</td>\n",
       "      <td>4</td>\n",
       "      <td>0.854740</td>\n",
       "    </tr>\n",
       "    <tr>\n",
       "      <th>1</th>\n",
       "      <td>1.634655</td>\n",
       "      <td>-0.778309</td>\n",
       "      <td>0.297055</td>\n",
       "      <td>-1.468423</td>\n",
       "      <td>-4.858844</td>\n",
       "      <td>-0.741628</td>\n",
       "      <td>0.034264</td>\n",
       "      <td>-2.740382</td>\n",
       "      <td>-5.565632</td>\n",
       "      <td>3.859199</td>\n",
       "      <td>...</td>\n",
       "      <td>103.965235</td>\n",
       "      <td>2.564949</td>\n",
       "      <td>-2.934512</td>\n",
       "      <td>3.410054</td>\n",
       "      <td>3.898134</td>\n",
       "      <td>2.171806</td>\n",
       "      <td>0.503318</td>\n",
       "      <td>0</td>\n",
       "      <td>2</td>\n",
       "      <td>-2.755416</td>\n",
       "    </tr>\n",
       "    <tr>\n",
       "      <th>2</th>\n",
       "      <td>0.947989</td>\n",
       "      <td>-0.684660</td>\n",
       "      <td>-0.278228</td>\n",
       "      <td>-0.938922</td>\n",
       "      <td>11.166682</td>\n",
       "      <td>0.840191</td>\n",
       "      <td>-1.191674</td>\n",
       "      <td>1.620678</td>\n",
       "      <td>4.135642</td>\n",
       "      <td>7.101848</td>\n",
       "      <td>...</td>\n",
       "      <td>100.866511</td>\n",
       "      <td>2.484907</td>\n",
       "      <td>-0.398981</td>\n",
       "      <td>2.540265</td>\n",
       "      <td>0.456881</td>\n",
       "      <td>1.013894</td>\n",
       "      <td>0.227123</td>\n",
       "      <td>3</td>\n",
       "      <td>2</td>\n",
       "      <td>-0.930360</td>\n",
       "    </tr>\n",
       "    <tr>\n",
       "      <th>3</th>\n",
       "      <td>1.619562</td>\n",
       "      <td>-0.002725</td>\n",
       "      <td>-2.049381</td>\n",
       "      <td>0.061738</td>\n",
       "      <td>-1.095769</td>\n",
       "      <td>-0.536900</td>\n",
       "      <td>0.737190</td>\n",
       "      <td>-0.984292</td>\n",
       "      <td>-11.639614</td>\n",
       "      <td>1.497553</td>\n",
       "      <td>...</td>\n",
       "      <td>101.483493</td>\n",
       "      <td>2.484907</td>\n",
       "      <td>0.049122</td>\n",
       "      <td>3.255772</td>\n",
       "      <td>1.426734</td>\n",
       "      <td>1.433352</td>\n",
       "      <td>0.323969</td>\n",
       "      <td>3</td>\n",
       "      <td>2</td>\n",
       "      <td>-0.101315</td>\n",
       "    </tr>\n",
       "    <tr>\n",
       "      <th>4</th>\n",
       "      <td>-0.834499</td>\n",
       "      <td>1.868469</td>\n",
       "      <td>0.308913</td>\n",
       "      <td>-1.103748</td>\n",
       "      <td>4.644099</td>\n",
       "      <td>-0.362526</td>\n",
       "      <td>1.064327</td>\n",
       "      <td>1.275186</td>\n",
       "      <td>-17.554264</td>\n",
       "      <td>2.572835</td>\n",
       "      <td>...</td>\n",
       "      <td>99.922260</td>\n",
       "      <td>2.995732</td>\n",
       "      <td>-2.038997</td>\n",
       "      <td>3.681475</td>\n",
       "      <td>-0.390280</td>\n",
       "      <td>0.687196</td>\n",
       "      <td>0.153218</td>\n",
       "      <td>1</td>\n",
       "      <td>5</td>\n",
       "      <td>2.890657</td>\n",
       "    </tr>\n",
       "  </tbody>\n",
       "</table>\n",
       "<p>5 rows × 35 columns</p>\n",
       "</div>"
      ],
      "text/plain": [
       "     Ex1a.y   Ex1a.x1   Ex1a.x2   Ex1a.x3     Ex1b.y   Ex1b.x1   Ex1b.x2  \\\n",
       "0  8.399957 -0.578567 -0.231104  1.606654   5.816002 -0.406706  1.419268   \n",
       "1  1.634655 -0.778309  0.297055 -1.468423  -4.858844 -0.741628  0.034264   \n",
       "2  0.947989 -0.684660 -0.278228 -0.938922  11.166682  0.840191 -1.191674   \n",
       "3  1.619562 -0.002725 -2.049381  0.061738  -1.095769 -0.536900  0.737190   \n",
       "4 -0.834499  1.868469  0.308913 -1.103748   4.644099 -0.362526  1.064327   \n",
       "\n",
       "    Ex1b.x3      Ex2.y    Ex2.x1  ...      Ex5.x2    Ex5.x3    Ex5.x4  \\\n",
       "0  1.715658   6.161514  7.938226  ...   96.966764  2.079442 -0.087605   \n",
       "1 -2.740382  -5.565632  3.859199  ...  103.965235  2.564949 -2.934512   \n",
       "2  1.620678   4.135642  7.101848  ...  100.866511  2.484907 -0.398981   \n",
       "3 -0.984292 -11.639614  1.497553  ...  101.483493  2.484907  0.049122   \n",
       "4  1.275186 -17.554264  2.572835  ...   99.922260  2.995732 -2.038997   \n",
       "\n",
       "     Ex5.x5    Ex5.x6    Ex5.x7    Ex5.x8  Ex5.x9  Ex5.x10   Ex5.x11  \n",
       "0  2.014537 -3.462460  2.418999  0.567154       2        4  0.854740  \n",
       "1  3.410054  3.898134  2.171806  0.503318       0        2 -2.755416  \n",
       "2  2.540265  0.456881  1.013894  0.227123       3        2 -0.930360  \n",
       "3  3.255772  1.426734  1.433352  0.323969       3        2 -0.101315  \n",
       "4  3.681475 -0.390280  0.687196  0.153218       1        5  2.890657  \n",
       "\n",
       "[5 rows x 35 columns]"
      ]
     },
     "execution_count": 3,
     "metadata": {},
     "output_type": "execute_result"
    }
   ],
   "source": [
    "df = pd.read_csv('IB_statistics_data_hw2.3.txt', sep=' ')\n",
    "df.head()"
   ]
  },
  {
   "cell_type": "markdown",
   "metadata": {},
   "source": [
    "# 1.\n",
    "## a)\n",
    "\n",
    "Поскольку ковариационная матрица не вырождена, то можно воспользоваться обобщённым МНК:\n",
    "$$\n",
    "\\hat \\beta = (\\mathbb X^T V_n^{-1} \\mathbb X) ^ {-1} \\mathbb X^T V_n^{-1} \\mathbb Y = \n",
    "B^{-1}\\mathbb X^T V_n^{-1} \\mathbb Y\n",
    "$$"
   ]
  },
  {
   "cell_type": "code",
   "execution_count": 4,
   "metadata": {},
   "outputs": [
    {
     "data": {
      "text/latex": [
       "$V_n = $"
      ],
      "text/plain": [
       "<IPython.core.display.Latex object>"
      ]
     },
     "metadata": {},
     "output_type": "display_data"
    },
    {
     "data": {
      "text/plain": [
       "array([[2., 1., 1., ..., 1., 1., 1.],\n",
       "       [1., 2., 1., ..., 1., 1., 1.],\n",
       "       [1., 1., 2., ..., 1., 1., 1.],\n",
       "       ...,\n",
       "       [1., 1., 1., ..., 2., 1., 1.],\n",
       "       [1., 1., 1., ..., 1., 2., 1.],\n",
       "       [1., 1., 1., ..., 1., 1., 2.]])"
      ]
     },
     "execution_count": 4,
     "metadata": {},
     "output_type": "execute_result"
    }
   ],
   "source": [
    "X, Y = df.loc[:, 'Ex1a.x1':'Ex1a.x3'], df['Ex1a.y']\n",
    "X.columns = ['x1', 'x2', 'x3']\n",
    "n, m = X.shape\n",
    "\n",
    "X.insert(0, 'x0', 1)\n",
    "\n",
    "display(Latex('$V_n = $'))\n",
    "V = np.eye(n) + np.ones(shape=(n, n))\n",
    "V"
   ]
  },
  {
   "cell_type": "code",
   "execution_count": 5,
   "metadata": {},
   "outputs": [
    {
     "data": {
      "text/latex": [
       "$\\hat \\beta =$"
      ],
      "text/plain": [
       "<IPython.core.display.Latex object>"
      ]
     },
     "metadata": {},
     "output_type": "display_data"
    },
    {
     "data": {
      "text/plain": [
       "0    4.796692\n",
       "1   -0.999798\n",
       "2    2.029286\n",
       "3    2.986783\n",
       "dtype: float64"
      ]
     },
     "execution_count": 5,
     "metadata": {},
     "output_type": "execute_result"
    }
   ],
   "source": [
    "V_inv = np.linalg.inv(V)\n",
    "\n",
    "B = X.transpose() @ V_inv @ X\n",
    "B_inv = np.linalg.inv(B)\n",
    "\n",
    "beta = B_inv @ X.transpose() @ V_inv @ Y\n",
    "display(Latex(r'$\\hat \\beta =$'))\n",
    "beta"
   ]
  },
  {
   "cell_type": "markdown",
   "metadata": {},
   "source": [
    "## b)"
   ]
  },
  {
   "cell_type": "code",
   "execution_count": 6,
   "metadata": {},
   "outputs": [
    {
     "data": {
      "text/latex": [
       "$V_n=$"
      ],
      "text/plain": [
       "<IPython.core.display.Latex object>"
      ]
     },
     "metadata": {},
     "output_type": "display_data"
    },
    {
     "data": {
      "text/plain": [
       "array([[2., 1., 1., ..., 1., 1., 2.],\n",
       "       [1., 2., 1., ..., 1., 1., 2.],\n",
       "       [1., 1., 2., ..., 1., 1., 2.],\n",
       "       ...,\n",
       "       [1., 1., 1., ..., 2., 1., 2.],\n",
       "       [1., 1., 1., ..., 1., 2., 4.],\n",
       "       [2., 2., 2., ..., 2., 4., 8.]])"
      ]
     },
     "execution_count": 6,
     "metadata": {},
     "output_type": "execute_result"
    }
   ],
   "source": [
    "X, Y = df.loc[:, 'Ex1b.x1':'Ex1b.x3'], df['Ex1b.y']\n",
    "X.columns = ['x1', 'x2', 'x3']\n",
    "n, m = X.shape\n",
    "\n",
    "X.insert(0, 'x0', 1)\n",
    "\n",
    "V = np.eye(n) + np.ones(shape=(n, n))\n",
    "V[-1, :] = V[:, -1] = 2\n",
    "V[-1, -2] = V[-2, -1] = 4\n",
    "V[-1, -1] = 8\n",
    "display(Latex(r'$V_n=$'))\n",
    "V"
   ]
  },
  {
   "cell_type": "markdown",
   "metadata": {},
   "source": [
    "### Вариант 1\n",
    "Использовать псевдообратную матрицу:"
   ]
  },
  {
   "cell_type": "code",
   "execution_count": 7,
   "metadata": {},
   "outputs": [
    {
     "data": {
      "text/latex": [
       "$\\hat \\beta =$"
      ],
      "text/plain": [
       "<IPython.core.display.Latex object>"
      ]
     },
     "metadata": {},
     "output_type": "display_data"
    },
    {
     "data": {
      "text/plain": [
       "0    3.661509\n",
       "1    0.944773\n",
       "2   -1.872425\n",
       "3    3.034140\n",
       "dtype: float64"
      ]
     },
     "execution_count": 7,
     "metadata": {},
     "output_type": "execute_result"
    }
   ],
   "source": [
    "V_pinv = np.linalg.pinv(V)\n",
    "\n",
    "B = X.transpose() @ V_pinv @ X\n",
    "B_inv = np.linalg.inv(B)\n",
    "\n",
    "beta = B_inv @ X.transpose() @ V_pinv @ Y\n",
    "display(Latex(r'$\\hat \\beta =$'))\n",
    "beta"
   ]
  },
  {
   "cell_type": "markdown",
   "metadata": {},
   "source": [
    "### Вариант 2\n",
    "Всего есть 230 наблюдений, и вклад одного конкретного наблюдения в модель будет незначителен.\n",
    "\n",
    "Ошибки в последнем наблюдении \"плохие\", можно его выбросить - тогда у матрицы ковариации ошибок будет существовать обратная матрица, и мы снова сможем воспользоваться обобщённым МНК.\n"
   ]
  },
  {
   "cell_type": "code",
   "execution_count": 8,
   "metadata": {},
   "outputs": [
    {
     "data": {
      "text/latex": [
       "$V_{n2} = $"
      ],
      "text/plain": [
       "<IPython.core.display.Latex object>"
      ]
     },
     "metadata": {},
     "output_type": "display_data"
    },
    {
     "data": {
      "text/plain": [
       "array([[2., 1., 1., ..., 1., 1., 1.],\n",
       "       [1., 2., 1., ..., 1., 1., 1.],\n",
       "       [1., 1., 2., ..., 1., 1., 1.],\n",
       "       ...,\n",
       "       [1., 1., 1., ..., 2., 1., 1.],\n",
       "       [1., 1., 1., ..., 1., 2., 1.],\n",
       "       [1., 1., 1., ..., 1., 1., 2.]])"
      ]
     },
     "execution_count": 8,
     "metadata": {},
     "output_type": "execute_result"
    }
   ],
   "source": [
    "X2 = X.iloc[:-1, :]\n",
    "Y2 = Y[:-1]\n",
    "V2 = V[:-1, :-1]\n",
    "display(Latex(r\"$V_{n2} = $\"))\n",
    "V2"
   ]
  },
  {
   "cell_type": "code",
   "execution_count": 9,
   "metadata": {},
   "outputs": [
    {
     "data": {
      "text/latex": [
       "$\\hat \\beta =$"
      ],
      "text/plain": [
       "<IPython.core.display.Latex object>"
      ]
     },
     "metadata": {},
     "output_type": "display_data"
    },
    {
     "data": {
      "text/plain": [
       "0    3.561558\n",
       "1    0.944417\n",
       "2   -1.874056\n",
       "3    3.034178\n",
       "dtype: float64"
      ]
     },
     "execution_count": 9,
     "metadata": {},
     "output_type": "execute_result"
    }
   ],
   "source": [
    "V2_inv = np.linalg.inv(V2)\n",
    "\n",
    "B2 = X2.transpose() @ V2_inv @ X2\n",
    "B2_inv = np.linalg.inv(B2)\n",
    "\n",
    "beta = B2_inv @ X2.transpose() @ V2_inv @ Y2\n",
    "display(Latex(r'$\\hat \\beta =$'))\n",
    "beta"
   ]
  },
  {
   "cell_type": "markdown",
   "metadata": {},
   "source": [
    "*P.S*. Я бы выбрал второй вариант."
   ]
  },
  {
   "cell_type": "markdown",
   "metadata": {},
   "source": [
    "# 2."
   ]
  },
  {
   "cell_type": "code",
   "execution_count": 711,
   "metadata": {},
   "outputs": [],
   "source": [
    "X = df.loc[:, 'Ex2.x1':'Ex2.x4']\n",
    "X.columns = ['x1', 'x2', 'x3', 'x4']\n",
    "n, m = X.shape\n",
    "\n",
    "X.insert(0, 'x0', 1)\n",
    "\n",
    "Y = df['Ex2.y']"
   ]
  },
  {
   "cell_type": "markdown",
   "metadata": {},
   "source": [
    "Для сравнения моделей будем использовать $R^2_{adj}$."
   ]
  },
  {
   "cell_type": "code",
   "execution_count": 709,
   "metadata": {},
   "outputs": [],
   "source": [
    "def R2adj(Y_pred, Y_true, n, m):\n",
    "    # n - число наблюдений\n",
    "    # m - число независимых переменных\n",
    "    num = np.sum((Y_true - Y_pred)**2)\n",
    "    denum = np.sum((Y_true - Y_true.mean())**2)\n",
    "    \n",
    "    return 1 - num / denum * (n - 1) / (n - m)"
   ]
  },
  {
   "cell_type": "markdown",
   "metadata": {},
   "source": [
    "### 1)\n",
    "Ковариационная матрица ошибок имеет вид $\\sigma^2 \\mathbb 1$"
   ]
  },
  {
   "cell_type": "code",
   "execution_count": 712,
   "metadata": {},
   "outputs": [
    {
     "data": {
      "text/latex": [
       "$\\hat \\beta = $"
      ],
      "text/plain": [
       "<IPython.core.display.Latex object>"
      ]
     },
     "metadata": {},
     "output_type": "display_data"
    },
    {
     "name": "stdout",
     "output_type": "stream",
     "text": [
      "0.211\n",
      "1.022\n",
      "0.981\n",
      "-0.013\n",
      "-0.3\n"
     ]
    },
    {
     "data": {
      "text/latex": [
       "$s^2 = 1.347$"
      ],
      "text/plain": [
       "<IPython.core.display.Latex object>"
      ]
     },
     "metadata": {},
     "output_type": "display_data"
    }
   ],
   "source": [
    "# Обычный МНК\n",
    "beta = np.linalg.lstsq(X, Y, rcond=None)[0]   \n",
    "\n",
    "s2 = (Y - X @ beta).transpose() @ (Y - X @ beta) / (n - m)\n",
    "display(Latex(fr'$\\hat \\beta = $'))\n",
    "print(*[round(b, 3) for b in beta], sep='\\n')\n",
    "display(Latex(fr'$s^2 = {round(s2, 3)}$'))"
   ]
  },
  {
   "cell_type": "code",
   "execution_count": 713,
   "metadata": {},
   "outputs": [
    {
     "data": {
      "text/plain": [
       "0.9999906937211583"
      ]
     },
     "execution_count": 713,
     "metadata": {},
     "output_type": "execute_result"
    }
   ],
   "source": [
    "R_1 = R2adj(Y, X @ beta, n, m)\n",
    "R_1"
   ]
  },
  {
   "attachments": {
    "image.png": {
     "image/png": "[encoded data removed]"
    }
   },
   "cell_type": "markdown",
   "metadata": {},
   "source": [
    "### 2)\n",
    "* Матрица ковариаций ошибок имеет вид:\n",
    "![image.png](attachment:image.png)\n",
    "где $\\omega_i = 1 + \\frac{i}{n}$."
   ]
  },
  {
   "cell_type": "markdown",
   "metadata": {},
   "source": [
    "Оценим парамер $\\sigma^2$. Для этого обычным МНК получим оценку $\\hat \\beta$ и составим вектор, $i$-я координата которого равна $Res_i^2 = \\left(y_i - (\\hat \\beta, x_i)\\right)^2$ и является оценкой для\n",
    "$\\sigma^2 \\omega_i$.\n",
    "\n",
    "Найдём оценку для $\\sigma^2$:\n",
    "$$\n",
    "s^2 = \\text{argmin} \\sum_i (\\sigma^2 \\omega_i - Res_i^2)^2\n",
    "$$"
   ]
  },
  {
   "cell_type": "code",
   "execution_count": 714,
   "metadata": {},
   "outputs": [
    {
     "data": {
      "text/latex": [
       "$s^2 = 0.881$"
      ],
      "text/plain": [
       "<IPython.core.display.Latex object>"
      ]
     },
     "metadata": {},
     "output_type": "display_data"
    }
   ],
   "source": [
    "Res2 = (Y - X @ beta )**2  # вектор квадратов остатков\n",
    "omega = np.array([1 + i / n for i in range(1, n + 1)])\n",
    "\n",
    "s2 = sp.optimize.minimize(lambda sigma2: np.sum(((sigma2 * omega) - Res2))**2, Res.mean()).x[0]\n",
    "display(Latex(rf'$s^2 = {round(s2, 3)}$'))"
   ]
  },
  {
   "cell_type": "markdown",
   "metadata": {},
   "source": [
    "Тогда оценка матрици ковариации будет иметь вид:"
   ]
  },
  {
   "cell_type": "code",
   "execution_count": 715,
   "metadata": {},
   "outputs": [
    {
     "data": {
      "text/latex": [
       "$V_n = $"
      ],
      "text/plain": [
       "<IPython.core.display.Latex object>"
      ]
     },
     "metadata": {},
     "output_type": "display_data"
    },
    {
     "data": {
      "text/plain": [
       "array([[0.885, 0.   , 0.   , ..., 0.   , 0.   , 0.   ],\n",
       "       [0.   , 0.889, 0.   , ..., 0.   , 0.   , 0.   ],\n",
       "       [0.   , 0.   , 0.893, ..., 0.   , 0.   , 0.   ],\n",
       "       ...,\n",
       "       [0.   , 0.   , 0.   , ..., 1.755, 0.   , 0.   ],\n",
       "       [0.   , 0.   , 0.   , ..., 0.   , 1.758, 0.   ],\n",
       "       [0.   , 0.   , 0.   , ..., 0.   , 0.   , 1.762]])"
      ]
     },
     "execution_count": 715,
     "metadata": {},
     "output_type": "execute_result"
    }
   ],
   "source": [
    "Vn = s2 * np.diag([1 + i / n  for i in range(1, n + 1)])\n",
    "display(Latex(r\"$V_n = $\"))\n",
    "np.around(Vn, 3)"
   ]
  },
  {
   "cell_type": "markdown",
   "metadata": {},
   "source": [
    "Теперь, когда есть оценка матрицы ковариации, можно применить обобщённый (взвешенный) МНК:"
   ]
  },
  {
   "cell_type": "code",
   "execution_count": 716,
   "metadata": {},
   "outputs": [
    {
     "data": {
      "text/latex": [
       "$\\hat \\beta_{WLS} = $"
      ],
      "text/plain": [
       "<IPython.core.display.Latex object>"
      ]
     },
     "metadata": {},
     "output_type": "display_data"
    },
    {
     "name": "stdout",
     "output_type": "stream",
     "text": [
      "0.222\n",
      "1.009\n",
      "0.984\n",
      "-0.013\n",
      "-0.3\n"
     ]
    }
   ],
   "source": [
    "Vn_inv = np.linalg.inv(Vn)\n",
    "B = X.transpose() @ Vn_inv @ X\n",
    "B_inv = np.linalg.inv(B)\n",
    "\n",
    "beta_wls = np.array(B_inv @ X.transpose() @ Vn_inv @ Y)\n",
    "display(Latex(r'$\\hat \\beta_{WLS} = $'))\n",
    "print(*[round(b, 3) for b in beta_wls], sep='\\n')"
   ]
  },
  {
   "cell_type": "code",
   "execution_count": 717,
   "metadata": {},
   "outputs": [
    {
     "data": {
      "text/plain": [
       "0.9999906802360838"
      ]
     },
     "execution_count": 717,
     "metadata": {},
     "output_type": "execute_result"
    }
   ],
   "source": [
    "R_2 = R2adj(Y, X @ beta_wls, n, m)\n",
    "R_2"
   ]
  },
  {
   "cell_type": "markdown",
   "metadata": {},
   "source": [
    "Посмотрим по-внимательнее на зависимость между 𝑥4 и 𝑦:"
   ]
  },
  {
   "cell_type": "code",
   "execution_count": 718,
   "metadata": {},
   "outputs": [
    {
     "name": "stdout",
     "output_type": "stream",
     "text": [
      "Коэффициент корреляции:  -0.9999105747621628\n"
     ]
    },
    {
     "data": {
      "image/png": "[encoded data removed]",
      "text/plain": [
       "<Figure size 432x288 with 1 Axes>"
      ]
     },
     "metadata": {
      "needs_background": "light"
     },
     "output_type": "display_data"
    }
   ],
   "source": [
    "print('Коэффициент корреляции: ', sp.stats.pearsonr(X.x4, Y)[0])\n",
    "plt.scatter(X.x4, Y);"
   ]
  },
  {
   "cell_type": "markdown",
   "metadata": {},
   "source": [
    "### 3)\n",
    "\n",
    "Дисперсии в первых $\\frac{n}{3}$ наблюдегиях равны $\\omega_1$, в следующей трети они равны $\\omega_2$, в оставшихся наблюдениях - $\\omega_3$."
   ]
  },
  {
   "cell_type": "code",
   "execution_count": 719,
   "metadata": {},
   "outputs": [
    {
     "data": {
      "text/latex": [
       "$\\omega_1^2 = 1.039$"
      ],
      "text/plain": [
       "<IPython.core.display.Latex object>"
      ]
     },
     "metadata": {},
     "output_type": "display_data"
    },
    {
     "data": {
      "text/latex": [
       "$\\omega_2^2 = 1.47$"
      ],
      "text/plain": [
       "<IPython.core.display.Latex object>"
      ]
     },
     "metadata": {},
     "output_type": "display_data"
    },
    {
     "data": {
      "text/latex": [
       "$\\omega_3^2 = 1.458$"
      ],
      "text/plain": [
       "<IPython.core.display.Latex object>"
      ]
     },
     "metadata": {},
     "output_type": "display_data"
    },
    {
     "data": {
      "text/latex": [
       "$\\hat \\beta = $"
      ],
      "text/plain": [
       "<IPython.core.display.Latex object>"
      ]
     },
     "metadata": {},
     "output_type": "display_data"
    },
    {
     "name": "stdout",
     "output_type": "stream",
     "text": [
      "0.211\n",
      "1.022\n",
      "0.981\n",
      "-0.013\n",
      "-0.3\n"
     ]
    }
   ],
   "source": [
    "# обычный МНК\n",
    "beta = np.linalg.lstsq(X, Y, rcond=None)[0]\n",
    "\n",
    "# оценка вектора ошибок\n",
    "epsilon = X @ beta - Y  \n",
    "\n",
    "# разбиение вектора ошибок на 3 подвектора\n",
    "n1 = n // 3\n",
    "n2 = 2 * n1\n",
    "\n",
    "epsilon1 = epsilon[:n1]\n",
    "epsilon2 = epsilon[n1:n2]\n",
    "epsilon3 = epsilon[n2:]\n",
    "\n",
    "# оценки omega_i\n",
    "omega1 = epsilon1 @ epsilon1 / n1\n",
    "omega2 = epsilon2 @ epsilon2 / (n2 - n1)\n",
    "omega3 = epsilon3 @ epsilon3 / (n - n2)\n",
    "\n",
    "for i, omega in enumerate((omega1, omega2, omega3)):\n",
    "    display(Latex(rf'$\\omega_{i+1}^2 = {round(omega, 3)}$'))\n",
    "\n",
    "# делим переменные на соотв. веса\n",
    "X3, Y3 = X.copy(), Y.copy()\n",
    "\n",
    "X3[:n1] = X3[:n1] / omega1\n",
    "X3[n1:n2] = X3[n1:n2] / omega2\n",
    "X3[n2:] = X3[n2:] / omega3\n",
    "\n",
    "Y3[:n1] = Y3[:n1] / omega1\n",
    "Y3[n1:n2] = Y3[n1:n2] / omega2\n",
    "Y3[n2:] = Y3[n2:] / omega3\n",
    "\n",
    "# обычная регрессия для преобразованной модели\n",
    "beta3 = np.linalg.lstsq(X3, Y3, rcond=None)[0]\n",
    "\n",
    "display(Latex(r'$\\hat \\beta = $'))\n",
    "print(*[round(b, 3) for b in beta], sep='\\n')"
   ]
  },
  {
   "cell_type": "code",
   "execution_count": 720,
   "metadata": {},
   "outputs": [
    {
     "data": {
      "text/plain": [
       "0.9999865534046"
      ]
     },
     "execution_count": 720,
     "metadata": {},
     "output_type": "execute_result"
    }
   ],
   "source": [
    "R_3 = R2adj(Y3, X3 @ beta3, n, m)\n",
    "R_3"
   ]
  },
  {
   "cell_type": "markdown",
   "metadata": {},
   "source": [
    "### 4)\n",
    "Дисперсия ошибки пропорциональная третьему признаку ($\\sigma^2 \\cdot x_3$)."
   ]
  },
  {
   "cell_type": "code",
   "execution_count": 721,
   "metadata": {},
   "outputs": [
    {
     "data": {
      "text/latex": [
       "$\\hat \\beta_4 = $"
      ],
      "text/plain": [
       "<IPython.core.display.Latex object>"
      ]
     },
     "metadata": {},
     "output_type": "display_data"
    },
    {
     "name": "stdout",
     "output_type": "stream",
     "text": [
      "-0.435\n",
      "1.012\n",
      "1.046\n",
      "0.083\n",
      "-0.3\n"
     ]
    },
    {
     "data": {
      "text/latex": [
       "$s^2 = 0.077$"
      ],
      "text/plain": [
       "<IPython.core.display.Latex object>"
      ]
     },
     "metadata": {},
     "output_type": "display_data"
    }
   ],
   "source": [
    "# делим уравнения на x3\n",
    "Y4 = Y.copy() / X.x3\n",
    "\n",
    "X4 = X.copy() \n",
    "for column in X4.columns:\n",
    "    X4[column] = X4[column] / X.x3\n",
    "\n",
    "# обычная регрессия для преобразованной модели\n",
    "beta4 = np.linalg.lstsq(X4, Y4, rcond=None)[0]\n",
    "s2_4 = (Y4 - X4 @ beta4).transpose() @ (Y4 - X4 @ beta4) / (n - m)\n",
    "display(Latex(r'$\\hat \\beta_4 = $'))\n",
    "print(*[round(b, 3) for b in beta4], sep='\\n')\n",
    "display(Latex(rf'$s^2 = {round(s2_4, 3)}$'))"
   ]
  },
  {
   "cell_type": "code",
   "execution_count": 722,
   "metadata": {},
   "outputs": [
    {
     "data": {
      "text/plain": [
       "0.9999676244211001"
      ]
     },
     "execution_count": 722,
     "metadata": {},
     "output_type": "execute_result"
    }
   ],
   "source": [
    "R_4 = R2adj(Y4, X4 @ beta4, n, m)\n",
    "R_4"
   ]
  },
  {
   "cell_type": "markdown",
   "metadata": {},
   "source": [
    "### Выбор модели"
   ]
  },
  {
   "cell_type": "code",
   "execution_count": 723,
   "metadata": {},
   "outputs": [
    {
     "data": {
      "text/html": [
       "<div>\n",
       "<style scoped>\n",
       "    .dataframe tbody tr th:only-of-type {\n",
       "        vertical-align: middle;\n",
       "    }\n",
       "\n",
       "    .dataframe tbody tr th {\n",
       "        vertical-align: top;\n",
       "    }\n",
       "\n",
       "    .dataframe thead th {\n",
       "        text-align: right;\n",
       "    }\n",
       "</style>\n",
       "<table border=\"1\" class=\"dataframe\">\n",
       "  <thead>\n",
       "    <tr style=\"text-align: right;\">\n",
       "      <th></th>\n",
       "      <th>x0</th>\n",
       "      <th>x1</th>\n",
       "      <th>x2</th>\n",
       "      <th>x3</th>\n",
       "      <th>x4</th>\n",
       "    </tr>\n",
       "  </thead>\n",
       "  <tbody>\n",
       "    <tr>\n",
       "      <th>count</th>\n",
       "      <td>230.0</td>\n",
       "      <td>230.000000</td>\n",
       "      <td>230.000000</td>\n",
       "      <td>230.000000</td>\n",
       "      <td>230.000000</td>\n",
       "    </tr>\n",
       "    <tr>\n",
       "      <th>mean</th>\n",
       "      <td>1.0</td>\n",
       "      <td>2.121755</td>\n",
       "      <td>1.278261</td>\n",
       "      <td>9.620725</td>\n",
       "      <td>2356.213441</td>\n",
       "    </tr>\n",
       "    <tr>\n",
       "      <th>std</th>\n",
       "      <td>0.0</td>\n",
       "      <td>2.961267</td>\n",
       "      <td>4.220035</td>\n",
       "      <td>6.657446</td>\n",
       "      <td>1268.926395</td>\n",
       "    </tr>\n",
       "    <tr>\n",
       "      <th>min</th>\n",
       "      <td>1.0</td>\n",
       "      <td>-6.336296</td>\n",
       "      <td>-3.000000</td>\n",
       "      <td>0.293934</td>\n",
       "      <td>-0.006809</td>\n",
       "    </tr>\n",
       "    <tr>\n",
       "      <th>25%</th>\n",
       "      <td>1.0</td>\n",
       "      <td>0.107000</td>\n",
       "      <td>-3.000000</td>\n",
       "      <td>4.721898</td>\n",
       "      <td>1272.054938</td>\n",
       "    </tr>\n",
       "    <tr>\n",
       "      <th>50%</th>\n",
       "      <td>1.0</td>\n",
       "      <td>2.083834</td>\n",
       "      <td>1.000000</td>\n",
       "      <td>6.613538</td>\n",
       "      <td>2473.079359</td>\n",
       "    </tr>\n",
       "    <tr>\n",
       "      <th>75%</th>\n",
       "      <td>1.0</td>\n",
       "      <td>4.381214</td>\n",
       "      <td>5.000000</td>\n",
       "      <td>14.371775</td>\n",
       "      <td>3483.703292</td>\n",
       "    </tr>\n",
       "    <tr>\n",
       "      <th>max</th>\n",
       "      <td>1.0</td>\n",
       "      <td>8.268442</td>\n",
       "      <td>13.000000</td>\n",
       "      <td>24.783255</td>\n",
       "      <td>4412.123276</td>\n",
       "    </tr>\n",
       "  </tbody>\n",
       "</table>\n",
       "</div>"
      ],
      "text/plain": [
       "          x0          x1          x2          x3           x4\n",
       "count  230.0  230.000000  230.000000  230.000000   230.000000\n",
       "mean     1.0    2.121755    1.278261    9.620725  2356.213441\n",
       "std      0.0    2.961267    4.220035    6.657446  1268.926395\n",
       "min      1.0   -6.336296   -3.000000    0.293934    -0.006809\n",
       "25%      1.0    0.107000   -3.000000    4.721898  1272.054938\n",
       "50%      1.0    2.083834    1.000000    6.613538  2473.079359\n",
       "75%      1.0    4.381214    5.000000   14.371775  3483.703292\n",
       "max      1.0    8.268442   13.000000   24.783255  4412.123276"
      ]
     },
     "metadata": {},
     "output_type": "display_data"
    },
    {
     "data": {
      "text/latex": [
       "$R^2_{adj}$ scores:"
      ],
      "text/plain": [
       "<IPython.core.display.Latex object>"
      ]
     },
     "metadata": {},
     "output_type": "display_data"
    },
    {
     "name": "stdout",
     "output_type": "stream",
     "text": [
      "0.9999906937211583\n",
      "0.9999906802360838\n",
      "0.9999865534046\n",
      "0.9999676244211001\n"
     ]
    }
   ],
   "source": [
    "display(X.describe())\n",
    "display(Latex(r'$R^2_{adj}$ scores:'))\n",
    "print(*(R_1, R_2, R_3, R_4), sep='\\n')"
   ]
  },
  {
   "cell_type": "markdown",
   "metadata": {},
   "source": [
    "\n",
    "Предиктор $x_4$ имеет гораздо бОльшую дисперсию, чем остальные, и его коэффициент корреляции с зависимой переменной близок к 1, поэтому все модели имеют одинаково хорошее значение $R^2_{adj}$. \n",
    "\n",
    "Наивысшее значение имеет 1-ая модель, поэтому можно выбрать её. Однако имеет смысл строить модель с единственным предиктором $x_4$."
   ]
  },
  {
   "cell_type": "markdown",
   "metadata": {},
   "source": [
    "# 3."
   ]
  },
  {
   "cell_type": "code",
   "execution_count": 74,
   "metadata": {},
   "outputs": [],
   "source": [
    "X = df.loc[:, 'Ex4.x1':'Ex4.x4']\n",
    "X.columns = ['x1', 'x2', 'x3', 'x4']\n",
    "n, m = X.shape\n",
    "X.insert(0, 'x0', 1)\n",
    "\n",
    "Y = df['Ex4.y']"
   ]
  },
  {
   "cell_type": "markdown",
   "metadata": {},
   "source": [
    "\n",
    "### a) Проверка гипотезы о наличии автокорреляции\n",
    "\n",
    "Таблица критических значений статистики Дарбина-Уотсона для уровня значимости 0.05:\n",
    "\n",
    "https://www.real-statistics.com/statistics-tables/durbin-watson-table/\n",
    "\n",
    "Возьмём значения для $n = 250$, $k = 4$ (тогда критерий получится радикальным):\n",
    "\n",
    "$d_l = 1.676, \\ \\ d_u = 1.740$"
   ]
  },
  {
   "cell_type": "code",
   "execution_count": 117,
   "metadata": {},
   "outputs": [
    {
     "data": {
      "text/latex": [
       "$D = 1.853$"
      ],
      "text/plain": [
       "<IPython.core.display.Latex object>"
      ]
     },
     "metadata": {},
     "output_type": "display_data"
    }
   ],
   "source": [
    "dl, du = 1.676, 1.740\n",
    "\n",
    "beta = np.linalg.lstsq(X, Y, rcond=None)[0] \n",
    "\n",
    "# оценка вектора ошибок\n",
    "epsilon = X @ beta - Y\n",
    "\n",
    "# вычисление статистики\n",
    "num = np.sum([(epsilon[i] - epsilon[i-1])**2 for i in range(1, n)])\n",
    "denum = epsilon @ epsilon\n",
    "D = num / denum\n",
    "\n",
    "display(Latex(fr'$D = {round(D, 3)}$'))"
   ]
  },
  {
   "cell_type": "code",
   "execution_count": 118,
   "metadata": {},
   "outputs": [
    {
     "data": {
      "text/plain": [
       "True"
      ]
     },
     "execution_count": 118,
     "metadata": {},
     "output_type": "execute_result"
    }
   ],
   "source": [
    "du < D < 4 - du"
   ]
  },
  {
   "cell_type": "markdown",
   "metadata": {},
   "source": [
    "$\\Rightarrow H_0: r = 0$ принимается."
   ]
  },
  {
   "cell_type": "markdown",
   "metadata": {},
   "source": [
    "На всякий случай проверим в R, где $p$-значение моделируется с помощью bootstrap-a:"
   ]
  },
  {
   "cell_type": "code",
   "execution_count": 119,
   "metadata": {},
   "outputs": [],
   "source": [
    "tmp = X.copy()\n",
    "tmp['y'] = Y.copy()\n",
    "\n",
    "pandas_py2r(tmp, 'df')  # копирование в среду R\n",
    "del tmp"
   ]
  },
  {
   "cell_type": "code",
   "execution_count": 120,
   "metadata": {},
   "outputs": [
    {
     "name": "stdout",
     "output_type": "stream",
     "text": [
      " lag Autocorrelation D-W Statistic p-value\n",
      "   1      0.06922951      1.852996   0.246\n",
      " Alternative hypothesis: rho != 0\n"
     ]
    }
   ],
   "source": [
    "%%R\n",
    "res = car::durbinWatsonTest(lm('y ~ 0 + x0 + x1 + x2 + x3 + x4', data=df), simulate=TRUE, reps=1000)\n",
    "res"
   ]
  },
  {
   "cell_type": "markdown",
   "metadata": {},
   "source": [
    "$p$-значение $> 0.05 \\Rightarrow H_0$ принимается (точно)."
   ]
  },
  {
   "cell_type": "markdown",
   "metadata": {},
   "source": [
    "### b) Гипотеза об отсутствии корреляции принялась."
   ]
  },
  {
   "cell_type": "markdown",
   "metadata": {},
   "source": [
    "### с) Моделирование распределения статистики критерия Дарбина-Уотсона в случае отсутствия авктокорреляции\n",
    "\n",
    "$m = 6, n = 111$"
   ]
  },
  {
   "cell_type": "code",
   "execution_count": 212,
   "metadata": {},
   "outputs": [
    {
     "name": "stderr",
     "output_type": "stream",
     "text": [
      "100%|██████████| 100000/100000 [00:38<00:00, 2616.69it/s]\n"
     ]
    }
   ],
   "source": [
    "np.random.seed(28)\n",
    "\n",
    "n, m = 111, 6\n",
    "\n",
    "# (m + 1) - мерное нормальное распределение с единичной ковариационной матрицей\n",
    "# вектор средних равен (0, 1, ... m)\n",
    "distr = sp.stats.multivariate_normal(np.arange(m + 1), cov=1)\n",
    "\n",
    "N = 100000  # число итераций\n",
    "D_values = np.zeros(N)\n",
    "\n",
    "for i in trange(N):\n",
    "    \n",
    "    sample = distr.rvs(size=n)\n",
    "\n",
    "    X = np.ones(shape=(n, m+1))\n",
    "    X[:, 1:] = sample[:, 1:]\n",
    "    Y = sample[:, 0]\n",
    "\n",
    "    beta = np.linalg.lstsq(X, Y, rcond=None)[0]\n",
    "\n",
    "    epsilon = X @ beta - Y\n",
    "\n",
    "    num = np.sum((epsilon[1:] - epsilon[:-1])**2)\n",
    "    denum = epsilon @ epsilon\n",
    "\n",
    "    D_values[i] = num / denum"
   ]
  },
  {
   "cell_type": "markdown",
   "metadata": {},
   "source": [
    "Построение графика:"
   ]
  },
  {
   "cell_type": "code",
   "execution_count": 229,
   "metadata": {},
   "outputs": [
    {
     "data": {
      "image/png": "[encoded data removed]",
      "text/plain": [
       "<Figure size 576x576 with 1 Axes>"
      ]
     },
     "metadata": {
      "needs_background": "light"
     },
     "output_type": "display_data"
    }
   ],
   "source": [
    "fig, ax = plt.subplots(figsize=(8, 8))\n",
    "sns.histplot(D_values, stat='density', ax=ax)\n",
    "ax.grid()\n",
    "ax.set_xlabel('$D$');\n",
    "ax.set_title('Распределения статистики критерия Дарбина-Уотсона в случае верной $H_0$');"
   ]
  },
  {
   "cell_type": "markdown",
   "metadata": {},
   "source": [
    "# 4."
   ]
  },
  {
   "cell_type": "code",
   "execution_count": 468,
   "metadata": {},
   "outputs": [],
   "source": [
    "X = df.loc[:, 'Ex4.x1':'Ex4.x4']\n",
    "X.columns = ['x1', 'x2', 'x3', 'x4']\n",
    "n, m = X.shape\n",
    "X.insert(0, 'x0', 1)\n",
    "X = np.array(X)\n",
    "\n",
    "Y = np.array(df['Ex4.y'])"
   ]
  },
  {
   "cell_type": "code",
   "execution_count": 469,
   "metadata": {},
   "outputs": [],
   "source": [
    "def var(r, sigma2, beta):\n",
    "    # среднеквадратичное отклонение ридж-оценки\n",
    "    B = np.linalg.matrix_power(X.transpose() @ X + r * np.eye(m+1), -2)\n",
    "    \n",
    "    return r**2 * beta.transpose() @ B @ beta_ols + sigma2 * np.trace(X @ B @ X.transpose())\n",
    "\n",
    "def beta_ridge(r):\n",
    "    # ридж-оценка как функция гребня\n",
    "    return np.linalg.inv(X.transpose() @ X + r * identity) @ X.transpose() @ Y"
   ]
  },
  {
   "cell_type": "markdown",
   "metadata": {},
   "source": [
    "Итеративный алгоритм:"
   ]
  },
  {
   "cell_type": "code",
   "execution_count": 470,
   "metadata": {},
   "outputs": [
    {
     "data": {
      "text/latex": [
       "$\\hat \\sigma^2 = 4.04$"
      ],
      "text/plain": [
       "<IPython.core.display.Latex object>"
      ]
     },
     "metadata": {},
     "output_type": "display_data"
    },
    {
     "data": {
      "text/latex": [
       "$\\hat \\beta_{OLS} = $"
      ],
      "text/plain": [
       "<IPython.core.display.Latex object>"
      ]
     },
     "metadata": {},
     "output_type": "display_data"
    },
    {
     "name": "stdout",
     "output_type": "stream",
     "text": [
      "543.219\n",
      "-156.619\n",
      "-468.599\n",
      "-231.471\n",
      "178.892\n"
     ]
    },
    {
     "data": {
      "text/latex": [
       "$\\hat \\beta_{RIDGE} = $"
      ],
      "text/plain": [
       "<IPython.core.display.Latex object>"
      ]
     },
     "metadata": {},
     "output_type": "display_data"
    },
    {
     "name": "stdout",
     "output_type": "stream",
     "text": [
      "0.837\n",
      "1.946\n",
      "-0.09\n",
      "2.791\n",
      "2.682\n",
      "Число итераций: 3\n",
      "Оптимальное значение гребня: 2.906\n"
     ]
    }
   ],
   "source": [
    "np.random.seed(28)\n",
    "\n",
    "r = 0\n",
    "\n",
    "# вычисление оценки sigma^2\n",
    "beta = np.linalg.lstsq(X, Y, rcond=None)[0]\n",
    "sigma2 = (X @ beta - Y).transpose() @ (X @ beta - Y) / (n - m)\n",
    "\n",
    "display(Latex(rf'$\\hat \\sigma^2 = {round(sigma2, 3)}$'))\n",
    "display(Latex(r'$\\hat \\beta_{OLS} = $'))\n",
    "print(*[round(b, 3) for b in beta], sep='\\n')\n",
    "\n",
    "beta_r = beta_ridge(0.0)\n",
    "prev = -beta_r.copy()  # предыдущее значение \n",
    "\n",
    "eps = 1e-7\n",
    "\n",
    "i = 0  # счётчик итераций\n",
    "while np.sum((beta_r - prev)**2) > eps:\n",
    "    \n",
    "    i += 1\n",
    "    prev = beta_r.copy()\n",
    "    \n",
    "    # новое значение гребня из минимизации СКО\n",
    "    res = sp.optimize.minimize(lambda r: var(r, sigma2, beta_r), res.x)\n",
    "    \n",
    "    # перерасчёт ridge-оценки\n",
    "    beta_r = beta_ridge(res.x[0])\n",
    "\n",
    "display(Latex(r'$\\hat \\beta_{RIDGE} = $'))\n",
    "print(*[round(b, 3) for b in beta_r], sep='\\n')\n",
    "print(f'Число итераций: {i}')\n",
    "print(f'Оптимальное значение гребня: {round(res.x[0], 3)}')"
   ]
  },
  {
   "cell_type": "markdown",
   "metadata": {},
   "source": [
    "# 5."
   ]
  },
  {
   "cell_type": "code",
   "execution_count": 704,
   "metadata": {},
   "outputs": [],
   "source": [
    "X = df.loc[:, 'Ex5.x1':'Ex5.x11']\n",
    "X.columns = [f'x{i}' for i in range(1, 12)]\n",
    "X.insert(0, 'x0', 1)\n",
    "X = np.array(X)\n",
    "\n",
    "Y = np.array(df['Ex5.y'])"
   ]
  },
  {
   "cell_type": "markdown",
   "metadata": {},
   "source": [
    "В качестве метрики будет использоваться $R^2_{adj}$:"
   ]
  },
  {
   "cell_type": "code",
   "execution_count": 708,
   "metadata": {},
   "outputs": [],
   "source": [
    "def R2adj(Y_pred, Y_true, n, m):\n",
    "    # n - число наблюдений\n",
    "    # m - число независимых переменных\n",
    "    num = np.sum((Y_true - Y_pred)**2)\n",
    "    denum = np.sum((Y_true - Y_true.mean())**2)\n",
    "    \n",
    "    return 1 - num / denum * (n - 1) / (n - m)"
   ]
  },
  {
   "cell_type": "code",
   "execution_count": 706,
   "metadata": {},
   "outputs": [],
   "source": [
    "def model_selection(X, Y, metric, method='all', printall=False):\n",
    "    if method == 'all':\n",
    "        return _select_all(X, Y, metric, printall)\n",
    "        \n",
    "    elif method == 'forward':\n",
    "        return _select_forward(X, Y, metric)\n",
    "        \n",
    "    elif method == 'backward':\n",
    "        return _select_backward(X, Y, metric)\n",
    "    \n",
    "\n",
    "def _select_all(X, Y, metric, printall=False):\n",
    "    \n",
    "    def generate_binary_strings(cases, n, s, i):  \n",
    "        \"\"\"\n",
    "        Генерирует n^2 бинарных строк, заполняя ими список cases.\n",
    "        '1' на i-ой позиции в строке соотвествует тому, что этот предиктор добавляется в модель;\n",
    "        '0' - не добавляется.\n",
    "        \"\"\"\n",
    "        if i == n: \n",
    "            cases.append(s)\n",
    "            return\n",
    "\n",
    "        generate_binary_strings(cases, n, s + '0', i + 1)  \n",
    "        generate_binary_strings(cases, n, s + '1', i + 1)\n",
    "    \n",
    "    n = X.shape[0]\n",
    "    m = X.shape[1] - 1  # intercept не считаем\n",
    "    \n",
    "    cases = []\n",
    "    generate_binary_strings(cases, m, \"\", 0)\n",
    "    \n",
    "    best_score = -np.inf\n",
    "    best_model = []\n",
    "    \n",
    "    for case in cases:\n",
    "        \n",
    "        indexes = [0]  # всегда берём intercept\n",
    "        for index, flag in enumerate(case):\n",
    "            if flag == '1':\n",
    "                indexes.append(index + 1)\n",
    "        \n",
    "        X_case = X[:, indexes]\n",
    "        beta_case = np.linalg.lstsq(X_case, Y, rcond=None)[0]\n",
    "        \n",
    "        m_case = X_case.shape[1] - 1\n",
    "        score = metric(X_case @ beta_case, Y, n, m_case)\n",
    "        \n",
    "        if printall:\n",
    "            print(indexes, score)\n",
    "        \n",
    "        if score > best_score:\n",
    "            best_score = score\n",
    "            best_model = indexes\n",
    "       \n",
    "    return best_model, best_score\n",
    "\n",
    "\n",
    "def _select_backward(X, Y, metric):\n",
    "    \n",
    "    def step(X, Y, flags, metric, current_best_score):\n",
    "        \n",
    "        # х-ки лучшей из моделей, полученных удалением предиктора\n",
    "        best_score = -np.inf \n",
    "        best_model_removed_predictor_index = None  \n",
    "        \n",
    "        for index, flag in enumerate(flags):\n",
    "            if index and flag:  # если этот предиктор ещё не отбросили; (intercept не отбрасываем)\n",
    "                \n",
    "                case = flags.copy()\n",
    "                case[index] = 0\n",
    "                \n",
    "                indexes = [i for i, x in enumerate(case) if x]  # генерируем индексы новой модели\n",
    "                \n",
    "                X_case = X[:, indexes]\n",
    "                m_case = X_case.shape[1] - 1\n",
    "                beta_case = np.linalg.lstsq(X_case, Y, rcond=None)[0]\n",
    "                \n",
    "                score = metric(X_case @ beta_case, Y, n, m_case)\n",
    "                \n",
    "                if score > best_score:\n",
    "                    best_score = score\n",
    "                    best_model_removed_predictor_index = index\n",
    "                \n",
    "        if best_score > current_best_score:\n",
    "            flags[best_model_removed_predictor_index] = 0\n",
    "            return step(X, Y, flags, metric, best_score)\n",
    "        else:\n",
    "            indexes = [i for i, flag in enumerate(flags) if flag]\n",
    "            return indexes, current_best_score\n",
    "        \n",
    "    flags = [1] * X.shape[1]\n",
    "    best_score = -np.inf\n",
    "    \n",
    "    return step(X, Y, flags, metric, best_score)\n",
    "        \n",
    "    \n",
    "def _select_forward(X, Y, metric):\n",
    "    \n",
    "    def step(X, Y, flags, metric, current_best_score):\n",
    "        \n",
    "        # х-ки лучшей из моделей, полученных добавлением предиктора\n",
    "        best_score = -np.inf \n",
    "        best_model_added_predictor_index = None  \n",
    "        \n",
    "        for index, flag in enumerate(flags):\n",
    "            if not flag:  # если этот предиктор ещё не добавили\n",
    "                \n",
    "                case = flags.copy()\n",
    "                case[index] = 1  # помечаем предиктор на добавление\n",
    "                \n",
    "                indexes = [i for i, x in enumerate(case) if x]  # генерируем индексы новой модели\n",
    "                \n",
    "                X_case = X[:, indexes]\n",
    "                m_case = X_case.shape[1] - 1\n",
    "                beta_case = np.linalg.lstsq(X_case, Y, rcond=None)[0]\n",
    "                \n",
    "                score = metric(X_case @ beta_case, Y, n, m_case)\n",
    "                \n",
    "                if score > best_score:\n",
    "                    best_score = score\n",
    "                    best_model_added_predictor_index = index\n",
    "                \n",
    "        if best_score > current_best_score:\n",
    "            flags[best_model_added_predictor_index] = 1\n",
    "            return step(X, Y, flags, metric, best_score)\n",
    "        else:\n",
    "            indexes =  [i for i, flag in enumerate(flags) if flag]\n",
    "            return indexes, current_best_score\n",
    "        \n",
    "    flags = [0] * X.shape[1]\n",
    "    flags[0] = 1 # сразу добавим intercept\n",
    "    best_score = -np.inf\n",
    "    \n",
    "    return step(X, Y, flags, metric, best_score)"
   ]
  },
  {
   "cell_type": "code",
   "execution_count": 707,
   "metadata": {},
   "outputs": [
    {
     "name": "stdout",
     "output_type": "stream",
     "text": [
      "====================\n",
      "Метод отбора: forward\n"
     ]
    },
    {
     "data": {
      "text/latex": [
       "$R^2_{adj} = 0.584$"
      ],
      "text/plain": [
       "<IPython.core.display.Latex object>"
      ]
     },
     "metadata": {},
     "output_type": "display_data"
    },
    {
     "name": "stdout",
     "output_type": "stream",
     "text": [
      "Предикторы: x0, x1, x2, x4, x7, x9, x10\n",
      "====================\n",
      "Метод отбора: backward\n"
     ]
    },
    {
     "data": {
      "text/latex": [
       "$R^2_{adj} = 0.584$"
      ],
      "text/plain": [
       "<IPython.core.display.Latex object>"
      ]
     },
     "metadata": {},
     "output_type": "display_data"
    },
    {
     "name": "stdout",
     "output_type": "stream",
     "text": [
      "Предикторы: x0, x1, x2, x4, x7, x9, x10\n",
      "====================\n",
      "Метод отбора: all\n"
     ]
    },
    {
     "data": {
      "text/latex": [
       "$R^2_{adj} = 0.584$"
      ],
      "text/plain": [
       "<IPython.core.display.Latex object>"
      ]
     },
     "metadata": {},
     "output_type": "display_data"
    },
    {
     "name": "stdout",
     "output_type": "stream",
     "text": [
      "Предикторы: x0, x1, x2, x4, x7, x9, x10\n"
     ]
    }
   ],
   "source": [
    "for method in ('forward', 'backward', 'all'):\n",
    "    indexes, score = model_selection(X, Y, R2adj, method=method)\n",
    "    predictors = [f'x{i}' for i in indexes]\n",
    "    print('=' * 20)\n",
    "    print(f'Метод отбора: {method}')\n",
    "    display(Latex(r'$R^2_{adj} = ' + str(round(score, 3)) + '$'))\n",
    "    print(f\"Предикторы: {', '.join(predictors)}\")"
   ]
  },
  {
   "cell_type": "markdown",
   "metadata": {},
   "source": [
    "### Проверка средствами R"
   ]
  },
  {
   "cell_type": "code",
   "execution_count": 684,
   "metadata": {},
   "outputs": [],
   "source": [
    "tmp = pd.DataFrame(X)\n",
    "tmp.columns = [f'x{i}' for i in range(12)]\n",
    "tmp['y'] = Y.copy()\n",
    "\n",
    "pandas_py2r(tmp, 'df')\n",
    "del tmp"
   ]
  },
  {
   "cell_type": "markdown",
   "metadata": {},
   "source": [
    "\n",
    "#### Регрессия всех подмножеств"
   ]
  },
  {
   "cell_type": "code",
   "execution_count": 682,
   "metadata": {},
   "outputs": [
    {
     "data": {
      "image/png": "[encoded data removed]"
     },
     "metadata": {},
     "output_type": "display_data"
    }
   ],
   "source": [
    "%%R\n",
    "library(leaps)\n",
    "\n",
    "res = regsubsets(y ~ x1 + x2 + x3 + x4 + x5 + x6 + x7 + x8 + x9 + x10 + x11, data=df,\n",
    "                method='exhaustive')\n",
    "plot(res, scale='adjr2')"
   ]
  },
  {
   "cell_type": "markdown",
   "metadata": {},
   "source": [
    "#### Прямой отбор"
   ]
  },
  {
   "cell_type": "code",
   "execution_count": 683,
   "metadata": {},
   "outputs": [
    {
     "data": {
      "image/png": "[encoded data removed]"
     },
     "metadata": {},
     "output_type": "display_data"
    }
   ],
   "source": [
    "%%R\n",
    "res = regsubsets(y ~ x1 + x2 + x3 + x4 + x5 + x6 + x7 + x8 + x9 + x10 + x11, data=df,\n",
    "                method='forward')\n",
    "plot(res, scale='adjr2')"
   ]
  },
  {
   "cell_type": "markdown",
   "metadata": {},
   "source": [
    "#### Обратный отбор"
   ]
  },
  {
   "cell_type": "code",
   "execution_count": 685,
   "metadata": {},
   "outputs": [
    {
     "data": {
      "image/png": "[encoded data removed]"
     },
     "metadata": {},
     "output_type": "display_data"
    }
   ],
   "source": [
    "%%R\n",
    "res = regsubsets(y ~ x1 + x2 + x3 + x4 + x5 + x6 + x7 + x8 + x9 + x10 + x11, data=df,\n",
    "                method='backward')\n",
    "plot(res, scale='adjr2')"
   ]
  },
  {
   "cell_type": "markdown",
   "metadata": {},
   "source": [
    "Вроде бы сходится."
   ]
  }
 ],
 "metadata": {
  "kernelspec": {
   "display_name": "Python 3",
   "language": "python",
   "name": "python3"
  },
  "language_info": {
   "codemirror_mode": {
    "name": "ipython",
    "version": 3
   },
   "file_extension": ".py",
   "mimetype": "text/x-python",
   "name": "python",
   "nbconvert_exporter": "python",
   "pygments_lexer": "ipython3",
   "version": "3.8.5"
  },
  "toc": {
   "base_numbering": 1,
   "nav_menu": {},
   "number_sections": false,
   "sideBar": true,
   "skip_h1_title": false,
   "title_cell": "Table of Contents",
   "title_sidebar": "Contents",
   "toc_cell": false,
   "toc_position": {
    "height": "calc(100% - 180px)",
    "left": "10px",
    "top": "150px",
    "width": "329.2px"
   },
   "toc_section_display": true,
   "toc_window_display": true
  }
 },
 "nbformat": 4,
 "nbformat_minor": 4
}
