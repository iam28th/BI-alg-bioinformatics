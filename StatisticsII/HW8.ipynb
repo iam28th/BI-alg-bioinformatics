{
 "cells": [
  {
   "cell_type": "code",
   "execution_count": 13,
   "metadata": {},
   "outputs": [],
   "source": [
    "import pandas as pd\n",
    "import numpy as np\n",
    "import scipy as sp\n",
    "import scipy.stats\n",
    "\n",
    "import matplotlib.pyplot as plt\n",
    "import seaborn as sns\n",
    "from IPython.display import display, Latex\n",
    "\n",
    "plt.style.use('ggplot')"
   ]
  },
  {
   "cell_type": "code",
   "execution_count": 14,
   "metadata": {},
   "outputs": [],
   "source": [
    "ALPHA = 0.05"
   ]
  },
  {
   "cell_type": "code",
   "execution_count": 5,
   "metadata": {},
   "outputs": [
    {
     "data": {
      "text/html": [
       "<div>\n",
       "<style scoped>\n",
       "    .dataframe tbody tr th:only-of-type {\n",
       "        vertical-align: middle;\n",
       "    }\n",
       "\n",
       "    .dataframe tbody tr th {\n",
       "        vertical-align: top;\n",
       "    }\n",
       "\n",
       "    .dataframe thead th {\n",
       "        text-align: right;\n",
       "    }\n",
       "</style>\n",
       "<table border=\"1\" class=\"dataframe\">\n",
       "  <thead>\n",
       "    <tr style=\"text-align: right;\">\n",
       "      <th></th>\n",
       "      <th>Ex1</th>\n",
       "      <th>Ex1_group</th>\n",
       "      <th>Ex2</th>\n",
       "      <th>Ex2_group</th>\n",
       "      <th>Ex4</th>\n",
       "      <th>Ex4_group</th>\n",
       "    </tr>\n",
       "  </thead>\n",
       "  <tbody>\n",
       "    <tr>\n",
       "      <th>0</th>\n",
       "      <td>4.046259</td>\n",
       "      <td>1</td>\n",
       "      <td>-0.703409</td>\n",
       "      <td>1</td>\n",
       "      <td>0.329606</td>\n",
       "      <td>1</td>\n",
       "    </tr>\n",
       "    <tr>\n",
       "      <th>1</th>\n",
       "      <td>0.785765</td>\n",
       "      <td>1</td>\n",
       "      <td>5.007998</td>\n",
       "      <td>1</td>\n",
       "      <td>0.717503</td>\n",
       "      <td>1</td>\n",
       "    </tr>\n",
       "    <tr>\n",
       "      <th>2</th>\n",
       "      <td>-3.683268</td>\n",
       "      <td>1</td>\n",
       "      <td>-2.702688</td>\n",
       "      <td>1</td>\n",
       "      <td>0.081047</td>\n",
       "      <td>1</td>\n",
       "    </tr>\n",
       "    <tr>\n",
       "      <th>3</th>\n",
       "      <td>1.853011</td>\n",
       "      <td>1</td>\n",
       "      <td>2.969791</td>\n",
       "      <td>1</td>\n",
       "      <td>1.418377</td>\n",
       "      <td>1</td>\n",
       "    </tr>\n",
       "    <tr>\n",
       "      <th>4</th>\n",
       "      <td>0.299360</td>\n",
       "      <td>1</td>\n",
       "      <td>-2.023888</td>\n",
       "      <td>1</td>\n",
       "      <td>0.394656</td>\n",
       "      <td>1</td>\n",
       "    </tr>\n",
       "  </tbody>\n",
       "</table>\n",
       "</div>"
      ],
      "text/plain": [
       "        Ex1  Ex1_group       Ex2  Ex2_group       Ex4  Ex4_group\n",
       "0  4.046259          1 -0.703409          1  0.329606          1\n",
       "1  0.785765          1  5.007998          1  0.717503          1\n",
       "2 -3.683268          1 -2.702688          1  0.081047          1\n",
       "3  1.853011          1  2.969791          1  1.418377          1\n",
       "4  0.299360          1 -2.023888          1  0.394656          1"
      ]
     },
     "execution_count": 5,
     "metadata": {},
     "output_type": "execute_result"
    }
   ],
   "source": [
    "df = pd.read_csv('IB_statistics_data_hw2.8.txt', sep=' ')\n",
    "df.head()"
   ]
  },
  {
   "cell_type": "markdown",
   "metadata": {},
   "source": [
    "---\n",
    "---"
   ]
  },
  {
   "cell_type": "markdown",
   "metadata": {},
   "source": [
    "# 1"
   ]
  },
  {
   "cell_type": "code",
   "execution_count": 18,
   "metadata": {},
   "outputs": [
    {
     "name": "stdout",
     "output_type": "stream",
     "text": [
      "Если считать выборки независимыми:\n"
     ]
    },
    {
     "data": {
      "text/latex": [
       "$T = -2.7011818188406123, p = 0.007484673533352227$"
      ],
      "text/plain": [
       "<IPython.core.display.Latex object>"
      ]
     },
     "metadata": {},
     "output_type": "display_data"
    },
    {
     "name": "stdout",
     "output_type": "stream",
     "text": [
      "Если считать выборки зависимыми:\n"
     ]
    },
    {
     "data": {
      "text/latex": [
       "$T = -2.5908807700591234, p = 0.010960790363816014$"
      ],
      "text/plain": [
       "<IPython.core.display.Latex object>"
      ]
     },
     "metadata": {},
     "output_type": "display_data"
    }
   ],
   "source": [
    "group1 = df.query('Ex1_group == 1')['Ex1']\n",
    "group2 = df.query('Ex1_group == 2')['Ex1']\n",
    "\n",
    "\n",
    "T_ind, p_ind = sp.stats.ttest_ind(group1, group2)  # независимы\n",
    "T_dep, p_dep = sp.stats.ttest_rel(group1, group2)  # зависимы\n",
    "\n",
    "print('Если считать выборки независимыми:')\n",
    "display(Latex(f'$T = {T_ind}, p = {p_ind}$'))\n",
    "print('Если считать выборки зависимыми:')\n",
    "display(Latex(f'$T = {T_dep}, p = {p_dep}$'))"
   ]
  },
  {
   "cell_type": "markdown",
   "metadata": {},
   "source": [
    "В обоих случаях нулевая гипотеза отклоняется."
   ]
  },
  {
   "cell_type": "markdown",
   "metadata": {},
   "source": [
    "# 2"
   ]
  },
  {
   "cell_type": "code",
   "execution_count": 27,
   "metadata": {},
   "outputs": [
    {
     "data": {
      "text/plain": [
       "F_onewayResult(statistic=0.9173732401574869, pvalue=0.43340533054551933)"
      ]
     },
     "execution_count": 27,
     "metadata": {},
     "output_type": "execute_result"
    }
   ],
   "source": [
    "sp.stats.f_oneway(*[df.query('Ex2_group == @i')['Ex2'] for i in range(1, 5)])"
   ]
  },
  {
   "cell_type": "markdown",
   "metadata": {},
   "source": [
    "$p > 0.05$, нулевая гипотеза не отклоняется."
   ]
  },
  {
   "cell_type": "markdown",
   "metadata": {},
   "source": [
    "# 3"
   ]
  },
  {
   "cell_type": "markdown",
   "metadata": {},
   "source": [
    "Построим матрицу плана и припишем к ней ограничение на оценки:"
   ]
  },
  {
   "cell_type": "code",
   "execution_count": 238,
   "metadata": {},
   "outputs": [
    {
     "name": "stdout",
     "output_type": "stream",
     "text": [
      "Матрица плана:\n"
     ]
    },
    {
     "data": {
      "text/plain": [
       "array([[1., 1., 0., 0., 0.],\n",
       "       [1., 1., 0., 0., 0.],\n",
       "       [1., 1., 0., 0., 0.],\n",
       "       ...,\n",
       "       [1., 0., 0., 0., 1.],\n",
       "       [1., 0., 0., 0., 1.],\n",
       "       [1., 0., 0., 0., 1.]])"
      ]
     },
     "metadata": {},
     "output_type": "display_data"
    },
    {
     "name": "stdout",
     "output_type": "stream",
     "text": [
      "Ограничение:\n",
      "0.0 ; [0. 1. 1. 1. 1.]\n"
     ]
    }
   ],
   "source": [
    "n_groups = 4\n",
    "y = df['Ex2'].to_numpy()\n",
    "X = np.zeros(shape=(df.shape[0], n_groups))\n",
    "\n",
    "for i in range(1, n_groups+1):\n",
    "    X[:, i-1] = np.where(df['Ex2_group'] == i, 1, 0)\n",
    "X = np.insert(X, 0, 1, axis=1)  # добавить интерсепт\n",
    "print('Матрица плана:')\n",
    "display(X)\n",
    "\n",
    "# добавить ограничение\n",
    "y = np.insert(y, len(y), 0)\n",
    "X = np.insert(X, X.shape[0], [0] + [1] * n_groups, axis=0)\n",
    "print('Ограничение:')\n",
    "print(y[-1], ';', X[-1])"
   ]
  },
  {
   "cell_type": "code",
   "execution_count": 256,
   "metadata": {},
   "outputs": [
    {
     "data": {
      "text/latex": [
       "$\\hat{\\beta} =$"
      ],
      "text/plain": [
       "<IPython.core.display.Latex object>"
      ]
     },
     "metadata": {},
     "output_type": "display_data"
    },
    {
     "data": {
      "text/plain": [
       "array([ 0.27479218,  0.31681858, -0.49311363, -0.48929791,  0.66559297])"
      ]
     },
     "metadata": {},
     "output_type": "display_data"
    },
    {
     "data": {
      "text/latex": [
       "$s^2 = 18.728$"
      ],
      "text/plain": [
       "<IPython.core.display.Latex object>"
      ]
     },
     "metadata": {},
     "output_type": "display_data"
    }
   ],
   "source": [
    "beta = np.linalg.lstsq(X, y, rcond=None)[0]\n",
    "assert beta[1:].sum() < 1e-8  # проверка условия...\n",
    "display(Latex(r'$\\hat{\\beta} =$'))\n",
    "display(beta)\n",
    "\n",
    "# МНК-оценка дисперсии ошибок\n",
    "n = X.shape[0] - 1\n",
    "m = X.shape[1] - 1\n",
    "s2 = np.sum((y - X @ beta)**2) / (n - m)\n",
    "display(Latex(fr'$s^2 = {round(s2, 3)}$'))"
   ]
  },
  {
   "cell_type": "code",
   "execution_count": 285,
   "metadata": {},
   "outputs": [
    {
     "data": {
      "text/plain": [
       "0.5589750358836867"
      ]
     },
     "execution_count": 285,
     "metadata": {},
     "output_type": "execute_result"
    }
   ],
   "source": [
    "beta_H0 = np.array([1, 0, 0, 0, 0])\n",
    "T = (y[:-1] - X[-1:, :] @ beta_H0).T @ (y[:-1] - X[:-1, :] @ beta_H0) / s2\n",
    "# вместо ковариационной матрицы у нас по сути используется её оценка\n",
    "# поэтому число степеней свободы по идее должно быть больше на \"число неизвестных параметров\"\n",
    "# т.е. на 1 - дисперсию, которую мы оцениваем...\n",
    "p_value = 1 - sp.stats.chi2(X[:-1].shape[0] + 1).cdf(T)  \n",
    "p_value"
   ]
  },
  {
   "cell_type": "markdown",
   "metadata": {},
   "source": [
    "$p > 0.05$, нулевая гипотеза не отвергается."
   ]
  },
  {
   "cell_type": "markdown",
   "metadata": {},
   "source": [
    "# 4"
   ]
  },
  {
   "cell_type": "code",
   "execution_count": 390,
   "metadata": {},
   "outputs": [],
   "source": [
    "np.random.seed(0)\n",
    "\n",
    "group_sizes = df['Ex4_group'].value_counts()\n",
    "n_groups = len(group_sizes)\n",
    "\n",
    "N = 10000  # число итераций бутстрепа\n",
    "\n",
    "# расчёт статистики - дисперсия вектора средних\n",
    "T = np.var([df.query('Ex4_group == @gr')['Ex4'].mean() for gr in group_sizes.index])\n",
    "\n",
    "values = df['Ex4']\n",
    "bootstrap_T = np.zeros(N)\n",
    "for i in range(N):\n",
    "    bootstrap_T[i] = np.var([values.sample(n=group_size, replace=True).mean() for group_size in group_sizes])\n",
    " \n",
    "bootstrap_T = np.sort(bootstrap_T)"
   ]
  },
  {
   "cell_type": "code",
   "execution_count": 391,
   "metadata": {},
   "outputs": [
    {
     "data": {
      "text/latex": [
       "$p = 0.77$"
      ],
      "text/plain": [
       "<IPython.core.display.Latex object>"
      ]
     },
     "metadata": {},
     "output_type": "display_data"
    },
    {
     "data": {
      "image/png": "[encoded data removed]",
      "text/plain": [
       "<Figure size 576x432 with 1 Axes>"
      ]
     },
     "metadata": {},
     "output_type": "display_data"
    }
   ],
   "source": [
    "right = bootstrap_T[int(N * (1 - ALPHA))]  # граница критической области\n",
    "p_value = 1 - np.searchsorted(bootstrap_T, T) / N\n",
    "\n",
    "fig, ax = plt.subplots(figsize=(8, 6))\n",
    "sns.histplot(bootstrap_T, stat='probability', ax=ax, kde=True)\n",
    "\n",
    "# ax.vlines([right, T], 0, 0.2, label=['Граница критической области', 'Статистика'])\n",
    "ax.axvline(T, 0, 0.7, color='purple', label='Значение статистики', linestyle='dashed')\n",
    "ax.axvline(right, 0, 0.5, color='red', label='Граница критической области')\n",
    "ax.legend()\n",
    "ax.set_title('Проверка гипотезы о равенстве средних (bootstrap)')\n",
    "display(Latex(rf'$p = {round(p_value, 3)}$'))\n",
    "fig.tight_layout()"
   ]
  },
  {
   "cell_type": "markdown",
   "metadata": {},
   "source": [
    "Нулевая гипотеза не отвергается."
   ]
  },
  {
   "cell_type": "markdown",
   "metadata": {},
   "source": [
    "# 5"
   ]
  },
  {
   "cell_type": "code",
   "execution_count": 443,
   "metadata": {},
   "outputs": [
    {
     "data": {
      "text/plain": [
       "array([[1., 1., 0., 1., 0., 0.],\n",
       "       [1., 1., 0., 1., 0., 0.],\n",
       "       [1., 1., 0., 0., 1., 0.],\n",
       "       [1., 1., 0., 0., 1., 0.],\n",
       "       [1., 1., 0., 0., 0., 1.],\n",
       "       [1., 1., 0., 0., 0., 1.],\n",
       "       [1., 0., 1., 1., 0., 0.],\n",
       "       [1., 0., 1., 1., 0., 0.],\n",
       "       [1., 0., 1., 0., 1., 0.],\n",
       "       [1., 0., 1., 0., 1., 0.]])"
      ]
     },
     "metadata": {},
     "output_type": "display_data"
    },
    {
     "data": {
      "text/plain": [
       "array([[1., 1., 0., 0., 1., 0.],\n",
       "       [1., 1., 0., 0., 1., 0.],\n",
       "       [1., 1., 0., 0., 0., 1.],\n",
       "       [1., 1., 0., 0., 0., 1.],\n",
       "       [1., 0., 1., 0., 1., 0.],\n",
       "       [1., 0., 1., 0., 1., 0.],\n",
       "       [1., 0., 1., 0., 0., 1.],\n",
       "       [1., 0., 1., 0., 0., 1.],\n",
       "       [1., 0., 0., 1., 1., 0.],\n",
       "       [1., 0., 0., 1., 0., 1.],\n",
       "       [1., 0., 0., 1., 0., 1.]])"
      ]
     },
     "metadata": {},
     "output_type": "display_data"
    }
   ],
   "source": [
    "def generate_plan_matrix(sizes):\n",
    "    # в переменных index1 будем запоминать, насколько далеко мы уже продвинулись\n",
    "    # в заполнении блоков матрицы плана, отвечающих за разбиение по первому \n",
    "    # и по второму фактору соответственно.\n",
    "    # \n",
    "    # e.g. после заполнения первого столбца единичек index1 будет равен [1, sizes[0, 1]]\n",
    "    # аналогично с index2, только его столбцы должны начинаться с r, \n",
    "    # т.к. столбцы с индексами 0, ..., r-1 отведены под первый фактор\n",
    "    r, s = sizes.shape\n",
    "    pm = np.zeros(shape=(sizes.sum(), r + s))\n",
    "    index1 = [0, 0]           \n",
    "    index2 = [0, r]\n",
    "    for i in range(r):\n",
    "        index2 = [index2[0], r]\n",
    "        num_of_obs = np.sum(sizes[i])\n",
    "        pm[index1[0]:index1[0]+num_of_obs, index1[1]] = 1\n",
    "        index1[0] += num_of_obs\n",
    "        index1[1] += 1\n",
    "        for j in range(s):\n",
    "            num_of_obs = sizes[i, j]\n",
    "            pm[index2[0]:index2[0]+num_of_obs, index2[1]] =1\n",
    "            index2[0] += num_of_obs\n",
    "            index2[1] += 1\n",
    "    # добавить столбец единичек\n",
    "    return np.insert(pm, 0, 1, axis=1)\n",
    "\n",
    "test1 = np.array([\n",
    "    [2, 2, 2],\n",
    "    [2, 2, 0]\n",
    "])\n",
    "test2 = np.array([\n",
    "    [2, 2,],\n",
    "    [2, 2],\n",
    "    [1, 2]\n",
    "])\n",
    "display(generate_plan_matrix(test1))\n",
    "display(generate_plan_matrix(test2))"
   ]
  },
  {
   "cell_type": "markdown",
   "metadata": {},
   "source": [
    "# 6"
   ]
  },
  {
   "cell_type": "markdown",
   "metadata": {},
   "source": [
    "Построить вектор параметров минимальной нормы можно, используя псевдообратную матрцу."
   ]
  },
  {
   "cell_type": "code",
   "execution_count": 458,
   "metadata": {
    "scrolled": false
   },
   "outputs": [
    {
     "data": {
      "text/plain": [
       "array([[1., 1., 0., 1., 0., 0., 0.],\n",
       "       [1., 1., 0., 1., 0., 0., 0.],\n",
       "       [1., 1., 0., 1., 0., 0., 0.],\n",
       "       [1., 1., 0., 1., 0., 0., 0.],\n",
       "       [1., 1., 0., 1., 0., 0., 0.],\n",
       "       [1., 1., 0., 1., 0., 0., 0.],\n",
       "       [1., 1., 0., 1., 0., 0., 0.],\n",
       "       [1., 1., 0., 1., 0., 0., 0.],\n",
       "       [1., 1., 0., 1., 0., 0., 0.],\n",
       "       [1., 1., 0., 1., 0., 0., 0.],\n",
       "       [1., 1., 0., 1., 0., 0., 0.],\n",
       "       [1., 1., 0., 1., 0., 0., 0.],\n",
       "       [1., 1., 0., 0., 1., 0., 0.],\n",
       "       [1., 1., 0., 0., 1., 0., 0.],\n",
       "       [1., 1., 0., 0., 1., 0., 0.],\n",
       "       [1., 1., 0., 0., 1., 0., 0.],\n",
       "       [1., 1., 0., 0., 1., 0., 0.],\n",
       "       [1., 1., 0., 0., 1., 0., 0.],\n",
       "       [1., 1., 0., 0., 1., 0., 0.],\n",
       "       [1., 1., 0., 0., 1., 0., 0.],\n",
       "       [1., 1., 0., 0., 1., 0., 0.],\n",
       "       [1., 1., 0., 0., 1., 0., 0.],\n",
       "       [1., 1., 0., 0., 1., 0., 0.],\n",
       "       [1., 1., 0., 0., 1., 0., 0.],\n",
       "       [1., 1., 0., 0., 1., 0., 0.],\n",
       "       [1., 1., 0., 0., 1., 0., 0.],\n",
       "       [1., 1., 0., 0., 1., 0., 0.],\n",
       "       [1., 1., 0., 0., 1., 0., 0.],\n",
       "       [1., 1., 0., 0., 1., 0., 0.],\n",
       "       [1., 1., 0., 0., 1., 0., 0.],\n",
       "       [1., 1., 0., 0., 1., 0., 0.],\n",
       "       [1., 1., 0., 0., 1., 0., 0.],\n",
       "       [1., 1., 0., 0., 0., 1., 0.],\n",
       "       [1., 1., 0., 0., 0., 1., 0.],\n",
       "       [1., 1., 0., 0., 0., 1., 0.],\n",
       "       [1., 1., 0., 0., 0., 1., 0.],\n",
       "       [1., 1., 0., 0., 0., 1., 0.],\n",
       "       [1., 1., 0., 0., 0., 1., 0.],\n",
       "       [1., 1., 0., 0., 0., 1., 0.],\n",
       "       [1., 1., 0., 0., 0., 1., 0.],\n",
       "       [1., 0., 1., 1., 0., 0., 0.],\n",
       "       [1., 0., 1., 1., 0., 0., 0.],\n",
       "       [1., 0., 1., 1., 0., 0., 0.],\n",
       "       [1., 0., 1., 1., 0., 0., 0.],\n",
       "       [1., 0., 1., 1., 0., 0., 0.],\n",
       "       [1., 0., 1., 1., 0., 0., 0.],\n",
       "       [1., 0., 1., 1., 0., 0., 0.],\n",
       "       [1., 0., 1., 1., 0., 0., 0.],\n",
       "       [1., 0., 1., 1., 0., 0., 0.],\n",
       "       [1., 0., 1., 1., 0., 0., 0.],\n",
       "       [1., 0., 1., 1., 0., 0., 0.],\n",
       "       [1., 0., 1., 1., 0., 0., 0.],\n",
       "       [1., 0., 1., 1., 0., 0., 0.],\n",
       "       [1., 0., 1., 1., 0., 0., 0.],\n",
       "       [1., 0., 1., 1., 0., 0., 0.],\n",
       "       [1., 0., 1., 1., 0., 0., 0.],\n",
       "       [1., 0., 1., 1., 0., 0., 0.],\n",
       "       [1., 0., 1., 1., 0., 0., 0.],\n",
       "       [1., 0., 1., 1., 0., 0., 0.],\n",
       "       [1., 0., 1., 1., 0., 0., 0.],\n",
       "       [1., 0., 1., 1., 0., 0., 0.],\n",
       "       [1., 0., 1., 1., 0., 0., 0.],\n",
       "       [1., 0., 1., 1., 0., 0., 0.],\n",
       "       [1., 0., 1., 1., 0., 0., 0.],\n",
       "       [1., 0., 1., 1., 0., 0., 0.],\n",
       "       [1., 0., 1., 1., 0., 0., 0.],\n",
       "       [1., 0., 1., 1., 0., 0., 0.],\n",
       "       [1., 0., 1., 1., 0., 0., 0.],\n",
       "       [1., 0., 1., 1., 0., 0., 0.],\n",
       "       [1., 0., 1., 1., 0., 0., 0.],\n",
       "       [1., 0., 1., 0., 1., 0., 0.],\n",
       "       [1., 0., 1., 0., 1., 0., 0.],\n",
       "       [1., 0., 1., 0., 1., 0., 0.],\n",
       "       [1., 0., 1., 0., 1., 0., 0.],\n",
       "       [1., 0., 1., 0., 1., 0., 0.],\n",
       "       [1., 0., 1., 0., 1., 0., 0.],\n",
       "       [1., 0., 1., 0., 1., 0., 0.],\n",
       "       [1., 0., 1., 0., 1., 0., 0.],\n",
       "       [1., 0., 1., 0., 1., 0., 0.],\n",
       "       [1., 0., 1., 0., 1., 0., 0.],\n",
       "       [1., 0., 1., 0., 1., 0., 0.],\n",
       "       [1., 0., 1., 0., 1., 0., 0.],\n",
       "       [1., 0., 1., 0., 1., 0., 0.],\n",
       "       [1., 0., 1., 0., 1., 0., 0.],\n",
       "       [1., 0., 1., 0., 1., 0., 0.],\n",
       "       [1., 0., 1., 0., 1., 0., 0.],\n",
       "       [1., 0., 1., 0., 1., 0., 0.],\n",
       "       [1., 0., 1., 0., 1., 0., 0.],\n",
       "       [1., 0., 1., 0., 1., 0., 0.],\n",
       "       [1., 0., 1., 0., 1., 0., 0.],\n",
       "       [1., 0., 1., 0., 1., 0., 0.],\n",
       "       [1., 0., 1., 0., 1., 0., 0.],\n",
       "       [1., 0., 1., 0., 1., 0., 0.],\n",
       "       [1., 0., 1., 0., 1., 0., 0.],\n",
       "       [1., 0., 1., 0., 0., 1., 0.],\n",
       "       [1., 0., 1., 0., 0., 1., 0.],\n",
       "       [1., 0., 1., 0., 0., 1., 0.],\n",
       "       [1., 0., 1., 0., 0., 1., 0.],\n",
       "       [1., 0., 1., 0., 0., 1., 0.],\n",
       "       [1., 0., 1., 0., 0., 1., 0.],\n",
       "       [1., 0., 1., 0., 0., 1., 0.],\n",
       "       [1., 0., 1., 0., 0., 1., 0.],\n",
       "       [1., 0., 1., 0., 0., 1., 0.],\n",
       "       [1., 0., 1., 0., 0., 1., 0.],\n",
       "       [1., 0., 1., 0., 0., 1., 0.],\n",
       "       [1., 0., 1., 0., 0., 0., 1.],\n",
       "       [1., 0., 1., 0., 0., 0., 1.],\n",
       "       [1., 0., 1., 0., 0., 0., 1.],\n",
       "       [1., 0., 1., 0., 0., 0., 1.],\n",
       "       [1., 0., 1., 0., 0., 0., 1.],\n",
       "       [1., 0., 1., 0., 0., 0., 1.],\n",
       "       [1., 0., 1., 0., 0., 0., 1.]])"
      ]
     },
     "execution_count": 458,
     "metadata": {},
     "output_type": "execute_result"
    }
   ],
   "source": [
    "group_sizes = np.array([\n",
    "    [12, 20, 8, 0],\n",
    "    [30, 24, 11, 7]\n",
    "])\n",
    "\n",
    "X = generate_plan_matrix(group_sizes)\n",
    "X"
   ]
  }
 ],
 "metadata": {
  "kernelspec": {
   "display_name": "Python 3",
   "language": "python",
   "name": "python3"
  },
  "language_info": {
   "codemirror_mode": {
    "name": "ipython",
    "version": 3
   },
   "file_extension": ".py",
   "mimetype": "text/x-python",
   "name": "python",
   "nbconvert_exporter": "python",
   "pygments_lexer": "ipython3",
   "version": "3.8.5"
  },
  "toc": {
   "base_numbering": 1,
   "nav_menu": {},
   "number_sections": false,
   "sideBar": true,
   "skip_h1_title": false,
   "title_cell": "Table of Contents",
   "title_sidebar": "Contents",
   "toc_cell": false,
   "toc_position": {},
   "toc_section_display": true,
   "toc_window_display": false
  },
  "varInspector": {
   "cols": {
    "lenName": 16,
    "lenType": 16,
    "lenVar": 40
   },
   "kernels_config": {
    "python": {
     "delete_cmd_postfix": "",
     "delete_cmd_prefix": "del ",
     "library": "var_list.py",
     "varRefreshCmd": "print(var_dic_list())"
    },
    "r": {
     "delete_cmd_postfix": ") ",
     "delete_cmd_prefix": "rm(",
     "library": "var_list.r",
     "varRefreshCmd": "cat(var_dic_list()) "
    }
   },
   "types_to_exclude": [
    "module",
    "function",
    "builtin_function_or_method",
    "instance",
    "_Feature"
   ],
   "window_display": false
  }
 },
 "nbformat": 4,
 "nbformat_minor": 4
}
