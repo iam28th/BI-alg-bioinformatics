{
 "cells": [
  {
   "cell_type": "code",
   "execution_count": 401,
   "metadata": {},
   "outputs": [],
   "source": [
    "import pandas as pd\n",
    "import numpy as np\n",
    "import scipy as sp\n",
    "import scipy.stats\n",
    "import scipy.special\n",
    "import statsmodels.api as sm\n",
    "\n",
    "import seaborn as sns\n",
    "import matplotlib.pyplot as plt\n",
    "from IPython.display import display, Latex\n",
    "\n",
    "ALPHA = 0.05"
   ]
  },
  {
   "cell_type": "code",
   "execution_count": 5,
   "metadata": {},
   "outputs": [
    {
     "data": {
      "text/html": [
       "<div>\n",
       "<style scoped>\n",
       "    .dataframe tbody tr th:only-of-type {\n",
       "        vertical-align: middle;\n",
       "    }\n",
       "\n",
       "    .dataframe tbody tr th {\n",
       "        vertical-align: top;\n",
       "    }\n",
       "\n",
       "    .dataframe thead th {\n",
       "        text-align: right;\n",
       "    }\n",
       "</style>\n",
       "<table border=\"1\" class=\"dataframe\">\n",
       "  <thead>\n",
       "    <tr style=\"text-align: right;\">\n",
       "      <th></th>\n",
       "      <th>Ex1y</th>\n",
       "      <th>Ex1_group1</th>\n",
       "      <th>Ex1_group2</th>\n",
       "      <th>Ex2y</th>\n",
       "      <th>Ex2_group1</th>\n",
       "      <th>Ex2_group2</th>\n",
       "      <th>Ex2_group3</th>\n",
       "    </tr>\n",
       "  </thead>\n",
       "  <tbody>\n",
       "    <tr>\n",
       "      <th>0</th>\n",
       "      <td>6.602603</td>\n",
       "      <td>1</td>\n",
       "      <td>1</td>\n",
       "      <td>14.649786</td>\n",
       "      <td>1</td>\n",
       "      <td>1</td>\n",
       "      <td>1</td>\n",
       "    </tr>\n",
       "    <tr>\n",
       "      <th>1</th>\n",
       "      <td>8.400579</td>\n",
       "      <td>1</td>\n",
       "      <td>1</td>\n",
       "      <td>11.773946</td>\n",
       "      <td>1</td>\n",
       "      <td>1</td>\n",
       "      <td>1</td>\n",
       "    </tr>\n",
       "    <tr>\n",
       "      <th>2</th>\n",
       "      <td>9.813724</td>\n",
       "      <td>1</td>\n",
       "      <td>1</td>\n",
       "      <td>12.826394</td>\n",
       "      <td>1</td>\n",
       "      <td>1</td>\n",
       "      <td>1</td>\n",
       "    </tr>\n",
       "    <tr>\n",
       "      <th>3</th>\n",
       "      <td>12.981159</td>\n",
       "      <td>1</td>\n",
       "      <td>1</td>\n",
       "      <td>15.567701</td>\n",
       "      <td>1</td>\n",
       "      <td>1</td>\n",
       "      <td>1</td>\n",
       "    </tr>\n",
       "    <tr>\n",
       "      <th>4</th>\n",
       "      <td>14.264021</td>\n",
       "      <td>1</td>\n",
       "      <td>1</td>\n",
       "      <td>11.157773</td>\n",
       "      <td>1</td>\n",
       "      <td>1</td>\n",
       "      <td>1</td>\n",
       "    </tr>\n",
       "  </tbody>\n",
       "</table>\n",
       "</div>"
      ],
      "text/plain": [
       "        Ex1y  Ex1_group1  Ex1_group2       Ex2y  Ex2_group1  Ex2_group2  \\\n",
       "0   6.602603           1           1  14.649786           1           1   \n",
       "1   8.400579           1           1  11.773946           1           1   \n",
       "2   9.813724           1           1  12.826394           1           1   \n",
       "3  12.981159           1           1  15.567701           1           1   \n",
       "4  14.264021           1           1  11.157773           1           1   \n",
       "\n",
       "   Ex2_group3  \n",
       "0           1  \n",
       "1           1  \n",
       "2           1  \n",
       "3           1  \n",
       "4           1  "
      ]
     },
     "execution_count": 5,
     "metadata": {},
     "output_type": "execute_result"
    }
   ],
   "source": [
    "df = pd.read_csv('IB_statistics_data_hw2.9.txt', sep=' ', )\n",
    "df.head()"
   ]
  },
  {
   "cell_type": "markdown",
   "metadata": {},
   "source": [
    "# 1."
   ]
  },
  {
   "cell_type": "markdown",
   "metadata": {},
   "source": [
    "Для генерации матрицы плана используем функцию из предыдущего домашнего задания."
   ]
  },
  {
   "cell_type": "markdown",
   "metadata": {},
   "source": [
    "## a)"
   ]
  },
  {
   "cell_type": "code",
   "execution_count": 72,
   "metadata": {},
   "outputs": [],
   "source": [
    "def generate_plan_matrix(sizes):\n",
    "    r, s = sizes.shape\n",
    "    pm = np.zeros(shape=(int(sizes.sum()), r + s))\n",
    "    index1 = [0, 0]           \n",
    "    index2 = [0, r]\n",
    "    for i in range(r):\n",
    "        index2 = [index2[0], r]\n",
    "        num_of_obs = np.sum(sizes[i])\n",
    "        pm[index1[0]:index1[0]+num_of_obs, index1[1]] = 1\n",
    "        index1[0] += num_of_obs\n",
    "        index1[1] += 1\n",
    "        for j in range(s):\n",
    "            num_of_obs = sizes[i, j]\n",
    "            pm[index2[0]:index2[0]+num_of_obs, index2[1]] =1\n",
    "            index2[0] += num_of_obs\n",
    "            index2[1] += 1\n",
    "    # добавить столбец единичек\n",
    "    return np.insert(pm, 0, 1, axis=1)"
   ]
  },
  {
   "cell_type": "code",
   "execution_count": 391,
   "metadata": {},
   "outputs": [
    {
     "name": "stdout",
     "output_type": "stream",
     "text": [
      "Количество разбиений по факторам: \n",
      "r = 3; s = 2\n",
      "Размер групп:\n"
     ]
    },
    {
     "data": {
      "text/plain": [
       "array([[49., 30.],\n",
       "       [28., 31.],\n",
       "       [26., 44.]])"
      ]
     },
     "metadata": {},
     "output_type": "display_data"
    },
    {
     "name": "stdout",
     "output_type": "stream",
     "text": [
      "Матрица плана\n"
     ]
    },
    {
     "data": {
      "text/plain": [
       "array([[1., 1., 0., ..., 0., 0., 0.],\n",
       "       [1., 1., 0., ..., 0., 0., 0.],\n",
       "       [1., 1., 0., ..., 0., 0., 0.],\n",
       "       ...,\n",
       "       [1., 0., 0., ..., 0., 0., 1.],\n",
       "       [1., 0., 0., ..., 0., 0., 1.],\n",
       "       [1., 0., 0., ..., 0., 0., 1.]])"
      ]
     },
     "metadata": {},
     "output_type": "display_data"
    },
    {
     "name": "stdout",
     "output_type": "stream",
     "text": [
      "МНК-оценки с ограничениями:\n"
     ]
    },
    {
     "data": {
      "text/latex": [
       "$\\mu = 13.252$"
      ],
      "text/plain": [
       "<IPython.core.display.Latex object>"
      ]
     },
     "metadata": {},
     "output_type": "display_data"
    },
    {
     "data": {
      "text/latex": [
       "$\\hat \\alpha= $"
      ],
      "text/plain": [
       "<IPython.core.display.Latex object>"
      ]
     },
     "metadata": {},
     "output_type": "display_data"
    },
    {
     "data": {
      "text/plain": [
       "array([ 0.75229344,  1.42480934, -2.17710277])"
      ]
     },
     "metadata": {},
     "output_type": "display_data"
    },
    {
     "data": {
      "text/latex": [
       "$\\hat \\beta = $"
      ],
      "text/plain": [
       "<IPython.core.display.Latex object>"
      ]
     },
     "metadata": {},
     "output_type": "display_data"
    },
    {
     "data": {
      "text/plain": [
       "array([-0.32690384,  0.32690384])"
      ]
     },
     "metadata": {},
     "output_type": "display_data"
    },
    {
     "data": {
      "text/latex": [
       "$\\hat {\\alpha\\beta} = $"
      ],
      "text/plain": [
       "<IPython.core.display.Latex object>"
      ]
     },
     "metadata": {},
     "output_type": "display_data"
    },
    {
     "data": {
      "text/plain": [
       "array([-1.272905  ,  2.02519844, -1.87673019,  3.30153953,  0.96339756,\n",
       "       -3.14050033])"
      ]
     },
     "metadata": {},
     "output_type": "display_data"
    }
   ],
   "source": [
    "r = df['Ex1_group1'].nunique()\n",
    "s = df['Ex1_group2'].nunique()\n",
    "print('Количество разбиений по факторам: ')\n",
    "print(f'r = {r}; s = {s}')\n",
    "group_sizes = np.zeros(shape=(r, s))\n",
    "\n",
    "for g1 in df['Ex1_group1'].unique():\n",
    "    for g2 in df['Ex1_group2'].unique():\n",
    "        i, j = g1 - 1, g2 - 2\n",
    "        group_sizes[i, j] = df.query('(Ex1_group1 == @g1) & (Ex1_group2 == @g2)').shape[0]\n",
    "print('Размер групп:')\n",
    "display(group_sizes)\n",
    "\n",
    "X = generate_plan_matrix(group_sizes.astype(int))\n",
    "\n",
    "# добавим межфакторное взаимодействие\n",
    "interf = np.zeros(shape=(df.shape[0], r * s))\n",
    "column_index = 0\n",
    "for g1 in df['Ex1_group1'].unique():\n",
    "    for g2 in df['Ex1_group2'].unique():\n",
    "        coef = np.zeros(shape=df.shape[0])\n",
    "        coef[df.query('(Ex1_group1 == @g1) & (Ex1_group2 == @g2)').index] = 1\n",
    "        interf[:, column_index] = coef\n",
    "        column_index += 1\n",
    "        \n",
    "print('Матрица плана')\n",
    "X = np.hstack([X, interf])\n",
    "display(X)\n",
    "\n",
    "# добавим к матрице плана ограничения - сумма коэффициентов для каждого фактора \n",
    "# (и их взаимодействия) равна 0\n",
    "cond_alpha = [0] + [1] * r + [0] * (s + r * s)\n",
    "cond_beta = [0] + [0] * r + [1] * s + [0] * (r * s)\n",
    "cond_interf = [0] * (r * s) + [1] * (r * s)\n",
    "\n",
    "y = df['Ex1y'].to_numpy()\n",
    "for cond in (cond_alpha, cond_beta, cond_interf):\n",
    "    y = np.append(y, 0)\n",
    "    X = np.insert(X, X.shape[0], cond, axis=0)\n",
    "\n",
    "# построим мнк-оценки\n",
    "coef = np.linalg.lstsq(X, y, rcond=None)[0]\n",
    "print('МНК-оценки с ограничениями:')\n",
    "display(Latex(fr\"$\\mu = {round(coef[0], 3)}$\"))\n",
    "display(Latex(r\"$\\hat \\alpha= $\"))\n",
    "display(coef[1:r+1])\n",
    "display(Latex(r\"$\\hat \\beta = $\"))\n",
    "display(coef[r+1:r+s+1])\n",
    "display(Latex(r\"$\\hat {\\alpha\\beta} = $\"))\n",
    "display(coef[r+s+1:])"
   ]
  },
  {
   "cell_type": "markdown",
   "metadata": {},
   "source": [
    "($N$ - размер выборки)\n",
    "1) $H_0: \\alpha_1 = \\alpha_2 = \\alpha_3 = 0$\n",
    "\n",
    "$$F = \\frac{N - rs}{r-1} \\cdot \\frac{Q_\\alpha}{Q_0}\\sim \\text{F} (r-1, N - rs)$$"
   ]
  },
  {
   "cell_type": "code",
   "execution_count": 392,
   "metadata": {},
   "outputs": [
    {
     "data": {
      "text/latex": [
       "$Q_0 = 1828.496$"
      ],
      "text/plain": [
       "<IPython.core.display.Latex object>"
      ]
     },
     "metadata": {},
     "output_type": "display_data"
    },
    {
     "data": {
      "text/latex": [
       "$Q_\\alpha = 2324.765$"
      ],
      "text/plain": [
       "<IPython.core.display.Latex object>"
      ]
     },
     "metadata": {},
     "output_type": "display_data"
    },
    {
     "data": {
      "text/latex": [
       "$F = 128.412, F_\\alpha = 3.041$"
      ],
      "text/plain": [
       "<IPython.core.display.Latex object>"
      ]
     },
     "metadata": {},
     "output_type": "display_data"
    },
    {
     "data": {
      "text/latex": [
       "$p = 0.0$"
      ],
      "text/plain": [
       "<IPython.core.display.Latex object>"
      ]
     },
     "metadata": {},
     "output_type": "display_data"
    }
   ],
   "source": [
    "N = df.shape[0]\n",
    "\n",
    "Q0 = np.sum((y - X @ coef)**2)\n",
    "display(Latex(rf'$Q_0 = {round(Q0, 3)}$'))\n",
    "\n",
    "coef_H0alpha = coef.copy()\n",
    "coef_H0alpha[1:r+1] = 0\n",
    "Qalpha = np.sum((y - X @ coef_H0alpha)**2)\n",
    "display(Latex(rf'$Q_\\alpha = {round(Qalpha, 3)}$'))\n",
    "\n",
    "distr = sp.stats.f(r - 1, N - r*s)\n",
    "\n",
    "F = (N - r * s) / (r - 1) * (Qalpha / Q0)\n",
    "Fcrit = distr.ppf(1 - ALPHA)\n",
    "pvalue = 1 - distr.cdf(F)\n",
    "\n",
    "display(Latex(rf\"$F = {round(F, 3)}, F_\\alpha = {round(Fcrit, 3)}$\"))\n",
    "display(Latex(rf\"$p = {round(pvalue, 3)}$\"))\n"
   ]
  },
  {
   "cell_type": "markdown",
   "metadata": {},
   "source": [
    "$H_0: \\vec \\alpha = \\vec 0$ отклоняется."
   ]
  },
  {
   "cell_type": "markdown",
   "metadata": {},
   "source": [
    "2) $H_0: \\vec {\\alpha \\beta} = \\vec 0$\n",
    "$$F = \\frac{N - rs}{(r-1)(s - 1)} \\cdot \\frac{Q_{\\alpha\\beta}}{Q_0}\\sim \\text{F} ((r-1)(s-1), N - rs)$$"
   ]
  },
  {
   "cell_type": "code",
   "execution_count": 393,
   "metadata": {},
   "outputs": [
    {
     "data": {
      "text/latex": [
       "$Q_{\\alpha \\beta} = 2789.734$"
      ],
      "text/plain": [
       "<IPython.core.display.Latex object>"
      ]
     },
     "metadata": {},
     "output_type": "display_data"
    },
    {
     "data": {
      "text/latex": [
       "$F = 154.096, F_\\alpha = 3.041$"
      ],
      "text/plain": [
       "<IPython.core.display.Latex object>"
      ]
     },
     "metadata": {},
     "output_type": "display_data"
    },
    {
     "data": {
      "text/latex": [
       "$p = 0.0$"
      ],
      "text/plain": [
       "<IPython.core.display.Latex object>"
      ]
     },
     "metadata": {},
     "output_type": "display_data"
    }
   ],
   "source": [
    "coef_H0interf = coef.copy()\n",
    "coef_H0interf[r+s+1:] = 0\n",
    "\n",
    "Qab = np.sum((y - X @ coef_H0interf)**2)\n",
    "display(Latex(r'$Q_{\\alpha \\beta} = ' + rf'{round(Qab, 3)}$'))\n",
    "\n",
    "distr = sp.stats.f((r - 1) * (s - 1), N - r*s)\n",
    "\n",
    "F = (N - r*s) / ((r - 1) * (s - 1)) * (Qab / Q0)\n",
    "pvalue = 1 - distr.cdf(F)\n",
    "display(Latex(rf\"$F = {round(F, 3)}, F_\\alpha = {round(Fcrit, 3)}$\"))\n",
    "display(Latex(rf\"$p = {round(pvalue, 3)}$\"))"
   ]
  },
  {
   "cell_type": "markdown",
   "metadata": {},
   "source": [
    "$H_0: \\vec {\\alpha \\beta} = \\vec 0$ отклоняется."
   ]
  },
  {
   "cell_type": "markdown",
   "metadata": {},
   "source": [
    "## b)"
   ]
  },
  {
   "cell_type": "code",
   "execution_count": 198,
   "metadata": {},
   "outputs": [],
   "source": [
    "# отбросим ограничения\n",
    "y = y[:-3]\n",
    "X = X[:-3]"
   ]
  },
  {
   "cell_type": "code",
   "execution_count": 193,
   "metadata": {},
   "outputs": [
    {
     "data": {
      "text/plain": [
       "array([13.25207173,  0.75229344,  1.42480934, -2.17710277, -0.32690384,\n",
       "        0.32690384, -1.272905  ,  2.02519844, -1.87673019,  3.30153953,\n",
       "        0.96339756, -3.14050033])"
      ]
     },
     "execution_count": 193,
     "metadata": {},
     "output_type": "execute_result"
    }
   ],
   "source": [
    "coef"
   ]
  },
  {
   "cell_type": "code",
   "execution_count": 203,
   "metadata": {},
   "outputs": [
    {
     "name": "stdout",
     "output_type": "stream",
     "text": [
      "МНК-оценки с минимальной нормой:\n"
     ]
    },
    {
     "data": {
      "text/latex": [
       "$\\mu = 6.626$"
      ],
      "text/plain": [
       "<IPython.core.display.Latex object>"
      ]
     },
     "metadata": {},
     "output_type": "display_data"
    },
    {
     "data": {
      "text/latex": [
       "$\\hat \\alpha= $"
      ],
      "text/plain": [
       "<IPython.core.display.Latex object>"
      ]
     },
     "metadata": {},
     "output_type": "display_data"
    },
    {
     "data": {
      "text/plain": [
       "array([2.96097206, 3.63348796, 0.03157585])"
      ]
     },
     "metadata": {},
     "output_type": "display_data"
    },
    {
     "data": {
      "text/latex": [
       "$\\hat \\beta = $"
      ],
      "text/plain": [
       "<IPython.core.display.Latex object>"
      ]
     },
     "metadata": {},
     "output_type": "display_data"
    },
    {
     "data": {
      "text/plain": [
       "array([2.98611409, 3.63992177])"
      ]
     },
     "metadata": {},
     "output_type": "display_data"
    },
    {
     "data": {
      "text/latex": [
       "$\\hat {\\alpha\\beta} = $"
      ],
      "text/plain": [
       "<IPython.core.display.Latex object>"
      ]
     },
     "metadata": {},
     "output_type": "display_data"
    },
    {
     "data": {
      "text/plain": [
       "array([-0.16856569,  3.12953775, -0.77239088,  4.40587884,  2.06773687,\n",
       "       -2.03616102])"
      ]
     },
     "metadata": {},
     "output_type": "display_data"
    }
   ],
   "source": [
    "B = X.T @ X\n",
    "Bpinv = np.linalg.pinv(B)\n",
    "coef_minnorm = Bpinv @ X.T @ y\n",
    "print('МНК-оценки с минимальной нормой:')\n",
    "display(Latex(rf\"$\\mu = {round(coef_minnorm[0], 3)}$\"))\n",
    "display(Latex(r\"$\\hat \\alpha= $\"))\n",
    "display(coef_minnorm[1:r+1])\n",
    "display(Latex(r\"$\\hat \\beta = $\"))\n",
    "display(coef_minnorm[r+1:r+s+1])\n",
    "display(Latex(r\"$\\hat {\\alpha\\beta} = $\"))\n",
    "display(coef_minnorm[r+s+1:])"
   ]
  },
  {
   "cell_type": "code",
   "execution_count": 210,
   "metadata": {},
   "outputs": [
    {
     "name": "stdout",
     "output_type": "stream",
     "text": [
      "m\t13.252071729680662\t6.626035864840327\n",
      "a1\t0.7522934373917345\t2.960972059005183\n",
      "a2\t1.4248093355157785\t3.633487957129224\n",
      "a3\t-2.177102772907517\t0.03157584870592778\n",
      "b1\t-0.32690384046787824\t2.9861140919522855\n",
      "b2\t0.32690384046788024\t3.6399217728880453\n",
      "a1b1\t-1.2729050042366343\t-0.16856569342991645\n",
      "a1b2\t2.0251984416283744\t3.1295377524350956\n",
      "a2b1\t-1.8767301920137964\t-0.7723908812070799\n",
      "a2b2\t3.3015395275295756\t4.405878838336304\n",
      "a3b1\t0.9633975568369957\t2.0677368676437187\n",
      "a3b2\t-3.1405003297445093\t-2.0361610189377886\n"
     ]
    }
   ],
   "source": [
    "labels = ['m'] + [f'a{i+1}' for i in range(r)] + \\\n",
    "    [f'b{i+1}' for i in range(s)] + \\\n",
    "    [f'a{i+1}b{j+1}' for i in range(r) for j in range(s)]\n",
    "for label, c, cmn in zip(labels, coef, coef_minnorm):\n",
    "    print(label, c, cmn, sep='\\t')"
   ]
  },
  {
   "cell_type": "code",
   "execution_count": 204,
   "metadata": {},
   "outputs": [
    {
     "name": "stdout",
     "output_type": "stream",
     "text": [
      "13.481879778648688\n"
     ]
    }
   ],
   "source": [
    "print(y.mean())"
   ]
  },
  {
   "cell_type": "markdown",
   "metadata": {},
   "source": [
    "Большинство коэффициентов отличаются весьма \"сильно\" - в частности, $\\mu$ при построении оценок минимальной нормы c использованием псевдообратной матрицы очень далёк от среднего значения целевой переменной. Вариант с ограничениями поэтому кажется по-адекватнее."
   ]
  },
  {
   "cell_type": "markdown",
   "metadata": {},
   "source": [
    "## c)"
   ]
  },
  {
   "cell_type": "markdown",
   "metadata": {},
   "source": [
    "Ковариацонная матрица вектора параметров суть (1, 3)-обратная матрица к $X^T X$."
   ]
  },
  {
   "cell_type": "code",
   "execution_count": 359,
   "metadata": {},
   "outputs": [],
   "source": [
    "B = X.T @ X\n",
    "P0 = np.linalg.pinv(B)  # начинаем с псевдообратной матрицы"
   ]
  },
  {
   "cell_type": "code",
   "execution_count": 374,
   "metadata": {},
   "outputs": [],
   "source": [
    "ndim = B.shape[0]\n",
    "\n",
    "def loss_function(P):\n",
    "    # функционал, который требуется минимизировать\n",
    "    # здесь P - 1,3-обратная матрица к X.T @ X\n",
    "    np.fill_diagonal(P, 0)\n",
    "    return np.sum(P**2)\n",
    "\n",
    "def computeP13(Z):\n",
    "    # параметризация 1,3 - обратных матриц\n",
    "    return P0 + (np.eye(ndim) - P0 @ B) @ Z \n",
    "\n",
    "def crossover(Z1, Z2):\n",
    "    # заполняем новую матрицу случайными элементами родителей\n",
    "    index = np.random.randint(0, 2, size=(ndim, ndim))\n",
    "    return np.where(index, Z1, Z2)\n",
    "\n",
    "def mutate(Z, sigma2=0.05):\n",
    "    noise = np.random.normal(0, sigma2, size=(ndim, ndim))\n",
    "    return Z + noise\n"
   ]
  },
  {
   "cell_type": "code",
   "execution_count": 375,
   "metadata": {},
   "outputs": [],
   "source": [
    "np.random.seed(0)\n",
    "\n",
    "population_size = 100\n",
    "N_generations = 100\n",
    "half = N_generations // 2\n",
    "\n",
    "best_Z = P0\n",
    "best_loss = loss_function(P0)\n",
    "population = [P0 + np.random.normal(0, 1, size=(ndim, ndim)) for _ in range(population_size)]\n",
    "\n",
    "for i in range(N_generations):\n",
    "    pinvs = [computeP13(Z) for Z in population]\n",
    "    scores = [loss_function(pinv) for pinv in pinvs]\n",
    "    tmp = [(p, s) for p, s in zip(pinvs, scores)]\n",
    "    tmp.sort(key=lambda x: x[1])\n",
    "    \n",
    "    if tmp[0][1] < best_loss:\n",
    "        best_loss = tmp[0][1]\n",
    "        best_Z = tmp[0][0]\n",
    "    \n",
    "    # из 50% матриц с самым низким значением функционала,\n",
    "    # будем выбирать родителей с вероятностью, обратно пропорцинальной этому значению\n",
    "    # остальную половину отбросим\n",
    "    tmp = tmp[:half]\n",
    "    \n",
    "    pinvs = [p for p, s in tmp]\n",
    "    probs = [1/s for p, s in tmp]\n",
    "    \n",
    "    total = sum(probs)  \n",
    "    probs = [p / total for p in probs]  # нормируем вероятности\n",
    "    \n",
    "    new_population = []\n",
    "    for i in range(half):\n",
    "        p1, p2 = np.asarray(pinvs)[np.random.choice(half, 2, p=probs)]\n",
    "        # p1, p2 = np.random.choice(pinvs, size=2, p=probs)\n",
    "        new_population.append(crossover(p1, p2))\n",
    "    \n",
    "    new_population.extend(pinvs)\n",
    "    for i in range(population_size):\n",
    "        new_population[i] = mutate(new_population[i])\n",
    "        \n",
    "    population = new_population"
   ]
  },
  {
   "cell_type": "markdown",
   "metadata": {},
   "source": [
    "Что-то у меня по-прежнему выходят странные вещи c параметризацией - свойство 1 отказывается выполняться:"
   ]
  },
  {
   "cell_type": "code",
   "execution_count": 376,
   "metadata": {},
   "outputs": [
    {
     "name": "stdout",
     "output_type": "stream",
     "text": [
      "Наименьшее значение функционала:\n",
      "0.004737534109974484\n",
      "Свойство 1:\n",
      "-19513.9229393482\n",
      "Свойство 3:\n",
      "-7.105427357601002e-15\n"
     ]
    }
   ],
   "source": [
    "print(\"Наименьшее значение функционала:\")\n",
    "print(best_loss)\n",
    "B13 = computeP13(best_Z)\n",
    "\n",
    "print('Свойство 1:')\n",
    "print(np.sum(B @ B13 @ B - B))  \n",
    "print('Свойство 3:')\n",
    "print(np.sum((B @ B13).T - B @ B13))"
   ]
  },
  {
   "cell_type": "code",
   "execution_count": 355,
   "metadata": {},
   "outputs": [
    {
     "name": "stdout",
     "output_type": "stream",
     "text": [
      "МНК-оценки с ограничениями на элементы ковариационной матрицы:\n"
     ]
    },
    {
     "data": {
      "text/latex": [
       "$\\mu = 10.61$"
      ],
      "text/plain": [
       "<IPython.core.display.Latex object>"
      ]
     },
     "metadata": {},
     "output_type": "display_data"
    },
    {
     "data": {
      "text/latex": [
       "$\\hat \\alpha= $"
      ],
      "text/plain": [
       "<IPython.core.display.Latex object>"
      ]
     },
     "metadata": {},
     "output_type": "display_data"
    },
    {
     "data": {
      "text/plain": [
       "array([-10.11197578,  -4.42590042, -11.83843343])"
      ]
     },
     "metadata": {},
     "output_type": "display_data"
    },
    {
     "data": {
      "text/latex": [
       "$\\hat \\beta = $"
      ],
      "text/plain": [
       "<IPython.core.display.Latex object>"
      ]
     },
     "metadata": {},
     "output_type": "display_data"
    },
    {
     "data": {
      "text/plain": [
       "array([-38.05613463, -38.25034004])"
      ]
     },
     "metadata": {},
     "output_type": "display_data"
    },
    {
     "data": {
      "text/latex": [
       "$\\hat {\\alpha\\beta} = $"
      ],
      "text/plain": [
       "<IPython.core.display.Latex object>"
      ]
     },
     "metadata": {},
     "output_type": "display_data"
    },
    {
     "data": {
      "text/plain": [
       "array([-27.53482936, -30.32950416, -34.80246673, -32.46825147,\n",
       "       -25.8041495 , -24.34313037])"
      ]
     },
     "metadata": {},
     "output_type": "display_data"
    }
   ],
   "source": [
    "coef = B13 @ X.T @ y\n",
    "print('МНК-оценки с ограничениями на элементы ковариационной матрицы:')\n",
    "display(Latex(fr\"$\\mu = {round(coef[0], 3)}$\"))\n",
    "display(Latex(r\"$\\hat \\alpha= $\"))\n",
    "display(coef[1:r+1])\n",
    "display(Latex(r\"$\\hat \\beta = $\"))\n",
    "display(coef[r+1:r+s+1])\n",
    "display(Latex(r\"$\\hat {\\alpha\\beta} = $\"))\n",
    "display(coef[r+s+1:])"
   ]
  },
  {
   "cell_type": "markdown",
   "metadata": {},
   "source": [
    "Все коэффициенты подозрительно отрицательны..."
   ]
  },
  {
   "cell_type": "markdown",
   "metadata": {},
   "source": [
    "# 2."
   ]
  },
  {
   "cell_type": "code",
   "execution_count": 402,
   "metadata": {},
   "outputs": [
    {
     "data": {
      "text/plain": [
       "(2, 2, 2)"
      ]
     },
     "execution_count": 402,
     "metadata": {},
     "output_type": "execute_result"
    }
   ],
   "source": [
    "df2 = df[[col for col in df.columns if col.startswith('Ex2')]] \n",
    "y = df2['Ex2y'].to_numpy()\n",
    "_, r, s, t = df2.nunique()\n",
    "r, s, t"
   ]
  },
  {
   "cell_type": "markdown",
   "metadata": {},
   "source": [
    "Матрица плана будет блочной, аналогично случаю с двумя факторами, но с большей \"вложенностью\". То есть после столбца единичек будут 2 столбца, соответствующие делению по первой группе, и разделяющие матрицу на две \"части\" - в одной части единицы стоят в 1-ом столбце, в другой - во втором.\n",
    "\n",
    "Далее будут 2 столбца второго фактора, которые аналогичным образом разделяют каждую из имеющихся \"частей\" матрицы, и затем эти части снова делятся по 3-ему фактору.\n",
    "\n",
    "Затем идут 3 группы по 4 столбца, соответствующие парным взаимодействиям. Например, для факторов $\\alpha$ и $\\beta$ в строке объекта в этих столбцах будет записано $(1, 0, 0, 0)$, если объект принадлежит к группам $\\alpha_1$ и $\\beta_1$; $(0, 1, 0, 0)$, если к $\\alpha_1$ и $\\beta_2$; $(0, 0, 1, 0)$, если к $\\alpha_2$ и $\\beta_1$;  $(0, 0, 0, 1)$ если к $\\alpha_2$ и $\\beta_2$. Аналогично с остальными парными взамиодействиями.\n",
    "\n",
    "Затем идёт 8 столбцов, по такому же принципу кодирующих взаимодействие троек."
   ]
  },
  {
   "cell_type": "code",
   "execution_count": 423,
   "metadata": {
    "scrolled": false
   },
   "outputs": [],
   "source": [
    "X = []\n",
    "\n",
    "for i, row in df2.drop(columns=['Ex2y']).iterrows():\n",
    "    a, b, c = row - 1  # группы, к которым принадлежит объект из одной строчки таблицы\n",
    "    \n",
    "    # интерсепт\n",
    "    x = [1]\n",
    "    \n",
    "    # одиночные факторы\n",
    "    alpha = [0, 0]\n",
    "    alpha[a] = 1\n",
    "    \n",
    "    beta = [0, 0]\n",
    "    beta[b] = 1\n",
    "    \n",
    "    gamma = [0, 0]\n",
    "    gamma[c] = 1\n",
    "    \n",
    "    # парные взаимодействия - 3 пары, в каждой по 4 варианта\n",
    "    ab = [0] * 4\n",
    "    ab[a * 2 + b] = 1\n",
    "    \n",
    "    bc = [0] * 4\n",
    "    bc[b * 2 + c] = 1\n",
    "    \n",
    "    ac = [0] * 4\n",
    "    ac[a * 2 + c] = 1\n",
    "    \n",
    "    # тройные взаимодействия - 8 вариантов \n",
    "    abc = [0] * 8\n",
    "    abc[4 * a + 2 * b + c] = 1\n",
    "    \n",
    "    x.extend(alpha + beta + gamma + ab + bc + ac + abc)\n",
    "    X.append(x)\n",
    "    \n",
    "X = np.array(X)"
   ]
  },
  {
   "cell_type": "code",
   "execution_count": 428,
   "metadata": {},
   "outputs": [
    {
     "name": "stdout",
     "output_type": "stream",
     "text": [
      "m\t2.7597174983915504\n",
      "a1\t1.177464763936721\n",
      "a2\t1.5822527344548296\n",
      "b1\t1.8969585404673768\n",
      "b2\t0.8627589579241719\n",
      "c1\t1.5134493812179834\n",
      "c2\t1.2462681171735714\n",
      "a1b1\t2.136122191431242\n",
      "a1b2\t-0.9586574274945223\n",
      "a2b1\t-0.23916365096387132\n",
      "a2b2\t1.8214163854186978\n",
      "b1c1\t2.9939320941941525\n",
      "b1c2\t-1.0969735537267793\n",
      "b2c1\t-1.4804827129761702\n",
      "b2c2\t2.343241670900346\n",
      "a1c1\t1.7823681474535862\n",
      "a1c2\t-0.6049033835168622\n",
      "a2c1\t-0.2689187662356021\n",
      "a2c2\t1.8511715006904312\n",
      "a1b1c1\t0.5020937054281371\n",
      "a1b1c2\t1.6340284860031078\n",
      "a1b2c1\t1.2802744420254486\n",
      "a1b2c2\t-2.2389318695199703\n",
      "a2b1c1\t2.4918383887660145\n",
      "a2b1c2\t-2.731002039729886\n",
      "a2b2c1\t-2.7607571550016177\n",
      "a2b2c2\t4.582173540420316\n"
     ]
    }
   ],
   "source": [
    "B = X.T @ X\n",
    "beta = np.linalg.pinv(B) @ X.T @ y\n",
    "labels = ['m', 'a1', 'a2', 'b1', 'b2', 'c1', 'c2'] + \\\n",
    "    [f'a{i}b{j}' for i in (1, 2) for j in (1, 2)] + \\\n",
    "    [f'b{i}c{j}' for i in (1, 2) for j in (1, 2)] + \\\n",
    "    [f'a{i}c{j}' for i in (1, 2) for j in (1, 2)] + \\\n",
    "    [f'a{i}b{j}c{k}' for i in (1, 2) for j in (1, 2) for k in (1, 2)]\n",
    "\n",
    "for label, b in zip(labels, beta):\n",
    "    print(label, b, sep='\\t')"
   ]
  },
  {
   "cell_type": "markdown",
   "metadata": {},
   "source": [
    "## b)\n",
    "Попробуем в этот раз другую параметризацию..."
   ]
  },
  {
   "cell_type": "code",
   "execution_count": 433,
   "metadata": {},
   "outputs": [],
   "source": [
    "B = X.T @ X\n",
    "P0 = np.linalg.pinv(B)  # начинаем с псевдообратной матрицы"
   ]
  },
  {
   "cell_type": "code",
   "execution_count": 435,
   "metadata": {},
   "outputs": [],
   "source": [
    "ndim = B.shape[0]\n",
    "def loss_function(P):\n",
    "    # функционал, который требуется минимизировать\n",
    "    # здесь P - 1,3-обратная матрица к X.T @ X\n",
    "    np.fill_diagonal(P, 0)\n",
    "    return np.sum(P**2)\n",
    "\n",
    "def computeP134(Z):\n",
    "    # параметризация 1,3,4 - обратных матриц\n",
    "    identity = np.eye(ndim)\n",
    "    return P0 + (identity - P0 @ B) @ Z @ (identity - B @ P0)\n",
    "    \n",
    "def crossover(Z1, Z2):\n",
    "    # заполняем новую матрицу случайными элементами родителей\n",
    "    index = np.random.randint(0, 2, size=(ndim, ndim))\n",
    "    return np.where(index, Z1, Z2)\n",
    "\n",
    "def mutate(Z, sigma2=0.05):\n",
    "    noise = np.random.normal(0, sigma2, size=(ndim, ndim))\n",
    "    return Z + noise"
   ]
  },
  {
   "cell_type": "code",
   "execution_count": 436,
   "metadata": {},
   "outputs": [],
   "source": [
    "np.random.seed(0)\n",
    "\n",
    "population_size = 100\n",
    "N_generations = 100\n",
    "half = N_generations // 2\n",
    "\n",
    "best_Z = P0\n",
    "best_loss = loss_function(P0)\n",
    "population = [P0 + np.random.normal(0, 1, size=(ndim, ndim)) for _ in range(population_size)]\n",
    "\n",
    "for i in range(N_generations):\n",
    "    pinvs = [computeP134(Z) for Z in population]\n",
    "    scores = [loss_function(pinv) for pinv in pinvs]\n",
    "    tmp = [(p, s) for p, s in zip(pinvs, scores)]\n",
    "    tmp.sort(key=lambda x: x[1])\n",
    "    \n",
    "    if tmp[0][1] < best_loss:\n",
    "        best_loss = tmp[0][1]\n",
    "        best_Z = tmp[0][0]\n",
    "    \n",
    "    # из 50% матриц с самым низким значением функционала,\n",
    "    # будем выбирать родителей с вероятностью, обратно пропорцинальной этому значению\n",
    "    # остальную половину отбросим\n",
    "    tmp = tmp[:half]\n",
    "    \n",
    "    pinvs = [p for p, s in tmp]\n",
    "    probs = [1/s for p, s in tmp]\n",
    "    \n",
    "    total = sum(probs)  \n",
    "    probs = [p / total for p in probs]  # нормируем вероятности\n",
    "    \n",
    "    new_population = []\n",
    "    for i in range(half):\n",
    "        p1, p2 = np.asarray(pinvs)[np.random.choice(half, 2, p=probs)]\n",
    "        # p1, p2 = np.random.choice(pinvs, size=2, p=probs)\n",
    "        new_population.append(crossover(p1, p2))\n",
    "    \n",
    "    new_population.extend(pinvs)\n",
    "    for i in range(population_size):\n",
    "        new_population[i] = mutate(new_population[i])\n",
    "        \n",
    "    population = new_population"
   ]
  },
  {
   "cell_type": "code",
   "execution_count": 438,
   "metadata": {},
   "outputs": [
    {
     "name": "stdout",
     "output_type": "stream",
     "text": [
      "Наименьшее значение функционала:\n",
      "0.0016563541227072075\n",
      "Свойство 1:\n",
      "-13798.692852854516\n",
      "Свойство 3:\n",
      "-1.7763568394002505e-15\n"
     ]
    }
   ],
   "source": [
    "print(\"Наименьшее значение функционала:\")\n",
    "print(best_loss)\n",
    "B13 = computeP13(best_Z)\n",
    "\n",
    "print('Свойство 1:')\n",
    "print(np.sum(B @ B13 @ B - B))  \n",
    "print('Свойство 3:')\n",
    "print(np.sum((B @ B13).T - B @ B13))   # "
   ]
  },
  {
   "attachments": {},
   "cell_type": "markdown",
   "metadata": {},
   "source": [
    "### c)"
   ]
  },
  {
   "cell_type": "markdown",
   "metadata": {},
   "source": [
    "По аналогии с двухфакторной моделью будем использовать критерий Фишера. Поменяется только число степеней свободы в суммах в числителе и знаменателе статистики (и соответственно в сомножителе перед дробью).\n",
    "\n",
    "$N$ - объём выборки, $ddof$ - число степеней свободы; $r, s, t$ - число групп при разбиении по трём факторам соответственно.\n",
    "\n",
    "$Q_0$ - сумма квадратов остатков полной модели; $ddof = N - r\\cdot s \\cdot t$;\n",
    "\n",
    "$Q_\\alpha$ - усечённая модель для проверки $H_0: \\vec \\alpha = \\vec 0$; $ddof = r - 1$ (аналогично для других факторов)\n",
    "\n",
    "\n",
    "$Q_{\\alpha\\beta}$ - усечённая модель для проверки $H_0: \\vec {\\alpha\\beta} = \\vec 0$; $ddof = (r - 1)(s-1)$\n",
    "\n",
    "\n",
    "$Q_{\\alpha\\beta\\gamma}$ - усечённая модель для проверки $H_0: \\vec {\\alpha\\beta\\gamma} = \\vec 0$; $ddof = (r - 1)(s-1)(t-1)$\n",
    "\n",
    "Если нужно проверить несколько гипотез (допустим о незначимости первого фактора и взаимодействия между вторым и третьем, то можно пересчитать число степеней свободы в суммах, либо проверить эти гипотезы по-отдельности и воспользоваться поправкой.\n"
   ]
  }
 ],
 "metadata": {
  "kernelspec": {
   "display_name": "Python 3",
   "language": "python",
   "name": "python3"
  },
  "language_info": {
   "codemirror_mode": {
    "name": "ipython",
    "version": 3
   },
   "file_extension": ".py",
   "mimetype": "text/x-python",
   "name": "python",
   "nbconvert_exporter": "python",
   "pygments_lexer": "ipython3",
   "version": "3.8.5"
  },
  "toc": {
   "base_numbering": 1,
   "nav_menu": {},
   "number_sections": false,
   "sideBar": true,
   "skip_h1_title": false,
   "title_cell": "Table of Contents",
   "title_sidebar": "Contents",
   "toc_cell": false,
   "toc_position": {},
   "toc_section_display": true,
   "toc_window_display": false
  },
  "varInspector": {
   "cols": {
    "lenName": 16,
    "lenType": 16,
    "lenVar": 40
   },
   "kernels_config": {
    "python": {
     "delete_cmd_postfix": "",
     "delete_cmd_prefix": "del ",
     "library": "var_list.py",
     "varRefreshCmd": "print(var_dic_list())"
    },
    "r": {
     "delete_cmd_postfix": ") ",
     "delete_cmd_prefix": "rm(",
     "library": "var_list.r",
     "varRefreshCmd": "cat(var_dic_list()) "
    }
   },
   "types_to_exclude": [
    "module",
    "function",
    "builtin_function_or_method",
    "instance",
    "_Feature"
   ],
   "window_display": false
  }
 },
 "nbformat": 4,
 "nbformat_minor": 4
}
