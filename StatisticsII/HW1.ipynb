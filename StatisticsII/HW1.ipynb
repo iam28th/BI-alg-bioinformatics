{
 "cells": [
  {
   "cell_type": "markdown",
   "metadata": {},
   "source": [
    "# 1\n",
    "\n",
    "$\\xi_i \\sim N(0, \\sigma^2),\\ i = 1,2,3;\\ \\eta \\sim U(0, 1)$ - независимы.\n",
    "\n",
    "$\\vec v = (\\xi_1\\ \\ \\ \\ \\xi_1 + \\xi_2\\ \\ \\ \\ \\ \\xi_1 + \\xi_2 + \\xi_3\\ \\ \\ \\ \\xi_1\\eta)$\n",
    "\n",
    "$\\Sigma_{\\vec v} - ?$\n",
    "\n",
    "---\n",
    "\n",
    "$\\mathbb{E}\\xi_1 = \\mathbb{E}(\\xi_1 + \\xi_2) = \\mathbb{E} (\\xi_1 + \\xi_2 + \\xi_3) = \\mathbb{E}(\\xi_1 \\eta) = 0$\n",
    "\n",
    "$\\Sigma_{1, 1} = cov(\\xi_1, \\xi_1) = \\mathbb{D}\\xi_1 = \\sigma^2$\n",
    "\n",
    "$\\Sigma_{1, 2} = cov(\\xi_1, \\xi_1 + \\xi_2) = \\mathbb{E}[\\ (\\xi_1 - \\mathbb{E}\\xi_1)\n",
    "(\\xi_1 + \\xi_2 - \\mathbb{E}(\\xi_1 + \\xi_2))] = \n",
    "\\mathbb{E}(\\xi_1 (\\xi_1 + \\xi_2)) = \\mathbb{E}\\xi_1^2 +\\mathbb{E}\\xi_1 \\xi_2 = \\mathbb{E} \\xi_1^2 = \\sigma^2$\n",
    "\n",
    "$\\Sigma_{1, 3} = cov(\\xi_1, \\xi_1 + \\xi_2 + \\xi_3) = \\mathbb{E}[\\ (\\xi_1 - \\mathbb{E}\\xi_1)\n",
    "(\\xi_1 + \\xi_2 + \\xi_3 - \\mathbb{E}(\\xi_1 + \\xi_2 + \\xi_3))\\ ] = \\mathbb{E}\\xi_1^2 + \n",
    "\\mathbb{E} \\xi_1 \\xi_2 + \\mathbb{E} \\xi_1 \\xi_3 =\\sigma^2$\n",
    "\n",
    "$\\Sigma_{1, 4} = cov(\\xi_1, \\xi_1 \\eta) = \n",
    "\\mathbb{E}[\\ (\\xi_1 - \\mathbb{E} \\xi_1)(\\xi_1\\eta - \\mathbb{E}\\xi_1\\eta) \\ ] = \n",
    "\\mathbb{E} \\xi_1^2 \\eta = \\sigma^2 \\cdot \\mathbb{E} \\eta = \\sigma^2 \\cdot 0 = 0\n",
    "$\n",
    "\n",
    "$\\Sigma_{2, 2} = \\mathbb{D}(\\xi_1 + \\xi_2) = 2\\mathbb{D}\\xi_1 = 2 \\sigma^2$\n",
    "\n",
    "$\\Sigma_{2, 3} = cov(\\xi_1 + \\xi_2, \\xi_1 + \\xi_2 + \\xi_3) = \n",
    "\\mathbb{E}[\\ (\\xi_1 + \\xi_2)(\\xi_1 + \\xi_2 + \\xi_3)\\ ] = \n",
    "\\mathbb{E} (\\xi_1^2 + \\xi_2^2) = 2\\sigma^2$\n",
    "\n",
    "$\\Sigma_{2, 4} = cov(\\xi_1 + \\xi_2, \\xi_1\\eta) = \n",
    "\\mathbb{E}[\\ (\\xi_1 + \\xi_2)(\\xi_1 \\eta)] = \\mathbb{E}( \\xi_1^2\\eta + \\xi_1\\xi_2\\eta) = 0$\n",
    "\n",
    "$\\Sigma_{3, 3} = \\mathbb{D}(\\xi_1 + \\xi_2 + \\xi_3) = 3\\sigma^2$\n",
    "\n",
    "$\\Sigma_{3, 4} = 0$\n",
    "\n",
    "$\\Sigma_{4, 4} = \\mathbb{E}[(\\xi_1 \\eta)^2] = \n",
    "\\mathbb{E} \\xi_1^2 \\cdot \\mathbb{E} \\eta^2 = \\sigma^2 \\cdot \\frac{1}{3}$\n",
    "\n",
    "$\\Sigma_{i, j} = \\Sigma_{j, i}$\n",
    "\n",
    "$$ \\Sigma = \n",
    "\\begin{pmatrix}\n",
    "\\sigma^2 && \\sigma^2 && \\sigma^2 && 0 \\\\\n",
    "\\sigma^2 && 2\\sigma^2 && 2\\sigma^2 && 0 \\\\\n",
    "\\sigma^2 && 2\\sigma^2 && 3\\sigma^2 && 0 \\\\\n",
    "0 && 0 && 0 && \\frac{\\sigma^2}{3}\n",
    "\\end{pmatrix}\n",
    "$$"
   ]
  },
  {
   "cell_type": "markdown",
   "metadata": {},
   "source": [
    "# 2 \n",
    "Подберём такие $\\xi_1, \\xi_2$, чтобы матрица ковариации была вырождена, тогда для этого вектора не будет существовать функция плотности многомерного нормального распределения.\n",
    "\n",
    "Пусть $\\xi_1 \\sim N(0, 1),\\ \\xi_2 = 5\\xi_1 \\sim N(0, 25)$.\n",
    "Тогда\n",
    "$$\n",
    "\\det \\Sigma = \\begin{vmatrix}\n",
    "1 && 5 \\\\\n",
    "5 && 25\n",
    "\\end{vmatrix} = 0\n",
    "$$"
   ]
  },
  {
   "cell_type": "markdown",
   "metadata": {},
   "source": [
    "# 3\n",
    "\n",
    "Воспользуемся теоремой о ядре и образе.\n",
    "\n",
    "Рассмотрим линейные операторы, матрицами которых являются $\\mathbb X$ и $\\mathbb X ^\\intercal \\mathbb X$.\n",
    "\n",
    "Докажем что $\\mathbb X ^\\intercal \\mathbb X x =0 \\Leftrightarrow \\mathbb Xx = 0$.\n",
    "\n",
    "1) $\\mathbb Xx = 0 \\Rightarrow \\mathbb X^\\intercal\\mathbb X x =\\mathbb X ^\\intercal \\cdot 0 = 0$.\n",
    "\n",
    "2) $\\mathbb X^\\intercal \\mathbb X x = 0 \\Rightarrow \n",
    "x^\\intercal \\mathbb X^\\intercal \\mathbb X x = 0 \\Rightarrow\n",
    "(\\mathbb Xx)^\\intercal\\cdot \\mathbb Xx= (\\mathbb X x, \\mathbb X x) = 0 \\Rightarrow\n",
    "\\mathbb X x = 0\n",
    "$\n",
    "\n",
    "$\\Rightarrow \\ker \\mathbb X^\\intercal \\mathbb X = \\ker \\mathbb X$\n",
    "\n",
    "По теореме о ядре и образе:\n",
    "\n",
    "$\\dim \\ker \\mathbb X^\\intercal \\mathbb X  + \\dim \\text{im} \\mathbb X^\\intercal \\mathbb X  = m = \n",
    "\\dim \\ker \\mathbb X + \\dim \\text{im} \\mathbb X$\n",
    "\n",
    "$\\text{rank}\\ \\mathbb X^\\intercal \\mathbb X =\n",
    "\\dim \\text{im}\\ \\mathbb X^\\intercal \\mathbb X =\n",
    "\\dim \\text{im}\\ \\mathbb X\n",
    "= \\text{rank}\\ \\mathbb X = m$\n",
    "\n",
    "Т.к. ранг матрицы равен наивысшему порядку ненулевого минора, а размерность матрицы $\\mathbb X^\\intercal \\mathbb X$ равна $m \\times m$, то $\\det \\mathbb X^\\intercal \\mathbb X \\ne 0$, ч.т.д.\n",
    "\n",
    "---"
   ]
  },
  {
   "cell_type": "code",
   "execution_count": 1,
   "metadata": {},
   "outputs": [],
   "source": [
    "import pandas as pd\n",
    "import numpy as np\n",
    "import matplotlib.pyplot as plt\n",
    "import seaborn as sns\n",
    "from tqdm import tqdm\n",
    "from IPython.display import display, Latex"
   ]
  },
  {
   "cell_type": "code",
   "execution_count": 2,
   "metadata": {},
   "outputs": [
    {
     "data": {
      "text/html": [
       "<div>\n",
       "<style scoped>\n",
       "    .dataframe tbody tr th:only-of-type {\n",
       "        vertical-align: middle;\n",
       "    }\n",
       "\n",
       "    .dataframe tbody tr th {\n",
       "        vertical-align: top;\n",
       "    }\n",
       "\n",
       "    .dataframe thead th {\n",
       "        text-align: right;\n",
       "    }\n",
       "</style>\n",
       "<table border=\"1\" class=\"dataframe\">\n",
       "  <thead>\n",
       "    <tr style=\"text-align: right;\">\n",
       "      <th></th>\n",
       "      <th>ex3y</th>\n",
       "      <th>ex3x_1</th>\n",
       "      <th>ex3x_2</th>\n",
       "      <th>ex3x_3</th>\n",
       "      <th>ex5y</th>\n",
       "      <th>ex5x_1</th>\n",
       "      <th>ex5x_2</th>\n",
       "      <th>ex5x_3</th>\n",
       "      <th>ex5x_4</th>\n",
       "    </tr>\n",
       "  </thead>\n",
       "  <tbody>\n",
       "    <tr>\n",
       "      <th>0</th>\n",
       "      <td>5.686687</td>\n",
       "      <td>0.076472</td>\n",
       "      <td>1.200916</td>\n",
       "      <td>3</td>\n",
       "      <td>22.270130</td>\n",
       "      <td>10.397208</td>\n",
       "      <td>10.061471</td>\n",
       "      <td>0.075375</td>\n",
       "      <td>2</td>\n",
       "    </tr>\n",
       "    <tr>\n",
       "      <th>1</th>\n",
       "      <td>16.451772</td>\n",
       "      <td>0.983124</td>\n",
       "      <td>0.922869</td>\n",
       "      <td>6</td>\n",
       "      <td>8.087034</td>\n",
       "      <td>2.079442</td>\n",
       "      <td>1.988200</td>\n",
       "      <td>-0.220711</td>\n",
       "      <td>0</td>\n",
       "    </tr>\n",
       "    <tr>\n",
       "      <th>2</th>\n",
       "      <td>5.824362</td>\n",
       "      <td>0.752545</td>\n",
       "      <td>0.898528</td>\n",
       "      <td>3</td>\n",
       "      <td>22.634924</td>\n",
       "      <td>2.772589</td>\n",
       "      <td>8.774857</td>\n",
       "      <td>0.280573</td>\n",
       "      <td>0</td>\n",
       "    </tr>\n",
       "    <tr>\n",
       "      <th>3</th>\n",
       "      <td>14.067604</td>\n",
       "      <td>0.238592</td>\n",
       "      <td>0.294894</td>\n",
       "      <td>5</td>\n",
       "      <td>12.637142</td>\n",
       "      <td>9.704061</td>\n",
       "      <td>5.756337</td>\n",
       "      <td>0.359584</td>\n",
       "      <td>3</td>\n",
       "    </tr>\n",
       "    <tr>\n",
       "      <th>4</th>\n",
       "      <td>2.554745</td>\n",
       "      <td>-0.944660</td>\n",
       "      <td>3.592558</td>\n",
       "      <td>4</td>\n",
       "      <td>21.364182</td>\n",
       "      <td>2.079442</td>\n",
       "      <td>6.482219</td>\n",
       "      <td>-0.198828</td>\n",
       "      <td>0</td>\n",
       "    </tr>\n",
       "    <tr>\n",
       "      <th>...</th>\n",
       "      <td>...</td>\n",
       "      <td>...</td>\n",
       "      <td>...</td>\n",
       "      <td>...</td>\n",
       "      <td>...</td>\n",
       "      <td>...</td>\n",
       "      <td>...</td>\n",
       "      <td>...</td>\n",
       "      <td>...</td>\n",
       "    </tr>\n",
       "    <tr>\n",
       "      <th>214</th>\n",
       "      <td>10.647614</td>\n",
       "      <td>-0.045707</td>\n",
       "      <td>0.079060</td>\n",
       "      <td>4</td>\n",
       "      <td>-8.396697</td>\n",
       "      <td>6.238325</td>\n",
       "      <td>4.972957</td>\n",
       "      <td>2.461930</td>\n",
       "      <td>0</td>\n",
       "    </tr>\n",
       "    <tr>\n",
       "      <th>215</th>\n",
       "      <td>-0.476415</td>\n",
       "      <td>-0.271528</td>\n",
       "      <td>0.976677</td>\n",
       "      <td>1</td>\n",
       "      <td>18.110116</td>\n",
       "      <td>2.079442</td>\n",
       "      <td>2.627524</td>\n",
       "      <td>-0.528996</td>\n",
       "      <td>2</td>\n",
       "    </tr>\n",
       "    <tr>\n",
       "      <th>216</th>\n",
       "      <td>-0.711338</td>\n",
       "      <td>-0.774985</td>\n",
       "      <td>2.483155</td>\n",
       "      <td>2</td>\n",
       "      <td>-15.508103</td>\n",
       "      <td>0.693147</td>\n",
       "      <td>-5.741455</td>\n",
       "      <td>1.444721</td>\n",
       "      <td>2</td>\n",
       "    </tr>\n",
       "    <tr>\n",
       "      <th>217</th>\n",
       "      <td>17.530302</td>\n",
       "      <td>0.930487</td>\n",
       "      <td>0.530371</td>\n",
       "      <td>6</td>\n",
       "      <td>42.034463</td>\n",
       "      <td>1.386294</td>\n",
       "      <td>9.944634</td>\n",
       "      <td>0.045790</td>\n",
       "      <td>3</td>\n",
       "    </tr>\n",
       "    <tr>\n",
       "      <th>218</th>\n",
       "      <td>1.426018</td>\n",
       "      <td>0.087720</td>\n",
       "      <td>0.435274</td>\n",
       "      <td>2</td>\n",
       "      <td>3.376900</td>\n",
       "      <td>2.772589</td>\n",
       "      <td>-1.342378</td>\n",
       "      <td>-0.226465</td>\n",
       "      <td>2</td>\n",
       "    </tr>\n",
       "  </tbody>\n",
       "</table>\n",
       "<p>219 rows × 9 columns</p>\n",
       "</div>"
      ],
      "text/plain": [
       "          ex3y    ex3x_1    ex3x_2  ex3x_3       ex5y     ex5x_1     ex5x_2  \\\n",
       "0     5.686687  0.076472  1.200916       3  22.270130  10.397208  10.061471   \n",
       "1    16.451772  0.983124  0.922869       6   8.087034   2.079442   1.988200   \n",
       "2     5.824362  0.752545  0.898528       3  22.634924   2.772589   8.774857   \n",
       "3    14.067604  0.238592  0.294894       5  12.637142   9.704061   5.756337   \n",
       "4     2.554745 -0.944660  3.592558       4  21.364182   2.079442   6.482219   \n",
       "..         ...       ...       ...     ...        ...        ...        ...   \n",
       "214  10.647614 -0.045707  0.079060       4  -8.396697   6.238325   4.972957   \n",
       "215  -0.476415 -0.271528  0.976677       1  18.110116   2.079442   2.627524   \n",
       "216  -0.711338 -0.774985  2.483155       2 -15.508103   0.693147  -5.741455   \n",
       "217  17.530302  0.930487  0.530371       6  42.034463   1.386294   9.944634   \n",
       "218   1.426018  0.087720  0.435274       2   3.376900   2.772589  -1.342378   \n",
       "\n",
       "       ex5x_3  ex5x_4  \n",
       "0    0.075375       2  \n",
       "1   -0.220711       0  \n",
       "2    0.280573       0  \n",
       "3    0.359584       3  \n",
       "4   -0.198828       0  \n",
       "..        ...     ...  \n",
       "214  2.461930       0  \n",
       "215 -0.528996       2  \n",
       "216  1.444721       2  \n",
       "217  0.045790       3  \n",
       "218 -0.226465       2  \n",
       "\n",
       "[219 rows x 9 columns]"
      ]
     },
     "execution_count": 2,
     "metadata": {},
     "output_type": "execute_result"
    }
   ],
   "source": [
    "df = pd.read_csv('IB_statistics_data_hw1.txt', sep=' ')\n",
    "df"
   ]
  },
  {
   "cell_type": "code",
   "execution_count": 3,
   "metadata": {},
   "outputs": [
    {
     "data": {
      "text/html": [
       "<div>\n",
       "<style scoped>\n",
       "    .dataframe tbody tr th:only-of-type {\n",
       "        vertical-align: middle;\n",
       "    }\n",
       "\n",
       "    .dataframe tbody tr th {\n",
       "        vertical-align: top;\n",
       "    }\n",
       "\n",
       "    .dataframe thead th {\n",
       "        text-align: right;\n",
       "    }\n",
       "</style>\n",
       "<table border=\"1\" class=\"dataframe\">\n",
       "  <thead>\n",
       "    <tr style=\"text-align: right;\">\n",
       "      <th></th>\n",
       "      <th>ex3x_1</th>\n",
       "      <th>ex3x_2</th>\n",
       "      <th>ex3x_3</th>\n",
       "    </tr>\n",
       "  </thead>\n",
       "  <tbody>\n",
       "    <tr>\n",
       "      <th>0</th>\n",
       "      <td>0.076472</td>\n",
       "      <td>1.200916</td>\n",
       "      <td>3</td>\n",
       "    </tr>\n",
       "    <tr>\n",
       "      <th>1</th>\n",
       "      <td>0.983124</td>\n",
       "      <td>0.922869</td>\n",
       "      <td>6</td>\n",
       "    </tr>\n",
       "    <tr>\n",
       "      <th>2</th>\n",
       "      <td>0.752545</td>\n",
       "      <td>0.898528</td>\n",
       "      <td>3</td>\n",
       "    </tr>\n",
       "    <tr>\n",
       "      <th>3</th>\n",
       "      <td>0.238592</td>\n",
       "      <td>0.294894</td>\n",
       "      <td>5</td>\n",
       "    </tr>\n",
       "    <tr>\n",
       "      <th>4</th>\n",
       "      <td>-0.944660</td>\n",
       "      <td>3.592558</td>\n",
       "      <td>4</td>\n",
       "    </tr>\n",
       "    <tr>\n",
       "      <th>...</th>\n",
       "      <td>...</td>\n",
       "      <td>...</td>\n",
       "      <td>...</td>\n",
       "    </tr>\n",
       "    <tr>\n",
       "      <th>214</th>\n",
       "      <td>-0.045707</td>\n",
       "      <td>0.079060</td>\n",
       "      <td>4</td>\n",
       "    </tr>\n",
       "    <tr>\n",
       "      <th>215</th>\n",
       "      <td>-0.271528</td>\n",
       "      <td>0.976677</td>\n",
       "      <td>1</td>\n",
       "    </tr>\n",
       "    <tr>\n",
       "      <th>216</th>\n",
       "      <td>-0.774985</td>\n",
       "      <td>2.483155</td>\n",
       "      <td>2</td>\n",
       "    </tr>\n",
       "    <tr>\n",
       "      <th>217</th>\n",
       "      <td>0.930487</td>\n",
       "      <td>0.530371</td>\n",
       "      <td>6</td>\n",
       "    </tr>\n",
       "    <tr>\n",
       "      <th>218</th>\n",
       "      <td>0.087720</td>\n",
       "      <td>0.435274</td>\n",
       "      <td>2</td>\n",
       "    </tr>\n",
       "  </tbody>\n",
       "</table>\n",
       "<p>219 rows × 3 columns</p>\n",
       "</div>"
      ],
      "text/plain": [
       "       ex3x_1    ex3x_2  ex3x_3\n",
       "0    0.076472  1.200916       3\n",
       "1    0.983124  0.922869       6\n",
       "2    0.752545  0.898528       3\n",
       "3    0.238592  0.294894       5\n",
       "4   -0.944660  3.592558       4\n",
       "..        ...       ...     ...\n",
       "214 -0.045707  0.079060       4\n",
       "215 -0.271528  0.976677       1\n",
       "216 -0.774985  2.483155       2\n",
       "217  0.930487  0.530371       6\n",
       "218  0.087720  0.435274       2\n",
       "\n",
       "[219 rows x 3 columns]"
      ]
     },
     "execution_count": 3,
     "metadata": {},
     "output_type": "execute_result"
    }
   ],
   "source": [
    "df.iloc[:, 1:4]"
   ]
  },
  {
   "cell_type": "code",
   "execution_count": 4,
   "metadata": {},
   "outputs": [
    {
     "data": {
      "text/html": [
       "<div>\n",
       "<style scoped>\n",
       "    .dataframe tbody tr th:only-of-type {\n",
       "        vertical-align: middle;\n",
       "    }\n",
       "\n",
       "    .dataframe tbody tr th {\n",
       "        vertical-align: top;\n",
       "    }\n",
       "\n",
       "    .dataframe thead th {\n",
       "        text-align: right;\n",
       "    }\n",
       "</style>\n",
       "<table border=\"1\" class=\"dataframe\">\n",
       "  <thead>\n",
       "    <tr style=\"text-align: right;\">\n",
       "      <th></th>\n",
       "      <th>x0</th>\n",
       "      <th>x1</th>\n",
       "      <th>x2</th>\n",
       "      <th>x3</th>\n",
       "    </tr>\n",
       "  </thead>\n",
       "  <tbody>\n",
       "    <tr>\n",
       "      <th>0</th>\n",
       "      <td>1</td>\n",
       "      <td>0.076472</td>\n",
       "      <td>1.200916</td>\n",
       "      <td>3</td>\n",
       "    </tr>\n",
       "    <tr>\n",
       "      <th>1</th>\n",
       "      <td>1</td>\n",
       "      <td>0.983124</td>\n",
       "      <td>0.922869</td>\n",
       "      <td>6</td>\n",
       "    </tr>\n",
       "    <tr>\n",
       "      <th>2</th>\n",
       "      <td>1</td>\n",
       "      <td>0.752545</td>\n",
       "      <td>0.898528</td>\n",
       "      <td>3</td>\n",
       "    </tr>\n",
       "    <tr>\n",
       "      <th>3</th>\n",
       "      <td>1</td>\n",
       "      <td>0.238592</td>\n",
       "      <td>0.294894</td>\n",
       "      <td>5</td>\n",
       "    </tr>\n",
       "    <tr>\n",
       "      <th>4</th>\n",
       "      <td>1</td>\n",
       "      <td>-0.944660</td>\n",
       "      <td>3.592558</td>\n",
       "      <td>4</td>\n",
       "    </tr>\n",
       "  </tbody>\n",
       "</table>\n",
       "</div>"
      ],
      "text/plain": [
       "   x0        x1        x2  x3\n",
       "0   1  0.076472  1.200916   3\n",
       "1   1  0.983124  0.922869   6\n",
       "2   1  0.752545  0.898528   3\n",
       "3   1  0.238592  0.294894   5\n",
       "4   1 -0.944660  3.592558   4"
      ]
     },
     "execution_count": 4,
     "metadata": {},
     "output_type": "execute_result"
    }
   ],
   "source": [
    "Y = df['ex3y']\n",
    "X = df.iloc[:, 1:4]\n",
    "X.columns =['x1', 'x2', 'x3']\n",
    "X['x0'] = 1\n",
    "X = X.loc[:, ['x0', 'x1', 'x2', 'x3']]\n",
    "X.head()"
   ]
  },
  {
   "cell_type": "markdown",
   "metadata": {},
   "source": [
    "# 4\n",
    "### a)\n",
    "Оценка $\\beta$:"
   ]
  },
  {
   "cell_type": "code",
   "execution_count": 5,
   "metadata": {},
   "outputs": [
    {
     "data": {
      "text/plain": [
       "array([-1.90988179,  0.09697076, -2.00027288,  3.17457961])"
      ]
     },
     "execution_count": 5,
     "metadata": {},
     "output_type": "execute_result"
    }
   ],
   "source": [
    "X = np.array(X)\n",
    "B = X.transpose() @ X\n",
    "beta = np.linalg.inv(B) @ X.transpose() @ Y\n",
    "beta"
   ]
  },
  {
   "cell_type": "markdown",
   "metadata": {},
   "source": [
    "Оценка $\\sigma^2$:"
   ]
  },
  {
   "cell_type": "code",
   "execution_count": 6,
   "metadata": {},
   "outputs": [
    {
     "data": {
      "text/plain": [
       "3.1542122473654337"
      ]
     },
     "execution_count": 6,
     "metadata": {},
     "output_type": "execute_result"
    }
   ],
   "source": [
    "RSS = np.sum((Y - X @ beta)**2)\n",
    "n, m = X.shape\n",
    "s2 = RSS / (n - m)\n",
    "s2"
   ]
  },
  {
   "cell_type": "markdown",
   "metadata": {},
   "source": [
    "### b)\n",
    "$H_0:\\ \\beta_1 = 0$\n",
    "\n",
    "Известно, что $\\forall c \\in \\mathbb R^{m+1}$ c.в.\n",
    "$$\\frac{c^\\intercal(\\hat \\beta - \\beta)}{ s \\sqrt{c^\\intercal B^{-1}c}} \\sim t(n-m),\\ B = X^\\intercal X \\\\\n",
    "$$\n",
    "\n",
    "Выберем $c = (0, 1, 0, 0, \\ldots 0)$.\n",
    "\n",
    "Тогда \n",
    "$$\n",
    "\\frac{\\hat \\beta_1 - \\beta_1}{s \\sqrt{c^\\intercal B^{-1}c}} \\sim t(n-m)\\\\\n",
    "\\varphi(\\mathbb X) = \\begin{cases}\n",
    "H_0, & \\text{если }\n",
    "g_1 s \\sqrt{B_{11}^{-1}}\\leq \\hat \\beta_1 \\leq\n",
    "g_2 s \\sqrt{B_{11}^{-1}}, \\\\\n",
    "H_1 & \\text{инчае}\n",
    "\\end{cases} \\\\\n",
    "(g_1, g_2 - \\text{квантили $t$-распределения с $n-m$ степенями свободы}\n",
    "$$"
   ]
  },
  {
   "cell_type": "code",
   "execution_count": 7,
   "metadata": {},
   "outputs": [
    {
     "name": "stdout",
     "output_type": "stream",
     "text": [
      "Доверительная область: (-0.24253546954628705, 0.24253546954628705)\n",
      "Значение статистики: 0.09697075532554211\n"
     ]
    }
   ],
   "source": [
    "from scipy.stats import t\n",
    "\n",
    "alpha = 0.05\n",
    "g1, g2 = t.interval(1 - alpha, n-m)\n",
    "s = np.sqrt(s2)\n",
    "\n",
    "tmp = s * np.sqrt(np.linalg.inv(B)[1, 1])\n",
    "print(f'Доверительная область: {g1 * tmp, g2 * tmp}')\n",
    "print(f'Значение статистики: {beta[1]}')"
   ]
  },
  {
   "cell_type": "markdown",
   "metadata": {},
   "source": [
    "$\\Rightarrow H_0$ не отклоняется."
   ]
  },
  {
   "cell_type": "code",
   "execution_count": 8,
   "metadata": {},
   "outputs": [
    {
     "name": "stdout",
     "output_type": "stream",
     "text": [
      "0.4315233727308065\n"
     ]
    }
   ],
   "source": [
    "# p-value\n",
    "right = 1 - t(n - m).cdf(beta[1] / tmp)\n",
    "left = t(n - m).cdf(-beta[1] / tmp)\n",
    "pvalue = right + left\n",
    "print(pvalue)"
   ]
  },
  {
   "cell_type": "markdown",
   "metadata": {},
   "source": [
    "### c)\n",
    "При верной $H_0$:\n",
    "$$\n",
    "\\frac{\\hat \\beta_i}{s \\sqrt{B^{-1}_{ii}}} \\sim t(n-m),\\ i=0 \\ldots 3 \\\\\n",
    "$$\n",
    "Смоделируем распределение статистики $\n",
    "\\hat \\beta_0^2 +\n",
    "\\hat\\beta_1^2 + \n",
    "\\hat \\beta_2^2 + \n",
    "\\hat\\beta_3^2$."
   ]
  },
  {
   "cell_type": "code",
   "execution_count": 9,
   "metadata": {},
   "outputs": [
    {
     "name": "stdout",
     "output_type": "stream",
     "text": [
      "Критическое значение статистики: 0.4966651739219326\n"
     ]
    },
    {
     "data": {
      "image/png": "[encoded data removed]",
      "text/plain": [
       "<Figure size 432x288 with 1 Axes>"
      ]
     },
     "metadata": {
      "needs_background": "light"
     },
     "output_type": "display_data"
    }
   ],
   "source": [
    "from scipy.stats import t\n",
    "\n",
    "distr = t(n-m)\n",
    "B_inv = np.linalg.inv(B)\n",
    "\n",
    "C = np.array([s * np.sqrt(B_inv[i, i]) for i in range(4)])\n",
    "\n",
    "np.random.seed(0)\n",
    "T = [np.sum((C * distr.rvs(size=4))**2) for i in range(100000)]\n",
    "\n",
    "T = np.sort(T)\n",
    "T_crit = T[95000]\n",
    "print(f'Критическое значение статистики: {T_crit}')\n",
    "\n",
    "ax = sns.histplot(T);\n",
    "ax.axvline(T_crit, color='red');"
   ]
  },
  {
   "cell_type": "code",
   "execution_count": 10,
   "metadata": {},
   "outputs": [
    {
     "data": {
      "text/latex": [
       "$\\hat T =$ 17.73609906992586"
      ],
      "text/plain": [
       "<IPython.core.display.Latex object>"
      ]
     },
     "metadata": {},
     "output_type": "display_data"
    }
   ],
   "source": [
    "display(Latex(f'$\\hat T =$ {np.sum(beta**2)}'))"
   ]
  },
  {
   "cell_type": "markdown",
   "metadata": {},
   "source": [
    "$\\Rightarrow H_0$ отклоняется, $p$-значение $< 10^{-5}$."
   ]
  },
  {
   "cell_type": "markdown",
   "metadata": {},
   "source": [
    "### d)\n",
    "$H_0$: $\\sigma^2 \\geq 2$\n",
    "$$\n",
    "T = \\frac{(n-m)s^2}{\\sigma^2} \\sim \\chi^2_{n-m}\n",
    "$$\n",
    "$$\n",
    "\\sigma^2 \\geq 2 \\Rightarrow T \\leq \\frac{(n - m)s^2}{2}$$\n",
    "\n",
    "Найдём вероятность получить такое же или меньшее значение статистики при верной $H_0$."
   ]
  },
  {
   "cell_type": "code",
   "execution_count": 26,
   "metadata": {},
   "outputs": [
    {
     "data": {
      "text/plain": [
       "0.999999864198641"
      ]
     },
     "execution_count": 26,
     "metadata": {},
     "output_type": "execute_result"
    }
   ],
   "source": [
    "from scipy.stats import chi2\n",
    "\n",
    "p_value = chi2(n - m).cdf((n - m) * s2 / 2)\n",
    "p_value"
   ]
  },
  {
   "cell_type": "markdown",
   "metadata": {},
   "source": [
    "$\\Rightarrow H_0$ не отклоняется (т.к. p-значение больше 0.05)"
   ]
  },
  {
   "cell_type": "markdown",
   "metadata": {},
   "source": [
    "# 5\n",
    "### a)\n",
    "\n",
    "Оценка является линейной функцией выборки.\n",
    "\n",
    "Доказательство несмещённости:\n",
    "$$\\tilde \\beta = \\frac{\\sum y_i}{\\sum x_i} = \\frac{\\sum (\\beta x_i + \\varepsilon_i)}{\\sum x_i} =\n",
    "\\frac{\\beta \\sum x_i}{\\sum x_i} + \\frac{\\sum \\varepsilon_i}{\\sum x_i} = \n",
    "\\beta + \\frac{\\sum \\varepsilon_i}{\\sum x_i} \\\\\n",
    "\\Rightarrow \\mathbb E \\tilde \\beta = \\mathbb E \\beta + \\mathbb E \\frac{\\sum \\varepsilon_i}{\\sum x_i}\n",
    "= \\beta, \\\\\n",
    "\\text{т.к. } \\mathbb E \\vec \\varepsilon = \\vec 0 \\text{ по предположению Б.}$$"
   ]
  },
  {
   "cell_type": "markdown",
   "metadata": {},
   "source": [
    "### b)\n",
    "Дисперсия оценки:\n",
    "$$\n",
    "S = \\frac{\\sum \\varepsilon_i}{\\sum x_i} \\\\\n",
    "\\mathbb D\\tilde \\beta = \n",
    "\\mathbb E [\\tilde \\beta ^ 2 - 2 \\tilde \\beta \\beta + \\beta ^2] = \\\\\n",
    "= \\mathbb E[(\\beta + S)^2 - 2 \\beta (\\beta + S) + \\beta^2] = \\\\\n",
    "= \\mathbb E[\\beta^2 + 2\\beta S + S^2 - 2 \\beta^2 - 2 \\beta S + \\beta^2] = \\\\\n",
    "= \\mathbb E[S^2] = \\mathbb E \\frac{\\sum \\varepsilon_i^2}{(\\sum x_i)^2} = \\frac{n \\cdot \\sigma^2}{(\\sum x_i)^2}\n",
    "$$\n",
    "\n",
    "МНК-оценка в одномерной модели:\n",
    "$$\\\n",
    "\\hat \\beta = \\frac{\\mathbb X^\\intercal y}{(\\mathbb X, \\mathbb X)}\n",
    "= \\frac{\\sum x_i y_i}{\\sum x_i^2} =\n",
    "\\frac{\\sum (x_i \\cdot (\\beta x_i + \\varepsilon_i))}{\\sum x_i^2} = \\\\\n",
    "= \\frac{\\beta\\sum x_i^2}{\\sum x_i^2} + \\frac{\\sum x_i \\varepsilon_i}{\\sum x_i^2} = \n",
    "\\beta + \\frac{\\sum x_i \\varepsilon_i}{\\sum x_i^2}\n",
    "$$\n",
    "Её дисперсия:\n",
    "$$\n",
    "\\frac{\\sum x_i \\varepsilon_i}{\\sum x_i^2} = S\\\\\n",
    "\\mathbb D \\hat \\beta = \n",
    "\\mathbb E S^2 = \\mathbb E \\frac{(\\sum x_i \\varepsilon_i)^2}{(\\sum x_i^2)^2} =\n",
    "\\frac{\\sum x_i^2 \\varepsilon_i^2}{(\\sum x_i^2)^2} = \\\\\n",
    "\\frac{\\sigma^2 \\sum x_i^2}{(\\sum x_i^2)^2} = \n",
    "\\frac{\\sigma^2}{\\sum x_i^2}\n",
    "$$\n",
    "МНК-оценка эффективней в \n",
    "$$\n",
    "\\frac{n \\sum x_i^2}{(\\sum x_i)^2} = \\frac{\\bar {x^2}}{\\bar {x}^2}\n",
    "$$\n",
    "раз."
   ]
  },
  {
   "cell_type": "markdown",
   "metadata": {},
   "source": [
    "# 6\n",
    "\n",
    "### a) \n",
    "Поскольку\n",
    "$$\\frac{\\hat \\beta_1 - \\beta_1}{s \\sqrt{B^{-1}_{11}}} \\sim t(n-m), \\\\\n",
    "\\hat \\beta_1 = \\beta_1 + \\xi\\cdot s \\sqrt{B_{11}^{-1}}, \\\\\n",
    "B = \\mathbb X^\\intercal \\mathbb X,\\ \\xi \\sim t(n - m) \\in (-\\infty, \\infty),\n",
    "$$\n",
    "то \n",
    "$$\n",
    "P(\\hat \\beta_1 < 0) = P\\left(\\xi < \\frac{-\\beta_1}{s \\sqrt {B_{11}^{-1}}}\\right) > 0,\n",
    "$$\n",
    "ч.т.д."
   ]
  },
  {
   "cell_type": "markdown",
   "metadata": {},
   "source": [
    "### b)\n",
    "Обозначим всю выборку $(y, X)$, МНК-оценку без ограничений $\\hat \\beta$, МНК-оценку с ограничениями $\\hat \\beta_A$.\n",
    "$$\n",
    "\\begin{cases}\n",
    "|y - X\\beta|^2 \\rightarrow \\underset{\\beta}{\\min} \\\\\n",
    "A\\beta_A = b\n",
    "\\end{cases}\n",
    "$$\n",
    "Можно использовать метод множителей Лагранжа:\n",
    "\n",
    "$$\n",
    "L(\\beta, \\lambda) = \n",
    "|y - X\\beta|^2 + (A \\beta - b) \\lambda \n",
    "$$\n",
    "Необходимые условия экстремума:\n",
    "$$\\begin{cases}\n",
    "\\frac{\\partial L}{\\partial \\beta} = 0 \\\\\n",
    "A\\beta_A = b\n",
    "\\end{cases}\n",
    "$$\n",
    "\n",
    "$$\n",
    "\\frac{\\partial L}{\\partial \\beta} = \n",
    "- 2 X^\\intercal y + 2 X^\\intercal X \\beta + A^\\intercal \\lambda = 0 \\\\\n",
    "\\Rightarrow \\hat \\beta_A = B^{-1}X^\\intercal y - \\frac{1}{2}B^{-1} A^\\intercal \\lambda =\n",
    "\\hat \\beta - \\frac{1}{2}B^{-1} A^\\intercal \\lambda, \\  B = X^\\intercal X \\\\\n",
    "b = A \\hat \\beta_A = A \\hat \\beta - \\frac{1}{2}A B^{-1} A^\\intercal \\lambda \\\\\n",
    "\\Rightarrow \\lambda = 2(A B^{-1} A^\\intercal)^{-1}(A \\hat \\beta - b)\n",
    "$$\n",
    "Тогда оценка при ограничениях $A$ будет равна:\n",
    "$$\n",
    "\\hat \\beta_A = \\hat \\beta - B^{-1}A^\\intercal (A B^{-1} A^\\intercal)^{-1}(A \\hat \\beta - b)\n",
    "$$"
   ]
  },
  {
   "cell_type": "markdown",
   "metadata": {},
   "source": [
    "### c)"
   ]
  },
  {
   "cell_type": "code",
   "execution_count": 32,
   "metadata": {},
   "outputs": [
    {
     "data": {
      "text/html": [
       "<div>\n",
       "<style scoped>\n",
       "    .dataframe tbody tr th:only-of-type {\n",
       "        vertical-align: middle;\n",
       "    }\n",
       "\n",
       "    .dataframe tbody tr th {\n",
       "        vertical-align: top;\n",
       "    }\n",
       "\n",
       "    .dataframe thead th {\n",
       "        text-align: right;\n",
       "    }\n",
       "</style>\n",
       "<table border=\"1\" class=\"dataframe\">\n",
       "  <thead>\n",
       "    <tr style=\"text-align: right;\">\n",
       "      <th></th>\n",
       "      <th>ex5y</th>\n",
       "    </tr>\n",
       "  </thead>\n",
       "  <tbody>\n",
       "    <tr>\n",
       "      <th>0</th>\n",
       "      <td>22.270130</td>\n",
       "    </tr>\n",
       "    <tr>\n",
       "      <th>1</th>\n",
       "      <td>8.087034</td>\n",
       "    </tr>\n",
       "    <tr>\n",
       "      <th>2</th>\n",
       "      <td>22.634924</td>\n",
       "    </tr>\n",
       "    <tr>\n",
       "      <th>3</th>\n",
       "      <td>12.637142</td>\n",
       "    </tr>\n",
       "    <tr>\n",
       "      <th>4</th>\n",
       "      <td>21.364182</td>\n",
       "    </tr>\n",
       "  </tbody>\n",
       "</table>\n",
       "</div>"
      ],
      "text/plain": [
       "        ex5y\n",
       "0  22.270130\n",
       "1   8.087034\n",
       "2  22.634924\n",
       "3  12.637142\n",
       "4  21.364182"
      ]
     },
     "metadata": {},
     "output_type": "display_data"
    },
    {
     "data": {
      "text/html": [
       "<div>\n",
       "<style scoped>\n",
       "    .dataframe tbody tr th:only-of-type {\n",
       "        vertical-align: middle;\n",
       "    }\n",
       "\n",
       "    .dataframe tbody tr th {\n",
       "        vertical-align: top;\n",
       "    }\n",
       "\n",
       "    .dataframe thead th {\n",
       "        text-align: right;\n",
       "    }\n",
       "</style>\n",
       "<table border=\"1\" class=\"dataframe\">\n",
       "  <thead>\n",
       "    <tr style=\"text-align: right;\">\n",
       "      <th></th>\n",
       "      <th>x0</th>\n",
       "      <th>x1</th>\n",
       "      <th>x2</th>\n",
       "      <th>x3</th>\n",
       "      <th>x4</th>\n",
       "    </tr>\n",
       "  </thead>\n",
       "  <tbody>\n",
       "    <tr>\n",
       "      <th>0</th>\n",
       "      <td>1</td>\n",
       "      <td>10.397208</td>\n",
       "      <td>10.061471</td>\n",
       "      <td>0.075375</td>\n",
       "      <td>2</td>\n",
       "    </tr>\n",
       "    <tr>\n",
       "      <th>1</th>\n",
       "      <td>1</td>\n",
       "      <td>2.079442</td>\n",
       "      <td>1.988200</td>\n",
       "      <td>-0.220711</td>\n",
       "      <td>0</td>\n",
       "    </tr>\n",
       "    <tr>\n",
       "      <th>2</th>\n",
       "      <td>1</td>\n",
       "      <td>2.772589</td>\n",
       "      <td>8.774857</td>\n",
       "      <td>0.280573</td>\n",
       "      <td>0</td>\n",
       "    </tr>\n",
       "    <tr>\n",
       "      <th>3</th>\n",
       "      <td>1</td>\n",
       "      <td>9.704061</td>\n",
       "      <td>5.756337</td>\n",
       "      <td>0.359584</td>\n",
       "      <td>3</td>\n",
       "    </tr>\n",
       "    <tr>\n",
       "      <th>4</th>\n",
       "      <td>1</td>\n",
       "      <td>2.079442</td>\n",
       "      <td>6.482219</td>\n",
       "      <td>-0.198828</td>\n",
       "      <td>0</td>\n",
       "    </tr>\n",
       "  </tbody>\n",
       "</table>\n",
       "</div>"
      ],
      "text/plain": [
       "   x0         x1         x2        x3  x4\n",
       "0   1  10.397208  10.061471  0.075375   2\n",
       "1   1   2.079442   1.988200 -0.220711   0\n",
       "2   1   2.772589   8.774857  0.280573   0\n",
       "3   1   9.704061   5.756337  0.359584   3\n",
       "4   1   2.079442   6.482219 -0.198828   0"
      ]
     },
     "metadata": {},
     "output_type": "display_data"
    }
   ],
   "source": [
    "A = np.array([\n",
    "    [0, 1, 2, 2, 2],\n",
    "    [0, 2, 1, 1, 2]\n",
    "])\n",
    "b = np.array([0, 1])\n",
    "    \n",
    "Y = df['ex5y']\n",
    "X = df.loc[:, 'ex5x_1':]\n",
    "X.columns = ['x1', 'x2', 'x3', 'x4']\n",
    "X.insert(0, 'x0', 1)\n",
    "display(pd.DataFrame(Y).head(), X.head())"
   ]
  },
  {
   "cell_type": "markdown",
   "metadata": {},
   "source": [
    "Построение оценки:"
   ]
  },
  {
   "cell_type": "code",
   "execution_count": 37,
   "metadata": {},
   "outputs": [
    {
     "data": {
      "text/plain": [
       "0    4.104314\n",
       "1   -2.004509\n",
       "2    3.005223\n",
       "3   -6.009733\n",
       "4    4.006764\n",
       "dtype: float64"
      ]
     },
     "execution_count": 37,
     "metadata": {},
     "output_type": "execute_result"
    }
   ],
   "source": [
    "B = X.transpose() @ X\n",
    "Binv = np.linalg.inv(B)\n",
    "\n",
    "beta = Binv @ X.transpose() @ Y\n",
    "\n",
    "betaA = beta - Binv @ A.transpose() @ np.linalg.inv(A @ Binv @ A.transpose()) @ (A @ beta - b)\n",
    "betaA"
   ]
  },
  {
   "cell_type": "markdown",
   "metadata": {},
   "source": [
    "Проверка встроенными функциями:"
   ]
  },
  {
   "cell_type": "code",
   "execution_count": 66,
   "metadata": {},
   "outputs": [
    {
     "name": "stdout",
     "output_type": "stream",
     "text": [
      "[ 4.10431392 -2.0045093   3.00522326 -6.00973256  4.00676395]\n"
     ]
    }
   ],
   "source": [
    "from scipy.optimize import minimize, LinearConstraint\n",
    "\n",
    "cons = LinearConstraint(A, [0, 1], [0, 1])\n",
    "\n",
    "res = minimize(lambda bet: sum((Y - np.array(X) @ bet)**2), [0, 0, 0, 0, 0], constraints=cons)\n",
    "print(res.x)"
   ]
  }
 ],
 "metadata": {
  "kernelspec": {
   "display_name": "Python 3",
   "language": "python",
   "name": "python3"
  },
  "language_info": {
   "codemirror_mode": {
    "name": "ipython",
    "version": 3
   },
   "file_extension": ".py",
   "mimetype": "text/x-python",
   "name": "python",
   "nbconvert_exporter": "python",
   "pygments_lexer": "ipython3",
   "version": "3.8.5"
  },
  "toc": {
   "base_numbering": 1,
   "nav_menu": {},
   "number_sections": false,
   "sideBar": true,
   "skip_h1_title": false,
   "title_cell": "Table of Contents",
   "title_sidebar": "Contents",
   "toc_cell": false,
   "toc_position": {
    "height": "calc(100% - 180px)",
    "left": "10px",
    "top": "150px",
    "width": "329.2px"
   },
   "toc_section_display": true,
   "toc_window_display": true
  }
 },
 "nbformat": 4,
 "nbformat_minor": 4
}
