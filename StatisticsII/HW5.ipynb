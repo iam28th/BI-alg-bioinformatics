{
 "cells": [
  {
   "cell_type": "code",
   "execution_count": 10,
   "metadata": {},
   "outputs": [],
   "source": [
    "from IPython.display import Image, display"
   ]
  },
  {
   "cell_type": "markdown",
   "metadata": {},
   "source": [
    "# 1."
   ]
  },
  {
   "cell_type": "code",
   "execution_count": 6,
   "metadata": {},
   "outputs": [
    {
     "data": {
      "text/html": [
       "<img src=\"https://sun9-48.userapi.com/impf/c_tAdNSclaXVdZUFf2eaCvH50X3tCaQZ9vrg9g/kTpsbNuLzHU.jpg?size=808x1080&quality=96&sign=13f80499bdd7d1d615508161cd029f52&type=album\" width=\"500\"/>"
      ],
      "text/plain": [
       "<IPython.core.display.Image object>"
      ]
     },
     "execution_count": 6,
     "metadata": {},
     "output_type": "execute_result"
    }
   ],
   "source": [
    "Image(url='https://sun9-48.userapi.com/impf/c_tAdNSclaXVdZUFf2eaCvH50X3tCaQZ9vrg9g/kTpsbNuLzHU.jpg?size=808x1080&quality=96&sign=13f80499bdd7d1d615508161cd029f52&type=album',\n",
    "     width=500)"
   ]
  },
  {
   "cell_type": "markdown",
   "metadata": {},
   "source": [
    "# 2."
   ]
  },
  {
   "cell_type": "code",
   "execution_count": 11,
   "metadata": {},
   "outputs": [
    {
     "data": {
      "text/html": [
       "<img src=\"https://sun9-61.userapi.com/impf/keCnveyJpbjp-yD7UdgcXFbplwP1evXbvcrRTg/l5WdC_ckrzs.jpg?size=1531x2048&quality=96&sign=95f256f1e62f27415545cd4c2923ebcd&type=album\" width=\"500\"/>"
      ],
      "text/plain": [
       "<IPython.core.display.Image object>"
      ]
     },
     "metadata": {},
     "output_type": "display_data"
    },
    {
     "data": {
      "text/html": [
       "<img src=\"https://sun9-30.userapi.com/impf/ykWZRey1pGvqCY2Ll1gtUCQkrCqRl2wNa8wrWA/ExEcvbttUC4.jpg?size=1531x2048&quality=96&sign=71a0df85ce2e4538f56306857285a130&type=album\" width=\"500\"/>"
      ],
      "text/plain": [
       "<IPython.core.display.Image object>"
      ]
     },
     "execution_count": 11,
     "metadata": {},
     "output_type": "execute_result"
    }
   ],
   "source": [
    "display(Image(url='https://sun9-61.userapi.com/impf/keCnveyJpbjp-yD7UdgcXFbplwP1evXbvcrRTg/l5WdC_ckrzs.jpg?size=1531x2048&quality=96&sign=95f256f1e62f27415545cd4c2923ebcd&type=album',\n",
    "     width=500))\n",
    "Image(url='https://sun9-30.userapi.com/impf/ykWZRey1pGvqCY2Ll1gtUCQkrCqRl2wNa8wrWA/ExEcvbttUC4.jpg?size=1531x2048&quality=96&sign=71a0df85ce2e4538f56306857285a130&type=album',\n",
    "     width=500)\n"
   ]
  },
  {
   "cell_type": "markdown",
   "metadata": {},
   "source": [
    "# 3."
   ]
  },
  {
   "cell_type": "code",
   "execution_count": 12,
   "metadata": {},
   "outputs": [
    {
     "data": {
      "text/html": [
       "<img src=\"https://sun9-69.userapi.com/impf/vN9khdfSHAgPz1laSyHZw4yNssEVvLfM6v__mQ/4650af6IAb4.jpg?size=1531x2048&quality=96&sign=d6bc6fef5f2c01380abfb2d6a4eadf08&type=album\" width=\"500\"/>"
      ],
      "text/plain": [
       "<IPython.core.display.Image object>"
      ]
     },
     "execution_count": 12,
     "metadata": {},
     "output_type": "execute_result"
    }
   ],
   "source": [
    "Image(url='https://sun9-69.userapi.com/impf/vN9khdfSHAgPz1laSyHZw4yNssEVvLfM6v__mQ/4650af6IAb4.jpg?size=1531x2048&quality=96&sign=d6bc6fef5f2c01380abfb2d6a4eadf08&type=album',\n",
    "     width=500)"
   ]
  },
  {
   "cell_type": "markdown",
   "metadata": {},
   "source": [
    "# 4."
   ]
  },
  {
   "cell_type": "code",
   "execution_count": 13,
   "metadata": {},
   "outputs": [
    {
     "data": {
      "text/html": [
       "<img src=\"https://sun9-4.userapi.com/impf/Qb3aCkpmWS1ETnrlK-yWZm9INa2DBlTaYHfCkw/g86Ah6dhYbo.jpg?size=1531x2048&quality=96&sign=c13fc68ca93d33095bb33747c233be06&type=album\" width=\"500\"/>"
      ],
      "text/plain": [
       "<IPython.core.display.Image object>"
      ]
     },
     "execution_count": 13,
     "metadata": {},
     "output_type": "execute_result"
    }
   ],
   "source": [
    "Image(url='https://sun9-4.userapi.com/impf/Qb3aCkpmWS1ETnrlK-yWZm9INa2DBlTaYHfCkw/g86Ah6dhYbo.jpg?size=1531x2048&quality=96&sign=c13fc68ca93d33095bb33747c233be06&type=album',\n",
    "     width=500)"
   ]
  },
  {
   "cell_type": "markdown",
   "metadata": {},
   "source": [
    "# 5, 6."
   ]
  },
  {
   "cell_type": "code",
   "execution_count": 15,
   "metadata": {},
   "outputs": [
    {
     "data": {
      "text/html": [
       "<img src=\"https://sun9-18.userapi.com/impf/3s1XvnolSXOBRBjE5ShJVd1kP6j4hluOUzpjAQ/sfAt9WunFJU.jpg?size=1914x2560&quality=96&rotate=90&sign=15360397c4d0f81bc542c32355efc4c8&type=album\" width=\"500\"/>"
      ],
      "text/plain": [
       "<IPython.core.display.Image object>"
      ]
     },
     "execution_count": 15,
     "metadata": {},
     "output_type": "execute_result"
    }
   ],
   "source": [
    "Image(url='https://sun9-18.userapi.com/impf/3s1XvnolSXOBRBjE5ShJVd1kP6j4hluOUzpjAQ/sfAt9WunFJU.jpg?size=1914x2560&quality=96&rotate=90&sign=15360397c4d0f81bc542c32355efc4c8&type=album',\n",
    "     width=500)"
   ]
  },
  {
   "cell_type": "markdown",
   "metadata": {},
   "source": [
    "# 7."
   ]
  },
  {
   "cell_type": "code",
   "execution_count": 16,
   "metadata": {},
   "outputs": [
    {
     "data": {
      "text/html": [
       "<img src=\"https://sun9-50.userapi.com/impf/6c8JV6Vo9VXLIF5YnB9kWqsuqLFMyoLccOprzQ/Yl1Q2aGE2II.jpg?size=1531x2048&quality=96&sign=bf1166237206ba804705d9a134c5d513&type=album\" width=\"500\"/>"
      ],
      "text/plain": [
       "<IPython.core.display.Image object>"
      ]
     },
     "execution_count": 16,
     "metadata": {},
     "output_type": "execute_result"
    }
   ],
   "source": [
    "Image(url='https://sun9-50.userapi.com/impf/6c8JV6Vo9VXLIF5YnB9kWqsuqLFMyoLccOprzQ/Yl1Q2aGE2II.jpg?size=1531x2048&quality=96&sign=bf1166237206ba804705d9a134c5d513&type=album',\n",
    "     width=500)"
   ]
  },
  {
   "cell_type": "markdown",
   "metadata": {},
   "source": [
    "# 8."
   ]
  },
  {
   "cell_type": "code",
   "execution_count": 17,
   "metadata": {},
   "outputs": [
    {
     "data": {
      "text/html": [
       "<img src=\"https://sun9-1.userapi.com/impf/bsLaBNPrfHOXm0RQPpg8d2GISGCQPxSUgmQVNg/Rp1ZaOedX48.jpg?size=1531x2048&quality=96&sign=9bafaa29fc67abcbe3d75bc09da932ee&type=album\" width=\"500\"/>"
      ],
      "text/plain": [
       "<IPython.core.display.Image object>"
      ]
     },
     "execution_count": 17,
     "metadata": {},
     "output_type": "execute_result"
    }
   ],
   "source": [
    "Image(url='https://sun9-1.userapi.com/impf/bsLaBNPrfHOXm0RQPpg8d2GISGCQPxSUgmQVNg/Rp1ZaOedX48.jpg?size=1531x2048&quality=96&sign=9bafaa29fc67abcbe3d75bc09da932ee&type=album',\n",
    "     width=500)"
   ]
  }
 ],
 "metadata": {
  "kernelspec": {
   "display_name": "Python 3",
   "language": "python",
   "name": "python3"
  },
  "language_info": {
   "codemirror_mode": {
    "name": "ipython",
    "version": 3
   },
   "file_extension": ".py",
   "mimetype": "text/x-python",
   "name": "python",
   "nbconvert_exporter": "python",
   "pygments_lexer": "ipython3",
   "version": "3.8.5"
  },
  "toc": {
   "base_numbering": 1,
   "nav_menu": {},
   "number_sections": false,
   "sideBar": true,
   "skip_h1_title": false,
   "title_cell": "Table of Contents",
   "title_sidebar": "Contents",
   "toc_cell": false,
   "toc_position": {},
   "toc_section_display": true,
   "toc_window_display": false
  }
 },
 "nbformat": 4,
 "nbformat_minor": 4
}
