{
 "cells": [
  {
   "cell_type": "code",
   "execution_count": 271,
   "metadata": {},
   "outputs": [],
   "source": [
    "import math\n",
    "import functools\n",
    "\n",
    "import pandas as pd\n",
    "import numpy as np\n",
    "import scipy as sp\n",
    "import scipy.stats\n",
    "\n",
    "import seaborn as sns\n",
    "import matplotlib as plt\n",
    "\n",
    "from IPython.display import display, Latex"
   ]
  },
  {
   "cell_type": "code",
   "execution_count": null,
   "metadata": {},
   "outputs": [],
   "source": [
    "# обозначения переменных:\n",
    "# n - объём выборки\n",
    "# m - количество предикторов\n",
    "# num, denom - числитель и знаменатель в дробных выражения соответственно"
   ]
  },
  {
   "cell_type": "code",
   "execution_count": 44,
   "metadata": {},
   "outputs": [
    {
     "data": {
      "text/html": [
       "<div>\n",
       "<style scoped>\n",
       "    .dataframe tbody tr th:only-of-type {\n",
       "        vertical-align: middle;\n",
       "    }\n",
       "\n",
       "    .dataframe tbody tr th {\n",
       "        vertical-align: top;\n",
       "    }\n",
       "\n",
       "    .dataframe thead th {\n",
       "        text-align: right;\n",
       "    }\n",
       "</style>\n",
       "<table border=\"1\" class=\"dataframe\">\n",
       "  <thead>\n",
       "    <tr style=\"text-align: right;\">\n",
       "      <th></th>\n",
       "      <th>Ex3.y</th>\n",
       "      <th>Ex3.x1</th>\n",
       "      <th>Ex3.x2</th>\n",
       "      <th>Ex3.x3</th>\n",
       "      <th>Ex3.x4</th>\n",
       "      <th>Ex3.x5</th>\n",
       "      <th>Ex5.y</th>\n",
       "      <th>Ex5.x1</th>\n",
       "      <th>Ex5.x2</th>\n",
       "      <th>Ex6.y</th>\n",
       "      <th>Ex6.x1</th>\n",
       "      <th>Ex6.x2</th>\n",
       "    </tr>\n",
       "  </thead>\n",
       "  <tbody>\n",
       "    <tr>\n",
       "      <th>0</th>\n",
       "      <td>28.872405</td>\n",
       "      <td>4</td>\n",
       "      <td>7</td>\n",
       "      <td>29</td>\n",
       "      <td>26</td>\n",
       "      <td>-8.886853</td>\n",
       "      <td>23453.016482</td>\n",
       "      <td>0.824387</td>\n",
       "      <td>2.686985</td>\n",
       "      <td>5.434036</td>\n",
       "      <td>-2.266430</td>\n",
       "      <td>2.411750</td>\n",
       "    </tr>\n",
       "    <tr>\n",
       "      <th>1</th>\n",
       "      <td>9.293858</td>\n",
       "      <td>2</td>\n",
       "      <td>10</td>\n",
       "      <td>34</td>\n",
       "      <td>26</td>\n",
       "      <td>-10.569351</td>\n",
       "      <td>0.135840</td>\n",
       "      <td>0.842774</td>\n",
       "      <td>3.828651</td>\n",
       "      <td>1.532948</td>\n",
       "      <td>1.989858</td>\n",
       "      <td>0.625990</td>\n",
       "    </tr>\n",
       "    <tr>\n",
       "      <th>2</th>\n",
       "      <td>32.019721</td>\n",
       "      <td>4</td>\n",
       "      <td>8</td>\n",
       "      <td>32</td>\n",
       "      <td>28</td>\n",
       "      <td>-8.923073</td>\n",
       "      <td>8.828238</td>\n",
       "      <td>1.523876</td>\n",
       "      <td>1.636613</td>\n",
       "      <td>1.463174</td>\n",
       "      <td>-4.500657</td>\n",
       "      <td>0.595529</td>\n",
       "    </tr>\n",
       "    <tr>\n",
       "      <th>3</th>\n",
       "      <td>43.993442</td>\n",
       "      <td>4</td>\n",
       "      <td>6</td>\n",
       "      <td>26</td>\n",
       "      <td>24</td>\n",
       "      <td>-6.860549</td>\n",
       "      <td>29.017670</td>\n",
       "      <td>0.799176</td>\n",
       "      <td>1.749826</td>\n",
       "      <td>3.012252</td>\n",
       "      <td>0.629619</td>\n",
       "      <td>1.429877</td>\n",
       "    </tr>\n",
       "    <tr>\n",
       "      <th>4</th>\n",
       "      <td>14.779713</td>\n",
       "      <td>2</td>\n",
       "      <td>6</td>\n",
       "      <td>22</td>\n",
       "      <td>18</td>\n",
       "      <td>-7.219951</td>\n",
       "      <td>2118.591582</td>\n",
       "      <td>0.969108</td>\n",
       "      <td>2.278681</td>\n",
       "      <td>1.140469</td>\n",
       "      <td>0.152484</td>\n",
       "      <td>0.643395</td>\n",
       "    </tr>\n",
       "  </tbody>\n",
       "</table>\n",
       "</div>"
      ],
      "text/plain": [
       "       Ex3.y  Ex3.x1  Ex3.x2  Ex3.x3  Ex3.x4     Ex3.x5         Ex5.y  \\\n",
       "0  28.872405       4       7      29      26  -8.886853  23453.016482   \n",
       "1   9.293858       2      10      34      26 -10.569351      0.135840   \n",
       "2  32.019721       4       8      32      28  -8.923073      8.828238   \n",
       "3  43.993442       4       6      26      24  -6.860549     29.017670   \n",
       "4  14.779713       2       6      22      18  -7.219951   2118.591582   \n",
       "\n",
       "     Ex5.x1    Ex5.x2     Ex6.y    Ex6.x1    Ex6.x2  \n",
       "0  0.824387  2.686985  5.434036 -2.266430  2.411750  \n",
       "1  0.842774  3.828651  1.532948  1.989858  0.625990  \n",
       "2  1.523876  1.636613  1.463174 -4.500657  0.595529  \n",
       "3  0.799176  1.749826  3.012252  0.629619  1.429877  \n",
       "4  0.969108  2.278681  1.140469  0.152484  0.643395  "
      ]
     },
     "execution_count": 44,
     "metadata": {},
     "output_type": "execute_result"
    }
   ],
   "source": [
    "df = pd.read_csv('IB_statistics_data_hw2.4.txt', sep=' ')\n",
    "df.head()"
   ]
  },
  {
   "cell_type": "markdown",
   "metadata": {},
   "source": [
    "# 1.\n",
    "Пример - выборка из 10-мерного  нормального распределения с единичной ковариационной матрицей"
   ]
  },
  {
   "cell_type": "code",
   "execution_count": 31,
   "metadata": {},
   "outputs": [],
   "source": [
    "def R2adj(Y_pred, Y_true, n, m):\n",
    "    num = (n - 1) * np.sum((Y_true - Y_pred)**2)\n",
    "    denom = (n - m) * np.sum((Y_true - Y.mean())**2)\n",
    "    return 1 - num / denom "
   ]
  },
  {
   "cell_type": "code",
   "execution_count": 36,
   "metadata": {},
   "outputs": [
    {
     "data": {
      "text/latex": [
       "$R^2_{adj} = -0.017$"
      ],
      "text/plain": [
       "<IPython.core.display.Latex object>"
      ]
     },
     "metadata": {},
     "output_type": "display_data"
    }
   ],
   "source": [
    "# генерация выборки\n",
    "# (m + 1) - мерное нормальное распределение с единичной ковариационной матрицей\n",
    "# вектор средних равен (0, 1, ... m)\n",
    "\n",
    "n = 200\n",
    "m = 10\n",
    "sample = pd.DataFrame(sp.stats.multivariate_normal(np.arange(m + 1), cov=1).rvs(n))\n",
    "X, Y = sample.iloc[:, 1:], sample.iloc[:, 0]\n",
    "X.columns = [f'x{i}' for i in range(1, m+1)]\n",
    "X.insert(0, 'x0', 1)\n",
    "\n",
    "# МНК-оценка \n",
    "beta = np.linalg.lstsq(X, Y, rcond=None)[0]\n",
    "\n",
    "display(Latex(r'$R^2_{adj} =' + f' {round(R2adj(X @ beta, Y, n, m), 3)}$'))"
   ]
  },
  {
   "cell_type": "markdown",
   "metadata": {},
   "source": [
    "# 2."
   ]
  },
  {
   "cell_type": "markdown",
   "metadata": {},
   "source": [
    "Доказать: в задаче\n",
    "$||Ax - b|| \\rightarrow \\min$\n",
    "минимум достигается при $x = A^{(1, 3)} b$\n",
    "\n",
    "Доказательство:\n",
    "$$\n",
    "A : \\mathbb R^n \\rightarrow \\mathbb R^m; \\\\\n",
    "b = \\text{Pr}_{ImA}b + \\text{Pr}_{ImA^\\perp}b = \\text{Pr}_{ImA}b + \\text{Pr}_{KerA^T} b\\\\\n",
    "b - Ax = (\\text{Pr}_{ImA} b - Ax) + \\text{Pr}_{KerA^T} b \\\\\n",
    "\\Rightarrow ||Ax - b ||^2 = ||Ax - \\text{Pr}_{ImA} b||^2 + ||\\text{Pr}_{KerA^T} b||^2 \n",
    "$$\n",
    "Минимум $||Ax - b ||^2$ достигается при условии $Ax = \\text{Pr}_{ImA} b$. \n",
    "\n",
    "Т.е. нужно доказать, что \n",
    "$$\n",
    "A A^{(1, 3)}b = \\text{Pr}_{ImA} b \n",
    "$$\n",
    "\n",
    "Это следует из того, что:\n",
    "$$\n",
    "1.\\ \\ (A A^{(1,3)}A) A^{(1,3)} = A A^{(1,3)} \\\\\n",
    "2. \\ \\ \\forall x:\\ \\ AA^{(1,3)} x \\Rightarrow (A A^{(1,3)})^T x = 0 \\Rightarrow (A^{(1,3)})^T A^T x \n",
    "\\Rightarrow A^T x = 0 \\Rightarrow Ker AA^{(1,3)} = Ker A^T\n",
    "$$\n",
    "$\\blacksquare$"
   ]
  },
  {
   "cell_type": "markdown",
   "metadata": {},
   "source": [
    "\n",
    "# 3."
   ]
  },
  {
   "cell_type": "code",
   "execution_count": 405,
   "metadata": {},
   "outputs": [],
   "source": [
    "X = df.loc[:, 'Ex3.x1':'Ex3.x5']\n",
    "X.columns = [f'x{i}' for i in range(1, 6)]\n",
    "X.insert(0, 'x0', 1)\n",
    "\n",
    "Y = df['Ex3.y']"
   ]
  },
  {
   "cell_type": "markdown",
   "metadata": {},
   "source": [
    "### a)\n",
    "\n",
    "Условие можно переписать как $H \\beta = 0,\\ H = (0, 1, 1, 1, 1, 0)$.\n",
    "\n",
    "Нужно отсыкать матрицу Z, такую, что \n",
    "$$\n",
    "H (X^+ + (1 - X^+ X)Z)Y = 0\n",
    "$$\n"
   ]
  },
  {
   "cell_type": "code",
   "execution_count": 490,
   "metadata": {},
   "outputs": [
    {
     "name": "stdout",
     "output_type": "stream",
     "text": [
      "6314.662336243964\n"
     ]
    },
    {
     "ename": "ValueError",
     "evalue": "matmul: Input operand 1 has a mismatch in its core dimension 0, with gufunc signature (n?,k),(k,m?)->(n?,m?) (size 1440 is different from 6)",
     "output_type": "error",
     "traceback": [
      "\u001b[0;31m---------------------------------------------------------------------------\u001b[0m",
      "\u001b[0;31mValueError\u001b[0m                                Traceback (most recent call last)",
      "\u001b[0;32m<ipython-input-490-c56f49ece036>\u001b[0m in \u001b[0;36m<module>\u001b[0;34m\u001b[0m\n\u001b[1;32m     18\u001b[0m \u001b[0mprint\u001b[0m\u001b[0;34m(\u001b[0m\u001b[0mH\u001b[0m \u001b[0;34m@\u001b[0m \u001b[0;34m(\u001b[0m\u001b[0mXpinv\u001b[0m \u001b[0;34m+\u001b[0m \u001b[0;34m(\u001b[0m\u001b[0midentity\u001b[0m \u001b[0;34m-\u001b[0m \u001b[0mXpinvX\u001b[0m\u001b[0;34m)\u001b[0m \u001b[0;34m@\u001b[0m \u001b[0mZinit\u001b[0m\u001b[0;34m)\u001b[0m \u001b[0;34m@\u001b[0m \u001b[0mY\u001b[0m\u001b[0;34m)\u001b[0m\u001b[0;34m\u001b[0m\u001b[0;34m\u001b[0m\u001b[0m\n\u001b[1;32m     19\u001b[0m \u001b[0;34m\u001b[0m\u001b[0m\n\u001b[0;32m---> 20\u001b[0;31m \u001b[0msp\u001b[0m\u001b[0;34m.\u001b[0m\u001b[0moptimize\u001b[0m\u001b[0;34m.\u001b[0m\u001b[0mfsolve\u001b[0m\u001b[0;34m(\u001b[0m\u001b[0mequation\u001b[0m\u001b[0;34m,\u001b[0m \u001b[0mZinit\u001b[0m\u001b[0;34m)\u001b[0m\u001b[0;34m\u001b[0m\u001b[0;34m\u001b[0m\u001b[0m\n\u001b[0m",
      "\u001b[0;32m~/anaconda3/lib/python3.8/site-packages/scipy/optimize/minpack.py\u001b[0m in \u001b[0;36mfsolve\u001b[0;34m(func, x0, args, fprime, full_output, col_deriv, xtol, maxfev, band, epsfcn, factor, diag)\u001b[0m\n\u001b[1;32m    158\u001b[0m                'diag': diag}\n\u001b[1;32m    159\u001b[0m \u001b[0;34m\u001b[0m\u001b[0m\n\u001b[0;32m--> 160\u001b[0;31m     \u001b[0mres\u001b[0m \u001b[0;34m=\u001b[0m \u001b[0m_root_hybr\u001b[0m\u001b[0;34m(\u001b[0m\u001b[0mfunc\u001b[0m\u001b[0;34m,\u001b[0m \u001b[0mx0\u001b[0m\u001b[0;34m,\u001b[0m \u001b[0margs\u001b[0m\u001b[0;34m,\u001b[0m \u001b[0mjac\u001b[0m\u001b[0;34m=\u001b[0m\u001b[0mfprime\u001b[0m\u001b[0;34m,\u001b[0m \u001b[0;34m**\u001b[0m\u001b[0moptions\u001b[0m\u001b[0;34m)\u001b[0m\u001b[0;34m\u001b[0m\u001b[0;34m\u001b[0m\u001b[0m\n\u001b[0m\u001b[1;32m    161\u001b[0m     \u001b[0;32mif\u001b[0m \u001b[0mfull_output\u001b[0m\u001b[0;34m:\u001b[0m\u001b[0;34m\u001b[0m\u001b[0;34m\u001b[0m\u001b[0m\n\u001b[1;32m    162\u001b[0m         \u001b[0mx\u001b[0m \u001b[0;34m=\u001b[0m \u001b[0mres\u001b[0m\u001b[0;34m[\u001b[0m\u001b[0;34m'x'\u001b[0m\u001b[0;34m]\u001b[0m\u001b[0;34m\u001b[0m\u001b[0;34m\u001b[0m\u001b[0m\n",
      "\u001b[0;32m~/anaconda3/lib/python3.8/site-packages/scipy/optimize/minpack.py\u001b[0m in \u001b[0;36m_root_hybr\u001b[0;34m(func, x0, args, jac, col_deriv, xtol, maxfev, band, eps, factor, diag, **unknown_options)\u001b[0m\n\u001b[1;32m    224\u001b[0m     \u001b[0;32mif\u001b[0m \u001b[0;32mnot\u001b[0m \u001b[0misinstance\u001b[0m\u001b[0;34m(\u001b[0m\u001b[0margs\u001b[0m\u001b[0;34m,\u001b[0m \u001b[0mtuple\u001b[0m\u001b[0;34m)\u001b[0m\u001b[0;34m:\u001b[0m\u001b[0;34m\u001b[0m\u001b[0;34m\u001b[0m\u001b[0m\n\u001b[1;32m    225\u001b[0m         \u001b[0margs\u001b[0m \u001b[0;34m=\u001b[0m \u001b[0;34m(\u001b[0m\u001b[0margs\u001b[0m\u001b[0;34m,\u001b[0m\u001b[0;34m)\u001b[0m\u001b[0;34m\u001b[0m\u001b[0;34m\u001b[0m\u001b[0m\n\u001b[0;32m--> 226\u001b[0;31m     \u001b[0mshape\u001b[0m\u001b[0;34m,\u001b[0m \u001b[0mdtype\u001b[0m \u001b[0;34m=\u001b[0m \u001b[0m_check_func\u001b[0m\u001b[0;34m(\u001b[0m\u001b[0;34m'fsolve'\u001b[0m\u001b[0;34m,\u001b[0m \u001b[0;34m'func'\u001b[0m\u001b[0;34m,\u001b[0m \u001b[0mfunc\u001b[0m\u001b[0;34m,\u001b[0m \u001b[0mx0\u001b[0m\u001b[0;34m,\u001b[0m \u001b[0margs\u001b[0m\u001b[0;34m,\u001b[0m \u001b[0mn\u001b[0m\u001b[0;34m,\u001b[0m \u001b[0;34m(\u001b[0m\u001b[0mn\u001b[0m\u001b[0;34m,\u001b[0m\u001b[0;34m)\u001b[0m\u001b[0;34m)\u001b[0m\u001b[0;34m\u001b[0m\u001b[0;34m\u001b[0m\u001b[0m\n\u001b[0m\u001b[1;32m    227\u001b[0m     \u001b[0;32mif\u001b[0m \u001b[0mepsfcn\u001b[0m \u001b[0;32mis\u001b[0m \u001b[0;32mNone\u001b[0m\u001b[0;34m:\u001b[0m\u001b[0;34m\u001b[0m\u001b[0;34m\u001b[0m\u001b[0m\n\u001b[1;32m    228\u001b[0m         \u001b[0mepsfcn\u001b[0m \u001b[0;34m=\u001b[0m \u001b[0mfinfo\u001b[0m\u001b[0;34m(\u001b[0m\u001b[0mdtype\u001b[0m\u001b[0;34m)\u001b[0m\u001b[0;34m.\u001b[0m\u001b[0meps\u001b[0m\u001b[0;34m\u001b[0m\u001b[0;34m\u001b[0m\u001b[0m\n",
      "\u001b[0;32m~/anaconda3/lib/python3.8/site-packages/scipy/optimize/minpack.py\u001b[0m in \u001b[0;36m_check_func\u001b[0;34m(checker, argname, thefunc, x0, args, numinputs, output_shape)\u001b[0m\n\u001b[1;32m     22\u001b[0m def _check_func(checker, argname, thefunc, x0, args, numinputs,\n\u001b[1;32m     23\u001b[0m                 output_shape=None):\n\u001b[0;32m---> 24\u001b[0;31m     \u001b[0mres\u001b[0m \u001b[0;34m=\u001b[0m \u001b[0matleast_1d\u001b[0m\u001b[0;34m(\u001b[0m\u001b[0mthefunc\u001b[0m\u001b[0;34m(\u001b[0m\u001b[0;34m*\u001b[0m\u001b[0;34m(\u001b[0m\u001b[0;34m(\u001b[0m\u001b[0mx0\u001b[0m\u001b[0;34m[\u001b[0m\u001b[0;34m:\u001b[0m\u001b[0mnuminputs\u001b[0m\u001b[0;34m]\u001b[0m\u001b[0;34m,\u001b[0m\u001b[0;34m)\u001b[0m \u001b[0;34m+\u001b[0m \u001b[0margs\u001b[0m\u001b[0;34m)\u001b[0m\u001b[0;34m)\u001b[0m\u001b[0;34m)\u001b[0m\u001b[0;34m\u001b[0m\u001b[0;34m\u001b[0m\u001b[0m\n\u001b[0m\u001b[1;32m     25\u001b[0m     \u001b[0;32mif\u001b[0m \u001b[0;34m(\u001b[0m\u001b[0moutput_shape\u001b[0m \u001b[0;32mis\u001b[0m \u001b[0;32mnot\u001b[0m \u001b[0;32mNone\u001b[0m\u001b[0;34m)\u001b[0m \u001b[0;32mand\u001b[0m \u001b[0;34m(\u001b[0m\u001b[0mshape\u001b[0m\u001b[0;34m(\u001b[0m\u001b[0mres\u001b[0m\u001b[0;34m)\u001b[0m \u001b[0;34m!=\u001b[0m \u001b[0moutput_shape\u001b[0m\u001b[0;34m)\u001b[0m\u001b[0;34m:\u001b[0m\u001b[0;34m\u001b[0m\u001b[0;34m\u001b[0m\u001b[0m\n\u001b[1;32m     26\u001b[0m         \u001b[0;32mif\u001b[0m \u001b[0;34m(\u001b[0m\u001b[0moutput_shape\u001b[0m\u001b[0;34m[\u001b[0m\u001b[0;36m0\u001b[0m\u001b[0;34m]\u001b[0m \u001b[0;34m!=\u001b[0m \u001b[0;36m1\u001b[0m\u001b[0;34m)\u001b[0m\u001b[0;34m:\u001b[0m\u001b[0;34m\u001b[0m\u001b[0;34m\u001b[0m\u001b[0m\n",
      "\u001b[0;32m<ipython-input-490-c56f49ece036>\u001b[0m in \u001b[0;36mequation\u001b[0;34m(Z)\u001b[0m\n\u001b[1;32m     12\u001b[0m \u001b[0;34m\u001b[0m\u001b[0m\n\u001b[1;32m     13\u001b[0m \u001b[0;32mdef\u001b[0m \u001b[0mequation\u001b[0m\u001b[0;34m(\u001b[0m\u001b[0mZ\u001b[0m\u001b[0;34m)\u001b[0m\u001b[0;34m:\u001b[0m\u001b[0;34m\u001b[0m\u001b[0;34m\u001b[0m\u001b[0m\n\u001b[0;32m---> 14\u001b[0;31m     \u001b[0;32mreturn\u001b[0m \u001b[0mH\u001b[0m \u001b[0;34m@\u001b[0m \u001b[0;34m(\u001b[0m\u001b[0mXpinv\u001b[0m \u001b[0;34m+\u001b[0m \u001b[0;34m(\u001b[0m\u001b[0midentity\u001b[0m \u001b[0;34m-\u001b[0m \u001b[0mXpinvX\u001b[0m\u001b[0;34m)\u001b[0m \u001b[0;34m@\u001b[0m \u001b[0mZ\u001b[0m\u001b[0;34m)\u001b[0m \u001b[0;34m@\u001b[0m \u001b[0mY\u001b[0m\u001b[0;34m\u001b[0m\u001b[0;34m\u001b[0m\u001b[0m\n\u001b[0m\u001b[1;32m     15\u001b[0m \u001b[0;34m\u001b[0m\u001b[0m\n\u001b[1;32m     16\u001b[0m \u001b[0mZinit\u001b[0m \u001b[0;34m=\u001b[0m \u001b[0mnp\u001b[0m\u001b[0;34m.\u001b[0m\u001b[0mones\u001b[0m\u001b[0;34m(\u001b[0m\u001b[0mshape\u001b[0m\u001b[0;34m=\u001b[0m\u001b[0mX\u001b[0m\u001b[0;34m.\u001b[0m\u001b[0mT\u001b[0m\u001b[0;34m.\u001b[0m\u001b[0mshape\u001b[0m\u001b[0;34m)\u001b[0m\u001b[0;34m\u001b[0m\u001b[0;34m\u001b[0m\u001b[0m\n",
      "\u001b[0;31mValueError\u001b[0m: matmul: Input operand 1 has a mismatch in its core dimension 0, with gufunc signature (n?,k),(k,m?)->(n?,m?) (size 1440 is different from 6)"
     ]
    }
   ],
   "source": [
    "beta_ols = np.linalg.lstsq(X, Y, rcond=None)[0]\n",
    "\n",
    "X = np.array(X)\n",
    "Y = np.array(Y)\n",
    "\n",
    "Xpinv = np.linalg.pinv(X)\n",
    "\n",
    "XpinvX = Xpinv @ X\n",
    "identity = np.eye(XpinvX.shape[0])\n",
    "\n",
    "H = np.array([0, 1, 1, 1, 1, 0])\n",
    "\n",
    "def equation(Z):\n",
    "    return H @ (Xpinv + (identity - XpinvX) @ Z) @ Y\n",
    "\n",
    "Zinit = np.ones(shape=X.T.shape)\n",
    "\n",
    "print(H @ (Xpinv + (identity - XpinvX) @ Zinit) @ Y)\n",
    "\n",
    "sp.optimize.fsolve(equation, Zinit)"
   ]
  },
  {
   "cell_type": "markdown",
   "metadata": {},
   "source": [
    "почему-то в fsolve то же выражение, которое снаружи выполняется нормально,\n",
    "падает из-за несовпадений размерности..."
   ]
  },
  {
   "cell_type": "markdown",
   "metadata": {},
   "source": [
    "### b) \n",
    "$||\\beta|| \\rightarrow \\min.$\n",
    "\n",
    "По теореме об оптимальных свойствах псевдообратной матрицы, решением с минимальной нормой является\n",
    "$\\beta = X^+ Y$"
   ]
  },
  {
   "cell_type": "code",
   "execution_count": 404,
   "metadata": {},
   "outputs": [
    {
     "data": {
      "text/latex": [
       "$\\hat {\\beta} =$"
      ],
      "text/plain": [
       "<IPython.core.display.Latex object>"
      ]
     },
     "metadata": {},
     "output_type": "display_data"
    },
    {
     "name": "stdout",
     "output_type": "stream",
     "text": [
      "12.068\n",
      "2.609\n",
      "-2.107\n",
      "-1.103\n",
      "3.614\n",
      "3.984\n"
     ]
    }
   ],
   "source": [
    "beta = np.linalg.pinv(X) @ Y\n",
    "display(Latex(r'$\\hat {\\beta} =$'))\n",
    "print(*[round(b, 3) for b in beta], sep='\\n')"
   ]
  },
  {
   "cell_type": "markdown",
   "metadata": {},
   "source": [
    "### c)"
   ]
  },
  {
   "cell_type": "markdown",
   "metadata": {},
   "source": [
    "### d)"
   ]
  },
  {
   "cell_type": "markdown",
   "metadata": {},
   "source": [
    "# 4."
   ]
  },
  {
   "cell_type": "markdown",
   "metadata": {},
   "source": [
    "# 5."
   ]
  },
  {
   "cell_type": "markdown",
   "metadata": {},
   "source": [
    "Преобразуем модель:\n",
    "\n",
    "$$\n",
    "y = e^{\\beta_0 \\varepsilon} \\cdot x_1^{\\beta_1} \\cdot x_2^{\\beta_2} \\\\\n",
    "\\Rightarrow \\ln y = \\beta_0 \\varepsilon + \\beta_1 \\ln x_1 + \\beta_2\\ln x_2 = \\\\\n",
    "= \\varepsilon' + \\beta_1 \\ln x_1 + \\beta_2\\ln x_2\n",
    "$$\n",
    "$\\beta_0$ \"уходит\" в дисперсию ошибки. Соответственно можно выбрать произвольное значение $\\beta_0$, тогда дисперсия ошибки соответствующим образом изменится."
   ]
  },
  {
   "cell_type": "markdown",
   "metadata": {},
   "source": [
    "### Построение ОМП оценки\n",
    "Т.к. ошибки распределены нормально, то МНК-оценка будет совпадать с ОМП оценкой."
   ]
  },
  {
   "cell_type": "code",
   "execution_count": 345,
   "metadata": {},
   "outputs": [
    {
     "data": {
      "text/latex": [
       "$\\hat \\beta = $"
      ],
      "text/plain": [
       "<IPython.core.display.Latex object>"
      ]
     },
     "metadata": {},
     "output_type": "display_data"
    },
    {
     "name": "stdout",
     "output_type": "stream",
     "text": [
      "1.0 1.151 2.794\n"
     ]
    }
   ],
   "source": [
    "X = df[['Ex5.x1', 'Ex5.x2']]\n",
    "X.columns = ['x1', 'x2']\n",
    "Y = df['Ex5.y']\n",
    "\n",
    "\n",
    "# преобразование модели\n",
    "X = np.log(np.array(X))\n",
    "Y = np.log(np.array(Y))\n",
    "\n",
    "# МНК оценка в преобразованной модели\n",
    "hat_beta = np.linalg.lstsq(X, Y, rcond=None)[0]\n",
    "# Добавляем beta_0 = 1\n",
    "hat_beta = np.insert(hat_beta, 0, 1) \n",
    "display(Latex(r'$\\hat \\beta = $'))\n",
    "print(*[round(b, 3) for b in beta])"
   ]
  },
  {
   "cell_type": "markdown",
   "metadata": {},
   "source": [
    "### Проверка гипотезы\n",
    "Воспользуемся \"грубым\" методом, проверив гипотезу для линеаризованной модели.\n",
    "\n",
    "Доверительная область:\n",
    "$\n",
    "\\left\\{ x: (\\hat \\beta - x)^T (X^T X) (\\hat \\beta - x) < \\frac{m}{n-m}s^2 F_{m, n - m}(0.95) \\right\\}\n",
    "$\n",
    "\n",
    "Т.к. $\\beta_0$ можно выбрать любым, то проверим для вектора из двух оставшихся компонент."
   ]
  },
  {
   "cell_type": "code",
   "execution_count": 364,
   "metadata": {},
   "outputs": [
    {
     "name": "stdout",
     "output_type": "stream",
     "text": [
      "Граница доверительной области:  0.249\n",
      "Значение статистики:  646.483\n"
     ]
    }
   ],
   "source": [
    "GAMMA = 0.95\n",
    "\n",
    "beta0 = np.array([1, 1])\n",
    "beta = hat_beta[1:]\n",
    "\n",
    "n, m = X.shape\n",
    "\n",
    "# МНК оценка для sigma2\n",
    "s2 = np.sum((Y - X @ beta)**2) / (n - m)\n",
    "\n",
    "# 0.95-квантиль распределения F(m, n - m)\n",
    "distr = sp.stats.f(m, n - m)\n",
    "f95 = sp.optimize.fsolve(lambda x: distr.cdf(x) - 0.95, 10)[0]\n",
    "\n",
    "# граница доверительной области\n",
    "bound = m / (n - m) * s2 * f95\n",
    "\n",
    "print('Граница доверительной области: ', round(bound, 3))\n",
    "\n",
    "# лежит ли beta (1, 1) в доверительной области\n",
    "T = (beta - beta0).T @ (X.T @ X) @ (beta - beta0)\n",
    "print('Значение статистики: ', round(T, 3))"
   ]
  },
  {
   "cell_type": "markdown",
   "metadata": {},
   "source": [
    "$\\Rightarrow H_0$ отклоняется."
   ]
  },
  {
   "cell_type": "markdown",
   "metadata": {},
   "source": [
    "# 6.\n",
    "\n",
    "### 1) ОМП-оценка\n",
    "Т.к. ошибки распределны нормально, то ОМП оценка совпадает с МНК оценкой."
   ]
  },
  {
   "cell_type": "code",
   "execution_count": 286,
   "metadata": {},
   "outputs": [
    {
     "data": {
      "text/latex": [
       "$\\hat \\beta = $"
      ],
      "text/plain": [
       "<IPython.core.display.Latex object>"
      ]
     },
     "metadata": {},
     "output_type": "display_data"
    },
    {
     "data": {
      "text/plain": [
       "array([0.00875047, 0.69356228])"
      ]
     },
     "execution_count": 286,
     "metadata": {},
     "output_type": "execute_result"
    }
   ],
   "source": [
    "X = df[['Ex6.x1', 'Ex6.x2']]\n",
    "X.columns = ['x1', 'x2']\n",
    "Y = df['Ex6.y']\n",
    "X = np.array(X)\n",
    "Y = np.array(Y)\n",
    "\n",
    "def loss(beta):\n",
    "    # функция потерь - сумма квадратов отклонений\n",
    "    beta1, beta2 = beta\n",
    "    \n",
    "    s = 0\n",
    "    for i, row in enumerate(X):\n",
    "        x1, x2 = row\n",
    "        y_true = Y[i]\n",
    "        y_pred = beta1 * x1 * x2 + math.e **(beta2 * x2)\n",
    "        s += (y_true - y_pred)**2\n",
    "    \n",
    "    return s\n",
    "\n",
    "initial_beta = [0, 1]\n",
    "hat_beta = scipy.optimize.minimize(loss, initial_beta).x\n",
    "display(Latex(r'$\\hat \\beta = $'))\n",
    "hat_beta "
   ]
  },
  {
   "cell_type": "markdown",
   "metadata": {},
   "source": [
    "### 2) Проверка гипотезы\n",
    "\n",
    "$h(\\beta)$ - отображение из $\\mathbb R^p$ в $\\mathbb R^q$.\n",
    "\n",
    "$H_0: h(\\beta) = 0$ против альтернативы $H_1: h(\\beta) \\ne 0$\n",
    "\n",
    "В случае нормальных ошибок (и единственности МНК оценки) применим следующий критерий (источник -A. Ronald Gallant - Nonlinear Statistical Models):\n",
    "\n",
    "$\\hat \\beta = \\text{argmin}\\ \\text{SSE}(\\beta) = \\text{argmin} \\ (y - f(\\beta))^T(y - f(\\beta))$;\n",
    "\n",
    "$\\text{SSE}_{full} = \\text{SSE}(\\hat \\beta)$;\n",
    "\n",
    "$\\tilde \\beta = \\text{argmin}\\ \\text{SSE}(\\beta)$ при условии $h(\\beta) = 0$;\n",
    "\n",
    "$\\text{SSE}_{reduced} = \\text{SSE}(\\tilde \\beta)$\n",
    "\n",
    "Статистика:\n",
    "$$\n",
    "L = \\frac{(\\text{SSE}_{reduced} - \\text{SSE}_{full}) /q}{\\text{SSE}_{full} / (n - p)} \\sim F(q, n - p)\n",
    "$$\n",
    "($p$ - число регрессоров).\n",
    "\n",
    "В нашем случае \n",
    "$$\n",
    "h(\\beta) = 0 \\Leftrightarrow \\begin{cases}\n",
    "\\beta_1 = 0, \\\\\n",
    "\\beta_2 = \\log 2\n",
    "\\end{cases}\n",
    "$$\n",
    "Т.е. $q = 2$;\n",
    "\n",
    "$\\tilde \\beta = \\beta_0 = (0, \\log 2)$\n",
    "\n",
    "$\\hat \\beta$ посчитана в предыдущем пункте."
   ]
  },
  {
   "cell_type": "code",
   "execution_count": 303,
   "metadata": {},
   "outputs": [
    {
     "data": {
      "text/latex": [
       "$L = 0.123$"
      ],
      "text/plain": [
       "<IPython.core.display.Latex object>"
      ]
     },
     "metadata": {},
     "output_type": "display_data"
    },
    {
     "data": {
      "text/latex": [
       "$L_{cr} = 3.034$"
      ],
      "text/plain": [
       "<IPython.core.display.Latex object>"
      ]
     },
     "metadata": {},
     "output_type": "display_data"
    }
   ],
   "source": [
    "ALPHA = 0.05\n",
    "\n",
    "beta0 = np.array([0, np.log(2)])\n",
    "n, p = X.shape\n",
    "q = 2\n",
    "\n",
    "SSE_full = (X @ hat_beta).T @ (X @ hat_beta)\n",
    "SSE_reduced = (X @ beta0).T @ (X @ beta0)\n",
    "\n",
    "num = (SSE_reduced - SSE_full) / q\n",
    "denom = SSE_full / (n - p)\n",
    "L = num / denom\n",
    "display(Latex(f'$L = {round(L, 3)}$'))\n",
    "\n",
    "\n",
    "# Критическое значение\n",
    "L_crit = sp.optimize.fsolve(lambda x: sp.stats.f(q, n - p).cdf(x) - (1 - ALPHA), 0)[0]\n",
    "display(Latex(r'$L_{cr} = %s$' % round(L_crit, 3)))"
   ]
  },
  {
   "cell_type": "markdown",
   "metadata": {},
   "source": [
    "Значение меньше критического $\\Rightarrow$ $H_0$ не отклоняется."
   ]
  }
 ],
 "metadata": {
  "kernelspec": {
   "display_name": "Python 3",
   "language": "python",
   "name": "python3"
  },
  "language_info": {
   "codemirror_mode": {
    "name": "ipython",
    "version": 3
   },
   "file_extension": ".py",
   "mimetype": "text/x-python",
   "name": "python",
   "nbconvert_exporter": "python",
   "pygments_lexer": "ipython3",
   "version": "3.8.5"
  },
  "toc": {
   "base_numbering": 1,
   "nav_menu": {},
   "number_sections": false,
   "sideBar": true,
   "skip_h1_title": false,
   "title_cell": "Table of Contents",
   "title_sidebar": "Contents",
   "toc_cell": false,
   "toc_position": {
    "height": "calc(100% - 180px)",
    "left": "10px",
    "top": "150px",
    "width": "329.2px"
   },
   "toc_section_display": true,
   "toc_window_display": true
  }
 },
 "nbformat": 4,
 "nbformat_minor": 4
}
