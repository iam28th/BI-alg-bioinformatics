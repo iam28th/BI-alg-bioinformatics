{
 "cells": [
  {
   "cell_type": "code",
   "execution_count": 1,
   "metadata": {},
   "outputs": [],
   "source": [
    "from IPython.display import Image, display"
   ]
  },
  {
   "cell_type": "markdown",
   "metadata": {},
   "source": [
    "Linuxbrew (http://linuxbrew.sh/) - another package manager It can be useful in future if you ever run into tools that aren't on APT.\n",
    "\n",
    "dpkg -L {package-name} - показывает путь к файлу (исполняемые файлы лежат в /usr/bin directory)"
   ]
  },
  {
   "cell_type": "markdown",
   "metadata": {},
   "source": [
    "# 10.29.20 День 1\n",
    "\n",
    "21:58 засел за чтение материалов\n",
    "\n",
    "# 1. Знакомство\n",
    "\n",
    "### Файлы:\n",
    "\n",
    "\"This is E.coli strain K-12 substrain MG1655, laboratory workhorse. More information about this genome can be found at \n",
    "http://www.ncbi.nlm.nih.gov/genome/167\"\n",
    "\n",
    "\n",
    "GCF_000005845.2_ASM584v2_genomic.fna.gz - reference sequence in fasta format\n",
    "\n",
    "GCF_000005845.2_ASM584v2_genomic.gff.gz - annotation\n",
    "\n",
    "---\n",
    "---\n",
    "need raw Illumina sequencing reads from shotgun sequencing of an E. coli strain that is resistant to the antibiotic ampicillin:\n",
    "\n",
    "amp_res_1.fastq.zip - forward\n",
    "\n",
    "amp_res_2.fastq.zip - reverse\n",
    "\n",
    "---"
   ]
  },
  {
   "cell_type": "markdown",
   "metadata": {},
   "source": [
    "Распаковка архивов\n",
    "\n",
    "```bash\n",
    "in: \n",
    "unzip amp_res_1.fastq.zip\n",
    "\n",
    "out: \n",
    "Archive:  amp_res_1.fastq.zip\n",
    "  inflating: amp_res_1.fastq  ```"
   ]
  },
  {
   "cell_type": "markdown",
   "metadata": {},
   "source": [
    "Ручной просмотр сырых данных\n",
    "\n",
    "```bash\n",
    "in: \n",
    "head -4 amp_res_2.fastq\n",
    "\n",
    "out: \n",
    "@SRR1363257.37 GWZHISEQ01:153:C1W31ACXX:5:1101:14027:2198 length=101\n",
    "GATCTAAGCTGAAGCCAGGCCAAAGTTTGACGATTGGTGCAGGCAGTAGCGCACAGCGACTGGCAAACAACAGCGATAGCATTACGTATCGTGTGCGCAAA\n",
    "+\n",
    "???BDB:DFHBFD@9;;+A;AFGH;ABHFHHGE@9:B:??@D>@;F?D8<<F8AA9EHHD8'..;5?A?A992(',(59CC3@C>22::A238+2>B<>B<\n",
    "```"
   ]
  },
  {
   "cell_type": "markdown",
   "metadata": {},
   "source": [
    "Ручной просмотр референсного генома:\n",
    "\n",
    "```bash\n",
    "cat GCF_000005845.2_ASM584v2_genomic.fna\n",
    "\n",
    "out: \n",
    "a huuuge genetic string\n",
    "```\n",
    "\n",
    "Число строк в файлах прямого и обратного прочтения:\n",
    "\n",
    "```bash\n",
    "in:\n",
    "wc -l amp_res_1.fastq\n",
    "\n",
    "out:\n",
    "1823504 amp_res_1.fastq\n",
    "\n",
    "in:\n",
    "wc -l amp_res_2.fastq\n",
    "\n",
    "out:\n",
    "1823504 amp_res_2.fastq\n",
    "```"
   ]
  },
  {
   "cell_type": "markdown",
   "metadata": {},
   "source": [
    "# 2. FastQC\n",
    "\n",
    "Анализ сырых файлов с помощью __fastqc__ (установка - sudo apt-get install fastqc)\n",
    "```bash\n",
    "in:\n",
    "fastqc -o . amp_res_1.fastq amp_res_2.fastq\n",
    "\n",
    "out:\n",
    "Started analysis of amp_res_1.fastq\n",
    "Approx 5% complete for amp_res_1.fastq\n",
    ".\n",
    ".\n",
    "Analysis complete for amp_res_1.fastq\n",
    "Started analysis of amp_res_2.fastq\n",
    "Approx 5% complete for amp_res_2.fastq\n",
    ".\n",
    ".\n",
    "Analysis complete for amp_res_2.fastq\n",
    "```\n",
    "\n",
    "`-o .` говорит \"положи аутпут в текущую директеорию\" (в ней появились файлы `amp_res_1_fastqc.html` и `amp_res_1_fastqc.html`)\n",
    "\n",
    "### значение Total_sequences не совпадает со значением, полученным с помощью wc -l:\n",
    "455876 против 1823504\n",
    "\n",
    "### Fastqc Failures (красные кружочки):\n",
    "#### В файле 1:\n",
    "1. Per base sequence quality\n",
    "2. Per tile sequence quality\n",
    "\n",
    "#### В файле 2:\n",
    "1. Per base sequence quality\n",
    "\n",
    "http://www.bioinformatics.babraham.ac.uk/projects/fastqc/Help/3%20Analysis%20Modules/ гласит:\n",
    "\n",
    "1. \"Наиболее часто встречающееся среднее качество\" меньше 20. Это соответствует ошибке в 1% (предположительно по систематическим причинам)\n",
    "2. Нижний квартиль (10%) хотя бы для 1 из оснований ниже 5, либо медиана ниже 20.\n",
    "\n",
    "Что предпринять:\n",
    "- провести тех.осмотр и калибровку секвенатора?\n",
    "- возможно были нарушения технологии в процессе секвенирования?\n",
    "\n",
    "\n",
    "Есть ещё Warning-и (но когда всё было хорошо):\n",
    "1. Per tile sequence quality\n",
    "2. Per base sequence content\n",
    "3. Per sequence GC content"
   ]
  },
  {
   "cell_type": "markdown",
   "metadata": {},
   "source": [
    "# 3. Trimmomatic\n",
    "www.usadellab.org/cms/?page=trimmomatic\n",
    "- TrimmomaticPE - paired end mode\n",
    "- TrimmomaticSE - single end mode"
   ]
  },
  {
   "cell_type": "markdown",
   "metadata": {},
   "source": [
    "# 30.10.20 День 2 \n",
    "23:02\n",
    "\n",
    "encoding: Phred+33 "
   ]
  },
  {
   "cell_type": "markdown",
   "metadata": {},
   "source": [
    "```bash\n",
    "in:\n",
    "TrimmomaticPE -phred33 -trimlog ogloglock.txt -summary -summary.txt amp_res_1.fastq amp_res_2.fastq _1P.fq _1U.fq _2P.fq _2U.fq  LEADING:20 TRAILING:20 SLIDINGWINDOW:10:20 MINLEN:20\n",
    "\n",
    "out:\n",
    "TrimmomaticPE: Started with arguments:\n",
    " -phred33 -trimlog ogloglock.txt -summary -summary.txt amp_res_1.fastq amp_res_2.fastq _1P.fq _1U.fq _2P.fq _2U.fq LEADING:20 TRAILING:20 SLIDINGWINDOW:10:20 MINLEN:20\n",
    "Multiple cores found: Using 4 threads\n",
    "\n",
    "Input Read Pairs: 455876 Both Surviving: 446259 (97.89%) Forward Only Surviving: 9216 (2.02%) Reverse Only Surviving: 273 (0.06%) Dropped: 128 (0.03%)\n",
    "TrimmomaticPE: Completed successfully\n",
    "\n",
    "```\n",
    "### Проверка количества оставшихся ридов\n",
    "\n",
    "```bash\n",
    "in:\n",
    "wc -l _P1.fq\n",
    "\n",
    "out:\n",
    "1785036\n",
    "Для Р2 то же\n",
    "```\n",
    "\n",
    "### ФастКуСи на обрезанных файлах\n",
    "в \\_1P_fastqc только один красный кружок. В \\_Р2 красных кружков нет!\n",
    "\n",
    "С повышением мин.куолити соответственно просле триммирования остаётся меньше строк, и повышается среднее качество\n",
    "\n",
    "# BWA\n",
    "\n",
    "```bash\n",
    "in:\n",
    "bwa index -p pref GCF_000005845.2_ASM584v2_genomic.fna\n",
    "\n",
    "...\n",
    "\n",
    "in: bwa mem GCF_000005845.2_ASM584v2_genomic.fna _1P.fq _2P.fq > alignment.sam\n",
    "\n",
    "```\n",
    "https://samtools.github.io/hts-specs/SAMv1.pdf\n",
    "\n",
    "\"The sam file contains all reads, whether they successfully aligned or not. For bioinformatics pipelines, it’s important to know what fraction of your reads aligned.\"\n",
    "\n",
    "\n",
    " \n",
    "```bash\n",
    "in:\n",
    "samtools view -S -b alignment.sam > alignment.bam  # Compressing .sam files\n",
    "\n",
    "in:\n",
    "samtools flagstat alignment.bam  # basic statistics\n",
    "out:\n",
    "\n",
    "892776 + 0 in total (QC-passed reads + QC-failed reads)\n",
    "0 + 0 secondary\n",
    "258 + 0 supplementary\n",
    "0 + 0 duplicates\n",
    "891649 + 0 mapped (99.87% : N/A)\n",
    "892518 + 0 paired in sequencing\n",
    "446259 + 0 read1\n",
    "446259 + 0 read2\n",
    "888554 + 0 properly paired (99.56% : N/A)\n",
    "890412 + 0 with itself and mate mapped\n",
    "979 + 0 singletons (0.11% : N/A)\n",
    "0 + 0 with mate mapped to a different chr\n",
    "0 + 0 with mate mapped to a different chr (mapQ>=5)\n",
    "\n",
    "```\n",
    "\n",
    "99.87% reads mapped\n",
    "\n",
    "индексирование бам-файла:\n",
    "```bash\n",
    "in:\n",
    "samtools sort alignment.bam -o alignment_sorted.bam   #  отсортировать по sequence coordinate on reference\n",
    "\n",
    "in:\n",
    "samtools index alignment_sorted.bam  # собсна индексирование\n",
    "```\n",
    "\n",
    "Визуализация с igv не пошла. Что-то там про отсутствие хромосом. Let's call it a day."
   ]
  },
  {
   "cell_type": "markdown",
   "metadata": {},
   "source": [
    "# День 3,  31.10.20, 20:13\n",
    "\n",
    "...а теперь пошла. Вспоминая события той ужасной ночи: предположительно в первый раз я загрузил какой-то левый файл, а следующие попытки всё на самом деле работало - надо было приблизить, чтобы в этом убедиться."
   ]
  },
  {
   "cell_type": "code",
   "execution_count": 3,
   "metadata": {},
   "outputs": [
    {
     "data": {
      "text/html": [
       "<img src=\"https://sun9-29.userapi.com/CQNZ1jBzKVHvaLqMzm1WgZ9kK9UfNSR6tr1zQw/mC1iBmwGA9I.jpg\"/>"
      ],
      "text/plain": [
       "<IPython.core.display.Image object>"
      ]
     },
     "metadata": {},
     "output_type": "display_data"
    },
    {
     "data": {
      "text/html": [
       "<img src=\"https://sun9-29.userapi.com/3tS51AcIcb7_61867dm9Q4yX0Pi0WcRpz8JnIQ/RPUcqHPjB3Y.jpg\"/>"
      ],
      "text/plain": [
       "<IPython.core.display.Image object>"
      ]
     },
     "metadata": {},
     "output_type": "display_data"
    }
   ],
   "source": [
    "display(Image(url='https://sun9-29.userapi.com/CQNZ1jBzKVHvaLqMzm1WgZ9kK9UfNSR6tr1zQw/mC1iBmwGA9I.jpg'))\n",
    "display(Image(url='https://sun9-29.userapi.com/3tS51AcIcb7_61867dm9Q4yX0Pi0WcRpz8JnIQ/RPUcqHPjB3Y.jpg'))"
   ]
  },
  {
   "cell_type": "markdown",
   "metadata": {},
   "source": [
    "Словно вся жизнь кишечной палочки проносится у меня перед глазами"
   ]
  },
  {
   "cell_type": "markdown",
   "metadata": {},
   "source": [
    "## mpileup и все-все-все\n",
    "\n",
    "mpileup проходит по всем позициям и смотрит на число совпадающих и несовпадающих нуклеотидов (относительно референса)\n",
    "\n",
    "```bash\n",
    "in:\n",
    "samtools mpileup -f GCF_000005845.2_ASM584v2_genomic.fna alignment_sorted.bam > my.mpileup\n",
    "\n",
    "out:\n",
    "[mpileup] 1 samples in 1 input files\n",
    "```\n",
    "VCR-файлы:\n",
    "```bash\n",
    "java -jar VarScan.v2.3.9.jar  mpileup2snp my.mpileup --min-var-freq 0.9 --variants --output-vcf 1 > VarScan_results.vcf\n",
    "java -jar VarScan.v2.3.9.jar  mpileup2snp my.mpileup --min-var-freq 0.5 --variants --output-vcf 1 > VarScan_results50.vcf\n",
    "```\n",
    "Результаты с минимальными частотами 0.5 и 0.9 совпадают:"
   ]
  },
  {
   "cell_type": "code",
   "execution_count": 4,
   "metadata": {},
   "outputs": [
    {
     "data": {
      "image/jpeg": "[encoded data removed]",
      "text/plain": [
       "<IPython.core.display.Image object>"
      ]
     },
     "execution_count": 4,
     "metadata": {},
     "output_type": "execute_result"
    }
   ],
   "source": [
    "Image('https://sun9-47.userapi.com/K8IDpFFPuPnbIuIF1mz-YcK8i55gkf9TA7bdbQ/_zjj8qTxUNY.jpg')"
   ]
  },
  {
   "cell_type": "code",
   "execution_count": 5,
   "metadata": {},
   "outputs": [],
   "source": [
    "import pandas as pd"
   ]
  },
  {
   "cell_type": "code",
   "execution_count": 10,
   "metadata": {},
   "outputs": [
    {
     "data": {
      "text/html": [
       "<div>\n",
       "<style scoped>\n",
       "    .dataframe tbody tr th:only-of-type {\n",
       "        vertical-align: middle;\n",
       "    }\n",
       "\n",
       "    .dataframe tbody tr th {\n",
       "        vertical-align: top;\n",
       "    }\n",
       "\n",
       "    .dataframe thead th {\n",
       "        text-align: right;\n",
       "    }\n",
       "</style>\n",
       "<table border=\"1\" class=\"dataframe\">\n",
       "  <thead>\n",
       "    <tr style=\"text-align: right;\">\n",
       "      <th></th>\n",
       "      <th>#CHROM</th>\n",
       "      <th>POS</th>\n",
       "      <th>ID</th>\n",
       "      <th>REF</th>\n",
       "      <th>ALT</th>\n",
       "      <th>QUAL</th>\n",
       "      <th>FILTER</th>\n",
       "      <th>INFO</th>\n",
       "      <th>FORMAT</th>\n",
       "      <th>Sample1</th>\n",
       "    </tr>\n",
       "  </thead>\n",
       "  <tbody>\n",
       "    <tr>\n",
       "      <th>0</th>\n",
       "      <td>NC_000913.3</td>\n",
       "      <td>93043</td>\n",
       "      <td>.</td>\n",
       "      <td>C</td>\n",
       "      <td>G</td>\n",
       "      <td>.</td>\n",
       "      <td>PASS</td>\n",
       "      <td>ADP=17;WT=0;HET=0;HOM=1;NC=0</td>\n",
       "      <td>GT:GQ:SDP:DP:RD:AD:FREQ:PVAL:RBQ:ABQ:RDF:RDR:A...</td>\n",
       "      <td>1/1:93:18:17:0:17:100%:4.2852E-10:0:36:0:0:6:11</td>\n",
       "    </tr>\n",
       "    <tr>\n",
       "      <th>1</th>\n",
       "      <td>NC_000913.3</td>\n",
       "      <td>482698</td>\n",
       "      <td>.</td>\n",
       "      <td>T</td>\n",
       "      <td>A</td>\n",
       "      <td>.</td>\n",
       "      <td>PASS</td>\n",
       "      <td>ADP=16;WT=0;HET=0;HOM=1;NC=0</td>\n",
       "      <td>GT:GQ:SDP:DP:RD:AD:FREQ:PVAL:RBQ:ABQ:RDF:RDR:A...</td>\n",
       "      <td>1/1:87:16:16:0:16:100%:1.6637E-9:0:45:0:0:12:4</td>\n",
       "    </tr>\n",
       "    <tr>\n",
       "      <th>2</th>\n",
       "      <td>NC_000913.3</td>\n",
       "      <td>852762</td>\n",
       "      <td>.</td>\n",
       "      <td>A</td>\n",
       "      <td>G</td>\n",
       "      <td>.</td>\n",
       "      <td>PASS</td>\n",
       "      <td>ADP=14;WT=0;HET=0;HOM=1;NC=0</td>\n",
       "      <td>GT:GQ:SDP:DP:RD:AD:FREQ:PVAL:RBQ:ABQ:RDF:RDR:A...</td>\n",
       "      <td>1/1:76:14:14:0:14:100%:2.4927E-8:0:36:0:0:9:5</td>\n",
       "    </tr>\n",
       "    <tr>\n",
       "      <th>3</th>\n",
       "      <td>NC_000913.3</td>\n",
       "      <td>3535147</td>\n",
       "      <td>.</td>\n",
       "      <td>A</td>\n",
       "      <td>C</td>\n",
       "      <td>.</td>\n",
       "      <td>PASS</td>\n",
       "      <td>ADP=17;WT=0;HET=0;HOM=1;NC=0</td>\n",
       "      <td>GT:GQ:SDP:DP:RD:AD:FREQ:PVAL:RBQ:ABQ:RDF:RDR:A...</td>\n",
       "      <td>1/1:93:17:17:0:17:100%:4.2852E-10:0:36:0:0:12:5</td>\n",
       "    </tr>\n",
       "    <tr>\n",
       "      <th>4</th>\n",
       "      <td>NC_000913.3</td>\n",
       "      <td>4390754</td>\n",
       "      <td>.</td>\n",
       "      <td>G</td>\n",
       "      <td>T</td>\n",
       "      <td>.</td>\n",
       "      <td>PASS</td>\n",
       "      <td>ADP=15;WT=0;HET=0;HOM=1;NC=0</td>\n",
       "      <td>GT:GQ:SDP:DP:RD:AD:FREQ:PVAL:RBQ:ABQ:RDF:RDR:A...</td>\n",
       "      <td>1/1:81:16:15:0:15:100%:6.4467E-9:0:36:0:0:8:7</td>\n",
       "    </tr>\n",
       "  </tbody>\n",
       "</table>\n",
       "</div>"
      ],
      "text/plain": [
       "        #CHROM      POS ID REF ALT QUAL FILTER                          INFO  \\\n",
       "0  NC_000913.3    93043  .   C   G    .   PASS  ADP=17;WT=0;HET=0;HOM=1;NC=0   \n",
       "1  NC_000913.3   482698  .   T   A    .   PASS  ADP=16;WT=0;HET=0;HOM=1;NC=0   \n",
       "2  NC_000913.3   852762  .   A   G    .   PASS  ADP=14;WT=0;HET=0;HOM=1;NC=0   \n",
       "3  NC_000913.3  3535147  .   A   C    .   PASS  ADP=17;WT=0;HET=0;HOM=1;NC=0   \n",
       "4  NC_000913.3  4390754  .   G   T    .   PASS  ADP=15;WT=0;HET=0;HOM=1;NC=0   \n",
       "\n",
       "                                              FORMAT  \\\n",
       "0  GT:GQ:SDP:DP:RD:AD:FREQ:PVAL:RBQ:ABQ:RDF:RDR:A...   \n",
       "1  GT:GQ:SDP:DP:RD:AD:FREQ:PVAL:RBQ:ABQ:RDF:RDR:A...   \n",
       "2  GT:GQ:SDP:DP:RD:AD:FREQ:PVAL:RBQ:ABQ:RDF:RDR:A...   \n",
       "3  GT:GQ:SDP:DP:RD:AD:FREQ:PVAL:RBQ:ABQ:RDF:RDR:A...   \n",
       "4  GT:GQ:SDP:DP:RD:AD:FREQ:PVAL:RBQ:ABQ:RDF:RDR:A...   \n",
       "\n",
       "                                           Sample1  \n",
       "0  1/1:93:18:17:0:17:100%:4.2852E-10:0:36:0:0:6:11  \n",
       "1   1/1:87:16:16:0:16:100%:1.6637E-9:0:45:0:0:12:4  \n",
       "2    1/1:76:14:14:0:14:100%:2.4927E-8:0:36:0:0:9:5  \n",
       "3  1/1:93:17:17:0:17:100%:4.2852E-10:0:36:0:0:12:5  \n",
       "4    1/1:81:16:15:0:15:100%:6.4467E-9:0:36:0:0:8:7  "
      ]
     },
     "execution_count": 10,
     "metadata": {},
     "output_type": "execute_result"
    }
   ],
   "source": [
    "df = pd.read_csv('VARIANTS.txt', sep='\\t')\n"
   ]
  }
 ],
 "metadata": {
  "kernelspec": {
   "display_name": "Python 3",
   "language": "python",
   "name": "python3"
  },
  "language_info": {
   "codemirror_mode": {
    "name": "ipython",
    "version": 3
   },
   "file_extension": ".py",
   "mimetype": "text/x-python",
   "name": "python",
   "nbconvert_exporter": "python",
   "pygments_lexer": "ipython3",
   "version": "3.8.5"
  }
 },
 "nbformat": 4,
 "nbformat_minor": 4
}
