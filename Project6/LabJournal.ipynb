{
 "cells": [
  {
   "cell_type": "code",
   "execution_count": 5,
   "metadata": {},
   "outputs": [],
   "source": [
    "import subprocess\n",
    "import shlex\n",
    "import os"
   ]
  },
  {
   "cell_type": "markdown",
   "metadata": {},
   "source": [
    "Number of reads:"
   ]
  },
  {
   "cell_type": "markdown",
   "metadata": {},
   "source": [
    "# 1. Raw data analysis"
   ]
  },
  {
   "cell_type": "code",
   "execution_count": 33,
   "metadata": {},
   "outputs": [
    {
     "name": "stdout",
     "output_type": "stream",
     "text": [
      "ferm30rep1.fastq 1721675\n",
      "\n",
      "ferm0rep2.fastq 9929568\n",
      "\n",
      "ferm30rep2.fastq 6172452\n",
      "\n",
      "ferm0rep1.fastq 9043877\n",
      "\n"
     ]
    }
   ],
   "source": [
    "for filename in os.listdir():\n",
    "    if filename.endswith('.fastq'):\n",
    "        command = f\"grep '@SRR' {filename} | wc -l\"\n",
    "        proc = subprocess.run(command, capture_output=True, shell=True)\n",
    "        print(filename, proc.stdout.decode('utf-8'))"
   ]
  },
  {
   "cell_type": "markdown",
   "metadata": {},
   "source": [
    "Also run Fastq: high duplication level and adapters are present, but..."
   ]
  },
  {
   "cell_type": "markdown",
   "metadata": {},
   "source": [
    "- https://academic.oup.com/nargab/article/2/3/lqaa068/5901066\n",
    "- https://bmcbioinformatics.biomedcentral.com/articles/10.1186/s12859-016-0956-2\n",
    "\n",
    "...so no filtering is required"
   ]
  },
  {
   "cell_type": "markdown",
   "metadata": {},
   "source": [
    "# 2. Alignment"
   ]
  },
  {
   "cell_type": "code",
   "execution_count": 23,
   "metadata": {},
   "outputs": [
    {
     "name": "stdout",
     "output_type": "stream",
     "text": [
      "['hisat2', '-p', '8', '-x', 'yeast_index', '-q', 'ferm30rep1.fastq', '|', 'samtools', 'sort', '>', 'ferm30rep1.bam']\n",
      "1721675 reads; of these:\n",
      "  1721675 (100.00%) were unpaired; of these:\n",
      "    66371 (3.86%) aligned 0 times\n",
      "    1507906 (87.58%) aligned exactly 1 time\n",
      "    147398 (8.56%) aligned >1 times\n",
      "96.14% overall alignment rate\n",
      "\n",
      "\n",
      "['hisat2', '-p', '8', '-x', 'yeast_rna_index', '-q', 'ferm30rep1.fastq', '|', 'samtools', 'sort', '>', 'ferm30rep1_rna.bam']\n",
      "1721675 reads; of these:\n",
      "  1721675 (100.00%) were unpaired; of these:\n",
      "    274582 (15.95%) aligned 0 times\n",
      "    1298302 (75.41%) aligned exactly 1 time\n",
      "    148791 (8.64%) aligned >1 times\n",
      "84.05% overall alignment rate\n",
      "\n",
      "\n",
      "['hisat2', '-p', '8', '-x', 'yeast_index', '-q', 'ferm0rep2.fastq', '|', 'samtools', 'sort', '>', 'ferm0rep2.bam']\n",
      "9929568 reads; of these:\n",
      "  9929568 (100.00%) were unpaired; of these:\n",
      "    511726 (5.15%) aligned 0 times\n",
      "    8644577 (87.06%) aligned exactly 1 time\n",
      "    773265 (7.79%) aligned >1 times\n",
      "94.85% overall alignment rate\n",
      "[bam_sort_core] merging from 2 files and 1 in-memory blocks...\n",
      "\n",
      "\n",
      "['hisat2', '-p', '8', '-x', 'yeast_rna_index', '-q', 'ferm0rep2.fastq', '|', 'samtools', 'sort', '>', 'ferm0rep2_rna.bam']\n",
      "9929568 reads; of these:\n",
      "  9929568 (100.00%) were unpaired; of these:\n",
      "    1726105 (17.38%) aligned 0 times\n",
      "    7420584 (74.73%) aligned exactly 1 time\n",
      "    782879 (7.88%) aligned >1 times\n",
      "82.62% overall alignment rate\n",
      "[bam_sort_core] merging from 2 files and 1 in-memory blocks...\n",
      "\n",
      "\n",
      "['hisat2', '-p', '8', '-x', 'yeast_index', '-q', 'ferm30rep2.fastq', '|', 'samtools', 'sort', '>', 'ferm30rep2.bam']\n",
      "6172452 reads; of these:\n",
      "  6172452 (100.00%) were unpaired; of these:\n",
      "    234531 (3.80%) aligned 0 times\n",
      "    5367720 (86.96%) aligned exactly 1 time\n",
      "    570201 (9.24%) aligned >1 times\n",
      "96.20% overall alignment rate\n",
      "[bam_sort_core] merging from 1 files and 1 in-memory blocks...\n",
      "\n",
      "\n",
      "['hisat2', '-p', '8', '-x', 'yeast_rna_index', '-q', 'ferm30rep2.fastq', '|', 'samtools', 'sort', '>', 'ferm30rep2_rna.bam']\n",
      "6172452 reads; of these:\n",
      "  6172452 (100.00%) were unpaired; of these:\n",
      "    1011277 (16.38%) aligned 0 times\n",
      "    4585052 (74.28%) aligned exactly 1 time\n",
      "    576123 (9.33%) aligned >1 times\n",
      "83.62% overall alignment rate\n",
      "[bam_sort_core] merging from 1 files and 1 in-memory blocks...\n",
      "\n",
      "\n",
      "['hisat2', '-p', '8', '-x', 'yeast_index', '-q', 'ferm0rep1.fastq', '|', 'samtools', 'sort', '>', 'ferm0rep1.bam']\n",
      "9043877 reads; of these:\n",
      "  9043877 (100.00%) were unpaired; of these:\n",
      "    520138 (5.75%) aligned 0 times\n",
      "    7929699 (87.68%) aligned exactly 1 time\n",
      "    594040 (6.57%) aligned >1 times\n",
      "94.25% overall alignment rate\n",
      "[bam_sort_core] merging from 2 files and 1 in-memory blocks...\n",
      "\n",
      "\n",
      "['hisat2', '-p', '8', '-x', 'yeast_rna_index', '-q', 'ferm0rep1.fastq', '|', 'samtools', 'sort', '>', 'ferm0rep1_rna.bam']\n",
      "9043877 reads; of these:\n",
      "  9043877 (100.00%) were unpaired; of these:\n",
      "    1684934 (18.63%) aligned 0 times\n",
      "    6762020 (74.77%) aligned exactly 1 time\n",
      "    596923 (6.60%) aligned >1 times\n",
      "81.37% overall alignment rate\n",
      "[bam_sort_core] merging from 2 files and 1 in-memory blocks...\n",
      "\n",
      "\n"
     ]
    }
   ],
   "source": [
    "genome_index = 'yeast_index'\n",
    "transcriptome_index = 'yeast_rna_index'\n",
    "\n",
    "def align_command(index, fastq_file, p='8'):\n",
    "    name = fastq_file.split('.')[0]\n",
    "    if 'rna' in index:\n",
    "        name += '_rna'\n",
    "    command = f'hisat2 -p {str(p)} -x {index} -U {fastq_file} | samtools sort > {name}.bam'\n",
    "    return shlex.split(command)\n",
    "\n",
    "# strange thing happened:\n",
    "# can't run command form jupyter with -U option: says this option is invalid\n",
    "# however it runs if -U is replaced with -q\n",
    "# run both commands (with -U and -q) from terminal and the results were the same, so...\n",
    "\n",
    "for filename in os.listdir():\n",
    "    if filename.endswith('.fastq'):\n",
    "        for index in (genome_index, transcriptome_index):\n",
    "            align = align_command(index, filename)\n",
    "            print(align)\n",
    "            proc = subprocess.run(align, capture_output=True)\n",
    "            print(proc.stderr.decode('utf-8'))\n",
    "            print(proc.stdout.decode('utf-8'))\n",
    "            proc.check_returncode()"
   ]
  },
  {
   "cell_type": "markdown",
   "metadata": {},
   "source": [
    "# GFF to GTF & featureCounts & DESeq2\n",
    "```bash\n",
    "gffread GCF_000146045.2_R64_genomic.gff -T -o GCF_000146045.2_R64_genomic.gtf\n",
    "```\n"
   ]
  },
  {
   "cell_type": "code",
   "execution_count": 63,
   "metadata": {},
   "outputs": [],
   "source": [
    "reps = [('rep1', 'rep2'), ('rep1_rna', 'rep2_rna')]\n",
    "for rep in reps:\n",
    "    rep1, rep2 = rep\n",
    "    if 'rna' in rep1:\n",
    "        title = 'rna'\n",
    "    else:\n",
    "        title = 'gen'\n",
    "        \n",
    "    command = (f'featureCounts -g gene_id -T 8 -a GCF_000146045.2_R64_genomic.gtf -o '\n",
    "               f'{title}.fc ferm0{rep1}.bam ferm0{rep2}.bam ferm30{rep1}.bam ferm30{rep2}.bam')\n",
    "    subprocess.run(command, shell=True, check=True)\n",
    "    proc = subprocess.run(f'cat {title}.fc | cut -f 1,7-10 | R -f deseq2.r', shell=True, capture_output=True)\n",
    "    subprocess.run(f'head result.txt -n 50 | cut -f 1 > {title}_genes.txt', shell=True)\n",
    "    proc = subprocess.run(\"cat norm-matrix-deseq2.txt | R -f draw-heatmap.r\", shell=True, capture_output=True, \n",
    "                         check=True)\n",
    "    subprocess.run(f'mv output.pdf {title}.pdf', shell=True)"
   ]
  }
 ],
 "metadata": {
  "kernelspec": {
   "display_name": "Python 3",
   "language": "python",
   "name": "python3"
  },
  "language_info": {
   "codemirror_mode": {
    "name": "ipython",
    "version": 3
   },
   "file_extension": ".py",
   "mimetype": "text/x-python",
   "name": "python",
   "nbconvert_exporter": "python",
   "pygments_lexer": "ipython3",
   "version": "3.8.5"
  },
  "toc": {
   "base_numbering": 1,
   "nav_menu": {},
   "number_sections": false,
   "sideBar": true,
   "skip_h1_title": false,
   "title_cell": "Table of Contents",
   "title_sidebar": "Contents",
   "toc_cell": false,
   "toc_position": {},
   "toc_section_display": true,
   "toc_window_display": true
  }
 },
 "nbformat": 4,
 "nbformat_minor": 4
}
