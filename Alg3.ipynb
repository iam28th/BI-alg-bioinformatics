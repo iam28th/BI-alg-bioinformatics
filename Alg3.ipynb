{
 "cells": [
  {
   "cell_type": "code",
   "execution_count": 31,
   "metadata": {},
   "outputs": [],
   "source": [
    "import numpy as np\n",
    "import pandas as pd\n",
    "from random import randint"
   ]
  },
  {
   "cell_type": "code",
   "execution_count": 246,
   "metadata": {},
   "outputs": [],
   "source": [
    "alphabet = 'ABC'"
   ]
  },
  {
   "cell_type": "code",
   "execution_count": 227,
   "metadata": {},
   "outputs": [],
   "source": [
    "def generate_matrix(alphabet):\n",
    "    '''Генерация случайной матрицы весов по заданному алфавиту'''\n",
    "    if '_' not in alphabet:\n",
    "        alphabet += '_'\n",
    "    ndim = len(alphabet)\n",
    "\n",
    "    weights = np.zeros((ndim, ndim), dtype=np.int8)\n",
    " \n",
    "    for i, symb1 in enumerate(alphabet):\n",
    "        tmp = []\n",
    "        for j, symb2 in enumerate(alphabet):\n",
    "            if symb1 != '_' and symb2 != '_':\n",
    "                if symb1 == symb2:\n",
    "                    weights[i][j] = 2\n",
    "                else:\n",
    "                    weights[i][j] = weights[j][i] = randint(-2, 2)\n",
    "            else:\n",
    "                weights[i][j] = weights[j][i] = randint(-2, 0)\n",
    "\n",
    "    res = pd.DataFrame(weights)\n",
    "    res = res.transpose()\n",
    "    res.insert(loc=0, column='*', value=list(alphabet))\n",
    "    res = res.set_index('*')\n",
    "    res.columns = list(alphabet)\n",
    "    \n",
    "    return res"
   ]
  },
  {
   "cell_type": "code",
   "execution_count": 228,
   "metadata": {},
   "outputs": [
    {
     "data": {
      "text/html": [
       "<div>\n",
       "<style scoped>\n",
       "    .dataframe tbody tr th:only-of-type {\n",
       "        vertical-align: middle;\n",
       "    }\n",
       "\n",
       "    .dataframe tbody tr th {\n",
       "        vertical-align: top;\n",
       "    }\n",
       "\n",
       "    .dataframe thead th {\n",
       "        text-align: right;\n",
       "    }\n",
       "</style>\n",
       "<table border=\"1\" class=\"dataframe\">\n",
       "  <thead>\n",
       "    <tr style=\"text-align: right;\">\n",
       "      <th></th>\n",
       "      <th>A</th>\n",
       "      <th>B</th>\n",
       "      <th>C</th>\n",
       "      <th>_</th>\n",
       "    </tr>\n",
       "    <tr>\n",
       "      <th>*</th>\n",
       "      <th></th>\n",
       "      <th></th>\n",
       "      <th></th>\n",
       "      <th></th>\n",
       "    </tr>\n",
       "  </thead>\n",
       "  <tbody>\n",
       "    <tr>\n",
       "      <th>A</th>\n",
       "      <td>2</td>\n",
       "      <td>-2</td>\n",
       "      <td>2</td>\n",
       "      <td>-1</td>\n",
       "    </tr>\n",
       "    <tr>\n",
       "      <th>B</th>\n",
       "      <td>-2</td>\n",
       "      <td>2</td>\n",
       "      <td>2</td>\n",
       "      <td>-2</td>\n",
       "    </tr>\n",
       "    <tr>\n",
       "      <th>C</th>\n",
       "      <td>2</td>\n",
       "      <td>2</td>\n",
       "      <td>2</td>\n",
       "      <td>-1</td>\n",
       "    </tr>\n",
       "    <tr>\n",
       "      <th>_</th>\n",
       "      <td>-1</td>\n",
       "      <td>-2</td>\n",
       "      <td>-1</td>\n",
       "      <td>0</td>\n",
       "    </tr>\n",
       "  </tbody>\n",
       "</table>\n",
       "</div>"
      ],
      "text/plain": [
       "   A  B  C  _\n",
       "*            \n",
       "A  2 -2  2 -1\n",
       "B -2  2  2 -2\n",
       "C  2  2  2 -1\n",
       "_ -1 -2 -1  0"
      ]
     },
     "execution_count": 228,
     "metadata": {},
     "output_type": "execute_result"
    }
   ],
   "source": [
    "weights = generate_matrix(alphabet)\n",
    "weights"
   ]
  },
  {
   "cell_type": "code",
   "execution_count": 248,
   "metadata": {},
   "outputs": [],
   "source": [
    "def align(s1, s2):\n",
    "    n, m = len(s1), len(s2)\n",
    "    \n",
    "    nlines = n + 1\n",
    "    ncols = m + 1\n",
    "    \n",
    "    dp = [ [float('-inf') for _ in range(ncols)] for __ in range(nlines)] \n",
    "    \n",
    "    dp[0][0] = 0\n",
    "    for i, symb1 in enumerate(s1):\n",
    "        dp[i+1][0] = dp[i][0] + weights[symb1]['_']\n",
    "        \n",
    "    for i, symb2 in enumerate(s2):\n",
    "        dp[0][i+1] = dp[0][i] + weights[symb2]['_']\n",
    "   \n",
    "    \"\"\"for line in dp:\n",
    "        print(line)\"\"\"\n",
    "        \n",
    "    for i, symb1 in enumerate(s1):\n",
    "        for j, symb2 in enumerate(s2):\n",
    "            \n",
    "            diag = dp[i][j] + weights[symb1][symb2]\n",
    "            up = dp[i][j+1] + weights['_'][symb2]\n",
    "            left = dp[i+1][j] + weights[symb1]['_']\n",
    "            \n",
    "            best = max(diag, up, left)\n",
    "            \n",
    "            dp[i+1][j+1] = best\n",
    "    \n",
    "    \"\"\"print('****')\n",
    "    for line in dp:\n",
    "        print(line)\"\"\"\n",
    "    \n",
    "    cur_i, cur_j = n, m\n",
    "    \n",
    "    line1, line2 = [], []     # инвертированные выравненные последовательности\n",
    "    \n",
    "    diag = dp[cur_i - 1][cur_j - 1]\n",
    "    up = dp[cur_i - 1][cur_j]\n",
    "    left = dp[cur_i][cur_j - 1]\n",
    "    \n",
    "    # print(matrix[n][m])\n",
    "    \n",
    "    best = max(diag, up, left)\n",
    "    if best == diag:\n",
    "        line1.append(s1[cur_i - 1])\n",
    "        line2.append(s2[cur_j - 1])\n",
    "        cur_i -= 1\n",
    "        cur_j -= 1\n",
    "    elif best == up:\n",
    "        line1.append(s1[cur_i - 1])\n",
    "        line2.append('_')\n",
    "        cur_i -= 1\n",
    "    else:\n",
    "        line1.append('_')\n",
    "        line2.append(s2[cur_j - 1])\n",
    "        cur_j -= 1\n",
    "    \n",
    "    while cur_i and cur_j:\n",
    "        \n",
    "        diag = dp[cur_i - 1][cur_j - 1]\n",
    "        up = dp[cur_i - 1][cur_j]\n",
    "        left = dp[cur_i][cur_j - 1]\n",
    "\n",
    "        best = max(diag, up, left)\n",
    "        if best == diag:\n",
    "            line1.append(s1[cur_i - 1])\n",
    "            line2.append(s2[cur_j - 1])\n",
    "            cur_i -= 1\n",
    "            cur_j -= 1\n",
    "        elif best == up:\n",
    "            line1.append(s1[cur_i - 1])\n",
    "            line2.append('_')\n",
    "            cur_i -= 1\n",
    "        else:\n",
    "            line1.append('_')\n",
    "            line2.append(s2[cur_j - 1])\n",
    "            cur_j -= 1\n",
    "    line1 = line1[::-1]\n",
    "    line2 = line2[::-1]\n",
    "    \n",
    "    print(*line1, sep='')\n",
    "    print(*line2, sep='')"
   ]
  },
  {
   "cell_type": "code",
   "execution_count": 249,
   "metadata": {},
   "outputs": [
    {
     "name": "stdout",
     "output_type": "stream",
     "text": [
      "ABACABA\n",
      "AB_BA__\n"
     ]
    }
   ],
   "source": [
    "s1, s2 = 'ABACABA', 'ABBA'\n",
    "align(s1, s2)"
   ]
  },
  {
   "cell_type": "code",
   "execution_count": 253,
   "metadata": {},
   "outputs": [],
   "source": [
    "# теперь изменим матрицу весов:\n",
    "weights['B']['C'] = weights['C']['B'] = -4"
   ]
  },
  {
   "cell_type": "code",
   "execution_count": 254,
   "metadata": {},
   "outputs": [
    {
     "name": "stdout",
     "output_type": "stream",
     "text": [
      "AB_ACABA\n",
      "ABBA____\n"
     ]
    }
   ],
   "source": [
    "align(s1, s2)"
   ]
  }
 ],
 "metadata": {
  "kernelspec": {
   "display_name": "Python 3",
   "language": "python",
   "name": "python3"
  },
  "language_info": {
   "codemirror_mode": {
    "name": "ipython",
    "version": 3
   },
   "file_extension": ".py",
   "mimetype": "text/x-python",
   "name": "python",
   "nbconvert_exporter": "python",
   "pygments_lexer": "ipython3",
   "version": "3.6.10"
  }
 },
 "nbformat": 4,
 "nbformat_minor": 4
}
